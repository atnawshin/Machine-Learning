{
  "nbformat": 4,
  "nbformat_minor": 0,
  "metadata": {
    "colab": {
      "name": "BanglaDataProcessing.ipynb",
      "provenance": [],
      "authorship_tag": "ABX9TyN7q/qZcyppnuleqRA6zF8d",
      "include_colab_link": true
    },
    "kernelspec": {
      "name": "python3",
      "display_name": "Python 3"
    },
    "language_info": {
      "name": "python"
    }
  },
  "cells": [
    {
      "cell_type": "markdown",
      "metadata": {
        "id": "view-in-github",
        "colab_type": "text"
      },
      "source": [
        "<a href=\"https://colab.research.google.com/github/atnawshin/Machine-Learning/blob/main/BanglaDataProcessing.ipynb\" target=\"_parent\"><img src=\"https://colab.research.google.com/assets/colab-badge.svg\" alt=\"Open In Colab\"/></a>"
      ]
    },
    {
      "cell_type": "code",
      "execution_count": null,
      "metadata": {
        "id": "tPtRzXrRwvV0"
      },
      "outputs": [],
      "source": [
        "import pandas as pd\n",
        "import numpy as np\n",
        "import matplotlib.pyplot as plt\n",
        "%matplotlib inline\n",
        "import seaborn as sns\n",
        "\n",
        "import re\n",
        "import string\n",
        "from wordcloud import WordCloud\n",
        "\n",
        "import nltk\n",
        "from nltk.corpus import stopwords\n",
        "from nltk.stem import PorterStemmer\n",
        "from nltk.tokenize import sent_tokenize, word_tokenize\n",
        "from nltk.stem.wordnet import WordNetLemmatizer\n",
        "\n",
        "from sklearn.model_selection import train_test_split\n",
        "from sklearn.pipeline import Pipeline\n",
        "from sklearn.feature_extraction.text import CountVectorizer, TfidfTransformer\n",
        "\n",
        "from sklearn.linear_model import LogisticRegression\n",
        "from sklearn.naive_bayes import MultinomialNB\n",
        "from sklearn.linear_model import SGDClassifier\n",
        "from sklearn.ensemble import RandomForestClassifier\n",
        "from sklearn.metrics import confusion_matrix, accuracy_score, classification_report"
      ]
    },
    {
      "cell_type": "code",
      "source": [
        "df = pd.read_excel('fbdataset.xlsx')\n",
        "df.head(2)"
      ],
      "metadata": {
        "colab": {
          "base_uri": "https://localhost:8080/",
          "height": 112
        },
        "id": "9CdMlGMcxx-i",
        "outputId": "5b313da7-06bd-4ba3-f4a9-afb53b98e615"
      },
      "execution_count": null,
      "outputs": [
        {
          "output_type": "execute_result",
          "data": {
            "text/plain": [
              "                             @LABEL         Created Time       Writer  \\\n",
              "0  163059227060505_6066791063353929  2022-07-21 04:55:09  Prothom Alo   \n",
              "1  163059227060505_6066743890025313  2022-07-21 04:30:30  Prothom Alo   \n",
              "\n",
              "   Reaction Count  Comment Count Share Count  Label  \\\n",
              "0              10              0           0      1   \n",
              "1             155             15           1      0   \n",
              "\n",
              "                                                Text  \n",
              "0  চার দিনের মধ্যে শিক্ষার্থীকে যৌন নিপীড়নে জড়ি...  \n",
              "1  - Dear বান্ধুবি আর কতো অপে'ক্ষা করাবি বইন.?🙄  ...  "
            ],
            "text/html": [
              "\n",
              "  <div id=\"df-2f0113a4-e4e2-43e1-915c-96dbbb340d26\">\n",
              "    <div class=\"colab-df-container\">\n",
              "      <div>\n",
              "<style scoped>\n",
              "    .dataframe tbody tr th:only-of-type {\n",
              "        vertical-align: middle;\n",
              "    }\n",
              "\n",
              "    .dataframe tbody tr th {\n",
              "        vertical-align: top;\n",
              "    }\n",
              "\n",
              "    .dataframe thead th {\n",
              "        text-align: right;\n",
              "    }\n",
              "</style>\n",
              "<table border=\"1\" class=\"dataframe\">\n",
              "  <thead>\n",
              "    <tr style=\"text-align: right;\">\n",
              "      <th></th>\n",
              "      <th>@LABEL</th>\n",
              "      <th>Created Time</th>\n",
              "      <th>Writer</th>\n",
              "      <th>Reaction Count</th>\n",
              "      <th>Comment Count</th>\n",
              "      <th>Share Count</th>\n",
              "      <th>Label</th>\n",
              "      <th>Text</th>\n",
              "    </tr>\n",
              "  </thead>\n",
              "  <tbody>\n",
              "    <tr>\n",
              "      <th>0</th>\n",
              "      <td>163059227060505_6066791063353929</td>\n",
              "      <td>2022-07-21 04:55:09</td>\n",
              "      <td>Prothom Alo</td>\n",
              "      <td>10</td>\n",
              "      <td>0</td>\n",
              "      <td>0</td>\n",
              "      <td>1</td>\n",
              "      <td>চার দিনের মধ্যে শিক্ষার্থীকে যৌন নিপীড়নে জড়ি...</td>\n",
              "    </tr>\n",
              "    <tr>\n",
              "      <th>1</th>\n",
              "      <td>163059227060505_6066743890025313</td>\n",
              "      <td>2022-07-21 04:30:30</td>\n",
              "      <td>Prothom Alo</td>\n",
              "      <td>155</td>\n",
              "      <td>15</td>\n",
              "      <td>1</td>\n",
              "      <td>0</td>\n",
              "      <td>- Dear বান্ধুবি আর কতো অপে'ক্ষা করাবি বইন.?🙄  ...</td>\n",
              "    </tr>\n",
              "  </tbody>\n",
              "</table>\n",
              "</div>\n",
              "      <button class=\"colab-df-convert\" onclick=\"convertToInteractive('df-2f0113a4-e4e2-43e1-915c-96dbbb340d26')\"\n",
              "              title=\"Convert this dataframe to an interactive table.\"\n",
              "              style=\"display:none;\">\n",
              "        \n",
              "  <svg xmlns=\"http://www.w3.org/2000/svg\" height=\"24px\"viewBox=\"0 0 24 24\"\n",
              "       width=\"24px\">\n",
              "    <path d=\"M0 0h24v24H0V0z\" fill=\"none\"/>\n",
              "    <path d=\"M18.56 5.44l.94 2.06.94-2.06 2.06-.94-2.06-.94-.94-2.06-.94 2.06-2.06.94zm-11 1L8.5 8.5l.94-2.06 2.06-.94-2.06-.94L8.5 2.5l-.94 2.06-2.06.94zm10 10l.94 2.06.94-2.06 2.06-.94-2.06-.94-.94-2.06-.94 2.06-2.06.94z\"/><path d=\"M17.41 7.96l-1.37-1.37c-.4-.4-.92-.59-1.43-.59-.52 0-1.04.2-1.43.59L10.3 9.45l-7.72 7.72c-.78.78-.78 2.05 0 2.83L4 21.41c.39.39.9.59 1.41.59.51 0 1.02-.2 1.41-.59l7.78-7.78 2.81-2.81c.8-.78.8-2.07 0-2.86zM5.41 20L4 18.59l7.72-7.72 1.47 1.35L5.41 20z\"/>\n",
              "  </svg>\n",
              "      </button>\n",
              "      \n",
              "  <style>\n",
              "    .colab-df-container {\n",
              "      display:flex;\n",
              "      flex-wrap:wrap;\n",
              "      gap: 12px;\n",
              "    }\n",
              "\n",
              "    .colab-df-convert {\n",
              "      background-color: #E8F0FE;\n",
              "      border: none;\n",
              "      border-radius: 50%;\n",
              "      cursor: pointer;\n",
              "      display: none;\n",
              "      fill: #1967D2;\n",
              "      height: 32px;\n",
              "      padding: 0 0 0 0;\n",
              "      width: 32px;\n",
              "    }\n",
              "\n",
              "    .colab-df-convert:hover {\n",
              "      background-color: #E2EBFA;\n",
              "      box-shadow: 0px 1px 2px rgba(60, 64, 67, 0.3), 0px 1px 3px 1px rgba(60, 64, 67, 0.15);\n",
              "      fill: #174EA6;\n",
              "    }\n",
              "\n",
              "    [theme=dark] .colab-df-convert {\n",
              "      background-color: #3B4455;\n",
              "      fill: #D2E3FC;\n",
              "    }\n",
              "\n",
              "    [theme=dark] .colab-df-convert:hover {\n",
              "      background-color: #434B5C;\n",
              "      box-shadow: 0px 1px 3px 1px rgba(0, 0, 0, 0.15);\n",
              "      filter: drop-shadow(0px 1px 2px rgba(0, 0, 0, 0.3));\n",
              "      fill: #FFFFFF;\n",
              "    }\n",
              "  </style>\n",
              "\n",
              "      <script>\n",
              "        const buttonEl =\n",
              "          document.querySelector('#df-2f0113a4-e4e2-43e1-915c-96dbbb340d26 button.colab-df-convert');\n",
              "        buttonEl.style.display =\n",
              "          google.colab.kernel.accessAllowed ? 'block' : 'none';\n",
              "\n",
              "        async function convertToInteractive(key) {\n",
              "          const element = document.querySelector('#df-2f0113a4-e4e2-43e1-915c-96dbbb340d26');\n",
              "          const dataTable =\n",
              "            await google.colab.kernel.invokeFunction('convertToInteractive',\n",
              "                                                     [key], {});\n",
              "          if (!dataTable) return;\n",
              "\n",
              "          const docLinkHtml = 'Like what you see? Visit the ' +\n",
              "            '<a target=\"_blank\" href=https://colab.research.google.com/notebooks/data_table.ipynb>data table notebook</a>'\n",
              "            + ' to learn more about interactive tables.';\n",
              "          element.innerHTML = '';\n",
              "          dataTable['output_type'] = 'display_data';\n",
              "          await google.colab.output.renderOutput(dataTable, element);\n",
              "          const docLink = document.createElement('div');\n",
              "          docLink.innerHTML = docLinkHtml;\n",
              "          element.appendChild(docLink);\n",
              "        }\n",
              "      </script>\n",
              "    </div>\n",
              "  </div>\n",
              "  "
            ]
          },
          "metadata": {},
          "execution_count": 24
        }
      ]
    },
    {
      "cell_type": "code",
      "source": [
        "print(df)"
      ],
      "metadata": {
        "colab": {
          "base_uri": "https://localhost:8080/"
        },
        "id": "RHI7Ds5p3Mdb",
        "outputId": "8c7132f7-0ed2-4c53-bc86-3ebc6c650513"
      },
      "execution_count": null,
      "outputs": [
        {
          "output_type": "stream",
          "name": "stdout",
          "text": [
            "                                @LABEL         Created Time       Writer  \\\n",
            "0     163059227060505_6066791063353929  2022-07-21 04:55:09  Prothom Alo   \n",
            "1     163059227060505_6066743890025313  2022-07-21 04:30:30  Prothom Alo   \n",
            "2     163059227060505_6066725910027111  2022-07-21 04:21:08  Prothom Alo   \n",
            "3     163059227060505_6066640633368972  2022-07-21 03:40:12  Prothom Alo   \n",
            "4     163059227060505_6066608523372183  2022-07-21 03:25:09  Prothom Alo   \n",
            "..                                 ...                  ...          ...   \n",
            "278  103039661944184_366206938960787_2  2022-07-15 13:30:58         None   \n",
            "279  103039661944184_366206938960787_3  2022-07-15 21:06:31         None   \n",
            "280  103039661944184_366206548960826_1  2022-07-15 13:01:39         None   \n",
            "281  103039661944184_365828448998636_1  2022-07-15 02:22:55         None   \n",
            "282  103039661944184_365827455665402_1  2022-07-15 01:17:21         None   \n",
            "\n",
            "     Reaction Count  Comment Count Share Count  Label  \\\n",
            "0                10              0           0      1   \n",
            "1               155             15           1      0   \n",
            "2               599             57          11      1   \n",
            "3               562             27           3      0   \n",
            "4              6925            250         105      0   \n",
            "..              ...            ...         ...    ...   \n",
            "278               0              0     comment      0   \n",
            "279               0              0     comment      0   \n",
            "280               0              0     comment      0   \n",
            "281               0              0     comment      0   \n",
            "282               0              0     comment      0   \n",
            "\n",
            "                                                  Text  \n",
            "0    চার দিনের মধ্যে শিক্ষার্থীকে যৌন নিপীড়নে জড়ি...  \n",
            "1    - Dear বান্ধুবি আর কতো অপে'ক্ষা করাবি বইন.?🙄  ...  \n",
            "2    - Story Of My Life😔  - দেখতে বাজে😪 - কেউ পাত্ত...  \n",
            "3    - আচ্ছা! - আমার কাছে যদি চাওয়ার কিছু সুযোগ পা...  \n",
            "4    - আজ পর্যন্ত কারোর😓  - Dp, Cover, Status, Day,...  \n",
            "..                                                 ...  \n",
            "278                                              Right  \n",
            "279                                             Ak dom  \n",
            "280                                          Bal......  \n",
            "281                                    কিছু কইলাম না 😈  \n",
            "282                                   Absolutely right  \n",
            "\n",
            "[283 rows x 8 columns]\n"
          ]
        }
      ]
    },
    {
      "cell_type": "code",
      "source": [
        "df.info()"
      ],
      "metadata": {
        "colab": {
          "base_uri": "https://localhost:8080/"
        },
        "id": "uvyFj1cK3Xzx",
        "outputId": "1c755642-ffb9-42f0-be69-8276292eaa00"
      },
      "execution_count": null,
      "outputs": [
        {
          "output_type": "stream",
          "name": "stdout",
          "text": [
            "<class 'pandas.core.frame.DataFrame'>\n",
            "RangeIndex: 283 entries, 0 to 282\n",
            "Data columns (total 8 columns):\n",
            " #   Column          Non-Null Count  Dtype \n",
            "---  ------          --------------  ----- \n",
            " 0   @LABEL          283 non-null    object\n",
            " 1   Created Time    283 non-null    object\n",
            " 2   Writer          283 non-null    object\n",
            " 3   Reaction Count  283 non-null    int64 \n",
            " 4   Comment Count   283 non-null    int64 \n",
            " 5   Share Count     283 non-null    object\n",
            " 6   Label           283 non-null    int64 \n",
            " 7   Text            283 non-null    object\n",
            "dtypes: int64(3), object(5)\n",
            "memory usage: 17.8+ KB\n"
          ]
        }
      ]
    },
    {
      "cell_type": "code",
      "source": [
        "df.shape"
      ],
      "metadata": {
        "colab": {
          "base_uri": "https://localhost:8080/"
        },
        "id": "tPQugbTo3cuN",
        "outputId": "3f827aa6-327a-4412-bdd5-53a58b2c690f"
      },
      "execution_count": null,
      "outputs": [
        {
          "output_type": "execute_result",
          "data": {
            "text/plain": [
              "(283, 8)"
            ]
          },
          "metadata": {},
          "execution_count": 27
        }
      ]
    },
    {
      "cell_type": "code",
      "source": [
        "df.dtypes"
      ],
      "metadata": {
        "colab": {
          "base_uri": "https://localhost:8080/"
        },
        "id": "YRrYtKBD3fx7",
        "outputId": "30fc6484-3cc1-4393-865b-9871aa4c2a69"
      },
      "execution_count": null,
      "outputs": [
        {
          "output_type": "execute_result",
          "data": {
            "text/plain": [
              "@LABEL            object\n",
              "Created Time      object\n",
              "Writer            object\n",
              "Reaction Count     int64\n",
              "Comment Count      int64\n",
              "Share Count       object\n",
              "Label              int64\n",
              "Text              object\n",
              "dtype: object"
            ]
          },
          "metadata": {},
          "execution_count": 28
        }
      ]
    },
    {
      "cell_type": "code",
      "source": [
        "data = df[['Text', 'Label']]\n",
        "data.head()"
      ],
      "metadata": {
        "colab": {
          "base_uri": "https://localhost:8080/",
          "height": 206
        },
        "id": "TJxHG41I3jCw",
        "outputId": "a061813e-3201-4ece-e096-058fee36ad21"
      },
      "execution_count": null,
      "outputs": [
        {
          "output_type": "execute_result",
          "data": {
            "text/plain": [
              "                                                Text  Label\n",
              "0  চার দিনের মধ্যে শিক্ষার্থীকে যৌন নিপীড়নে জড়ি...      1\n",
              "1  - Dear বান্ধুবি আর কতো অপে'ক্ষা করাবি বইন.?🙄  ...      0\n",
              "2  - Story Of My Life😔  - দেখতে বাজে😪 - কেউ পাত্ত...      1\n",
              "3  - আচ্ছা! - আমার কাছে যদি চাওয়ার কিছু সুযোগ পা...      0\n",
              "4  - আজ পর্যন্ত কারোর😓  - Dp, Cover, Status, Day,...      0"
            ],
            "text/html": [
              "\n",
              "  <div id=\"df-56963427-009d-4435-8af8-40fb13ff746c\">\n",
              "    <div class=\"colab-df-container\">\n",
              "      <div>\n",
              "<style scoped>\n",
              "    .dataframe tbody tr th:only-of-type {\n",
              "        vertical-align: middle;\n",
              "    }\n",
              "\n",
              "    .dataframe tbody tr th {\n",
              "        vertical-align: top;\n",
              "    }\n",
              "\n",
              "    .dataframe thead th {\n",
              "        text-align: right;\n",
              "    }\n",
              "</style>\n",
              "<table border=\"1\" class=\"dataframe\">\n",
              "  <thead>\n",
              "    <tr style=\"text-align: right;\">\n",
              "      <th></th>\n",
              "      <th>Text</th>\n",
              "      <th>Label</th>\n",
              "    </tr>\n",
              "  </thead>\n",
              "  <tbody>\n",
              "    <tr>\n",
              "      <th>0</th>\n",
              "      <td>চার দিনের মধ্যে শিক্ষার্থীকে যৌন নিপীড়নে জড়ি...</td>\n",
              "      <td>1</td>\n",
              "    </tr>\n",
              "    <tr>\n",
              "      <th>1</th>\n",
              "      <td>- Dear বান্ধুবি আর কতো অপে'ক্ষা করাবি বইন.?🙄  ...</td>\n",
              "      <td>0</td>\n",
              "    </tr>\n",
              "    <tr>\n",
              "      <th>2</th>\n",
              "      <td>- Story Of My Life😔  - দেখতে বাজে😪 - কেউ পাত্ত...</td>\n",
              "      <td>1</td>\n",
              "    </tr>\n",
              "    <tr>\n",
              "      <th>3</th>\n",
              "      <td>- আচ্ছা! - আমার কাছে যদি চাওয়ার কিছু সুযোগ পা...</td>\n",
              "      <td>0</td>\n",
              "    </tr>\n",
              "    <tr>\n",
              "      <th>4</th>\n",
              "      <td>- আজ পর্যন্ত কারোর😓  - Dp, Cover, Status, Day,...</td>\n",
              "      <td>0</td>\n",
              "    </tr>\n",
              "  </tbody>\n",
              "</table>\n",
              "</div>\n",
              "      <button class=\"colab-df-convert\" onclick=\"convertToInteractive('df-56963427-009d-4435-8af8-40fb13ff746c')\"\n",
              "              title=\"Convert this dataframe to an interactive table.\"\n",
              "              style=\"display:none;\">\n",
              "        \n",
              "  <svg xmlns=\"http://www.w3.org/2000/svg\" height=\"24px\"viewBox=\"0 0 24 24\"\n",
              "       width=\"24px\">\n",
              "    <path d=\"M0 0h24v24H0V0z\" fill=\"none\"/>\n",
              "    <path d=\"M18.56 5.44l.94 2.06.94-2.06 2.06-.94-2.06-.94-.94-2.06-.94 2.06-2.06.94zm-11 1L8.5 8.5l.94-2.06 2.06-.94-2.06-.94L8.5 2.5l-.94 2.06-2.06.94zm10 10l.94 2.06.94-2.06 2.06-.94-2.06-.94-.94-2.06-.94 2.06-2.06.94z\"/><path d=\"M17.41 7.96l-1.37-1.37c-.4-.4-.92-.59-1.43-.59-.52 0-1.04.2-1.43.59L10.3 9.45l-7.72 7.72c-.78.78-.78 2.05 0 2.83L4 21.41c.39.39.9.59 1.41.59.51 0 1.02-.2 1.41-.59l7.78-7.78 2.81-2.81c.8-.78.8-2.07 0-2.86zM5.41 20L4 18.59l7.72-7.72 1.47 1.35L5.41 20z\"/>\n",
              "  </svg>\n",
              "      </button>\n",
              "      \n",
              "  <style>\n",
              "    .colab-df-container {\n",
              "      display:flex;\n",
              "      flex-wrap:wrap;\n",
              "      gap: 12px;\n",
              "    }\n",
              "\n",
              "    .colab-df-convert {\n",
              "      background-color: #E8F0FE;\n",
              "      border: none;\n",
              "      border-radius: 50%;\n",
              "      cursor: pointer;\n",
              "      display: none;\n",
              "      fill: #1967D2;\n",
              "      height: 32px;\n",
              "      padding: 0 0 0 0;\n",
              "      width: 32px;\n",
              "    }\n",
              "\n",
              "    .colab-df-convert:hover {\n",
              "      background-color: #E2EBFA;\n",
              "      box-shadow: 0px 1px 2px rgba(60, 64, 67, 0.3), 0px 1px 3px 1px rgba(60, 64, 67, 0.15);\n",
              "      fill: #174EA6;\n",
              "    }\n",
              "\n",
              "    [theme=dark] .colab-df-convert {\n",
              "      background-color: #3B4455;\n",
              "      fill: #D2E3FC;\n",
              "    }\n",
              "\n",
              "    [theme=dark] .colab-df-convert:hover {\n",
              "      background-color: #434B5C;\n",
              "      box-shadow: 0px 1px 3px 1px rgba(0, 0, 0, 0.15);\n",
              "      filter: drop-shadow(0px 1px 2px rgba(0, 0, 0, 0.3));\n",
              "      fill: #FFFFFF;\n",
              "    }\n",
              "  </style>\n",
              "\n",
              "      <script>\n",
              "        const buttonEl =\n",
              "          document.querySelector('#df-56963427-009d-4435-8af8-40fb13ff746c button.colab-df-convert');\n",
              "        buttonEl.style.display =\n",
              "          google.colab.kernel.accessAllowed ? 'block' : 'none';\n",
              "\n",
              "        async function convertToInteractive(key) {\n",
              "          const element = document.querySelector('#df-56963427-009d-4435-8af8-40fb13ff746c');\n",
              "          const dataTable =\n",
              "            await google.colab.kernel.invokeFunction('convertToInteractive',\n",
              "                                                     [key], {});\n",
              "          if (!dataTable) return;\n",
              "\n",
              "          const docLinkHtml = 'Like what you see? Visit the ' +\n",
              "            '<a target=\"_blank\" href=https://colab.research.google.com/notebooks/data_table.ipynb>data table notebook</a>'\n",
              "            + ' to learn more about interactive tables.';\n",
              "          element.innerHTML = '';\n",
              "          dataTable['output_type'] = 'display_data';\n",
              "          await google.colab.output.renderOutput(dataTable, element);\n",
              "          const docLink = document.createElement('div');\n",
              "          docLink.innerHTML = docLinkHtml;\n",
              "          element.appendChild(docLink);\n",
              "        }\n",
              "      </script>\n",
              "    </div>\n",
              "  </div>\n",
              "  "
            ]
          },
          "metadata": {},
          "execution_count": 32
        }
      ]
    },
    {
      "cell_type": "code",
      "source": [
        "#columns rename\n",
        "#data = dta.rename(columns={\"Recommended IND\": \"Recommended\", \"review\": \"Review\"})\n",
        "#data.head()\n",
        "data.isnull().sum()"
      ],
      "metadata": {
        "colab": {
          "base_uri": "https://localhost:8080/"
        },
        "id": "Iad2OGD89SQ0",
        "outputId": "b45d1138-e1e2-4eaa-d270-2035d2b1c44b"
      },
      "execution_count": null,
      "outputs": [
        {
          "output_type": "execute_result",
          "data": {
            "text/plain": [
              "Text                    0\n",
              "Label                   0\n",
              "Text1                   0\n",
              "Removed Puncutation     0\n",
              "Removed Stopped word    0\n",
              "Translated Text         0\n",
              "dtype: int64"
            ]
          },
          "metadata": {},
          "execution_count": 81
        }
      ]
    },
    {
      "cell_type": "code",
      "source": [
        "#drop null values\n",
        "data.dropna(subset=['Text'], inplace=True)"
      ],
      "metadata": {
        "colab": {
          "base_uri": "https://localhost:8080/"
        },
        "id": "qnSI33FiBCFE",
        "outputId": "6d2aa0cb-951d-4831-a9ba-c7515022acf3"
      },
      "execution_count": null,
      "outputs": [
        {
          "output_type": "stream",
          "name": "stderr",
          "text": [
            "/usr/local/lib/python3.7/dist-packages/pandas/util/_decorators.py:311: SettingWithCopyWarning: \n",
            "A value is trying to be set on a copy of a slice from a DataFrame\n",
            "\n",
            "See the caveats in the documentation: https://pandas.pydata.org/pandas-docs/stable/user_guide/indexing.html#returning-a-view-versus-a-copy\n",
            "  return func(*args, **kwargs)\n"
          ]
        }
      ]
    },
    {
      "cell_type": "code",
      "source": [
        "data.isnull().sum()"
      ],
      "metadata": {
        "colab": {
          "base_uri": "https://localhost:8080/"
        },
        "id": "IoRxkqVNBDvR",
        "outputId": "0a332e08-757a-408d-995e-02e7f89c7eae"
      },
      "execution_count": null,
      "outputs": [
        {
          "output_type": "execute_result",
          "data": {
            "text/plain": [
              "Text     0\n",
              "Label    0\n",
              "dtype: int64"
            ]
          },
          "metadata": {},
          "execution_count": 36
        }
      ]
    },
    {
      "cell_type": "code",
      "source": [
        "data['Text'] = data['Text'].astype(str)"
      ],
      "metadata": {
        "colab": {
          "base_uri": "https://localhost:8080/"
        },
        "id": "gGFJirw6Be8e",
        "outputId": "b5afeb00-5167-4a02-d9e7-2f5a4e28fc22"
      },
      "execution_count": null,
      "outputs": [
        {
          "output_type": "stream",
          "name": "stderr",
          "text": [
            "/usr/local/lib/python3.7/dist-packages/ipykernel_launcher.py:1: SettingWithCopyWarning: \n",
            "A value is trying to be set on a copy of a slice from a DataFrame.\n",
            "Try using .loc[row_indexer,col_indexer] = value instead\n",
            "\n",
            "See the caveats in the documentation: https://pandas.pydata.org/pandas-docs/stable/user_guide/indexing.html#returning-a-view-versus-a-copy\n",
            "  \"\"\"Entry point for launching an IPython kernel.\n"
          ]
        }
      ]
    },
    {
      "cell_type": "code",
      "source": [
        "data.shape"
      ],
      "metadata": {
        "colab": {
          "base_uri": "https://localhost:8080/"
        },
        "id": "HJldd3crBuw9",
        "outputId": "27de70ff-1fbc-4f15-ec6c-0460eef825a5"
      },
      "execution_count": null,
      "outputs": [
        {
          "output_type": "execute_result",
          "data": {
            "text/plain": [
              "(283, 2)"
            ]
          },
          "metadata": {},
          "execution_count": 39
        }
      ]
    },
    {
      "cell_type": "code",
      "source": [
        "data['Text'].value_counts()"
      ],
      "metadata": {
        "colab": {
          "base_uri": "https://localhost:8080/"
        },
        "id": "jw_LrDfXBxKQ",
        "outputId": "8a8f5cf8-aa65-44bc-8e52-45b1fcb44a0f"
      },
      "execution_count": null,
      "outputs": [
        {
          "output_type": "execute_result",
          "data": {
            "text/plain": [
              "চার দিনের মধ্যে শিক্ষার্থীকে যৌন নিপীড়নে জড়িত ব্যক্তিদের শাস্তি নিশ্চিত করার ঘোষণা দিয়েছেন চট্টগ্রাম বিশ্ববিদ্যালয়ের ভারপ্রাপ্ত রেজিস্ট্রার এস এম মনিরুল হাসান।    1\n",
              "thik                                                                                                                                                                   1\n",
              "Orpita Saha 🙄🙄🙄                                                                                                                                                        1\n",
              "😁😁😁                                                                                                                                                                    1\n",
              "Aho vatija aho tmre dimu na 😏😒😒                                                                                                                                        1\n",
              "                                                                                                                                                                      ..\n",
              "-বাড়িতে গিয়ে তুমি.   ~সর্বপ্রথম কারে খুঁজ 🌸                                                                                                                          1\n",
              "বান্ধবীর থেকে জার্সি উপহার নিলে চেহারা সুন্দর হয়🙂                                                                                                                     1\n",
              "বালিকা বাসর রাতে জামাই যদি দাবি হিসেবে🐸 Facebook password চায় তখন তুমি কি করবা🤔                                                                                       1\n",
              "বিএনপির যুগ্ম মহাসচিব আসলাম চৌধুরী, তাঁর স্ত্রী, দুই ভাইসহ ছয়জনের বিরুদ্ধে দুর্নীতি দমন কমিশনের (দুদক) করা মামলায় অভিযোগপত্র দেওয়া হয়েছে।                          1\n",
              "Absolutely right                                                                                                                                                       1\n",
              "Name: Text, Length: 283, dtype: int64"
            ]
          },
          "metadata": {},
          "execution_count": 41
        }
      ]
    },
    {
      "cell_type": "code",
      "source": [
        "data.duplicated().sum()"
      ],
      "metadata": {
        "colab": {
          "base_uri": "https://localhost:8080/"
        },
        "id": "mRepD3HRB98p",
        "outputId": "d05a336d-00ff-4fcd-ed59-45768df0c211"
      },
      "execution_count": null,
      "outputs": [
        {
          "output_type": "execute_result",
          "data": {
            "text/plain": [
              "0"
            ]
          },
          "metadata": {},
          "execution_count": 67
        }
      ]
    },
    {
      "cell_type": "markdown",
      "source": [
        "Translat all the texts into Bangla"
      ],
      "metadata": {
        "id": "OgZGYzhMD-zH"
      }
    },
    {
      "cell_type": "code",
      "source": [
        "#!pip3 install googletrans==3.1.0a0"
      ],
      "metadata": {
        "id": "gl8BpnVfD02m"
      },
      "execution_count": null,
      "outputs": []
    },
    {
      "cell_type": "code",
      "source": [
        "#Translate the other languages to english\n",
        "import googletrans\n",
        "from googletrans import *\n",
        "translator = googletrans.Translator()\n",
        "\n",
        "data['Text'] = data['Text'].astype(str) #changing datatype to string\n",
        "data['Text1'] = data['Text'].apply(translator.translate, src='auto', dest='bn').apply(getattr, args=('text',))\n",
        "data"
      ],
      "metadata": {
        "colab": {
          "base_uri": "https://localhost:8080/",
          "height": 554
        },
        "id": "ReU-tyM2D2aP",
        "outputId": "accd5be8-d8a8-489f-c791-091ae388f02b"
      },
      "execution_count": null,
      "outputs": [
        {
          "output_type": "execute_result",
          "data": {
            "text/plain": [
              "                                                  Text  Label  \\\n",
              "0    চার দিনের মধ্যে শিক্ষার্থীকে যৌন নিপীড়নে জড়ি...      1   \n",
              "1    - Dear বান্ধুবি আর কতো অপে'ক্ষা করাবি বইন.?🙄  ...      0   \n",
              "2    - Story Of My Life😔  - দেখতে বাজে😪 - কেউ পাত্ত...      1   \n",
              "3    - আচ্ছা! - আমার কাছে যদি চাওয়ার কিছু সুযোগ পা...      0   \n",
              "4    - আজ পর্যন্ত কারোর😓  - Dp, Cover, Status, Day,...      0   \n",
              "..                                                 ...    ...   \n",
              "278                                              Right      0   \n",
              "279                                             Ak dom      0   \n",
              "280                                          Bal......      0   \n",
              "281                                    কিছু কইলাম না 😈      0   \n",
              "282                                   Absolutely right      0   \n",
              "\n",
              "                                                 Text1  \\\n",
              "0    চার দিনের মধ্যে শিক্ষার্থীকে যৌন নিপীড়নে জড়ি...   \n",
              "1    - Dear বান্ধুবি আর কতো অপে'ক্ষা করাবি বইন.?🙄  ...   \n",
              "2    - Story Of My Life😔  - দেখতে বাজে😪 - কেউ পাত্ত...   \n",
              "3    - আচ্ছা! - আমার কাছে যদি চাওয়ার কিছু সুযোগ পা...   \n",
              "4    - আজ পর্যন্ত কারোর😓  - Dp, Cover, Status, Day,...   \n",
              "..                                                 ...   \n",
              "278                                                ঠিক   \n",
              "279                                             ঘর হলে   \n",
              "280                                           বল......   \n",
              "281                                    কিছু কইলাম না 😈   \n",
              "282                                        একেবারে ঠিক   \n",
              "\n",
              "                                   Removed Puncutation  \\\n",
              "0    চার দিনের মধ্যে শিক্ষার্থীকে যৌন নিপীড়নে জড়ি...   \n",
              "1     Dear বান্ধুবি আর কতো অপেক্ষা করাবি বইন🙄   এইব...   \n",
              "2     Story Of My Life😔   দেখতে বাজে😪  কেউ পাত্তা দ...   \n",
              "3     আচ্ছা  আমার কাছে যদি চাওয়ার কিছু সুযোগ পাও😱 ...   \n",
              "4     আজ পর্যন্ত কারোর😓   Dp Cover Status Day Bio W...   \n",
              "..                                                 ...   \n",
              "278                                                ঠিক   \n",
              "279                                             ঘর হলে   \n",
              "280                                                 বল   \n",
              "281                                    কিছু কইলাম না 😈   \n",
              "282                                        একেবারে ঠিক   \n",
              "\n",
              "                                  Removed Stopped word  \\\n",
              "0    [দিনের, শিক্ষার্থীকে, যৌন, নিপীড়নে, জড়িত, ব্...   \n",
              "1    [Dear, বান্ধুবি, কতো, অপেক্ষা, করাবি, বইন🙄, এই...   \n",
              "2    [Story, Of, My, Life😔, বাজে😪, পাত্তা, 😒, ভালোব...   \n",
              "3               [আচ্ছা, চাওয়ার, সুযোগ, পাও😱, চাইবে🙄🐸]   \n",
              "4    [কারোর😓, Dp, Cover, Status, Day, Bio, Wallpape...   \n",
              "..                                                 ...   \n",
              "278                                                 []   \n",
              "279                                               [ঘর]   \n",
              "280                                               [বল]   \n",
              "281                                         [কইলাম, 😈]   \n",
              "282                                          [একেবারে]   \n",
              "\n",
              "                                       Translated Text  \n",
              "0    চার দিনের মধ্যে শিক্ষার্থীকে যৌন নিপীড়নে জড়ি...  \n",
              "1    - Dear বান্ধুবি আর কতো অপে'ক্ষা করাবি বইন.?🙄  ...  \n",
              "2    - Story Of My Life😔  - দেখতে বাজে😪 - কেউ পাত্ত...  \n",
              "3    - আচ্ছা! - আমার কাছে যদি চাওয়ার কিছু সুযোগ পা...  \n",
              "4    - আজ পর্যন্ত কারোর😓  - Dp, Cover, Status, Day,...  \n",
              "..                                                 ...  \n",
              "278                                                ঠিক  \n",
              "279                                             ঘর হলে  \n",
              "280                                           বল......  \n",
              "281                                    কিছু কইলাম না 😈  \n",
              "282                                        একেবারে ঠিক  \n",
              "\n",
              "[283 rows x 6 columns]"
            ],
            "text/html": [
              "\n",
              "  <div id=\"df-de454bc2-8914-4c43-917f-83307e1a2d09\">\n",
              "    <div class=\"colab-df-container\">\n",
              "      <div>\n",
              "<style scoped>\n",
              "    .dataframe tbody tr th:only-of-type {\n",
              "        vertical-align: middle;\n",
              "    }\n",
              "\n",
              "    .dataframe tbody tr th {\n",
              "        vertical-align: top;\n",
              "    }\n",
              "\n",
              "    .dataframe thead th {\n",
              "        text-align: right;\n",
              "    }\n",
              "</style>\n",
              "<table border=\"1\" class=\"dataframe\">\n",
              "  <thead>\n",
              "    <tr style=\"text-align: right;\">\n",
              "      <th></th>\n",
              "      <th>Text</th>\n",
              "      <th>Label</th>\n",
              "      <th>Text1</th>\n",
              "      <th>Removed Puncutation</th>\n",
              "      <th>Removed Stopped word</th>\n",
              "      <th>Translated Text</th>\n",
              "    </tr>\n",
              "  </thead>\n",
              "  <tbody>\n",
              "    <tr>\n",
              "      <th>0</th>\n",
              "      <td>চার দিনের মধ্যে শিক্ষার্থীকে যৌন নিপীড়নে জড়ি...</td>\n",
              "      <td>1</td>\n",
              "      <td>চার দিনের মধ্যে শিক্ষার্থীকে যৌন নিপীড়নে জড়ি...</td>\n",
              "      <td>চার দিনের মধ্যে শিক্ষার্থীকে যৌন নিপীড়নে জড়ি...</td>\n",
              "      <td>[দিনের, শিক্ষার্থীকে, যৌন, নিপীড়নে, জড়িত, ব্...</td>\n",
              "      <td>চার দিনের মধ্যে শিক্ষার্থীকে যৌন নিপীড়নে জড়ি...</td>\n",
              "    </tr>\n",
              "    <tr>\n",
              "      <th>1</th>\n",
              "      <td>- Dear বান্ধুবি আর কতো অপে'ক্ষা করাবি বইন.?🙄  ...</td>\n",
              "      <td>0</td>\n",
              "      <td>- Dear বান্ধুবি আর কতো অপে'ক্ষা করাবি বইন.?🙄  ...</td>\n",
              "      <td>Dear বান্ধুবি আর কতো অপেক্ষা করাবি বইন🙄   এইব...</td>\n",
              "      <td>[Dear, বান্ধুবি, কতো, অপেক্ষা, করাবি, বইন🙄, এই...</td>\n",
              "      <td>- Dear বান্ধুবি আর কতো অপে'ক্ষা করাবি বইন.?🙄  ...</td>\n",
              "    </tr>\n",
              "    <tr>\n",
              "      <th>2</th>\n",
              "      <td>- Story Of My Life😔  - দেখতে বাজে😪 - কেউ পাত্ত...</td>\n",
              "      <td>1</td>\n",
              "      <td>- Story Of My Life😔  - দেখতে বাজে😪 - কেউ পাত্ত...</td>\n",
              "      <td>Story Of My Life😔   দেখতে বাজে😪  কেউ পাত্তা দ...</td>\n",
              "      <td>[Story, Of, My, Life😔, বাজে😪, পাত্তা, 😒, ভালোব...</td>\n",
              "      <td>- Story Of My Life😔  - দেখতে বাজে😪 - কেউ পাত্ত...</td>\n",
              "    </tr>\n",
              "    <tr>\n",
              "      <th>3</th>\n",
              "      <td>- আচ্ছা! - আমার কাছে যদি চাওয়ার কিছু সুযোগ পা...</td>\n",
              "      <td>0</td>\n",
              "      <td>- আচ্ছা! - আমার কাছে যদি চাওয়ার কিছু সুযোগ পা...</td>\n",
              "      <td>আচ্ছা  আমার কাছে যদি চাওয়ার কিছু সুযোগ পাও😱 ...</td>\n",
              "      <td>[আচ্ছা, চাওয়ার, সুযোগ, পাও😱, চাইবে🙄🐸]</td>\n",
              "      <td>- আচ্ছা! - আমার কাছে যদি চাওয়ার কিছু সুযোগ পা...</td>\n",
              "    </tr>\n",
              "    <tr>\n",
              "      <th>4</th>\n",
              "      <td>- আজ পর্যন্ত কারোর😓  - Dp, Cover, Status, Day,...</td>\n",
              "      <td>0</td>\n",
              "      <td>- আজ পর্যন্ত কারোর😓  - Dp, Cover, Status, Day,...</td>\n",
              "      <td>আজ পর্যন্ত কারোর😓   Dp Cover Status Day Bio W...</td>\n",
              "      <td>[কারোর😓, Dp, Cover, Status, Day, Bio, Wallpape...</td>\n",
              "      <td>- আজ পর্যন্ত কারোর😓  - Dp, Cover, Status, Day,...</td>\n",
              "    </tr>\n",
              "    <tr>\n",
              "      <th>...</th>\n",
              "      <td>...</td>\n",
              "      <td>...</td>\n",
              "      <td>...</td>\n",
              "      <td>...</td>\n",
              "      <td>...</td>\n",
              "      <td>...</td>\n",
              "    </tr>\n",
              "    <tr>\n",
              "      <th>278</th>\n",
              "      <td>Right</td>\n",
              "      <td>0</td>\n",
              "      <td>ঠিক</td>\n",
              "      <td>ঠিক</td>\n",
              "      <td>[]</td>\n",
              "      <td>ঠিক</td>\n",
              "    </tr>\n",
              "    <tr>\n",
              "      <th>279</th>\n",
              "      <td>Ak dom</td>\n",
              "      <td>0</td>\n",
              "      <td>ঘর হলে</td>\n",
              "      <td>ঘর হলে</td>\n",
              "      <td>[ঘর]</td>\n",
              "      <td>ঘর হলে</td>\n",
              "    </tr>\n",
              "    <tr>\n",
              "      <th>280</th>\n",
              "      <td>Bal......</td>\n",
              "      <td>0</td>\n",
              "      <td>বল......</td>\n",
              "      <td>বল</td>\n",
              "      <td>[বল]</td>\n",
              "      <td>বল......</td>\n",
              "    </tr>\n",
              "    <tr>\n",
              "      <th>281</th>\n",
              "      <td>কিছু কইলাম না 😈</td>\n",
              "      <td>0</td>\n",
              "      <td>কিছু কইলাম না 😈</td>\n",
              "      <td>কিছু কইলাম না 😈</td>\n",
              "      <td>[কইলাম, 😈]</td>\n",
              "      <td>কিছু কইলাম না 😈</td>\n",
              "    </tr>\n",
              "    <tr>\n",
              "      <th>282</th>\n",
              "      <td>Absolutely right</td>\n",
              "      <td>0</td>\n",
              "      <td>একেবারে ঠিক</td>\n",
              "      <td>একেবারে ঠিক</td>\n",
              "      <td>[একেবারে]</td>\n",
              "      <td>একেবারে ঠিক</td>\n",
              "    </tr>\n",
              "  </tbody>\n",
              "</table>\n",
              "<p>283 rows × 6 columns</p>\n",
              "</div>\n",
              "      <button class=\"colab-df-convert\" onclick=\"convertToInteractive('df-de454bc2-8914-4c43-917f-83307e1a2d09')\"\n",
              "              title=\"Convert this dataframe to an interactive table.\"\n",
              "              style=\"display:none;\">\n",
              "        \n",
              "  <svg xmlns=\"http://www.w3.org/2000/svg\" height=\"24px\"viewBox=\"0 0 24 24\"\n",
              "       width=\"24px\">\n",
              "    <path d=\"M0 0h24v24H0V0z\" fill=\"none\"/>\n",
              "    <path d=\"M18.56 5.44l.94 2.06.94-2.06 2.06-.94-2.06-.94-.94-2.06-.94 2.06-2.06.94zm-11 1L8.5 8.5l.94-2.06 2.06-.94-2.06-.94L8.5 2.5l-.94 2.06-2.06.94zm10 10l.94 2.06.94-2.06 2.06-.94-2.06-.94-.94-2.06-.94 2.06-2.06.94z\"/><path d=\"M17.41 7.96l-1.37-1.37c-.4-.4-.92-.59-1.43-.59-.52 0-1.04.2-1.43.59L10.3 9.45l-7.72 7.72c-.78.78-.78 2.05 0 2.83L4 21.41c.39.39.9.59 1.41.59.51 0 1.02-.2 1.41-.59l7.78-7.78 2.81-2.81c.8-.78.8-2.07 0-2.86zM5.41 20L4 18.59l7.72-7.72 1.47 1.35L5.41 20z\"/>\n",
              "  </svg>\n",
              "      </button>\n",
              "      \n",
              "  <style>\n",
              "    .colab-df-container {\n",
              "      display:flex;\n",
              "      flex-wrap:wrap;\n",
              "      gap: 12px;\n",
              "    }\n",
              "\n",
              "    .colab-df-convert {\n",
              "      background-color: #E8F0FE;\n",
              "      border: none;\n",
              "      border-radius: 50%;\n",
              "      cursor: pointer;\n",
              "      display: none;\n",
              "      fill: #1967D2;\n",
              "      height: 32px;\n",
              "      padding: 0 0 0 0;\n",
              "      width: 32px;\n",
              "    }\n",
              "\n",
              "    .colab-df-convert:hover {\n",
              "      background-color: #E2EBFA;\n",
              "      box-shadow: 0px 1px 2px rgba(60, 64, 67, 0.3), 0px 1px 3px 1px rgba(60, 64, 67, 0.15);\n",
              "      fill: #174EA6;\n",
              "    }\n",
              "\n",
              "    [theme=dark] .colab-df-convert {\n",
              "      background-color: #3B4455;\n",
              "      fill: #D2E3FC;\n",
              "    }\n",
              "\n",
              "    [theme=dark] .colab-df-convert:hover {\n",
              "      background-color: #434B5C;\n",
              "      box-shadow: 0px 1px 3px 1px rgba(0, 0, 0, 0.15);\n",
              "      filter: drop-shadow(0px 1px 2px rgba(0, 0, 0, 0.3));\n",
              "      fill: #FFFFFF;\n",
              "    }\n",
              "  </style>\n",
              "\n",
              "      <script>\n",
              "        const buttonEl =\n",
              "          document.querySelector('#df-de454bc2-8914-4c43-917f-83307e1a2d09 button.colab-df-convert');\n",
              "        buttonEl.style.display =\n",
              "          google.colab.kernel.accessAllowed ? 'block' : 'none';\n",
              "\n",
              "        async function convertToInteractive(key) {\n",
              "          const element = document.querySelector('#df-de454bc2-8914-4c43-917f-83307e1a2d09');\n",
              "          const dataTable =\n",
              "            await google.colab.kernel.invokeFunction('convertToInteractive',\n",
              "                                                     [key], {});\n",
              "          if (!dataTable) return;\n",
              "\n",
              "          const docLinkHtml = 'Like what you see? Visit the ' +\n",
              "            '<a target=\"_blank\" href=https://colab.research.google.com/notebooks/data_table.ipynb>data table notebook</a>'\n",
              "            + ' to learn more about interactive tables.';\n",
              "          element.innerHTML = '';\n",
              "          dataTable['output_type'] = 'display_data';\n",
              "          await google.colab.output.renderOutput(dataTable, element);\n",
              "          const docLink = document.createElement('div');\n",
              "          docLink.innerHTML = docLinkHtml;\n",
              "          element.appendChild(docLink);\n",
              "        }\n",
              "      </script>\n",
              "    </div>\n",
              "  </div>\n",
              "  "
            ]
          },
          "metadata": {},
          "execution_count": 78
        }
      ]
    },
    {
      "cell_type": "code",
      "source": [
        "data.head(2)"
      ],
      "metadata": {
        "id": "BeS4obPPHZK0"
      },
      "execution_count": null,
      "outputs": []
    },
    {
      "cell_type": "markdown",
      "source": [
        "Removing Puntuation"
      ],
      "metadata": {
        "id": "LeJb3su4CmI1"
      }
    },
    {
      "cell_type": "code",
      "source": [
        "string.punctuation"
      ],
      "metadata": {
        "colab": {
          "base_uri": "https://localhost:8080/",
          "height": 36
        },
        "id": "Vn-w0PycCaik",
        "outputId": "7f21b81c-dc5e-4133-a05e-9eabd3f29913"
      },
      "execution_count": null,
      "outputs": [
        {
          "output_type": "execute_result",
          "data": {
            "text/plain": [
              "'!\"#$%&\\'()*+,-./:;<=>?@[\\\\]^_`{|}~'"
            ],
            "application/vnd.google.colaboratory.intrinsic+json": {
              "type": "string"
            }
          },
          "metadata": {},
          "execution_count": 69
        }
      ]
    },
    {
      "cell_type": "code",
      "source": [
        "def remove_punctuation(Text1):\n",
        "    punctuation_list = str(string.punctuation) + \"।\"\n",
        "    text_nopunct = \"\".join([c for c in Text1 if c not in punctuation_list])\n",
        "    return text_nopunct"
      ],
      "metadata": {
        "id": "yp9t4e1nCg4u"
      },
      "execution_count": null,
      "outputs": []
    },
    {
      "cell_type": "code",
      "source": [
        "def remove_garbage(a):\n",
        "  a= \"\".join(i for i in a if i in [\"।\"] or 2432 <= ord(i) <= 2559 or ord(i)== 32)\n",
        "  removed=\" \".join(a.split())\n",
        "  return removed"
      ],
      "metadata": {
        "id": "Lrlx_VBrCsDH"
      },
      "execution_count": null,
      "outputs": []
    },
    {
      "cell_type": "code",
      "source": [
        "data['Removed Puncutation'] = data['Text1'].apply(lambda x:remove_punctuation(x))\n",
        "data.head(2)"
      ],
      "metadata": {
        "colab": {
          "base_uri": "https://localhost:8080/",
          "height": 112
        },
        "id": "unGSj9w7CzkG",
        "outputId": "fc920feb-d4a9-48fc-8281-836f72c702ec"
      },
      "execution_count": null,
      "outputs": [
        {
          "output_type": "execute_result",
          "data": {
            "text/plain": [
              "                                                Text  Label  \\\n",
              "0  চার দিনের মধ্যে শিক্ষার্থীকে যৌন নিপীড়নে জড়ি...      1   \n",
              "1  - Dear বান্ধুবি আর কতো অপে'ক্ষা করাবি বইন.?🙄  ...      0   \n",
              "\n",
              "                                               Text1  \\\n",
              "0  চার দিনের মধ্যে শিক্ষার্থীকে যৌন নিপীড়নে জড়ি...   \n",
              "1  - Dear বান্ধুবি আর কতো অপে'ক্ষা করাবি বইন.?🙄  ...   \n",
              "\n",
              "                                 Removed Puncutation  \n",
              "0  চার দিনের মধ্যে শিক্ষার্থীকে যৌন নিপীড়নে জড়ি...  \n",
              "1   Dear বান্ধুবি আর কতো অপেক্ষা করাবি বইন🙄   এইব...  "
            ],
            "text/html": [
              "\n",
              "  <div id=\"df-6e3e63e7-a155-4cc1-870b-8d2d16611e2c\">\n",
              "    <div class=\"colab-df-container\">\n",
              "      <div>\n",
              "<style scoped>\n",
              "    .dataframe tbody tr th:only-of-type {\n",
              "        vertical-align: middle;\n",
              "    }\n",
              "\n",
              "    .dataframe tbody tr th {\n",
              "        vertical-align: top;\n",
              "    }\n",
              "\n",
              "    .dataframe thead th {\n",
              "        text-align: right;\n",
              "    }\n",
              "</style>\n",
              "<table border=\"1\" class=\"dataframe\">\n",
              "  <thead>\n",
              "    <tr style=\"text-align: right;\">\n",
              "      <th></th>\n",
              "      <th>Text</th>\n",
              "      <th>Label</th>\n",
              "      <th>Text1</th>\n",
              "      <th>Removed Puncutation</th>\n",
              "    </tr>\n",
              "  </thead>\n",
              "  <tbody>\n",
              "    <tr>\n",
              "      <th>0</th>\n",
              "      <td>চার দিনের মধ্যে শিক্ষার্থীকে যৌন নিপীড়নে জড়ি...</td>\n",
              "      <td>1</td>\n",
              "      <td>চার দিনের মধ্যে শিক্ষার্থীকে যৌন নিপীড়নে জড়ি...</td>\n",
              "      <td>চার দিনের মধ্যে শিক্ষার্থীকে যৌন নিপীড়নে জড়ি...</td>\n",
              "    </tr>\n",
              "    <tr>\n",
              "      <th>1</th>\n",
              "      <td>- Dear বান্ধুবি আর কতো অপে'ক্ষা করাবি বইন.?🙄  ...</td>\n",
              "      <td>0</td>\n",
              "      <td>- Dear বান্ধুবি আর কতো অপে'ক্ষা করাবি বইন.?🙄  ...</td>\n",
              "      <td>Dear বান্ধুবি আর কতো অপেক্ষা করাবি বইন🙄   এইব...</td>\n",
              "    </tr>\n",
              "  </tbody>\n",
              "</table>\n",
              "</div>\n",
              "      <button class=\"colab-df-convert\" onclick=\"convertToInteractive('df-6e3e63e7-a155-4cc1-870b-8d2d16611e2c')\"\n",
              "              title=\"Convert this dataframe to an interactive table.\"\n",
              "              style=\"display:none;\">\n",
              "        \n",
              "  <svg xmlns=\"http://www.w3.org/2000/svg\" height=\"24px\"viewBox=\"0 0 24 24\"\n",
              "       width=\"24px\">\n",
              "    <path d=\"M0 0h24v24H0V0z\" fill=\"none\"/>\n",
              "    <path d=\"M18.56 5.44l.94 2.06.94-2.06 2.06-.94-2.06-.94-.94-2.06-.94 2.06-2.06.94zm-11 1L8.5 8.5l.94-2.06 2.06-.94-2.06-.94L8.5 2.5l-.94 2.06-2.06.94zm10 10l.94 2.06.94-2.06 2.06-.94-2.06-.94-.94-2.06-.94 2.06-2.06.94z\"/><path d=\"M17.41 7.96l-1.37-1.37c-.4-.4-.92-.59-1.43-.59-.52 0-1.04.2-1.43.59L10.3 9.45l-7.72 7.72c-.78.78-.78 2.05 0 2.83L4 21.41c.39.39.9.59 1.41.59.51 0 1.02-.2 1.41-.59l7.78-7.78 2.81-2.81c.8-.78.8-2.07 0-2.86zM5.41 20L4 18.59l7.72-7.72 1.47 1.35L5.41 20z\"/>\n",
              "  </svg>\n",
              "      </button>\n",
              "      \n",
              "  <style>\n",
              "    .colab-df-container {\n",
              "      display:flex;\n",
              "      flex-wrap:wrap;\n",
              "      gap: 12px;\n",
              "    }\n",
              "\n",
              "    .colab-df-convert {\n",
              "      background-color: #E8F0FE;\n",
              "      border: none;\n",
              "      border-radius: 50%;\n",
              "      cursor: pointer;\n",
              "      display: none;\n",
              "      fill: #1967D2;\n",
              "      height: 32px;\n",
              "      padding: 0 0 0 0;\n",
              "      width: 32px;\n",
              "    }\n",
              "\n",
              "    .colab-df-convert:hover {\n",
              "      background-color: #E2EBFA;\n",
              "      box-shadow: 0px 1px 2px rgba(60, 64, 67, 0.3), 0px 1px 3px 1px rgba(60, 64, 67, 0.15);\n",
              "      fill: #174EA6;\n",
              "    }\n",
              "\n",
              "    [theme=dark] .colab-df-convert {\n",
              "      background-color: #3B4455;\n",
              "      fill: #D2E3FC;\n",
              "    }\n",
              "\n",
              "    [theme=dark] .colab-df-convert:hover {\n",
              "      background-color: #434B5C;\n",
              "      box-shadow: 0px 1px 3px 1px rgba(0, 0, 0, 0.15);\n",
              "      filter: drop-shadow(0px 1px 2px rgba(0, 0, 0, 0.3));\n",
              "      fill: #FFFFFF;\n",
              "    }\n",
              "  </style>\n",
              "\n",
              "      <script>\n",
              "        const buttonEl =\n",
              "          document.querySelector('#df-6e3e63e7-a155-4cc1-870b-8d2d16611e2c button.colab-df-convert');\n",
              "        buttonEl.style.display =\n",
              "          google.colab.kernel.accessAllowed ? 'block' : 'none';\n",
              "\n",
              "        async function convertToInteractive(key) {\n",
              "          const element = document.querySelector('#df-6e3e63e7-a155-4cc1-870b-8d2d16611e2c');\n",
              "          const dataTable =\n",
              "            await google.colab.kernel.invokeFunction('convertToInteractive',\n",
              "                                                     [key], {});\n",
              "          if (!dataTable) return;\n",
              "\n",
              "          const docLinkHtml = 'Like what you see? Visit the ' +\n",
              "            '<a target=\"_blank\" href=https://colab.research.google.com/notebooks/data_table.ipynb>data table notebook</a>'\n",
              "            + ' to learn more about interactive tables.';\n",
              "          element.innerHTML = '';\n",
              "          dataTable['output_type'] = 'display_data';\n",
              "          await google.colab.output.renderOutput(dataTable, element);\n",
              "          const docLink = document.createElement('div');\n",
              "          docLink.innerHTML = docLinkHtml;\n",
              "          element.appendChild(docLink);\n",
              "        }\n",
              "      </script>\n",
              "    </div>\n",
              "  </div>\n",
              "  "
            ]
          },
          "metadata": {},
          "execution_count": 72
        }
      ]
    },
    {
      "cell_type": "markdown",
      "source": [
        "Remove English"
      ],
      "metadata": {
        "id": "1CxD3TYaGPHG"
      }
    },
    {
      "cell_type": "code",
      "source": [
        "#data['remove Eng'] = data['Removed Puncutation'].apply(lambda x:remove_garbage(x))\n",
        "#data"
      ],
      "metadata": {
        "id": "Iiy7LuFhC1Ff"
      },
      "execution_count": null,
      "outputs": []
    },
    {
      "cell_type": "code",
      "source": [
        "!pip install bnlp_toolkit"
      ],
      "metadata": {
        "colab": {
          "base_uri": "https://localhost:8080/"
        },
        "id": "14BDCwMmGTxJ",
        "outputId": "1dc0f7d4-aab1-44ab-baba-7f6b72701834"
      },
      "execution_count": null,
      "outputs": [
        {
          "output_type": "stream",
          "name": "stdout",
          "text": [
            "Looking in indexes: https://pypi.org/simple, https://us-python.pkg.dev/colab-wheels/public/simple/\n",
            "Collecting bnlp_toolkit\n",
            "  Downloading bnlp_toolkit-3.1.2-py3-none-any.whl (17 kB)\n",
            "Requirement already satisfied: nltk in /usr/local/lib/python3.7/dist-packages (from bnlp_toolkit) (3.7)\n",
            "Collecting sklearn-crfsuite\n",
            "  Downloading sklearn_crfsuite-0.3.6-py2.py3-none-any.whl (12 kB)\n",
            "Collecting sentencepiece\n",
            "  Downloading sentencepiece-0.1.97-cp37-cp37m-manylinux_2_17_x86_64.manylinux2014_x86_64.whl (1.3 MB)\n",
            "\u001b[K     |████████████████████████████████| 1.3 MB 44.8 MB/s \n",
            "\u001b[?25hCollecting gensim==4.0.1\n",
            "  Downloading gensim-4.0.1-cp37-cp37m-manylinux1_x86_64.whl (23.9 MB)\n",
            "\u001b[K     |████████████████████████████████| 23.9 MB 1.5 MB/s \n",
            "\u001b[?25hRequirement already satisfied: scipy in /usr/local/lib/python3.7/dist-packages (from bnlp_toolkit) (1.7.3)\n",
            "Requirement already satisfied: wasabi in /usr/local/lib/python3.7/dist-packages (from bnlp_toolkit) (0.10.1)\n",
            "Requirement already satisfied: numpy in /usr/local/lib/python3.7/dist-packages (from bnlp_toolkit) (1.21.6)\n",
            "Requirement already satisfied: smart-open>=1.8.1 in /usr/local/lib/python3.7/dist-packages (from gensim==4.0.1->bnlp_toolkit) (5.2.1)\n",
            "Requirement already satisfied: regex>=2021.8.3 in /usr/local/lib/python3.7/dist-packages (from nltk->bnlp_toolkit) (2022.6.2)\n",
            "Requirement already satisfied: click in /usr/local/lib/python3.7/dist-packages (from nltk->bnlp_toolkit) (7.1.2)\n",
            "Requirement already satisfied: tqdm in /usr/local/lib/python3.7/dist-packages (from nltk->bnlp_toolkit) (4.64.0)\n",
            "Requirement already satisfied: joblib in /usr/local/lib/python3.7/dist-packages (from nltk->bnlp_toolkit) (1.1.0)\n",
            "Requirement already satisfied: tabulate in /usr/local/lib/python3.7/dist-packages (from sklearn-crfsuite->bnlp_toolkit) (0.8.10)\n",
            "Collecting python-crfsuite>=0.8.3\n",
            "  Downloading python_crfsuite-0.9.8-cp37-cp37m-manylinux_2_17_x86_64.manylinux2014_x86_64.whl (965 kB)\n",
            "\u001b[K     |████████████████████████████████| 965 kB 54.1 MB/s \n",
            "\u001b[?25hRequirement already satisfied: six in /usr/local/lib/python3.7/dist-packages (from sklearn-crfsuite->bnlp_toolkit) (1.15.0)\n",
            "Installing collected packages: python-crfsuite, sklearn-crfsuite, sentencepiece, gensim, bnlp-toolkit\n",
            "  Attempting uninstall: gensim\n",
            "    Found existing installation: gensim 3.6.0\n",
            "    Uninstalling gensim-3.6.0:\n",
            "      Successfully uninstalled gensim-3.6.0\n",
            "Successfully installed bnlp-toolkit-3.1.2 gensim-4.0.1 python-crfsuite-0.9.8 sentencepiece-0.1.97 sklearn-crfsuite-0.3.6\n"
          ]
        }
      ]
    },
    {
      "cell_type": "code",
      "source": [
        "from bnlp.corpus import stopwords\n",
        "from bnlp.corpus.util import remove_stopwords\n",
        "\n",
        "data['Removed Stopped word'] = data['Removed Puncutation'].apply(lambda x: remove_stopwords(x,stopwords))\n",
        "data"
      ],
      "metadata": {
        "colab": {
          "base_uri": "https://localhost:8080/",
          "height": 649
        },
        "id": "-_JlfNrGGcGa",
        "outputId": "95c663e3-fd90-4f57-9144-fbb30c95c311"
      },
      "execution_count": null,
      "outputs": [
        {
          "output_type": "stream",
          "name": "stdout",
          "text": [
            "punkt not found. downloading...\n"
          ]
        },
        {
          "output_type": "stream",
          "name": "stderr",
          "text": [
            "[nltk_data] Downloading package punkt to /root/nltk_data...\n",
            "[nltk_data]   Unzipping tokenizers/punkt.zip.\n",
            "/usr/local/lib/python3.7/dist-packages/gensim/similarities/__init__.py:15: UserWarning: The gensim.similarities.levenshtein submodule is disabled, because the optional Levenshtein package <https://pypi.org/project/python-Levenshtein/> is unavailable. Install Levenhstein (e.g. `pip install python-Levenshtein`) to suppress this warning.\n",
            "  warnings.warn(msg)\n"
          ]
        },
        {
          "output_type": "execute_result",
          "data": {
            "text/plain": [
              "                                                  Text  Label  \\\n",
              "0    চার দিনের মধ্যে শিক্ষার্থীকে যৌন নিপীড়নে জড়ি...      1   \n",
              "1    - Dear বান্ধুবি আর কতো অপে'ক্ষা করাবি বইন.?🙄  ...      0   \n",
              "2    - Story Of My Life😔  - দেখতে বাজে😪 - কেউ পাত্ত...      1   \n",
              "3    - আচ্ছা! - আমার কাছে যদি চাওয়ার কিছু সুযোগ পা...      0   \n",
              "4    - আজ পর্যন্ত কারোর😓  - Dp, Cover, Status, Day,...      0   \n",
              "..                                                 ...    ...   \n",
              "278                                              Right      0   \n",
              "279                                             Ak dom      0   \n",
              "280                                          Bal......      0   \n",
              "281                                    কিছু কইলাম না 😈      0   \n",
              "282                                   Absolutely right      0   \n",
              "\n",
              "                                                 Text1  \\\n",
              "0    চার দিনের মধ্যে শিক্ষার্থীকে যৌন নিপীড়নে জড়ি...   \n",
              "1    - Dear বান্ধুবি আর কতো অপে'ক্ষা করাবি বইন.?🙄  ...   \n",
              "2    - Story Of My Life😔  - দেখতে বাজে😪 - কেউ পাত্ত...   \n",
              "3    - আচ্ছা! - আমার কাছে যদি চাওয়ার কিছু সুযোগ পা...   \n",
              "4    - আজ পর্যন্ত কারোর😓  - Dp, Cover, Status, Day,...   \n",
              "..                                                 ...   \n",
              "278                                                ঠিক   \n",
              "279                                             ঘর হলে   \n",
              "280                                           বল......   \n",
              "281                                    কিছু কইলাম না 😈   \n",
              "282                                        একেবারে ঠিক   \n",
              "\n",
              "                                   Removed Puncutation  \\\n",
              "0    চার দিনের মধ্যে শিক্ষার্থীকে যৌন নিপীড়নে জড়ি...   \n",
              "1     Dear বান্ধুবি আর কতো অপেক্ষা করাবি বইন🙄   এইব...   \n",
              "2     Story Of My Life😔   দেখতে বাজে😪  কেউ পাত্তা দ...   \n",
              "3     আচ্ছা  আমার কাছে যদি চাওয়ার কিছু সুযোগ পাও😱 ...   \n",
              "4     আজ পর্যন্ত কারোর😓   Dp Cover Status Day Bio W...   \n",
              "..                                                 ...   \n",
              "278                                                ঠিক   \n",
              "279                                             ঘর হলে   \n",
              "280                                                 বল   \n",
              "281                                    কিছু কইলাম না 😈   \n",
              "282                                        একেবারে ঠিক   \n",
              "\n",
              "                                  Removed Stopped word  \n",
              "0    [দিনের, শিক্ষার্থীকে, যৌন, নিপীড়নে, জড়িত, ব্...  \n",
              "1    [Dear, বান্ধুবি, কতো, অপেক্ষা, করাবি, বইন🙄, এই...  \n",
              "2    [Story, Of, My, Life😔, বাজে😪, পাত্তা, 😒, ভালোব...  \n",
              "3               [আচ্ছা, চাওয়ার, সুযোগ, পাও😱, চাইবে🙄🐸]  \n",
              "4    [কারোর😓, Dp, Cover, Status, Day, Bio, Wallpape...  \n",
              "..                                                 ...  \n",
              "278                                                 []  \n",
              "279                                               [ঘর]  \n",
              "280                                               [বল]  \n",
              "281                                         [কইলাম, 😈]  \n",
              "282                                          [একেবারে]  \n",
              "\n",
              "[283 rows x 5 columns]"
            ],
            "text/html": [
              "\n",
              "  <div id=\"df-e9c7660b-2852-4265-bf92-078400460862\">\n",
              "    <div class=\"colab-df-container\">\n",
              "      <div>\n",
              "<style scoped>\n",
              "    .dataframe tbody tr th:only-of-type {\n",
              "        vertical-align: middle;\n",
              "    }\n",
              "\n",
              "    .dataframe tbody tr th {\n",
              "        vertical-align: top;\n",
              "    }\n",
              "\n",
              "    .dataframe thead th {\n",
              "        text-align: right;\n",
              "    }\n",
              "</style>\n",
              "<table border=\"1\" class=\"dataframe\">\n",
              "  <thead>\n",
              "    <tr style=\"text-align: right;\">\n",
              "      <th></th>\n",
              "      <th>Text</th>\n",
              "      <th>Label</th>\n",
              "      <th>Text1</th>\n",
              "      <th>Removed Puncutation</th>\n",
              "      <th>Removed Stopped word</th>\n",
              "    </tr>\n",
              "  </thead>\n",
              "  <tbody>\n",
              "    <tr>\n",
              "      <th>0</th>\n",
              "      <td>চার দিনের মধ্যে শিক্ষার্থীকে যৌন নিপীড়নে জড়ি...</td>\n",
              "      <td>1</td>\n",
              "      <td>চার দিনের মধ্যে শিক্ষার্থীকে যৌন নিপীড়নে জড়ি...</td>\n",
              "      <td>চার দিনের মধ্যে শিক্ষার্থীকে যৌন নিপীড়নে জড়ি...</td>\n",
              "      <td>[দিনের, শিক্ষার্থীকে, যৌন, নিপীড়নে, জড়িত, ব্...</td>\n",
              "    </tr>\n",
              "    <tr>\n",
              "      <th>1</th>\n",
              "      <td>- Dear বান্ধুবি আর কতো অপে'ক্ষা করাবি বইন.?🙄  ...</td>\n",
              "      <td>0</td>\n",
              "      <td>- Dear বান্ধুবি আর কতো অপে'ক্ষা করাবি বইন.?🙄  ...</td>\n",
              "      <td>Dear বান্ধুবি আর কতো অপেক্ষা করাবি বইন🙄   এইব...</td>\n",
              "      <td>[Dear, বান্ধুবি, কতো, অপেক্ষা, করাবি, বইন🙄, এই...</td>\n",
              "    </tr>\n",
              "    <tr>\n",
              "      <th>2</th>\n",
              "      <td>- Story Of My Life😔  - দেখতে বাজে😪 - কেউ পাত্ত...</td>\n",
              "      <td>1</td>\n",
              "      <td>- Story Of My Life😔  - দেখতে বাজে😪 - কেউ পাত্ত...</td>\n",
              "      <td>Story Of My Life😔   দেখতে বাজে😪  কেউ পাত্তা দ...</td>\n",
              "      <td>[Story, Of, My, Life😔, বাজে😪, পাত্তা, 😒, ভালোব...</td>\n",
              "    </tr>\n",
              "    <tr>\n",
              "      <th>3</th>\n",
              "      <td>- আচ্ছা! - আমার কাছে যদি চাওয়ার কিছু সুযোগ পা...</td>\n",
              "      <td>0</td>\n",
              "      <td>- আচ্ছা! - আমার কাছে যদি চাওয়ার কিছু সুযোগ পা...</td>\n",
              "      <td>আচ্ছা  আমার কাছে যদি চাওয়ার কিছু সুযোগ পাও😱 ...</td>\n",
              "      <td>[আচ্ছা, চাওয়ার, সুযোগ, পাও😱, চাইবে🙄🐸]</td>\n",
              "    </tr>\n",
              "    <tr>\n",
              "      <th>4</th>\n",
              "      <td>- আজ পর্যন্ত কারোর😓  - Dp, Cover, Status, Day,...</td>\n",
              "      <td>0</td>\n",
              "      <td>- আজ পর্যন্ত কারোর😓  - Dp, Cover, Status, Day,...</td>\n",
              "      <td>আজ পর্যন্ত কারোর😓   Dp Cover Status Day Bio W...</td>\n",
              "      <td>[কারোর😓, Dp, Cover, Status, Day, Bio, Wallpape...</td>\n",
              "    </tr>\n",
              "    <tr>\n",
              "      <th>...</th>\n",
              "      <td>...</td>\n",
              "      <td>...</td>\n",
              "      <td>...</td>\n",
              "      <td>...</td>\n",
              "      <td>...</td>\n",
              "    </tr>\n",
              "    <tr>\n",
              "      <th>278</th>\n",
              "      <td>Right</td>\n",
              "      <td>0</td>\n",
              "      <td>ঠিক</td>\n",
              "      <td>ঠিক</td>\n",
              "      <td>[]</td>\n",
              "    </tr>\n",
              "    <tr>\n",
              "      <th>279</th>\n",
              "      <td>Ak dom</td>\n",
              "      <td>0</td>\n",
              "      <td>ঘর হলে</td>\n",
              "      <td>ঘর হলে</td>\n",
              "      <td>[ঘর]</td>\n",
              "    </tr>\n",
              "    <tr>\n",
              "      <th>280</th>\n",
              "      <td>Bal......</td>\n",
              "      <td>0</td>\n",
              "      <td>বল......</td>\n",
              "      <td>বল</td>\n",
              "      <td>[বল]</td>\n",
              "    </tr>\n",
              "    <tr>\n",
              "      <th>281</th>\n",
              "      <td>কিছু কইলাম না 😈</td>\n",
              "      <td>0</td>\n",
              "      <td>কিছু কইলাম না 😈</td>\n",
              "      <td>কিছু কইলাম না 😈</td>\n",
              "      <td>[কইলাম, 😈]</td>\n",
              "    </tr>\n",
              "    <tr>\n",
              "      <th>282</th>\n",
              "      <td>Absolutely right</td>\n",
              "      <td>0</td>\n",
              "      <td>একেবারে ঠিক</td>\n",
              "      <td>একেবারে ঠিক</td>\n",
              "      <td>[একেবারে]</td>\n",
              "    </tr>\n",
              "  </tbody>\n",
              "</table>\n",
              "<p>283 rows × 5 columns</p>\n",
              "</div>\n",
              "      <button class=\"colab-df-convert\" onclick=\"convertToInteractive('df-e9c7660b-2852-4265-bf92-078400460862')\"\n",
              "              title=\"Convert this dataframe to an interactive table.\"\n",
              "              style=\"display:none;\">\n",
              "        \n",
              "  <svg xmlns=\"http://www.w3.org/2000/svg\" height=\"24px\"viewBox=\"0 0 24 24\"\n",
              "       width=\"24px\">\n",
              "    <path d=\"M0 0h24v24H0V0z\" fill=\"none\"/>\n",
              "    <path d=\"M18.56 5.44l.94 2.06.94-2.06 2.06-.94-2.06-.94-.94-2.06-.94 2.06-2.06.94zm-11 1L8.5 8.5l.94-2.06 2.06-.94-2.06-.94L8.5 2.5l-.94 2.06-2.06.94zm10 10l.94 2.06.94-2.06 2.06-.94-2.06-.94-.94-2.06-.94 2.06-2.06.94z\"/><path d=\"M17.41 7.96l-1.37-1.37c-.4-.4-.92-.59-1.43-.59-.52 0-1.04.2-1.43.59L10.3 9.45l-7.72 7.72c-.78.78-.78 2.05 0 2.83L4 21.41c.39.39.9.59 1.41.59.51 0 1.02-.2 1.41-.59l7.78-7.78 2.81-2.81c.8-.78.8-2.07 0-2.86zM5.41 20L4 18.59l7.72-7.72 1.47 1.35L5.41 20z\"/>\n",
              "  </svg>\n",
              "      </button>\n",
              "      \n",
              "  <style>\n",
              "    .colab-df-container {\n",
              "      display:flex;\n",
              "      flex-wrap:wrap;\n",
              "      gap: 12px;\n",
              "    }\n",
              "\n",
              "    .colab-df-convert {\n",
              "      background-color: #E8F0FE;\n",
              "      border: none;\n",
              "      border-radius: 50%;\n",
              "      cursor: pointer;\n",
              "      display: none;\n",
              "      fill: #1967D2;\n",
              "      height: 32px;\n",
              "      padding: 0 0 0 0;\n",
              "      width: 32px;\n",
              "    }\n",
              "\n",
              "    .colab-df-convert:hover {\n",
              "      background-color: #E2EBFA;\n",
              "      box-shadow: 0px 1px 2px rgba(60, 64, 67, 0.3), 0px 1px 3px 1px rgba(60, 64, 67, 0.15);\n",
              "      fill: #174EA6;\n",
              "    }\n",
              "\n",
              "    [theme=dark] .colab-df-convert {\n",
              "      background-color: #3B4455;\n",
              "      fill: #D2E3FC;\n",
              "    }\n",
              "\n",
              "    [theme=dark] .colab-df-convert:hover {\n",
              "      background-color: #434B5C;\n",
              "      box-shadow: 0px 1px 3px 1px rgba(0, 0, 0, 0.15);\n",
              "      filter: drop-shadow(0px 1px 2px rgba(0, 0, 0, 0.3));\n",
              "      fill: #FFFFFF;\n",
              "    }\n",
              "  </style>\n",
              "\n",
              "      <script>\n",
              "        const buttonEl =\n",
              "          document.querySelector('#df-e9c7660b-2852-4265-bf92-078400460862 button.colab-df-convert');\n",
              "        buttonEl.style.display =\n",
              "          google.colab.kernel.accessAllowed ? 'block' : 'none';\n",
              "\n",
              "        async function convertToInteractive(key) {\n",
              "          const element = document.querySelector('#df-e9c7660b-2852-4265-bf92-078400460862');\n",
              "          const dataTable =\n",
              "            await google.colab.kernel.invokeFunction('convertToInteractive',\n",
              "                                                     [key], {});\n",
              "          if (!dataTable) return;\n",
              "\n",
              "          const docLinkHtml = 'Like what you see? Visit the ' +\n",
              "            '<a target=\"_blank\" href=https://colab.research.google.com/notebooks/data_table.ipynb>data table notebook</a>'\n",
              "            + ' to learn more about interactive tables.';\n",
              "          element.innerHTML = '';\n",
              "          dataTable['output_type'] = 'display_data';\n",
              "          await google.colab.output.renderOutput(dataTable, element);\n",
              "          const docLink = document.createElement('div');\n",
              "          docLink.innerHTML = docLinkHtml;\n",
              "          element.appendChild(docLink);\n",
              "        }\n",
              "      </script>\n",
              "    </div>\n",
              "  </div>\n",
              "  "
            ]
          },
          "metadata": {},
          "execution_count": 75
        }
      ]
    },
    {
      "cell_type": "code",
      "source": [
        ""
      ],
      "metadata": {
        "id": "Tr9SLCsoGveg"
      },
      "execution_count": null,
      "outputs": []
    }
  ]
}