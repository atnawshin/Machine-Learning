{
  "nbformat": 4,
  "nbformat_minor": 0,
  "metadata": {
    "colab": {
      "name": "BagOfWords.ipynb",
      "provenance": [],
      "authorship_tag": "ABX9TyO15k0NuV+NFNtkz1cuFFnK",
      "include_colab_link": true
    },
    "kernelspec": {
      "name": "python3",
      "display_name": "Python 3"
    },
    "language_info": {
      "name": "python"
    }
  },
  "cells": [
    {
      "cell_type": "markdown",
      "metadata": {
        "id": "view-in-github",
        "colab_type": "text"
      },
      "source": [
        "<a href=\"https://colab.research.google.com/github/atnawshin/Machine-Learning/blob/main/BagOfWords.ipynb\" target=\"_parent\"><img src=\"https://colab.research.google.com/assets/colab-badge.svg\" alt=\"Open In Colab\"/></a>"
      ]
    },
    {
      "cell_type": "code",
      "execution_count": null,
      "metadata": {
        "id": "b5a4i0oR_J9I"
      },
      "outputs": [],
      "source": [
        "from sklearn.feature_extraction.text import CountVectorizer"
      ]
    },
    {
      "cell_type": "code",
      "source": [
        "train_text = [\"In computer programming, whitespace is any character or series of characters that represent horizontal or vertical space in typography. When rendered, a whitespace character does not correspond to a visible mark, but typically does occupy an area on a page.\"]"
      ],
      "metadata": {
        "id": "1OzqwFs__bpa"
      },
      "execution_count": null,
      "outputs": []
    },
    {
      "cell_type": "code",
      "source": [
        "print(train_text)"
      ],
      "metadata": {
        "colab": {
          "base_uri": "https://localhost:8080/"
        },
        "id": "xlWGUKnY_imn",
        "outputId": "ba37ddcd-1b36-4325-e600-7cb3289c9df5"
      },
      "execution_count": null,
      "outputs": [
        {
          "output_type": "stream",
          "name": "stdout",
          "text": [
            "['In computer programming, whitespace is any character or series of characters that represent horizontal or vertical space in typography. When rendered, a whitespace character does not correspond to a visible mark, but typically does occupy an area on a page.']\n"
          ]
        }
      ]
    },
    {
      "cell_type": "code",
      "source": [
        "vectorizer = CountVectorizer()"
      ],
      "metadata": {
        "id": "bbbSkbnw_rj-"
      },
      "execution_count": null,
      "outputs": []
    },
    {
      "cell_type": "code",
      "source": [
        "vectorizer.fit(train_text)"
      ],
      "metadata": {
        "colab": {
          "base_uri": "https://localhost:8080/"
        },
        "id": "b6dNfuSb_z86",
        "outputId": "ca74e56d-bfbe-4346-afc0-defca40e7e06"
      },
      "execution_count": null,
      "outputs": [
        {
          "output_type": "execute_result",
          "data": {
            "text/plain": [
              "CountVectorizer()"
            ]
          },
          "metadata": {},
          "execution_count": 6
        }
      ]
    },
    {
      "cell_type": "code",
      "source": [
        "#preprocess all the sentences - convert all words into lower case and generate a tokens of words\n",
        "vectorizer.get_feature_names()"
      ],
      "metadata": {
        "colab": {
          "base_uri": "https://localhost:8080/"
        },
        "id": "mztatg86_35B",
        "outputId": "e064b736-1b86-4cad-fd69-a563dc82474f"
      },
      "execution_count": null,
      "outputs": [
        {
          "output_type": "stream",
          "name": "stderr",
          "text": [
            "/usr/local/lib/python3.7/dist-packages/sklearn/utils/deprecation.py:87: FutureWarning: Function get_feature_names is deprecated; get_feature_names is deprecated in 1.0 and will be removed in 1.2. Please use get_feature_names_out instead.\n",
            "  warnings.warn(msg, category=FutureWarning)\n"
          ]
        },
        {
          "output_type": "execute_result",
          "data": {
            "text/plain": [
              "['an',\n",
              " 'any',\n",
              " 'area',\n",
              " 'but',\n",
              " 'character',\n",
              " 'characters',\n",
              " 'computer',\n",
              " 'correspond',\n",
              " 'does',\n",
              " 'horizontal',\n",
              " 'in',\n",
              " 'is',\n",
              " 'mark',\n",
              " 'not',\n",
              " 'occupy',\n",
              " 'of',\n",
              " 'on',\n",
              " 'or',\n",
              " 'page',\n",
              " 'programming',\n",
              " 'rendered',\n",
              " 'represent',\n",
              " 'series',\n",
              " 'space',\n",
              " 'that',\n",
              " 'to',\n",
              " 'typically',\n",
              " 'typography',\n",
              " 'vertical',\n",
              " 'visible',\n",
              " 'when',\n",
              " 'whitespace']"
            ]
          },
          "metadata": {},
          "execution_count": 7
        }
      ]
    },
    {
      "cell_type": "code",
      "source": [
        "vectorizer.vocabulary_"
      ],
      "metadata": {
        "colab": {
          "base_uri": "https://localhost:8080/"
        },
        "id": "z8eoZ-yLAJGt",
        "outputId": "09bd907d-5eb3-4711-af43-8bbae3037d06"
      },
      "execution_count": null,
      "outputs": [
        {
          "output_type": "execute_result",
          "data": {
            "text/plain": [
              "{'an': 0,\n",
              " 'any': 1,\n",
              " 'area': 2,\n",
              " 'but': 3,\n",
              " 'character': 4,\n",
              " 'characters': 5,\n",
              " 'computer': 6,\n",
              " 'correspond': 7,\n",
              " 'does': 8,\n",
              " 'horizontal': 9,\n",
              " 'in': 10,\n",
              " 'is': 11,\n",
              " 'mark': 12,\n",
              " 'not': 13,\n",
              " 'occupy': 14,\n",
              " 'of': 15,\n",
              " 'on': 16,\n",
              " 'or': 17,\n",
              " 'page': 18,\n",
              " 'programming': 19,\n",
              " 'rendered': 20,\n",
              " 'represent': 21,\n",
              " 'series': 22,\n",
              " 'space': 23,\n",
              " 'that': 24,\n",
              " 'to': 25,\n",
              " 'typically': 26,\n",
              " 'typography': 27,\n",
              " 'vertical': 28,\n",
              " 'visible': 29,\n",
              " 'when': 30,\n",
              " 'whitespace': 31}"
            ]
          },
          "metadata": {},
          "execution_count": 8
        }
      ]
    },
    {
      "cell_type": "code",
      "source": [
        "vectorizer.vocabulary_.get(\"when\")"
      ],
      "metadata": {
        "colab": {
          "base_uri": "https://localhost:8080/"
        },
        "id": "Uk-0J4goAQzC",
        "outputId": "0ea3cf81-5712-41cd-d01e-2f078e44acc9"
      },
      "execution_count": null,
      "outputs": [
        {
          "output_type": "execute_result",
          "data": {
            "text/plain": [
              "30"
            ]
          },
          "metadata": {},
          "execution_count": 9
        }
      ]
    },
    {
      "cell_type": "code",
      "source": [
        "transformed_vector = vectorizer.transform(train_text)"
      ],
      "metadata": {
        "id": "eNyXfiKcAg1T"
      },
      "execution_count": null,
      "outputs": []
    },
    {
      "cell_type": "code",
      "source": [
        "transformed_vector.shape #rows and columns"
      ],
      "metadata": {
        "colab": {
          "base_uri": "https://localhost:8080/"
        },
        "id": "i37rECKnAv7G",
        "outputId": "cbf9c924-e963-4719-cc11-92daaf3a4436"
      },
      "execution_count": null,
      "outputs": [
        {
          "output_type": "execute_result",
          "data": {
            "text/plain": [
              "(1, 32)"
            ]
          },
          "metadata": {},
          "execution_count": 12
        }
      ]
    },
    {
      "cell_type": "code",
      "source": [
        "transformed_vector.toarray()"
      ],
      "metadata": {
        "colab": {
          "base_uri": "https://localhost:8080/"
        },
        "id": "fiE-gzxhAy_8",
        "outputId": "94fa8a5a-d942-4c26-817a-c007a71df536"
      },
      "execution_count": null,
      "outputs": [
        {
          "output_type": "execute_result",
          "data": {
            "text/plain": [
              "array([[1, 1, 1, 1, 2, 1, 1, 1, 2, 1, 2, 1, 1, 1, 1, 1, 1, 2, 1, 1, 1, 1,\n",
              "        1, 1, 1, 1, 1, 1, 1, 1, 1, 2]])"
            ]
          },
          "metadata": {},
          "execution_count": 13
        }
      ]
    },
    {
      "cell_type": "code",
      "source": [
        "test_text = [\"I am learning NLP\"]"
      ],
      "metadata": {
        "id": "TuoXRHHWA_oM"
      },
      "execution_count": null,
      "outputs": []
    },
    {
      "cell_type": "code",
      "source": [
        "print(test_text)"
      ],
      "metadata": {
        "colab": {
          "base_uri": "https://localhost:8080/"
        },
        "id": "eYD0iFEsBLTu",
        "outputId": "f0d84935-ce1d-4556-fe40-178e2187b916"
      },
      "execution_count": null,
      "outputs": [
        {
          "output_type": "stream",
          "name": "stdout",
          "text": [
            "['I am learning NLP']\n"
          ]
        }
      ]
    },
    {
      "cell_type": "code",
      "source": [
        "vectorizer.transform(test_text).toarray()"
      ],
      "metadata": {
        "colab": {
          "base_uri": "https://localhost:8080/"
        },
        "id": "-l_L8iA9BNeO",
        "outputId": "f2de6f5e-a901-4216-fd99-95ee59101c8d"
      },
      "execution_count": null,
      "outputs": [
        {
          "output_type": "execute_result",
          "data": {
            "text/plain": [
              "array([[0, 0, 0, 0, 0, 0, 0, 0, 0, 0, 0, 0, 0, 0, 0, 0, 0, 0, 0, 0, 0, 0,\n",
              "        0, 0, 0, 0, 0, 0, 0, 0, 0, 0]])"
            ]
          },
          "metadata": {},
          "execution_count": 16
        }
      ]
    },
    {
      "cell_type": "code",
      "source": [
        "vectorizer.vocabulary_"
      ],
      "metadata": {
        "colab": {
          "base_uri": "https://localhost:8080/"
        },
        "id": "bdqCO4ceBXew",
        "outputId": "87c7ce01-ebbe-45d2-e14d-5cfb8afc2af1"
      },
      "execution_count": null,
      "outputs": [
        {
          "output_type": "execute_result",
          "data": {
            "text/plain": [
              "{'an': 0,\n",
              " 'any': 1,\n",
              " 'area': 2,\n",
              " 'but': 3,\n",
              " 'character': 4,\n",
              " 'characters': 5,\n",
              " 'computer': 6,\n",
              " 'correspond': 7,\n",
              " 'does': 8,\n",
              " 'horizontal': 9,\n",
              " 'in': 10,\n",
              " 'is': 11,\n",
              " 'mark': 12,\n",
              " 'not': 13,\n",
              " 'occupy': 14,\n",
              " 'of': 15,\n",
              " 'on': 16,\n",
              " 'or': 17,\n",
              " 'page': 18,\n",
              " 'programming': 19,\n",
              " 'rendered': 20,\n",
              " 'represent': 21,\n",
              " 'series': 22,\n",
              " 'space': 23,\n",
              " 'that': 24,\n",
              " 'to': 25,\n",
              " 'typically': 26,\n",
              " 'typography': 27,\n",
              " 'vertical': 28,\n",
              " 'visible': 29,\n",
              " 'when': 30,\n",
              " 'whitespace': 31}"
            ]
          },
          "metadata": {},
          "execution_count": 17
        }
      ]
    },
    {
      "cell_type": "code",
      "source": [
        "vectorizer.transform(test_text).toarray()"
      ],
      "metadata": {
        "colab": {
          "base_uri": "https://localhost:8080/"
        },
        "id": "bK4sbkQuCQ_p",
        "outputId": "d06bfafa-fea1-4818-83dd-88c7f9a6aca7"
      },
      "execution_count": null,
      "outputs": [
        {
          "output_type": "execute_result",
          "data": {
            "text/plain": [
              "array([[0, 0, 0, 0, 0, 0, 0, 0, 0, 0, 0, 0, 0, 0, 0, 0, 0, 0, 0, 0, 0, 0,\n",
              "        0, 0, 0, 0, 0, 0, 0, 0, 0, 0]])"
            ]
          },
          "metadata": {},
          "execution_count": 18
        }
      ]
    },
    {
      "cell_type": "code",
      "source": [
        ""
      ],
      "metadata": {
        "id": "yySFbY-ZCa5f"
      },
      "execution_count": null,
      "outputs": []
    }
  ]
}