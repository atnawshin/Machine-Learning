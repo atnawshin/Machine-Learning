{
  "nbformat": 4,
  "nbformat_minor": 0,
  "metadata": {
    "colab": {
      "name": "Tf_idf on Bangla dataset.ipynb",
      "provenance": [],
      "mount_file_id": "1N2-VmoZ3GWsvzj5FWgJq59-0CXwBlp0y",
      "authorship_tag": "ABX9TyNTGHu4goXBWySdm8jkRUsx",
      "include_colab_link": true
    },
    "kernelspec": {
      "name": "python3",
      "display_name": "Python 3"
    },
    "language_info": {
      "name": "python"
    }
  },
  "cells": [
    {
      "cell_type": "markdown",
      "metadata": {
        "id": "view-in-github",
        "colab_type": "text"
      },
      "source": [
        "<a href=\"https://colab.research.google.com/github/atnawshin/Machine-Learning/blob/main/Tf_idf_on_Bangla_dataset.ipynb\" target=\"_parent\"><img src=\"https://colab.research.google.com/assets/colab-badge.svg\" alt=\"Open In Colab\"/></a>"
      ]
    },
    {
      "cell_type": "code",
      "source": [
        "pip install bnlp_toolkit"
      ],
      "metadata": {
        "id": "pDbKKEbKdeb4"
      },
      "execution_count": null,
      "outputs": []
    },
    {
      "cell_type": "code",
      "source": [
        "pip install bangla"
      ],
      "metadata": {
        "id": "-kQyxJv3uSph"
      },
      "execution_count": null,
      "outputs": []
    },
    {
      "cell_type": "code",
      "source": [
        "import numpy as np\n",
        "import pandas as pd\n",
        "import matplotlib.pyplot as plt\n",
        "%matplotlib inline\n",
        "import seaborn as sns\n",
        "import re,json,nltk\n",
        "from sklearn.preprocessing import LabelEncoder\n",
        "from sklearn.feature_extraction.text import TfidfVectorizer\n",
        "from sklearn.model_selection import train_test_split\n",
        "from sklearn.metrics import classification_report,accuracy_score,precision_score,recall_score,f1_score\n",
        "from tensorflow.keras.preprocessing.text import Tokenizer\n",
        "path ='/content/drive/My Drive/Colab Notebooks/NLP Projects/Sentiment Analysis/' \n",
        "stopwords_list = path+'bangla_stopwords.txt'\n",
        "class color: # Text style\n",
        "   PURPLE = '\\033[95m'\n",
        "   CYAN = '\\033[96m'\n",
        "   DARKCYAN = '\\033[36m'\n",
        "   BLUE = '\\033[94m'\n",
        "   GREEN = '\\033[92m'\n",
        "   YELLOW = '\\033[93m'\n",
        "   RED = '\\033[91m'\n",
        "   BOLD = '\\033[1m'\n",
        "   UNDERLINE = '\\033[4m'\n",
        "   END = '\\033[0m'"
      ],
      "metadata": {
        "id": "GmAAA9xfY-Yq"
      },
      "execution_count": null,
      "outputs": []
    },
    {
      "cell_type": "code",
      "source": [
        "import pandas as pd\n",
        "\n",
        "data = pd.read_excel('Cricket.xlsx' )\n",
        "\n",
        "data.head()"
      ],
      "metadata": {
        "colab": {
          "base_uri": "https://localhost:8080/",
          "height": 206
        },
        "id": "nSMPrwkjyKar",
        "outputId": "1a131a44-5426-4d6f-8b4f-853dc8b91609"
      },
      "execution_count": null,
      "outputs": [
        {
          "output_type": "execute_result",
          "data": {
            "text/plain": [
              "       Source                 Date  \\\n",
              "0  BBC Bangla  2018-06-03 00:00:00   \n",
              "1  BBC Bangla  2018-06-04 00:00:00   \n",
              "2  BBC Bangla            15/6/2017   \n",
              "3  BBC Bangla            15/6/2020   \n",
              "4  BBC Bangla            27/1/2018   \n",
              "\n",
              "                                                Text Category  Polarity  \n",
              "0  জয় বাংলা কাপ! তাও আবার স্বাধীনতার মাস মার্চে। ...    other  positive  \n",
              "1  জয় বাংলা কাপ! তাও আবার স্বাধীনতার মাস মার্চে। ...     team  positive  \n",
              "2               বাংলাদেশের পরে ভারতের সাপর্ট ই করি ?     team  positive  \n",
              "3                              সৌম্যকে বাদ দেওয়া হোক  batting  negative  \n",
              "4  প্রথমটি হচ্ছে, কোচ অত:পর সাকিব,সাকিব আর সাকিবর...     team  positive  "
            ],
            "text/html": [
              "\n",
              "  <div id=\"df-9baa9246-4480-49b7-8a47-f18cb0e9c5f4\">\n",
              "    <div class=\"colab-df-container\">\n",
              "      <div>\n",
              "<style scoped>\n",
              "    .dataframe tbody tr th:only-of-type {\n",
              "        vertical-align: middle;\n",
              "    }\n",
              "\n",
              "    .dataframe tbody tr th {\n",
              "        vertical-align: top;\n",
              "    }\n",
              "\n",
              "    .dataframe thead th {\n",
              "        text-align: right;\n",
              "    }\n",
              "</style>\n",
              "<table border=\"1\" class=\"dataframe\">\n",
              "  <thead>\n",
              "    <tr style=\"text-align: right;\">\n",
              "      <th></th>\n",
              "      <th>Source</th>\n",
              "      <th>Date</th>\n",
              "      <th>Text</th>\n",
              "      <th>Category</th>\n",
              "      <th>Polarity</th>\n",
              "    </tr>\n",
              "  </thead>\n",
              "  <tbody>\n",
              "    <tr>\n",
              "      <th>0</th>\n",
              "      <td>BBC Bangla</td>\n",
              "      <td>2018-06-03 00:00:00</td>\n",
              "      <td>জয় বাংলা কাপ! তাও আবার স্বাধীনতার মাস মার্চে। ...</td>\n",
              "      <td>other</td>\n",
              "      <td>positive</td>\n",
              "    </tr>\n",
              "    <tr>\n",
              "      <th>1</th>\n",
              "      <td>BBC Bangla</td>\n",
              "      <td>2018-06-04 00:00:00</td>\n",
              "      <td>জয় বাংলা কাপ! তাও আবার স্বাধীনতার মাস মার্চে। ...</td>\n",
              "      <td>team</td>\n",
              "      <td>positive</td>\n",
              "    </tr>\n",
              "    <tr>\n",
              "      <th>2</th>\n",
              "      <td>BBC Bangla</td>\n",
              "      <td>15/6/2017</td>\n",
              "      <td>বাংলাদেশের পরে ভারতের সাপর্ট ই করি ?</td>\n",
              "      <td>team</td>\n",
              "      <td>positive</td>\n",
              "    </tr>\n",
              "    <tr>\n",
              "      <th>3</th>\n",
              "      <td>BBC Bangla</td>\n",
              "      <td>15/6/2020</td>\n",
              "      <td>সৌম্যকে বাদ দেওয়া হোক</td>\n",
              "      <td>batting</td>\n",
              "      <td>negative</td>\n",
              "    </tr>\n",
              "    <tr>\n",
              "      <th>4</th>\n",
              "      <td>BBC Bangla</td>\n",
              "      <td>27/1/2018</td>\n",
              "      <td>প্রথমটি হচ্ছে, কোচ অত:পর সাকিব,সাকিব আর সাকিবর...</td>\n",
              "      <td>team</td>\n",
              "      <td>positive</td>\n",
              "    </tr>\n",
              "  </tbody>\n",
              "</table>\n",
              "</div>\n",
              "      <button class=\"colab-df-convert\" onclick=\"convertToInteractive('df-9baa9246-4480-49b7-8a47-f18cb0e9c5f4')\"\n",
              "              title=\"Convert this dataframe to an interactive table.\"\n",
              "              style=\"display:none;\">\n",
              "        \n",
              "  <svg xmlns=\"http://www.w3.org/2000/svg\" height=\"24px\"viewBox=\"0 0 24 24\"\n",
              "       width=\"24px\">\n",
              "    <path d=\"M0 0h24v24H0V0z\" fill=\"none\"/>\n",
              "    <path d=\"M18.56 5.44l.94 2.06.94-2.06 2.06-.94-2.06-.94-.94-2.06-.94 2.06-2.06.94zm-11 1L8.5 8.5l.94-2.06 2.06-.94-2.06-.94L8.5 2.5l-.94 2.06-2.06.94zm10 10l.94 2.06.94-2.06 2.06-.94-2.06-.94-.94-2.06-.94 2.06-2.06.94z\"/><path d=\"M17.41 7.96l-1.37-1.37c-.4-.4-.92-.59-1.43-.59-.52 0-1.04.2-1.43.59L10.3 9.45l-7.72 7.72c-.78.78-.78 2.05 0 2.83L4 21.41c.39.39.9.59 1.41.59.51 0 1.02-.2 1.41-.59l7.78-7.78 2.81-2.81c.8-.78.8-2.07 0-2.86zM5.41 20L4 18.59l7.72-7.72 1.47 1.35L5.41 20z\"/>\n",
              "  </svg>\n",
              "      </button>\n",
              "      \n",
              "  <style>\n",
              "    .colab-df-container {\n",
              "      display:flex;\n",
              "      flex-wrap:wrap;\n",
              "      gap: 12px;\n",
              "    }\n",
              "\n",
              "    .colab-df-convert {\n",
              "      background-color: #E8F0FE;\n",
              "      border: none;\n",
              "      border-radius: 50%;\n",
              "      cursor: pointer;\n",
              "      display: none;\n",
              "      fill: #1967D2;\n",
              "      height: 32px;\n",
              "      padding: 0 0 0 0;\n",
              "      width: 32px;\n",
              "    }\n",
              "\n",
              "    .colab-df-convert:hover {\n",
              "      background-color: #E2EBFA;\n",
              "      box-shadow: 0px 1px 2px rgba(60, 64, 67, 0.3), 0px 1px 3px 1px rgba(60, 64, 67, 0.15);\n",
              "      fill: #174EA6;\n",
              "    }\n",
              "\n",
              "    [theme=dark] .colab-df-convert {\n",
              "      background-color: #3B4455;\n",
              "      fill: #D2E3FC;\n",
              "    }\n",
              "\n",
              "    [theme=dark] .colab-df-convert:hover {\n",
              "      background-color: #434B5C;\n",
              "      box-shadow: 0px 1px 3px 1px rgba(0, 0, 0, 0.15);\n",
              "      filter: drop-shadow(0px 1px 2px rgba(0, 0, 0, 0.3));\n",
              "      fill: #FFFFFF;\n",
              "    }\n",
              "  </style>\n",
              "\n",
              "      <script>\n",
              "        const buttonEl =\n",
              "          document.querySelector('#df-9baa9246-4480-49b7-8a47-f18cb0e9c5f4 button.colab-df-convert');\n",
              "        buttonEl.style.display =\n",
              "          google.colab.kernel.accessAllowed ? 'block' : 'none';\n",
              "\n",
              "        async function convertToInteractive(key) {\n",
              "          const element = document.querySelector('#df-9baa9246-4480-49b7-8a47-f18cb0e9c5f4');\n",
              "          const dataTable =\n",
              "            await google.colab.kernel.invokeFunction('convertToInteractive',\n",
              "                                                     [key], {});\n",
              "          if (!dataTable) return;\n",
              "\n",
              "          const docLinkHtml = 'Like what you see? Visit the ' +\n",
              "            '<a target=\"_blank\" href=https://colab.research.google.com/notebooks/data_table.ipynb>data table notebook</a>'\n",
              "            + ' to learn more about interactive tables.';\n",
              "          element.innerHTML = '';\n",
              "          dataTable['output_type'] = 'display_data';\n",
              "          await google.colab.output.renderOutput(dataTable, element);\n",
              "          const docLink = document.createElement('div');\n",
              "          docLink.innerHTML = docLinkHtml;\n",
              "          element.appendChild(docLink);\n",
              "        }\n",
              "      </script>\n",
              "    </div>\n",
              "  </div>\n",
              "  "
            ]
          },
          "metadata": {},
          "execution_count": 3
        }
      ]
    },
    {
      "cell_type": "code",
      "source": [
        "#Data cleaning function\n",
        "#removing unnecessary punctuation\n",
        "def process_texts(Text): \n",
        "    Text = re.sub('[^\\u0980-\\u09FF]',' ',str(Text)) \n",
        "    return Text"
      ],
      "metadata": {
        "id": "aXWuN-986_qO"
      },
      "execution_count": null,
      "outputs": []
    },
    {
      "cell_type": "code",
      "source": [
        "# Apply the function into the dataframe\n",
        "data['cleaned'] = data['Text'].apply(process_texts)  \n",
        "\n",
        "# print some cleaned reviews from the dataset\n",
        "sample_data = [10,11,25,8,9,6]\n",
        "for i in sample_data:\n",
        "     print('Original:\\n',data.Text[i],'\\nCleaned:\\n',\n",
        "           data.cleaned[i],'\\n','Sentiment:-- ',data.Polarity[i],'\\n')"
      ],
      "metadata": {
        "id": "0GOhccSgY8E7",
        "colab": {
          "base_uri": "https://localhost:8080/"
        },
        "outputId": "c97aae27-8a24-4e71-ee3d-779560793017"
      },
      "execution_count": null,
      "outputs": [
        {
          "output_type": "stream",
          "name": "stdout",
          "text": [
            "Original:\n",
            " ,বাংলাদেশ জিদবে ইনশা আল্লাহ \n",
            "Cleaned:\n",
            "  বাংলাদেশ জিদবে ইনশা আল্লাহ \n",
            " Sentiment:--  positive \n",
            "\n",
            "Original:\n",
            " স্পিনারের সামনে নই রাজ্জাকের সামনে ধরাশায়ী র্রীলংকা \n",
            "Cleaned:\n",
            " স্পিনারের সামনে নই রাজ্জাকের সামনে ধরাশায়ী র্রীলংকা \n",
            " Sentiment:--  positive \n",
            "\n",
            "Original:\n",
            " সিনিয়রদের এই ভুল গুলো মেনে নেওয়া যায়না।।।।। \n",
            "Cleaned:\n",
            " সিনিয়রদের এই ভুল গুলো মেনে নেওয়া যায়না      \n",
            " Sentiment:--  negative \n",
            "\n",
            "Original:\n",
            " ,বাংলাদেশ জিদবে ইনশা আল্লাহ \n",
            "Cleaned:\n",
            "  বাংলাদেশ জিদবে ইনশা আল্লাহ \n",
            " Sentiment:--  positive \n",
            "\n",
            "Original:\n",
            " ক্রিকেটে ভারত একটা অসভ্য দল,বিরাট কোহলির আচরনে স্পষ্ট ফুটে উঠে। \n",
            "Cleaned:\n",
            " ক্রিকেটে ভারত একটা অসভ্য দল বিরাট কোহলির আচরনে স্পষ্ট ফুটে উঠে  \n",
            " Sentiment:--  negative \n",
            "\n",
            "Original:\n",
            "  মুসফিক আর তামিমের বেটিং তান্ড়বে কুহিলির জিব্বহাটা শুকিয়ে গেছে গরুর মুত খাওয়ার জন্য \n",
            "Cleaned:\n",
            "  মুসফিক আর তামিমের বেটিং তান্ড়বে কুহিলির জিব্বহাটা শুকিয়ে গেছে গরুর মুত খাওয়ার জন্য \n",
            " Sentiment:--  negative \n",
            "\n"
          ]
        }
      ]
    },
    {
      "cell_type": "code",
      "source": [
        "# Length of each Reveiws\n",
        "data['length'] = data['cleaned'].apply(lambda x:len(x.split()))\n",
        "# Remove the reviews with least words\n",
        "dataset = data.loc[data.length>1]\n",
        "dataset = dataset.reset_index(drop = True)\n",
        "print(\"After Cleaning:\",\"\\nRemoved {} Small Reviews\".format(len(data)-len(dataset)),\n",
        "      \"\\nTotal Reviews:\",len(dataset))"
      ],
      "metadata": {
        "colab": {
          "base_uri": "https://localhost:8080/"
        },
        "id": "fa3SvY0naXvw",
        "outputId": "c974c9ea-b1c6-4697-9864-616085867db1"
      },
      "execution_count": null,
      "outputs": [
        {
          "output_type": "stream",
          "name": "stdout",
          "text": [
            "After Cleaning: \n",
            "Removed 6 Small Reviews \n",
            "Total Reviews: 2973\n"
          ]
        }
      ]
    },
    {
      "cell_type": "code",
      "source": [
        "def data_summary(dataset):\n",
        "    \n",
        "    \"\"\"\n",
        "    This function will print the summary of the reviews and words distribution in the dataset. \n",
        "    \n",
        "    Args:\n",
        "        dataset: list of cleaned sentences   \n",
        "        \n",
        "    Returns:\n",
        "        Number of documnets per class: int \n",
        "        Number of words per class: int\n",
        "        Number of unique words per class: int\n",
        "    \"\"\"\n",
        "    documents = []\n",
        "    words = []\n",
        "    u_words = []\n",
        "    total_u_words = [word.strip().lower() for t in list(dataset.cleaned) for word in t.strip().split()]\n",
        "    class_label= [k for k,v in dataset.Polarity.value_counts().to_dict().items()]\n",
        "  # find word list\n",
        "    for label in class_label: \n",
        "        word_list = [word.strip().lower() for t in list(dataset[dataset.Polarity==label].cleaned) for word in t.strip().split()]\n",
        "        counts = dict()\n",
        "        for word in word_list:\n",
        "                counts[word] = counts.get(word, 0)+1\n",
        "        # sort the dictionary of word list  \n",
        "        ordered = sorted(counts.items(), key= lambda item: item[1],reverse = True)\n",
        "        # Documents per class\n",
        "        documents.append(len(list(dataset[dataset.Polarity==label].cleaned)))\n",
        "        # Total Word per class\n",
        "        words.append(len(word_list))\n",
        "        # Unique words per class \n",
        "        u_words.append(len(np.unique(word_list)))\n",
        "       \n",
        "        print(\"\\nClass Name : \",label)\n",
        "        print(\"Number of Documents:{}\".format(len(list(dataset[dataset.Polarity==label].cleaned))))  \n",
        "        print(\"Number of Words:{}\".format(len(word_list))) \n",
        "        print(\"Number of Unique Words:{}\".format(len(np.unique(word_list)))) \n",
        "        print(\"Most Frequent Words:\\n\")\n",
        "        for k,v in ordered[:10]:\n",
        "              print(\"{}\\t{}\".format(k,v))\n",
        "    print(\"Total Number of Unique Words:{}\".format(len(np.unique(total_u_words))))           \n",
        "   \n",
        "    return documents,words,u_words,class_label\n",
        "\n",
        "#call the fucntion\n",
        "documents,words,u_words,class_names = data_summary(dataset)"
      ],
      "metadata": {
        "colab": {
          "base_uri": "https://localhost:8080/"
        },
        "id": "rTAflU9jZjhg",
        "outputId": "03466eca-424d-4291-b6ce-e26dfbe103ee"
      },
      "execution_count": null,
      "outputs": [
        {
          "output_type": "stream",
          "name": "stdout",
          "text": [
            "\n",
            "Class Name :  negative\n",
            "Number of Documents:2149\n",
            "Number of Words:23700\n",
            "Number of Unique Words:5889\n",
            "Most Frequent Words:\n",
            "\n",
            "না\t443\n",
            "আর\t228\n",
            "করে\t205\n",
            "কি\t204\n",
            "এই\t191\n",
            "বাংলাদেশ\t190\n",
            "কে\t165\n",
            "হয়\t148\n",
            "হবে\t139\n",
            "জন্য\t122\n",
            "\n",
            "Class Name :  positive\n",
            "Number of Documents:565\n",
            "Number of Words:5078\n",
            "Number of Unique Words:1858\n",
            "Most Frequent Words:\n",
            "\n",
            "রাজ্জাক\t79\n",
            "জন্য\t59\n",
            "বাংলাদেশ\t51\n",
            "কে\t42\n",
            "ভালো\t42\n",
            "না\t42\n",
            "অনেক\t36\n",
            "ভাল\t36\n",
            "দলে\t34\n",
            "বাংলাদেশের\t32\n",
            "\n",
            "Class Name :  neutral\n",
            "Number of Documents:259\n",
            "Number of Words:2467\n",
            "Number of Unique Words:1242\n",
            "Most Frequent Words:\n",
            "\n",
            "না\t39\n",
            "কি\t22\n",
            "বাংলাদেশ\t18\n",
            "খেলা\t18\n",
            "রাজ্জাক\t18\n",
            "হবে\t18\n",
            "করে\t18\n",
            "আছে\t17\n",
            "এই\t16\n",
            "আর\t14\n",
            "Total Number of Unique Words:6954\n"
          ]
        }
      ]
    },
    {
      "cell_type": "code",
      "source": [
        "#visualization\n",
        "data_matrix = pd.DataFrame({'Total Documents':documents,\n",
        "                            'Total Words':words,\n",
        "                            'Unique Words':u_words,\n",
        "                            'Class Names':class_names})\n",
        "df = pd.melt(data_matrix, id_vars=\"Class Names\", var_name=\"Category\", value_name=\"Values\")\n",
        "plt.figure(figsize=(6, 4))\n",
        "ax = plt.subplot()\n",
        "\n",
        "sns.barplot(data=df,x='Class Names', y='Values' ,hue='Category')\n",
        "ax.set_xlabel('Class Names') \n",
        "ax.set_title('Data Statistics')\n",
        "\n",
        "ax.xaxis.set_ticklabels(class_names, rotation=45);"
      ],
      "metadata": {
        "colab": {
          "base_uri": "https://localhost:8080/",
          "height": 323
        },
        "id": "45PdJn4waGda",
        "outputId": "8f8885ca-6236-4b29-edff-14d0587c9c26"
      },
      "execution_count": null,
      "outputs": [
        {
          "output_type": "display_data",
          "data": {
            "text/plain": [
              "<Figure size 432x288 with 1 Axes>"
            ],
            "image/png": "[encoded data removed]"
          },
          "metadata": {
            "needs_background": "light"
          }
        }
      ]
    },
    {
      "cell_type": "code",
      "source": [
        "# Calculate the Review of each of the Review\n",
        "dataset['ReviewLength'] = dataset.cleaned.apply(lambda x:len(x.split()))\n",
        "frequency = dict()\n",
        "for i in dataset.ReviewLength:\n",
        "    frequency[i] = frequency.get(i, 0)+1\n",
        "\n",
        "plt.bar(frequency.keys(), frequency.values(), color =\"b\")\n",
        "plt.xlim(1, 135)\n",
        "# in this notbook color is not working but it should work.\n",
        "plt.xlabel('Lenght of the Texts')\n",
        "plt.ylabel('Frequency')\n",
        "plt.title('Length-Frequency Distribution')\n",
        "plt.show()  \n",
        "print(f\"Maximum Length of a review: {max(dataset.ReviewLength)}\")\n",
        "print(f\"Minimum Length of a review: {min(dataset.ReviewLength)}\")\n",
        "print(f\"Average Length of a reviews: {round(np.mean(dataset.ReviewLength),0)}\")"
      ],
      "metadata": {
        "colab": {
          "base_uri": "https://localhost:8080/",
          "height": 350
        },
        "id": "TCr6qicVbdz_",
        "outputId": "7cc7576e-22f3-46bb-8987-54c3e1265f65"
      },
      "execution_count": null,
      "outputs": [
        {
          "output_type": "display_data",
          "data": {
            "text/plain": [
              "<Figure size 432x288 with 1 Axes>"
            ],
            "image/png": "[encoded data removed]"
          },
          "metadata": {
            "needs_background": "light"
          }
        },
        {
          "output_type": "stream",
          "name": "stdout",
          "text": [
            "Maximum Length of a review: 40\n",
            "Minimum Length of a review: 2\n",
            "Average Length of a reviews: 11.0\n"
          ]
        }
      ]
    },
    {
      "cell_type": "code",
      "source": [
        "import nltk\n",
        "nltk.download('stopwords')\n",
        "from nltk.corpus import stopwords\n",
        "\";\".join(stopwords.words('bengali'))\n",
        "stop_words=set(stopwords.words('bengali'))"
      ],
      "metadata": {
        "colab": {
          "base_uri": "https://localhost:8080/"
        },
        "id": "e2fRx9hRdqSw",
        "outputId": "bd18252a-1f09-46be-d44d-5c4afccd9f40"
      },
      "execution_count": null,
      "outputs": [
        {
          "output_type": "stream",
          "name": "stderr",
          "text": [
            "[nltk_data] Downloading package stopwords to /root/nltk_data...\n",
            "[nltk_data]   Unzipping corpora/stopwords.zip.\n"
          ]
        }
      ]
    },
    {
      "cell_type": "code",
      "source": [
        "def remove_stop(x):\n",
        "    return \",\".join([word for word in str(x).split() if word not in stop_words])\n",
        "data['Text']=data['Text'].apply(lambda x : remove_stop(x))"
      ],
      "metadata": {
        "id": "AC0UhbUbuBWZ"
      },
      "execution_count": null,
      "outputs": []
    },
    {
      "cell_type": "code",
      "source": [
        "data.head()"
      ],
      "metadata": {
        "colab": {
          "base_uri": "https://localhost:8080/",
          "height": 337
        },
        "id": "3fYZ2iJIuDtK",
        "outputId": "e48db3b1-7e48-4ad2-edf2-181d2335921f"
      },
      "execution_count": null,
      "outputs": [
        {
          "output_type": "execute_result",
          "data": {
            "text/plain": [
              "       Source                 Date  \\\n",
              "0  BBC Bangla  2018-06-03 00:00:00   \n",
              "1  BBC Bangla  2018-06-04 00:00:00   \n",
              "2  BBC Bangla            15/6/2017   \n",
              "3  BBC Bangla            15/6/2020   \n",
              "4  BBC Bangla            27/1/2018   \n",
              "\n",
              "                                                Text Category  Polarity  \\\n",
              "0  জয়,বাংলা,কাপ!,স্বাধীনতার,মাস,মার্চে।,মাথা,চমৎক...    other  positive   \n",
              "1  জয়,বাংলা,কাপ!,স্বাধীনতার,মাস,মার্চে।,মাথা,চমৎক...     team  positive   \n",
              "2                         বাংলাদেশের,ভারতের,সাপর্ট,?     team  positive   \n",
              "3                                        সৌম্যকে,বাদ  batting  negative   \n",
              "4   প্রথমটি,হচ্ছে,,কোচ,অত:পর,সাকিব,সাকিব,সাকিবরে,দলে     team  positive   \n",
              "\n",
              "                                             cleaned  length  \n",
              "0  জয় বাংলা কাপ  তাও আবার স্বাধীনতার মাস মার্চে  ...      17  \n",
              "1  জয় বাংলা কাপ  তাও আবার স্বাধীনতার মাস মার্চে  ...      17  \n",
              "2               বাংলাদেশের পরে ভারতের সাপর্ট ই করি         6  \n",
              "3                              সৌম্যকে বাদ দেওয়া হোক       4  \n",
              "4  প্রথমটি হচ্ছে  কোচ অত পর সাকিব সাকিব আর সাকিবর...      11  "
            ],
            "text/html": [
              "\n",
              "  <div id=\"df-9594c379-73e1-482b-bf60-ad3c091c574a\">\n",
              "    <div class=\"colab-df-container\">\n",
              "      <div>\n",
              "<style scoped>\n",
              "    .dataframe tbody tr th:only-of-type {\n",
              "        vertical-align: middle;\n",
              "    }\n",
              "\n",
              "    .dataframe tbody tr th {\n",
              "        vertical-align: top;\n",
              "    }\n",
              "\n",
              "    .dataframe thead th {\n",
              "        text-align: right;\n",
              "    }\n",
              "</style>\n",
              "<table border=\"1\" class=\"dataframe\">\n",
              "  <thead>\n",
              "    <tr style=\"text-align: right;\">\n",
              "      <th></th>\n",
              "      <th>Source</th>\n",
              "      <th>Date</th>\n",
              "      <th>Text</th>\n",
              "      <th>Category</th>\n",
              "      <th>Polarity</th>\n",
              "      <th>cleaned</th>\n",
              "      <th>length</th>\n",
              "    </tr>\n",
              "  </thead>\n",
              "  <tbody>\n",
              "    <tr>\n",
              "      <th>0</th>\n",
              "      <td>BBC Bangla</td>\n",
              "      <td>2018-06-03 00:00:00</td>\n",
              "      <td>জয়,বাংলা,কাপ!,স্বাধীনতার,মাস,মার্চে।,মাথা,চমৎক...</td>\n",
              "      <td>other</td>\n",
              "      <td>positive</td>\n",
              "      <td>জয় বাংলা কাপ  তাও আবার স্বাধীনতার মাস মার্চে  ...</td>\n",
              "      <td>17</td>\n",
              "    </tr>\n",
              "    <tr>\n",
              "      <th>1</th>\n",
              "      <td>BBC Bangla</td>\n",
              "      <td>2018-06-04 00:00:00</td>\n",
              "      <td>জয়,বাংলা,কাপ!,স্বাধীনতার,মাস,মার্চে।,মাথা,চমৎক...</td>\n",
              "      <td>team</td>\n",
              "      <td>positive</td>\n",
              "      <td>জয় বাংলা কাপ  তাও আবার স্বাধীনতার মাস মার্চে  ...</td>\n",
              "      <td>17</td>\n",
              "    </tr>\n",
              "    <tr>\n",
              "      <th>2</th>\n",
              "      <td>BBC Bangla</td>\n",
              "      <td>15/6/2017</td>\n",
              "      <td>বাংলাদেশের,ভারতের,সাপর্ট,?</td>\n",
              "      <td>team</td>\n",
              "      <td>positive</td>\n",
              "      <td>বাংলাদেশের পরে ভারতের সাপর্ট ই করি</td>\n",
              "      <td>6</td>\n",
              "    </tr>\n",
              "    <tr>\n",
              "      <th>3</th>\n",
              "      <td>BBC Bangla</td>\n",
              "      <td>15/6/2020</td>\n",
              "      <td>সৌম্যকে,বাদ</td>\n",
              "      <td>batting</td>\n",
              "      <td>negative</td>\n",
              "      <td>সৌম্যকে বাদ দেওয়া হোক</td>\n",
              "      <td>4</td>\n",
              "    </tr>\n",
              "    <tr>\n",
              "      <th>4</th>\n",
              "      <td>BBC Bangla</td>\n",
              "      <td>27/1/2018</td>\n",
              "      <td>প্রথমটি,হচ্ছে,,কোচ,অত:পর,সাকিব,সাকিব,সাকিবরে,দলে</td>\n",
              "      <td>team</td>\n",
              "      <td>positive</td>\n",
              "      <td>প্রথমটি হচ্ছে  কোচ অত পর সাকিব সাকিব আর সাকিবর...</td>\n",
              "      <td>11</td>\n",
              "    </tr>\n",
              "  </tbody>\n",
              "</table>\n",
              "</div>\n",
              "      <button class=\"colab-df-convert\" onclick=\"convertToInteractive('df-9594c379-73e1-482b-bf60-ad3c091c574a')\"\n",
              "              title=\"Convert this dataframe to an interactive table.\"\n",
              "              style=\"display:none;\">\n",
              "        \n",
              "  <svg xmlns=\"http://www.w3.org/2000/svg\" height=\"24px\"viewBox=\"0 0 24 24\"\n",
              "       width=\"24px\">\n",
              "    <path d=\"M0 0h24v24H0V0z\" fill=\"none\"/>\n",
              "    <path d=\"M18.56 5.44l.94 2.06.94-2.06 2.06-.94-2.06-.94-.94-2.06-.94 2.06-2.06.94zm-11 1L8.5 8.5l.94-2.06 2.06-.94-2.06-.94L8.5 2.5l-.94 2.06-2.06.94zm10 10l.94 2.06.94-2.06 2.06-.94-2.06-.94-.94-2.06-.94 2.06-2.06.94z\"/><path d=\"M17.41 7.96l-1.37-1.37c-.4-.4-.92-.59-1.43-.59-.52 0-1.04.2-1.43.59L10.3 9.45l-7.72 7.72c-.78.78-.78 2.05 0 2.83L4 21.41c.39.39.9.59 1.41.59.51 0 1.02-.2 1.41-.59l7.78-7.78 2.81-2.81c.8-.78.8-2.07 0-2.86zM5.41 20L4 18.59l7.72-7.72 1.47 1.35L5.41 20z\"/>\n",
              "  </svg>\n",
              "      </button>\n",
              "      \n",
              "  <style>\n",
              "    .colab-df-container {\n",
              "      display:flex;\n",
              "      flex-wrap:wrap;\n",
              "      gap: 12px;\n",
              "    }\n",
              "\n",
              "    .colab-df-convert {\n",
              "      background-color: #E8F0FE;\n",
              "      border: none;\n",
              "      border-radius: 50%;\n",
              "      cursor: pointer;\n",
              "      display: none;\n",
              "      fill: #1967D2;\n",
              "      height: 32px;\n",
              "      padding: 0 0 0 0;\n",
              "      width: 32px;\n",
              "    }\n",
              "\n",
              "    .colab-df-convert:hover {\n",
              "      background-color: #E2EBFA;\n",
              "      box-shadow: 0px 1px 2px rgba(60, 64, 67, 0.3), 0px 1px 3px 1px rgba(60, 64, 67, 0.15);\n",
              "      fill: #174EA6;\n",
              "    }\n",
              "\n",
              "    [theme=dark] .colab-df-convert {\n",
              "      background-color: #3B4455;\n",
              "      fill: #D2E3FC;\n",
              "    }\n",
              "\n",
              "    [theme=dark] .colab-df-convert:hover {\n",
              "      background-color: #434B5C;\n",
              "      box-shadow: 0px 1px 3px 1px rgba(0, 0, 0, 0.15);\n",
              "      filter: drop-shadow(0px 1px 2px rgba(0, 0, 0, 0.3));\n",
              "      fill: #FFFFFF;\n",
              "    }\n",
              "  </style>\n",
              "\n",
              "      <script>\n",
              "        const buttonEl =\n",
              "          document.querySelector('#df-9594c379-73e1-482b-bf60-ad3c091c574a button.colab-df-convert');\n",
              "        buttonEl.style.display =\n",
              "          google.colab.kernel.accessAllowed ? 'block' : 'none';\n",
              "\n",
              "        async function convertToInteractive(key) {\n",
              "          const element = document.querySelector('#df-9594c379-73e1-482b-bf60-ad3c091c574a');\n",
              "          const dataTable =\n",
              "            await google.colab.kernel.invokeFunction('convertToInteractive',\n",
              "                                                     [key], {});\n",
              "          if (!dataTable) return;\n",
              "\n",
              "          const docLinkHtml = 'Like what you see? Visit the ' +\n",
              "            '<a target=\"_blank\" href=https://colab.research.google.com/notebooks/data_table.ipynb>data table notebook</a>'\n",
              "            + ' to learn more about interactive tables.';\n",
              "          element.innerHTML = '';\n",
              "          dataTable['output_type'] = 'display_data';\n",
              "          await google.colab.output.renderOutput(dataTable, element);\n",
              "          const docLink = document.createElement('div');\n",
              "          docLink.innerHTML = docLinkHtml;\n",
              "          element.appendChild(docLink);\n",
              "        }\n",
              "      </script>\n",
              "    </div>\n",
              "  </div>\n",
              "  "
            ]
          },
          "metadata": {},
          "execution_count": 12
        }
      ]
    },
    {
      "cell_type": "code",
      "source": [
        "#remove emojis\n",
        "import string\n",
        "def remove_emoji(string):\n",
        "    emoji_pattern = re.compile(\n",
        "        \"[\"\n",
        "        u\"\\U0001F600-\\U0001F64F\" #emoticons\n",
        "        u\"\\U0001F300-\\U0001F5FF\" #symbols & pictographs\n",
        "        u\"\\U0001F680-\\U0001F6FF\" #transport & map symbols\n",
        "        u\"\\U0001F1E0-\\U0001F1FF\" #flags(ios)\n",
        "        u\"\\U00002702-\\U000027B0\"\n",
        "        u\"\\U000024C2-\\U0001F251\" \n",
        "        \"]+\",\n",
        "        flags=re.UNICODE, \n",
        "    )\n",
        "    return emoji_pattern.sub(r\"\",string)"
      ],
      "metadata": {
        "id": "1o5VgzF63QgA"
      },
      "execution_count": null,
      "outputs": []
    },
    {
      "cell_type": "code",
      "source": [
        "data['Text'] = data['Text'].astype(str)\n",
        "data['Text'] = data['Text'].apply(lambda x:remove_emoji(x))\n",
        "data.to_csv('output.csv',index=False, encoding='utf-8')"
      ],
      "metadata": {
        "id": "JbSry3Pd3VmK"
      },
      "execution_count": null,
      "outputs": []
    },
    {
      "cell_type": "code",
      "source": [
        "data.head()"
      ],
      "metadata": {
        "colab": {
          "base_uri": "https://localhost:8080/",
          "height": 337
        },
        "id": "Hb-tAEoM30ng",
        "outputId": "a781c1e8-312a-4c5c-d75e-748b0d17e0e4"
      },
      "execution_count": null,
      "outputs": [
        {
          "output_type": "execute_result",
          "data": {
            "text/plain": [
              "       Source                 Date  \\\n",
              "0  BBC Bangla  2018-06-03 00:00:00   \n",
              "1  BBC Bangla  2018-06-04 00:00:00   \n",
              "2  BBC Bangla            15/6/2017   \n",
              "3  BBC Bangla            15/6/2020   \n",
              "4  BBC Bangla            27/1/2018   \n",
              "\n",
              "                                                Text Category  Polarity  \\\n",
              "0  জয়,বাংলা,কাপ!,স্বাধীনতার,মাস,মার্চে।,মাথা,চমৎক...    other  positive   \n",
              "1  জয়,বাংলা,কাপ!,স্বাধীনতার,মাস,মার্চে।,মাথা,চমৎক...     team  positive   \n",
              "2                         বাংলাদেশের,ভারতের,সাপর্ট,?     team  positive   \n",
              "3                                        সৌম্যকে,বাদ  batting  negative   \n",
              "4   প্রথমটি,হচ্ছে,,কোচ,অত:পর,সাকিব,সাকিব,সাকিবরে,দলে     team  positive   \n",
              "\n",
              "                                             cleaned  length  \n",
              "0  জয় বাংলা কাপ  তাও আবার স্বাধীনতার মাস মার্চে  ...      17  \n",
              "1  জয় বাংলা কাপ  তাও আবার স্বাধীনতার মাস মার্চে  ...      17  \n",
              "2               বাংলাদেশের পরে ভারতের সাপর্ট ই করি         6  \n",
              "3                              সৌম্যকে বাদ দেওয়া হোক       4  \n",
              "4  প্রথমটি হচ্ছে  কোচ অত পর সাকিব সাকিব আর সাকিবর...      11  "
            ],
            "text/html": [
              "\n",
              "  <div id=\"df-dbdc97d6-6d87-414b-842d-9025b3058ff4\">\n",
              "    <div class=\"colab-df-container\">\n",
              "      <div>\n",
              "<style scoped>\n",
              "    .dataframe tbody tr th:only-of-type {\n",
              "        vertical-align: middle;\n",
              "    }\n",
              "\n",
              "    .dataframe tbody tr th {\n",
              "        vertical-align: top;\n",
              "    }\n",
              "\n",
              "    .dataframe thead th {\n",
              "        text-align: right;\n",
              "    }\n",
              "</style>\n",
              "<table border=\"1\" class=\"dataframe\">\n",
              "  <thead>\n",
              "    <tr style=\"text-align: right;\">\n",
              "      <th></th>\n",
              "      <th>Source</th>\n",
              "      <th>Date</th>\n",
              "      <th>Text</th>\n",
              "      <th>Category</th>\n",
              "      <th>Polarity</th>\n",
              "      <th>cleaned</th>\n",
              "      <th>length</th>\n",
              "    </tr>\n",
              "  </thead>\n",
              "  <tbody>\n",
              "    <tr>\n",
              "      <th>0</th>\n",
              "      <td>BBC Bangla</td>\n",
              "      <td>2018-06-03 00:00:00</td>\n",
              "      <td>জয়,বাংলা,কাপ!,স্বাধীনতার,মাস,মার্চে।,মাথা,চমৎক...</td>\n",
              "      <td>other</td>\n",
              "      <td>positive</td>\n",
              "      <td>জয় বাংলা কাপ  তাও আবার স্বাধীনতার মাস মার্চে  ...</td>\n",
              "      <td>17</td>\n",
              "    </tr>\n",
              "    <tr>\n",
              "      <th>1</th>\n",
              "      <td>BBC Bangla</td>\n",
              "      <td>2018-06-04 00:00:00</td>\n",
              "      <td>জয়,বাংলা,কাপ!,স্বাধীনতার,মাস,মার্চে।,মাথা,চমৎক...</td>\n",
              "      <td>team</td>\n",
              "      <td>positive</td>\n",
              "      <td>জয় বাংলা কাপ  তাও আবার স্বাধীনতার মাস মার্চে  ...</td>\n",
              "      <td>17</td>\n",
              "    </tr>\n",
              "    <tr>\n",
              "      <th>2</th>\n",
              "      <td>BBC Bangla</td>\n",
              "      <td>15/6/2017</td>\n",
              "      <td>বাংলাদেশের,ভারতের,সাপর্ট,?</td>\n",
              "      <td>team</td>\n",
              "      <td>positive</td>\n",
              "      <td>বাংলাদেশের পরে ভারতের সাপর্ট ই করি</td>\n",
              "      <td>6</td>\n",
              "    </tr>\n",
              "    <tr>\n",
              "      <th>3</th>\n",
              "      <td>BBC Bangla</td>\n",
              "      <td>15/6/2020</td>\n",
              "      <td>সৌম্যকে,বাদ</td>\n",
              "      <td>batting</td>\n",
              "      <td>negative</td>\n",
              "      <td>সৌম্যকে বাদ দেওয়া হোক</td>\n",
              "      <td>4</td>\n",
              "    </tr>\n",
              "    <tr>\n",
              "      <th>4</th>\n",
              "      <td>BBC Bangla</td>\n",
              "      <td>27/1/2018</td>\n",
              "      <td>প্রথমটি,হচ্ছে,,কোচ,অত:পর,সাকিব,সাকিব,সাকিবরে,দলে</td>\n",
              "      <td>team</td>\n",
              "      <td>positive</td>\n",
              "      <td>প্রথমটি হচ্ছে  কোচ অত পর সাকিব সাকিব আর সাকিবর...</td>\n",
              "      <td>11</td>\n",
              "    </tr>\n",
              "  </tbody>\n",
              "</table>\n",
              "</div>\n",
              "      <button class=\"colab-df-convert\" onclick=\"convertToInteractive('df-dbdc97d6-6d87-414b-842d-9025b3058ff4')\"\n",
              "              title=\"Convert this dataframe to an interactive table.\"\n",
              "              style=\"display:none;\">\n",
              "        \n",
              "  <svg xmlns=\"http://www.w3.org/2000/svg\" height=\"24px\"viewBox=\"0 0 24 24\"\n",
              "       width=\"24px\">\n",
              "    <path d=\"M0 0h24v24H0V0z\" fill=\"none\"/>\n",
              "    <path d=\"M18.56 5.44l.94 2.06.94-2.06 2.06-.94-2.06-.94-.94-2.06-.94 2.06-2.06.94zm-11 1L8.5 8.5l.94-2.06 2.06-.94-2.06-.94L8.5 2.5l-.94 2.06-2.06.94zm10 10l.94 2.06.94-2.06 2.06-.94-2.06-.94-.94-2.06-.94 2.06-2.06.94z\"/><path d=\"M17.41 7.96l-1.37-1.37c-.4-.4-.92-.59-1.43-.59-.52 0-1.04.2-1.43.59L10.3 9.45l-7.72 7.72c-.78.78-.78 2.05 0 2.83L4 21.41c.39.39.9.59 1.41.59.51 0 1.02-.2 1.41-.59l7.78-7.78 2.81-2.81c.8-.78.8-2.07 0-2.86zM5.41 20L4 18.59l7.72-7.72 1.47 1.35L5.41 20z\"/>\n",
              "  </svg>\n",
              "      </button>\n",
              "      \n",
              "  <style>\n",
              "    .colab-df-container {\n",
              "      display:flex;\n",
              "      flex-wrap:wrap;\n",
              "      gap: 12px;\n",
              "    }\n",
              "\n",
              "    .colab-df-convert {\n",
              "      background-color: #E8F0FE;\n",
              "      border: none;\n",
              "      border-radius: 50%;\n",
              "      cursor: pointer;\n",
              "      display: none;\n",
              "      fill: #1967D2;\n",
              "      height: 32px;\n",
              "      padding: 0 0 0 0;\n",
              "      width: 32px;\n",
              "    }\n",
              "\n",
              "    .colab-df-convert:hover {\n",
              "      background-color: #E2EBFA;\n",
              "      box-shadow: 0px 1px 2px rgba(60, 64, 67, 0.3), 0px 1px 3px 1px rgba(60, 64, 67, 0.15);\n",
              "      fill: #174EA6;\n",
              "    }\n",
              "\n",
              "    [theme=dark] .colab-df-convert {\n",
              "      background-color: #3B4455;\n",
              "      fill: #D2E3FC;\n",
              "    }\n",
              "\n",
              "    [theme=dark] .colab-df-convert:hover {\n",
              "      background-color: #434B5C;\n",
              "      box-shadow: 0px 1px 3px 1px rgba(0, 0, 0, 0.15);\n",
              "      filter: drop-shadow(0px 1px 2px rgba(0, 0, 0, 0.3));\n",
              "      fill: #FFFFFF;\n",
              "    }\n",
              "  </style>\n",
              "\n",
              "      <script>\n",
              "        const buttonEl =\n",
              "          document.querySelector('#df-dbdc97d6-6d87-414b-842d-9025b3058ff4 button.colab-df-convert');\n",
              "        buttonEl.style.display =\n",
              "          google.colab.kernel.accessAllowed ? 'block' : 'none';\n",
              "\n",
              "        async function convertToInteractive(key) {\n",
              "          const element = document.querySelector('#df-dbdc97d6-6d87-414b-842d-9025b3058ff4');\n",
              "          const dataTable =\n",
              "            await google.colab.kernel.invokeFunction('convertToInteractive',\n",
              "                                                     [key], {});\n",
              "          if (!dataTable) return;\n",
              "\n",
              "          const docLinkHtml = 'Like what you see? Visit the ' +\n",
              "            '<a target=\"_blank\" href=https://colab.research.google.com/notebooks/data_table.ipynb>data table notebook</a>'\n",
              "            + ' to learn more about interactive tables.';\n",
              "          element.innerHTML = '';\n",
              "          dataTable['output_type'] = 'display_data';\n",
              "          await google.colab.output.renderOutput(dataTable, element);\n",
              "          const docLink = document.createElement('div');\n",
              "          docLink.innerHTML = docLinkHtml;\n",
              "          element.appendChild(docLink);\n",
              "        }\n",
              "      </script>\n",
              "    </div>\n",
              "  </div>\n",
              "  "
            ]
          },
          "metadata": {},
          "execution_count": 26
        }
      ]
    },
    {
      "cell_type": "code",
      "source": [
        "#model building\n",
        "positive = dataset[dataset.Polarity == 'positive']\n",
        "negative = dataset[dataset.Polarity == 'negative']\n",
        "dataset = positive.append(negative,ignore_index=True)\n",
        "dataset.Polarity.value_counts()"
      ],
      "metadata": {
        "colab": {
          "base_uri": "https://localhost:8080/"
        },
        "id": "CTrbqI5auJbY",
        "outputId": "a58034c2-c699-4678-d9a2-0a05497b053b"
      },
      "execution_count": null,
      "outputs": [
        {
          "output_type": "execute_result",
          "data": {
            "text/plain": [
              "negative    2149\n",
              "positive     565\n",
              "Name: Polarity, dtype: int64"
            ]
          },
          "metadata": {},
          "execution_count": 30
        }
      ]
    },
    {
      "cell_type": "code",
      "source": [
        "#Label Encodin and Dataset Splitting\n",
        "################# Label Encoding Function #########\n",
        "                                       #==================================================\n",
        "\n",
        "def label_encoding(sentiment,bool):\n",
        "    \"\"\"\n",
        "    This function will return the encoded labels in array format. \n",
        "    \n",
        "    Args:\n",
        "        sentiment: series of class names(str)\n",
        "        bool: boolean (True or False)\n",
        "        \n",
        "    Returns:\n",
        "        labels: numpy array \n",
        "    \"\"\"\n",
        "    le = LabelEncoder()\n",
        "    le.fit(sentiment)\n",
        "    encoded_labels = le.transform(sentiment)\n",
        "    labels = np.array(encoded_labels) # Converting into numpy array\n",
        "    class_names =le.classes_ ## Define the class names again\n",
        "    if bool == True:\n",
        "        print(\"\\n\\t\\t\\t===== Label Encoding =====\",\"\\nClass Names:-->\",le.classes_)\n",
        "        for i in sample_data:\n",
        "            print(sentiment[i],' ', encoded_labels[i],'\\n')\n",
        "\n",
        "    return labels\n",
        "\n",
        "\n",
        "\n",
        "                           #===========================================================\n",
        "                           ################# Dataset Splitting Function ###############\n",
        "                           #=========================================================== \n",
        "\n",
        "def dataset_split(feature_space,sentiment):\n",
        "    \"\"\"\n",
        "    This function will return the splitted (80%-20%) feature vector . \n",
        "    \n",
        "    Args:\n",
        "        feature_space: calcuated feature vector (sparse matrix)\n",
        "        sentiment: encoded lables (array) \n",
        "        \n",
        "    Returns:\n",
        "        X_train: training feature vector (sparse matrix)\n",
        "        X_test : testing feature vector (sparse matrix)\n",
        "        y_train: training encoded labels (array) \n",
        "        y_test : testing encoded labels (array) \n",
        "    \"\"\"\n",
        "\n",
        "    X_train,X_test,y_train,y_test = train_test_split(feature_space,sentiment,train_size = 0.9,\n",
        "                                                  test_size = 0.1,random_state =0)\n",
        "    print(\"Feature Size :======>\",X_train.shape[1])\n",
        "    print(\"\\nDataset Distribution:\\n\")\n",
        "    print(\"\\tSet Name\",\"\\t\\tSize\")\n",
        "    print(\"\\t========\\t\\t======\")\n",
        "\n",
        "    print(\"\\tFull\\t\\t\\t\",feature_space.shape[0],\n",
        "        \"\\n\\tTraining\\t\\t\",X_train.shape[0],\n",
        "        \"\\n\\tTest\\t\\t\\t\",X_test.shape[0])\n",
        "  \n",
        "    return X_train,X_test,y_train,y_test"
      ],
      "metadata": {
        "id": "Ufe5c01SuQxu"
      },
      "execution_count": null,
      "outputs": []
    },
    {
      "cell_type": "code",
      "source": [
        "dataset.cleaned = dataset.cleaned.apply(lambda x:x.replace('\\n',' '))"
      ],
      "metadata": {
        "id": "Ja9jTvUsuoWa"
      },
      "execution_count": null,
      "outputs": []
    },
    {
      "cell_type": "code",
      "source": [
        "#Model Building Using Machine Learning Feature Extraction Using TF-IDF\n",
        "#======================================\n",
        "                                            ##### Unigram Tf-idf value calculation\n",
        "                                            #======================================\n",
        "            \n",
        "def calc_gram_tfidf(reviews,gram):\n",
        "    \"\"\"\n",
        "    This function will return the tf-idf value of the respective gram features . \n",
        "    \n",
        "    Args:\n",
        "        reviews: a list of cleaned reviews   \n",
        "        \n",
        "    Returns:\n",
        "        tfidf: a instance of TfidfVectorizer\n",
        "        X : Unigram Feature Vector (sparse matrix)\n",
        "    \"\"\"\n",
        "    tfidf = TfidfVectorizer(ngram_range=gram,use_idf=True,tokenizer=lambda x: x.split()) \n",
        "    X = tfidf.fit_transform(reviews)\n",
        "    \n",
        "    return tfidf,X"
      ],
      "metadata": {
        "id": "j-fkeQeluqKp"
      },
      "execution_count": null,
      "outputs": []
    },
    {
      "cell_type": "code",
      "source": [
        "from sklearn.linear_model import LogisticRegression\n",
        "from sklearn.tree import DecisionTreeClassifier\n",
        "from sklearn.ensemble import RandomForestClassifier\n",
        "from sklearn.naive_bayes import MultinomialNB\n",
        "from sklearn.neighbors import KNeighborsClassifier\n",
        "from sklearn.svm import SVC\n",
        "from sklearn.linear_model import SGDClassifier\n",
        "from sklearn.metrics import classification_report,accuracy_score,precision_score,recall_score,f1_score\n",
        "from sklearn.metrics import roc_curve, roc_auc_score\n",
        "from sklearn.metrics import average_precision_score,roc_auc_score, roc_curve, precision_recall_curve"
      ],
      "metadata": {
        "id": "_sMUWZASus3N"
      },
      "execution_count": null,
      "outputs": []
    },
    {
      "cell_type": "code",
      "source": [
        "#============================================\n",
        "                                              #########  Classifiers Defination  #########\n",
        "                                              #============================================\n",
        "def ml_models_defination(): \n",
        "    \"\"\"\n",
        "    This function consists the models defination for All gram Features\n",
        "    \n",
        "    Retuns:\n",
        "        ml_models: list of models\n",
        "        model_names: list of model_names\n",
        "    \n",
        "    \"\"\"\n",
        "    \n",
        "    lr_model = LogisticRegression(random_state = 123)\n",
        "    dt_model = DecisionTreeClassifier(criterion = 'entropy', random_state = 0)\n",
        "    rf_model = RandomForestClassifier(n_estimators=100, criterion ='entropy', random_state = 0)\n",
        "    mnb_model = MultinomialNB(alpha=0.15)\n",
        "    knn_model = KNeighborsClassifier(n_neighbors=3, metric = 'minkowski')\n",
        "    lsvm_model = SVC(kernel = 'linear',C = 0.2, probability=True, random_state = 0)\n",
        "    ksvm_model = SVC(C= 1000,kernel = 'rbf',probability=True, gamma = 0.00015, random_state = 0)\n",
        "    model_names = ['Logistic Regression','Decision Tree','Random Forest','Naive Bayes','KNN','Linear SVM','Kernel SVM']\n",
        "    #model_names = ['Logistic Regression']\n",
        "    # Create list of models\n",
        "    ml_models = [lr_model,dt_model,rf_model,mnb_model,knn_model,lsvm_model,ksvm_model]\n",
        "    #ml_models = [lr_model]\n",
        "    return ml_models,model_names \n",
        "\n",
        "\n",
        "                                          #============================================\n",
        "                                           ####### Model Evaluation Function ############\n",
        "                                           #=============================================\n",
        "\n",
        "def model_performace(model,X_train,X_test,y_train,y_test):\n",
        "    \"\"\"\n",
        "    This function will return the performance parameter values of each ML models.\n",
        "    Performance parameters are Accuracy, F1-Score, Precision, Recall.\n",
        "    \n",
        "    Args:\n",
        "        model: a ML model instance\n",
        "        X_train: training feature vector (sparse matrix)\n",
        "        X_test : testing feature vector (sparse matrix)\n",
        "        y_train: training encoded labels (array) \n",
        "        y_test : testing encoded labels (array) \n",
        "        \n",
        "    Returns:\n",
        "        my_dict: a dictionary of all the parameters for each models\n",
        "    \"\"\"\n",
        "    my_dict = {}\n",
        "    model.fit(X_train,y_train)\n",
        "    # Prediction\n",
        "    pred_y = model.predict(X_test)\n",
        "    my_dict['Accuracy'] = round(accuracy_score(y_test, pred_y),4)*100 \n",
        "    my_dict['Precision'] = round(precision_score(y_test, pred_y),4)*100 \n",
        "    my_dict['Recall'] = round(recall_score(y_test, pred_y),4)*100 \n",
        "    my_dict['F1 Score'] = round(f1_score(y_test, pred_y),4)*100 \n",
        "    \n",
        "    return my_dict  \n",
        "\n",
        "                                        #========================================\n",
        "                                        #### Model Performane into Dataframe #####\n",
        "                                        #=========================================\n",
        "            \n",
        "def performance_table(performance_dict):\n",
        "    \"\"\"\n",
        "    This function will create a dataframe of all the performance parameters.\n",
        "    \n",
        "    Args:\n",
        "        performance_dict: a dictionary of all the parameters for each models\n",
        "        \n",
        "    Returns:\n",
        "        performance_df: a dataframe\n",
        "    \"\"\"\n",
        "\n",
        "    acc_list = []\n",
        "    pr_list = []\n",
        "    re_list = []\n",
        "    f1_list = []\n",
        "    for i in performance_dict.keys():\n",
        "        acc_list.append(performance_dict[i]['Accuracy'])\n",
        "        pr_list.append(performance_dict[i]['Precision'])\n",
        "        re_list.append(performance_dict[i]['Recall'])\n",
        "        f1_list.append(performance_dict[i]['F1 Score'])\n",
        "\n",
        "    # Create a dataframe\n",
        "    model_names = ['LR','DT','RF','MNB','KNN','Linear SVM','RBF SVM']\n",
        "    performance_df = pd.DataFrame({'Accuracy':acc_list,'Precision':pr_list,\n",
        "                                   'Recall':re_list,'F1 Score':f1_list,\n",
        "                                   'Model Name':model_names })\n",
        "    return performance_df"
      ],
      "metadata": {
        "id": "48NfcY0Quuwh"
      },
      "execution_count": null,
      "outputs": []
    },
    {
      "cell_type": "code",
      "source": [
        "## save the performance of the model for each gram feature \n",
        "gram_names = ['Unigram','Bigram','Trigram']\n",
        "ngrams = [(1,1),(1,2),(1,3)]\n",
        "for i,gram in enumerate(ngrams):\n",
        "    tfidf,feature = calc_gram_tfidf(dataset.cleaned,gram)\n",
        "    labels = label_encoding(dataset.Polarity,False)\n",
        "    X_train,X_test,y_train,y_test = dataset_split(feature,labels) \n",
        "    ml_models,model_names = ml_models_defination()\n",
        "    # call model accuracy function and save the metrices into a dictionary\n",
        "    accuracy = {f'{model_names[j]}':model_performace(model,X_train,X_test,y_train,y_test) for j,model in enumerate(ml_models)}\n",
        "    #Save the performance parameter into json file\n",
        "    with open(path+f'ml_performance_{gram_names[i]}.json', 'w') as f:\n",
        "           json.dump(accuracy, f)"
      ],
      "metadata": {
        "colab": {
          "base_uri": "https://localhost:8080/"
        },
        "id": "ebCV7psCuyIf",
        "outputId": "14f27be8-366f-4e74-a073-5cfa44d2db3b"
      },
      "execution_count": null,
      "outputs": [
        {
          "output_type": "stream",
          "name": "stdout",
          "text": [
            "Feature Size :======> 6582\n",
            "\n",
            "Dataset Distribution:\n",
            "\n",
            "\tSet Name \t\tSize\n",
            "\t========\t\t======\n",
            "\tFull\t\t\t 2714 \n",
            "\tTraining\t\t 2442 \n",
            "\tTest\t\t\t 272\n",
            "Feature Size :======> 26284\n",
            "\n",
            "Dataset Distribution:\n",
            "\n",
            "\tSet Name \t\tSize\n",
            "\t========\t\t======\n",
            "\tFull\t\t\t 2714 \n",
            "\tTraining\t\t 2442 \n",
            "\tTest\t\t\t 272\n"
          ]
        },
        {
          "output_type": "stream",
          "name": "stderr",
          "text": [
            "/usr/local/lib/python3.7/dist-packages/sklearn/metrics/_classification.py:1318: UndefinedMetricWarning: Precision is ill-defined and being set to 0.0 due to no predicted samples. Use `zero_division` parameter to control this behavior.\n",
            "  _warn_prf(average, modifier, msg_start, len(result))\n"
          ]
        },
        {
          "output_type": "stream",
          "name": "stdout",
          "text": [
            "Feature Size :======> 46384\n",
            "\n",
            "Dataset Distribution:\n",
            "\n",
            "\tSet Name \t\tSize\n",
            "\t========\t\t======\n",
            "\tFull\t\t\t 2714 \n",
            "\tTraining\t\t 2442 \n",
            "\tTest\t\t\t 272\n"
          ]
        },
        {
          "output_type": "stream",
          "name": "stderr",
          "text": [
            "/usr/local/lib/python3.7/dist-packages/sklearn/metrics/_classification.py:1318: UndefinedMetricWarning: Precision is ill-defined and being set to 0.0 due to no predicted samples. Use `zero_division` parameter to control this behavior.\n",
            "  _warn_prf(average, modifier, msg_start, len(result))\n",
            "/usr/local/lib/python3.7/dist-packages/sklearn/metrics/_classification.py:1318: UndefinedMetricWarning: Precision is ill-defined and being set to 0.0 due to no predicted samples. Use `zero_division` parameter to control this behavior.\n",
            "  _warn_prf(average, modifier, msg_start, len(result))\n",
            "/usr/local/lib/python3.7/dist-packages/sklearn/metrics/_classification.py:1318: UndefinedMetricWarning: Precision is ill-defined and being set to 0.0 due to no predicted samples. Use `zero_division` parameter to control this behavior.\n",
            "  _warn_prf(average, modifier, msg_start, len(result))\n"
          ]
        }
      ]
    },
    {
      "cell_type": "code",
      "source": [
        "# Load all the json files\n",
        "gram_names = ['Unigram','Bigram','Trigram']\n",
        "\n",
        "for gram in gram_names:\n",
        "  accuracy = json.load(open(path+f'ml_performance_{gram}.json'))\n",
        "  table = performance_table(accuracy)\n",
        "  print(f\"\\n========== Performace Table for {gram} feature:========\\n\",table)\n",
        "  print(f\"\\n========In case of {gram} feature:========\\n\")\n",
        "  print(f\"Highest Accuracy achieved by {table['Model Name'][table.Accuracy.idxmax(axis = 0)]} at = {max(table.Accuracy)}\")\n",
        "  print(f\"Highest F1-Score achieved by {table['Model Name'][table['F1 Score'].idxmax(axis = 0)]} at = {max(table['F1 Score'] )}\")\n",
        "  print(f\"Highest Precision Score achieved by {table['Model Name'][table['Precision'].idxmax(axis = 0)]} at = {max(table['Precision'] )}\")\n",
        "  print(f\"Highest Recall Score achieved by {table['Model Name'][table['Recall'].idxmax(axis = 0)]} at = {max(table['Recall'] )}\")"
      ],
      "metadata": {
        "colab": {
          "base_uri": "https://localhost:8080/"
        },
        "id": "Gn_oDDw7u0PF",
        "outputId": "1b1547a9-b5a3-419a-90b1-0d25d03ea049"
      },
      "execution_count": null,
      "outputs": [
        {
          "output_type": "stream",
          "name": "stdout",
          "text": [
            "\n",
            "========== Performace Table for Unigram feature:========\n",
            "    Accuracy  Precision  Recall  F1 Score  Model Name\n",
            "0     83.82      92.31   21.82     35.29          LR\n",
            "1     80.88      52.94   49.09     50.94          DT\n",
            "2     84.93      76.92   36.36     49.38          RF\n",
            "3     79.78      50.00   43.64     46.60         MNB\n",
            "4     80.88      52.83   50.91     51.85         KNN\n",
            "5     80.51     100.00    3.64      7.02  Linear SVM\n",
            "6     81.99      87.50   12.73     22.22     RBF SVM\n",
            "\n",
            "========In case of Unigram feature:========\n",
            "\n",
            "Highest Accuracy achieved by RF at = 84.93\n",
            "Highest F1-Score achieved by KNN at = 51.849999999999994\n",
            "Highest Precision Score achieved by Linear SVM at = 100.0\n",
            "Highest Recall Score achieved by KNN at = 50.91\n",
            "\n",
            "========== Performace Table for Bigram feature:========\n",
            "    Accuracy  Precision  Recall  F1 Score  Model Name\n",
            "0     80.88     100.00    5.45     10.34          LR\n",
            "1     75.00      37.74   36.36     37.04          DT\n",
            "2     84.93      79.17   34.55     48.10          RF\n",
            "3     73.16      40.43   69.09     51.01         MNB\n",
            "4     80.88      52.73   52.73     52.73         KNN\n",
            "5     79.78       0.00    0.00      0.00  Linear SVM\n",
            "6     80.51     100.00    3.64      7.02     RBF SVM\n",
            "\n",
            "========In case of Bigram feature:========\n",
            "\n",
            "Highest Accuracy achieved by RF at = 84.93\n",
            "Highest F1-Score achieved by KNN at = 52.73\n",
            "Highest Precision Score achieved by LR at = 100.0\n",
            "Highest Recall Score achieved by MNB at = 69.08999999999999\n",
            "\n",
            "========== Performace Table for Trigram feature:========\n",
            "    Accuracy  Precision  Recall  F1 Score  Model Name\n",
            "0     79.78       0.00    0.00      0.00          LR\n",
            "1     79.41      49.15   52.73     50.88          DT\n",
            "2     84.56      78.26   32.73     46.15          RF\n",
            "3     61.76      31.01   72.73     43.48         MNB\n",
            "4     82.35      56.36   56.36     56.36         KNN\n",
            "5     79.78       0.00    0.00      0.00  Linear SVM\n",
            "6     79.78       0.00    0.00      0.00     RBF SVM\n",
            "\n",
            "========In case of Trigram feature:========\n",
            "\n",
            "Highest Accuracy achieved by RF at = 84.56\n",
            "Highest F1-Score achieved by KNN at = 56.36\n",
            "Highest Precision Score achieved by RF at = 78.25999999999999\n",
            "Highest Recall Score achieved by MNB at = 72.72999999999999\n"
          ]
        }
      ]
    },
    {
      "cell_type": "code",
      "source": [
        "gram_names = ['Unigram','Bigram','Trigram']\n",
        "\n",
        "for gram in gram_names:\n",
        "  accuracy = json.load(open(path+f'ml_performance_{gram}.json'))\n",
        "  table = performance_table(accuracy)\n",
        "  df = pd.melt(table[['Accuracy','F1 Score','Model Name']], id_vars=\"Model Name\", var_name=\"Category\", value_name=\"Values\")\n",
        "  plt.figure(figsize=(8,6))\n",
        "  ax = plt.subplot()\n",
        "  sns.barplot(data=df,x='Model Name', y='Values' ,hue='Category')\n",
        "  ax.set_xlabel('Model Name') \n",
        "  ax.set_title(f'Comparison of Accuracy and F1-Score Value for {gram} Feature')\n",
        "  ax.set_ylim([10,80])\n",
        "  ax.xaxis.set_ticklabels(table['Model Name'], rotation=45);"
      ],
      "metadata": {
        "colab": {
          "base_uri": "https://localhost:8080/",
          "height": 1000
        },
        "id": "tQw4b99xu2rM",
        "outputId": "c4ef4c66-c689-4e53-eb4a-6c7f9de1b32b"
      },
      "execution_count": null,
      "outputs": [
        {
          "output_type": "display_data",
          "data": {
            "text/plain": [
              "<Figure size 576x432 with 1 Axes>"
            ],
            "image/png": "[encoded data removed]"
          },
          "metadata": {
            "needs_background": "light"
          }
        },
        {
          "output_type": "display_data",
          "data": {
            "text/plain": [
              "<Figure size 576x432 with 1 Axes>"
            ],
            "image/png": "[encoded data removed]"
          },
          "metadata": {
            "needs_background": "light"
          }
        },
        {
          "output_type": "display_data",
          "data": {
            "text/plain": [
              "<Figure size 576x432 with 1 Axes>"
            ],
            "image/png": "[encoded data removed]"
          },
          "metadata": {
            "needs_background": "light"
          }
        }
      ]
    },
    {
      "cell_type": "code",
      "source": [
        ""
      ],
      "metadata": {
        "id": "8EEf3heCu4tv"
      },
      "execution_count": null,
      "outputs": []
    }
  ]
}