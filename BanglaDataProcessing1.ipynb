{
  "nbformat": 4,
  "nbformat_minor": 0,
  "metadata": {
    "colab": {
      "name": "BanglaDataProcessing1.ipynb",
      "provenance": [],
      "authorship_tag": "ABX9TyPoa40PYPahA9rR/EcyjmVI",
      "include_colab_link": true
    },
    "kernelspec": {
      "name": "python3",
      "display_name": "Python 3"
    },
    "language_info": {
      "name": "python"
    }
  },
  "cells": [
    {
      "cell_type": "markdown",
      "metadata": {
        "id": "view-in-github",
        "colab_type": "text"
      },
      "source": [
        "<a href=\"https://colab.research.google.com/github/atnawshin/Machine-Learning/blob/main/BanglaDataProcessing1.ipynb\" target=\"_parent\"><img src=\"https://colab.research.google.com/assets/colab-badge.svg\" alt=\"Open In Colab\"/></a>"
      ]
    },
    {
      "cell_type": "code",
      "execution_count": 390,
      "metadata": {
        "id": "7UPFzR_tHzTq"
      },
      "outputs": [],
      "source": [
        "import pandas as pd\n",
        "import numpy as np\n",
        "import matplotlib.pyplot as plt\n",
        "%matplotlib inline\n",
        "import seaborn as sns\n",
        "\n",
        "import re\n",
        "import string\n",
        "from wordcloud import WordCloud\n",
        "\n",
        "import nltk\n",
        "from nltk.corpus import stopwords\n",
        "from nltk.stem import PorterStemmer\n",
        "from nltk.tokenize import sent_tokenize, word_tokenize\n",
        "from nltk.stem.wordnet import WordNetLemmatizer\n",
        "\n",
        "from sklearn.model_selection import train_test_split\n",
        "from sklearn.pipeline import Pipeline\n",
        "from sklearn.feature_extraction.text import CountVectorizer, TfidfTransformer\n",
        "\n",
        "from sklearn.linear_model import LogisticRegression\n",
        "from sklearn.naive_bayes import MultinomialNB\n",
        "from sklearn.linear_model import SGDClassifier\n",
        "from sklearn.ensemble import RandomForestClassifier\n",
        "from sklearn.metrics import confusion_matrix, accuracy_score, classification_report"
      ]
    },
    {
      "cell_type": "code",
      "source": [
        "import numpy as np\n",
        "import pandas as pd\n",
        "import matplotlib.pyplot as plt\n",
        "%matplotlib inline\n",
        "import seaborn as sns\n",
        "import re,json,nltk\n",
        "from sklearn.preprocessing import LabelEncoder\n",
        "from sklearn.feature_extraction.text import TfidfVectorizer\n",
        "from sklearn.model_selection import train_test_split\n",
        "from sklearn.metrics import classification_report,accuracy_score,precision_score,recall_score,f1_score\n",
        "from tensorflow.keras.preprocessing.text import Tokenizer\n",
        "#path ='/content/drive/My Drive/Colab Notebooks/NLP Projects/Sentiment Analysis/' \n",
        "#stopwords_list = path+'bangla_stopwords.txt'\n",
        "class color: # Text style\n",
        "   PURPLE = '\\033[95m'\n",
        "   CYAN = '\\033[96m'\n",
        "   DARKCYAN = '\\033[36m'\n",
        "   BLUE = '\\033[94m'\n",
        "   GREEN = '\\033[92m'\n",
        "   YELLOW = '\\033[93m'\n",
        "   RED = '\\033[91m'\n",
        "   BOLD = '\\033[1m'\n",
        "   UNDERLINE = '\\033[4m'\n",
        "   END = '\\033[0m'"
      ],
      "metadata": {
        "id": "hpaoA7iZ0L0C"
      },
      "execution_count": 462,
      "outputs": []
    },
    {
      "cell_type": "code",
      "source": [
        "df = pd.read_excel('fbdataset.xlsx')\n",
        "df.head(2)"
      ],
      "metadata": {
        "colab": {
          "base_uri": "https://localhost:8080/",
          "height": 208
        },
        "id": "K6PAwPzFH3v7",
        "outputId": "cc6cb54d-f709-428f-e1ff-d414f4893e02"
      },
      "execution_count": 391,
      "outputs": [
        {
          "output_type": "execute_result",
          "data": {
            "text/plain": [
              "                             @LABEL         Created Time       Writer  \\\n",
              "0  163059227060505_6066791063353929  2022-07-21 04:55:09  Prothom Alo   \n",
              "1  163059227060505_6066743890025313  2022-07-21 04:30:30  Prothom Alo   \n",
              "\n",
              "   Reaction Count  Comment Count Share Count  Label  \\\n",
              "0              10              0           0      1   \n",
              "1             155             15           1      0   \n",
              "\n",
              "                                                Text  \n",
              "0  চার দিনের মধ্যে শিক্ষার্থীকে যৌন নিপীড়নে জড়ি...  \n",
              "1  - Dear বান্ধুবি আর কতো অপে'ক্ষা করাবি বইন.?🙄  ...  "
            ],
            "text/html": [
              "\n",
              "  <div id=\"df-a5326643-6688-47d5-94c6-aeaa3437d329\">\n",
              "    <div class=\"colab-df-container\">\n",
              "      <div>\n",
              "<style scoped>\n",
              "    .dataframe tbody tr th:only-of-type {\n",
              "        vertical-align: middle;\n",
              "    }\n",
              "\n",
              "    .dataframe tbody tr th {\n",
              "        vertical-align: top;\n",
              "    }\n",
              "\n",
              "    .dataframe thead th {\n",
              "        text-align: right;\n",
              "    }\n",
              "</style>\n",
              "<table border=\"1\" class=\"dataframe\">\n",
              "  <thead>\n",
              "    <tr style=\"text-align: right;\">\n",
              "      <th></th>\n",
              "      <th>@LABEL</th>\n",
              "      <th>Created Time</th>\n",
              "      <th>Writer</th>\n",
              "      <th>Reaction Count</th>\n",
              "      <th>Comment Count</th>\n",
              "      <th>Share Count</th>\n",
              "      <th>Label</th>\n",
              "      <th>Text</th>\n",
              "    </tr>\n",
              "  </thead>\n",
              "  <tbody>\n",
              "    <tr>\n",
              "      <th>0</th>\n",
              "      <td>163059227060505_6066791063353929</td>\n",
              "      <td>2022-07-21 04:55:09</td>\n",
              "      <td>Prothom Alo</td>\n",
              "      <td>10</td>\n",
              "      <td>0</td>\n",
              "      <td>0</td>\n",
              "      <td>1</td>\n",
              "      <td>চার দিনের মধ্যে শিক্ষার্থীকে যৌন নিপীড়নে জড়ি...</td>\n",
              "    </tr>\n",
              "    <tr>\n",
              "      <th>1</th>\n",
              "      <td>163059227060505_6066743890025313</td>\n",
              "      <td>2022-07-21 04:30:30</td>\n",
              "      <td>Prothom Alo</td>\n",
              "      <td>155</td>\n",
              "      <td>15</td>\n",
              "      <td>1</td>\n",
              "      <td>0</td>\n",
              "      <td>- Dear বান্ধুবি আর কতো অপে'ক্ষা করাবি বইন.?🙄  ...</td>\n",
              "    </tr>\n",
              "  </tbody>\n",
              "</table>\n",
              "</div>\n",
              "      <button class=\"colab-df-convert\" onclick=\"convertToInteractive('df-a5326643-6688-47d5-94c6-aeaa3437d329')\"\n",
              "              title=\"Convert this dataframe to an interactive table.\"\n",
              "              style=\"display:none;\">\n",
              "        \n",
              "  <svg xmlns=\"http://www.w3.org/2000/svg\" height=\"24px\"viewBox=\"0 0 24 24\"\n",
              "       width=\"24px\">\n",
              "    <path d=\"M0 0h24v24H0V0z\" fill=\"none\"/>\n",
              "    <path d=\"M18.56 5.44l.94 2.06.94-2.06 2.06-.94-2.06-.94-.94-2.06-.94 2.06-2.06.94zm-11 1L8.5 8.5l.94-2.06 2.06-.94-2.06-.94L8.5 2.5l-.94 2.06-2.06.94zm10 10l.94 2.06.94-2.06 2.06-.94-2.06-.94-.94-2.06-.94 2.06-2.06.94z\"/><path d=\"M17.41 7.96l-1.37-1.37c-.4-.4-.92-.59-1.43-.59-.52 0-1.04.2-1.43.59L10.3 9.45l-7.72 7.72c-.78.78-.78 2.05 0 2.83L4 21.41c.39.39.9.59 1.41.59.51 0 1.02-.2 1.41-.59l7.78-7.78 2.81-2.81c.8-.78.8-2.07 0-2.86zM5.41 20L4 18.59l7.72-7.72 1.47 1.35L5.41 20z\"/>\n",
              "  </svg>\n",
              "      </button>\n",
              "      \n",
              "  <style>\n",
              "    .colab-df-container {\n",
              "      display:flex;\n",
              "      flex-wrap:wrap;\n",
              "      gap: 12px;\n",
              "    }\n",
              "\n",
              "    .colab-df-convert {\n",
              "      background-color: #E8F0FE;\n",
              "      border: none;\n",
              "      border-radius: 50%;\n",
              "      cursor: pointer;\n",
              "      display: none;\n",
              "      fill: #1967D2;\n",
              "      height: 32px;\n",
              "      padding: 0 0 0 0;\n",
              "      width: 32px;\n",
              "    }\n",
              "\n",
              "    .colab-df-convert:hover {\n",
              "      background-color: #E2EBFA;\n",
              "      box-shadow: 0px 1px 2px rgba(60, 64, 67, 0.3), 0px 1px 3px 1px rgba(60, 64, 67, 0.15);\n",
              "      fill: #174EA6;\n",
              "    }\n",
              "\n",
              "    [theme=dark] .colab-df-convert {\n",
              "      background-color: #3B4455;\n",
              "      fill: #D2E3FC;\n",
              "    }\n",
              "\n",
              "    [theme=dark] .colab-df-convert:hover {\n",
              "      background-color: #434B5C;\n",
              "      box-shadow: 0px 1px 3px 1px rgba(0, 0, 0, 0.15);\n",
              "      filter: drop-shadow(0px 1px 2px rgba(0, 0, 0, 0.3));\n",
              "      fill: #FFFFFF;\n",
              "    }\n",
              "  </style>\n",
              "\n",
              "      <script>\n",
              "        const buttonEl =\n",
              "          document.querySelector('#df-a5326643-6688-47d5-94c6-aeaa3437d329 button.colab-df-convert');\n",
              "        buttonEl.style.display =\n",
              "          google.colab.kernel.accessAllowed ? 'block' : 'none';\n",
              "\n",
              "        async function convertToInteractive(key) {\n",
              "          const element = document.querySelector('#df-a5326643-6688-47d5-94c6-aeaa3437d329');\n",
              "          const dataTable =\n",
              "            await google.colab.kernel.invokeFunction('convertToInteractive',\n",
              "                                                     [key], {});\n",
              "          if (!dataTable) return;\n",
              "\n",
              "          const docLinkHtml = 'Like what you see? Visit the ' +\n",
              "            '<a target=\"_blank\" href=https://colab.research.google.com/notebooks/data_table.ipynb>data table notebook</a>'\n",
              "            + ' to learn more about interactive tables.';\n",
              "          element.innerHTML = '';\n",
              "          dataTable['output_type'] = 'display_data';\n",
              "          await google.colab.output.renderOutput(dataTable, element);\n",
              "          const docLink = document.createElement('div');\n",
              "          docLink.innerHTML = docLinkHtml;\n",
              "          element.appendChild(docLink);\n",
              "        }\n",
              "      </script>\n",
              "    </div>\n",
              "  </div>\n",
              "  "
            ]
          },
          "metadata": {},
          "execution_count": 391
        }
      ]
    },
    {
      "cell_type": "code",
      "source": [
        "print(df)"
      ],
      "metadata": {
        "colab": {
          "base_uri": "https://localhost:8080/"
        },
        "id": "11w6pz_VH56n",
        "outputId": "1e1e70a6-e778-4f1c-fa0a-3414e737a8b4"
      },
      "execution_count": 392,
      "outputs": [
        {
          "output_type": "stream",
          "name": "stdout",
          "text": [
            "                                @LABEL         Created Time       Writer  \\\n",
            "0     163059227060505_6066791063353929  2022-07-21 04:55:09  Prothom Alo   \n",
            "1     163059227060505_6066743890025313  2022-07-21 04:30:30  Prothom Alo   \n",
            "2     163059227060505_6066725910027111  2022-07-21 04:21:08  Prothom Alo   \n",
            "3     163059227060505_6066640633368972  2022-07-21 03:40:12  Prothom Alo   \n",
            "4     163059227060505_6066608523372183  2022-07-21 03:25:09  Prothom Alo   \n",
            "..                                 ...                  ...          ...   \n",
            "278  103039661944184_366206938960787_2  2022-07-15 13:30:58         None   \n",
            "279  103039661944184_366206938960787_3  2022-07-15 21:06:31         None   \n",
            "280  103039661944184_366206548960826_1  2022-07-15 13:01:39         None   \n",
            "281  103039661944184_365828448998636_1  2022-07-15 02:22:55         None   \n",
            "282  103039661944184_365827455665402_1  2022-07-15 01:17:21         None   \n",
            "\n",
            "     Reaction Count  Comment Count Share Count  Label  \\\n",
            "0                10              0           0      1   \n",
            "1               155             15           1      0   \n",
            "2               599             57          11      1   \n",
            "3               562             27           3      0   \n",
            "4              6925            250         105      0   \n",
            "..              ...            ...         ...    ...   \n",
            "278               0              0     comment      0   \n",
            "279               0              0     comment      0   \n",
            "280               0              0     comment      0   \n",
            "281               0              0     comment      0   \n",
            "282               0              0     comment      0   \n",
            "\n",
            "                                                  Text  \n",
            "0    চার দিনের মধ্যে শিক্ষার্থীকে যৌন নিপীড়নে জড়ি...  \n",
            "1    - Dear বান্ধুবি আর কতো অপে'ক্ষা করাবি বইন.?🙄  ...  \n",
            "2    - Story Of My Life😔  - দেখতে বাজে😪 - কেউ পাত্ত...  \n",
            "3    - আচ্ছা! - আমার কাছে যদি চাওয়ার কিছু সুযোগ পা...  \n",
            "4    - আজ পর্যন্ত কারোর😓  - Dp, Cover, Status, Day,...  \n",
            "..                                                 ...  \n",
            "278                                              Right  \n",
            "279                                             Ak dom  \n",
            "280                                          Bal......  \n",
            "281                                    কিছু কইলাম না 😈  \n",
            "282                                   Absolutely right  \n",
            "\n",
            "[283 rows x 8 columns]\n"
          ]
        }
      ]
    },
    {
      "cell_type": "code",
      "source": [
        "df.info()"
      ],
      "metadata": {
        "colab": {
          "base_uri": "https://localhost:8080/"
        },
        "id": "9KIXeZj-IA1x",
        "outputId": "2750faa9-c14d-4377-e867-d0f6f421e0fd"
      },
      "execution_count": 393,
      "outputs": [
        {
          "output_type": "stream",
          "name": "stdout",
          "text": [
            "<class 'pandas.core.frame.DataFrame'>\n",
            "RangeIndex: 283 entries, 0 to 282\n",
            "Data columns (total 8 columns):\n",
            " #   Column          Non-Null Count  Dtype \n",
            "---  ------          --------------  ----- \n",
            " 0   @LABEL          283 non-null    object\n",
            " 1   Created Time    283 non-null    object\n",
            " 2   Writer          283 non-null    object\n",
            " 3   Reaction Count  283 non-null    int64 \n",
            " 4   Comment Count   283 non-null    int64 \n",
            " 5   Share Count     283 non-null    object\n",
            " 6   Label           283 non-null    int64 \n",
            " 7   Text            283 non-null    object\n",
            "dtypes: int64(3), object(5)\n",
            "memory usage: 17.8+ KB\n"
          ]
        }
      ]
    },
    {
      "cell_type": "code",
      "source": [
        "df.shape"
      ],
      "metadata": {
        "colab": {
          "base_uri": "https://localhost:8080/"
        },
        "id": "YAJZE4XKIFWA",
        "outputId": "fbdf1953-b9db-4074-f84f-25a40f98473a"
      },
      "execution_count": 394,
      "outputs": [
        {
          "output_type": "execute_result",
          "data": {
            "text/plain": [
              "(283, 8)"
            ]
          },
          "metadata": {},
          "execution_count": 394
        }
      ]
    },
    {
      "cell_type": "code",
      "source": [
        "df.dtypes"
      ],
      "metadata": {
        "colab": {
          "base_uri": "https://localhost:8080/"
        },
        "id": "z65ptDYkIRx4",
        "outputId": "0e5d0e54-7b86-4952-b765-0b640995dd7e"
      },
      "execution_count": 395,
      "outputs": [
        {
          "output_type": "execute_result",
          "data": {
            "text/plain": [
              "@LABEL            object\n",
              "Created Time      object\n",
              "Writer            object\n",
              "Reaction Count     int64\n",
              "Comment Count      int64\n",
              "Share Count       object\n",
              "Label              int64\n",
              "Text              object\n",
              "dtype: object"
            ]
          },
          "metadata": {},
          "execution_count": 395
        }
      ]
    },
    {
      "cell_type": "code",
      "source": [
        "data = df[['Text', 'Label']]\n",
        "data.head()"
      ],
      "metadata": {
        "colab": {
          "base_uri": "https://localhost:8080/",
          "height": 206
        },
        "id": "91hMAHQ_ITzJ",
        "outputId": "ca00a71c-3a31-4e20-efdf-c7e8e539910f"
      },
      "execution_count": 396,
      "outputs": [
        {
          "output_type": "execute_result",
          "data": {
            "text/plain": [
              "                                                Text  Label\n",
              "0  চার দিনের মধ্যে শিক্ষার্থীকে যৌন নিপীড়নে জড়ি...      1\n",
              "1  - Dear বান্ধুবি আর কতো অপে'ক্ষা করাবি বইন.?🙄  ...      0\n",
              "2  - Story Of My Life😔  - দেখতে বাজে😪 - কেউ পাত্ত...      1\n",
              "3  - আচ্ছা! - আমার কাছে যদি চাওয়ার কিছু সুযোগ পা...      0\n",
              "4  - আজ পর্যন্ত কারোর😓  - Dp, Cover, Status, Day,...      0"
            ],
            "text/html": [
              "\n",
              "  <div id=\"df-f692dd11-1d57-428b-a06b-f39c485cb2e1\">\n",
              "    <div class=\"colab-df-container\">\n",
              "      <div>\n",
              "<style scoped>\n",
              "    .dataframe tbody tr th:only-of-type {\n",
              "        vertical-align: middle;\n",
              "    }\n",
              "\n",
              "    .dataframe tbody tr th {\n",
              "        vertical-align: top;\n",
              "    }\n",
              "\n",
              "    .dataframe thead th {\n",
              "        text-align: right;\n",
              "    }\n",
              "</style>\n",
              "<table border=\"1\" class=\"dataframe\">\n",
              "  <thead>\n",
              "    <tr style=\"text-align: right;\">\n",
              "      <th></th>\n",
              "      <th>Text</th>\n",
              "      <th>Label</th>\n",
              "    </tr>\n",
              "  </thead>\n",
              "  <tbody>\n",
              "    <tr>\n",
              "      <th>0</th>\n",
              "      <td>চার দিনের মধ্যে শিক্ষার্থীকে যৌন নিপীড়নে জড়ি...</td>\n",
              "      <td>1</td>\n",
              "    </tr>\n",
              "    <tr>\n",
              "      <th>1</th>\n",
              "      <td>- Dear বান্ধুবি আর কতো অপে'ক্ষা করাবি বইন.?🙄  ...</td>\n",
              "      <td>0</td>\n",
              "    </tr>\n",
              "    <tr>\n",
              "      <th>2</th>\n",
              "      <td>- Story Of My Life😔  - দেখতে বাজে😪 - কেউ পাত্ত...</td>\n",
              "      <td>1</td>\n",
              "    </tr>\n",
              "    <tr>\n",
              "      <th>3</th>\n",
              "      <td>- আচ্ছা! - আমার কাছে যদি চাওয়ার কিছু সুযোগ পা...</td>\n",
              "      <td>0</td>\n",
              "    </tr>\n",
              "    <tr>\n",
              "      <th>4</th>\n",
              "      <td>- আজ পর্যন্ত কারোর😓  - Dp, Cover, Status, Day,...</td>\n",
              "      <td>0</td>\n",
              "    </tr>\n",
              "  </tbody>\n",
              "</table>\n",
              "</div>\n",
              "      <button class=\"colab-df-convert\" onclick=\"convertToInteractive('df-f692dd11-1d57-428b-a06b-f39c485cb2e1')\"\n",
              "              title=\"Convert this dataframe to an interactive table.\"\n",
              "              style=\"display:none;\">\n",
              "        \n",
              "  <svg xmlns=\"http://www.w3.org/2000/svg\" height=\"24px\"viewBox=\"0 0 24 24\"\n",
              "       width=\"24px\">\n",
              "    <path d=\"M0 0h24v24H0V0z\" fill=\"none\"/>\n",
              "    <path d=\"M18.56 5.44l.94 2.06.94-2.06 2.06-.94-2.06-.94-.94-2.06-.94 2.06-2.06.94zm-11 1L8.5 8.5l.94-2.06 2.06-.94-2.06-.94L8.5 2.5l-.94 2.06-2.06.94zm10 10l.94 2.06.94-2.06 2.06-.94-2.06-.94-.94-2.06-.94 2.06-2.06.94z\"/><path d=\"M17.41 7.96l-1.37-1.37c-.4-.4-.92-.59-1.43-.59-.52 0-1.04.2-1.43.59L10.3 9.45l-7.72 7.72c-.78.78-.78 2.05 0 2.83L4 21.41c.39.39.9.59 1.41.59.51 0 1.02-.2 1.41-.59l7.78-7.78 2.81-2.81c.8-.78.8-2.07 0-2.86zM5.41 20L4 18.59l7.72-7.72 1.47 1.35L5.41 20z\"/>\n",
              "  </svg>\n",
              "      </button>\n",
              "      \n",
              "  <style>\n",
              "    .colab-df-container {\n",
              "      display:flex;\n",
              "      flex-wrap:wrap;\n",
              "      gap: 12px;\n",
              "    }\n",
              "\n",
              "    .colab-df-convert {\n",
              "      background-color: #E8F0FE;\n",
              "      border: none;\n",
              "      border-radius: 50%;\n",
              "      cursor: pointer;\n",
              "      display: none;\n",
              "      fill: #1967D2;\n",
              "      height: 32px;\n",
              "      padding: 0 0 0 0;\n",
              "      width: 32px;\n",
              "    }\n",
              "\n",
              "    .colab-df-convert:hover {\n",
              "      background-color: #E2EBFA;\n",
              "      box-shadow: 0px 1px 2px rgba(60, 64, 67, 0.3), 0px 1px 3px 1px rgba(60, 64, 67, 0.15);\n",
              "      fill: #174EA6;\n",
              "    }\n",
              "\n",
              "    [theme=dark] .colab-df-convert {\n",
              "      background-color: #3B4455;\n",
              "      fill: #D2E3FC;\n",
              "    }\n",
              "\n",
              "    [theme=dark] .colab-df-convert:hover {\n",
              "      background-color: #434B5C;\n",
              "      box-shadow: 0px 1px 3px 1px rgba(0, 0, 0, 0.15);\n",
              "      filter: drop-shadow(0px 1px 2px rgba(0, 0, 0, 0.3));\n",
              "      fill: #FFFFFF;\n",
              "    }\n",
              "  </style>\n",
              "\n",
              "      <script>\n",
              "        const buttonEl =\n",
              "          document.querySelector('#df-f692dd11-1d57-428b-a06b-f39c485cb2e1 button.colab-df-convert');\n",
              "        buttonEl.style.display =\n",
              "          google.colab.kernel.accessAllowed ? 'block' : 'none';\n",
              "\n",
              "        async function convertToInteractive(key) {\n",
              "          const element = document.querySelector('#df-f692dd11-1d57-428b-a06b-f39c485cb2e1');\n",
              "          const dataTable =\n",
              "            await google.colab.kernel.invokeFunction('convertToInteractive',\n",
              "                                                     [key], {});\n",
              "          if (!dataTable) return;\n",
              "\n",
              "          const docLinkHtml = 'Like what you see? Visit the ' +\n",
              "            '<a target=\"_blank\" href=https://colab.research.google.com/notebooks/data_table.ipynb>data table notebook</a>'\n",
              "            + ' to learn more about interactive tables.';\n",
              "          element.innerHTML = '';\n",
              "          dataTable['output_type'] = 'display_data';\n",
              "          await google.colab.output.renderOutput(dataTable, element);\n",
              "          const docLink = document.createElement('div');\n",
              "          docLink.innerHTML = docLinkHtml;\n",
              "          element.appendChild(docLink);\n",
              "        }\n",
              "      </script>\n",
              "    </div>\n",
              "  </div>\n",
              "  "
            ]
          },
          "metadata": {},
          "execution_count": 396
        }
      ]
    },
    {
      "cell_type": "code",
      "source": [
        "#columns rename\n",
        "#data = dta.rename(columns={\"Recommended IND\": \"Recommended\", \"review\": \"Review\"})\n",
        "#data.head()\n",
        "data.isnull().sum()"
      ],
      "metadata": {
        "colab": {
          "base_uri": "https://localhost:8080/"
        },
        "id": "EhtK67j1IWoK",
        "outputId": "0573af13-3d8f-45d0-f0a9-6ae715e1f0d4"
      },
      "execution_count": 397,
      "outputs": [
        {
          "output_type": "execute_result",
          "data": {
            "text/plain": [
              "Text     0\n",
              "Label    0\n",
              "dtype: int64"
            ]
          },
          "metadata": {},
          "execution_count": 397
        }
      ]
    },
    {
      "cell_type": "code",
      "source": [
        "#drop null values\n",
        "data.dropna(subset=['Text'], inplace=True)"
      ],
      "metadata": {
        "colab": {
          "base_uri": "https://localhost:8080/"
        },
        "id": "BLOCycBHIZcu",
        "outputId": "c29d0370-22cb-43fb-a2a8-1335a27c9da6"
      },
      "execution_count": 398,
      "outputs": [
        {
          "output_type": "stream",
          "name": "stderr",
          "text": [
            "/usr/local/lib/python3.7/dist-packages/pandas/util/_decorators.py:311: SettingWithCopyWarning: \n",
            "A value is trying to be set on a copy of a slice from a DataFrame\n",
            "\n",
            "See the caveats in the documentation: https://pandas.pydata.org/pandas-docs/stable/user_guide/indexing.html#returning-a-view-versus-a-copy\n",
            "  return func(*args, **kwargs)\n"
          ]
        }
      ]
    },
    {
      "cell_type": "code",
      "source": [
        "data.isnull().sum()"
      ],
      "metadata": {
        "colab": {
          "base_uri": "https://localhost:8080/"
        },
        "id": "1W0eWYCVIb-O",
        "outputId": "f48bef34-c692-40c0-baca-331b9dd28c68"
      },
      "execution_count": 399,
      "outputs": [
        {
          "output_type": "execute_result",
          "data": {
            "text/plain": [
              "Text     0\n",
              "Label    0\n",
              "dtype: int64"
            ]
          },
          "metadata": {},
          "execution_count": 399
        }
      ]
    },
    {
      "cell_type": "code",
      "source": [
        "data['Text'] = data['Text'].astype(str)"
      ],
      "metadata": {
        "colab": {
          "base_uri": "https://localhost:8080/"
        },
        "id": "G7O8B6KgIeBE",
        "outputId": "1c55e0c2-a07d-441d-b3aa-d6b4c15e390e"
      },
      "execution_count": 400,
      "outputs": [
        {
          "output_type": "stream",
          "name": "stderr",
          "text": [
            "/usr/local/lib/python3.7/dist-packages/ipykernel_launcher.py:1: SettingWithCopyWarning: \n",
            "A value is trying to be set on a copy of a slice from a DataFrame.\n",
            "Try using .loc[row_indexer,col_indexer] = value instead\n",
            "\n",
            "See the caveats in the documentation: https://pandas.pydata.org/pandas-docs/stable/user_guide/indexing.html#returning-a-view-versus-a-copy\n",
            "  \"\"\"Entry point for launching an IPython kernel.\n"
          ]
        }
      ]
    },
    {
      "cell_type": "code",
      "source": [
        "data.shape"
      ],
      "metadata": {
        "colab": {
          "base_uri": "https://localhost:8080/"
        },
        "id": "uhGfYFDDIhKO",
        "outputId": "9ea1311c-15d7-4f62-c96e-bfaef441a4dc"
      },
      "execution_count": 401,
      "outputs": [
        {
          "output_type": "execute_result",
          "data": {
            "text/plain": [
              "(283, 2)"
            ]
          },
          "metadata": {},
          "execution_count": 401
        }
      ]
    },
    {
      "cell_type": "code",
      "source": [
        "data['Text'].value_counts()"
      ],
      "metadata": {
        "colab": {
          "base_uri": "https://localhost:8080/"
        },
        "id": "SNQXBLGEIi1j",
        "outputId": "646988ef-40c9-458a-86f8-c4403a3d7ef4"
      },
      "execution_count": 402,
      "outputs": [
        {
          "output_type": "execute_result",
          "data": {
            "text/plain": [
              "চার দিনের মধ্যে শিক্ষার্থীকে যৌন নিপীড়নে জড়িত ব্যক্তিদের শাস্তি নিশ্চিত করার ঘোষণা দিয়েছেন চট্টগ্রাম বিশ্ববিদ্যালয়ের ভারপ্রাপ্ত রেজিস্ট্রার এস এম মনিরুল হাসান।    1\n",
              "thik                                                                                                                                                                   1\n",
              "Orpita Saha 🙄🙄🙄                                                                                                                                                        1\n",
              "😁😁😁                                                                                                                                                                    1\n",
              "Aho vatija aho tmre dimu na 😏😒😒                                                                                                                                        1\n",
              "                                                                                                                                                                      ..\n",
              "-বাড়িতে গিয়ে তুমি.   ~সর্বপ্রথম কারে খুঁজ 🌸                                                                                                                          1\n",
              "বান্ধবীর থেকে জার্সি উপহার নিলে চেহারা সুন্দর হয়🙂                                                                                                                     1\n",
              "বালিকা বাসর রাতে জামাই যদি দাবি হিসেবে🐸 Facebook password চায় তখন তুমি কি করবা🤔                                                                                       1\n",
              "বিএনপির যুগ্ম মহাসচিব আসলাম চৌধুরী, তাঁর স্ত্রী, দুই ভাইসহ ছয়জনের বিরুদ্ধে দুর্নীতি দমন কমিশনের (দুদক) করা মামলায় অভিযোগপত্র দেওয়া হয়েছে।                          1\n",
              "Absolutely right                                                                                                                                                       1\n",
              "Name: Text, Length: 283, dtype: int64"
            ]
          },
          "metadata": {},
          "execution_count": 402
        }
      ]
    },
    {
      "cell_type": "code",
      "source": [
        "data.duplicated().sum()"
      ],
      "metadata": {
        "colab": {
          "base_uri": "https://localhost:8080/"
        },
        "id": "QBBLmDE2Iln3",
        "outputId": "8c24e029-e704-454e-cc52-dbbb7cadc5db"
      },
      "execution_count": 403,
      "outputs": [
        {
          "output_type": "execute_result",
          "data": {
            "text/plain": [
              "0"
            ]
          },
          "metadata": {},
          "execution_count": 403
        }
      ]
    },
    {
      "cell_type": "markdown",
      "source": [
        "Translat all the texts into Bangla"
      ],
      "metadata": {
        "id": "F2SKJDd1ItEV"
      }
    },
    {
      "cell_type": "code",
      "source": [
        "#!pip3 install googletrans==3.1.0a0"
      ],
      "metadata": {
        "id": "h9Kjc4HbIns1"
      },
      "execution_count": 404,
      "outputs": []
    },
    {
      "cell_type": "code",
      "source": [
        "#Translate the other languages to Bangla\n",
        "import googletrans\n",
        "from googletrans import *\n",
        "translator = googletrans.Translator()\n",
        "\n",
        "data['Text'] = data['Text'].astype(str) #changing datatype to string\n",
        "data['Translated Text'] = data['Text'].apply(translator.translate, src='auto', dest='bn').apply(getattr, args=('text',))\n",
        "data"
      ],
      "metadata": {
        "colab": {
          "base_uri": "https://localhost:8080/",
          "height": 632
        },
        "id": "gD3jYweSIwa6",
        "outputId": "3fe18b41-36ff-4902-f65e-8ea1952acaaf"
      },
      "execution_count": 405,
      "outputs": [
        {
          "output_type": "stream",
          "name": "stderr",
          "text": [
            "/usr/local/lib/python3.7/dist-packages/ipykernel_launcher.py:6: SettingWithCopyWarning: \n",
            "A value is trying to be set on a copy of a slice from a DataFrame.\n",
            "Try using .loc[row_indexer,col_indexer] = value instead\n",
            "\n",
            "See the caveats in the documentation: https://pandas.pydata.org/pandas-docs/stable/user_guide/indexing.html#returning-a-view-versus-a-copy\n",
            "  \n",
            "/usr/local/lib/python3.7/dist-packages/ipykernel_launcher.py:7: SettingWithCopyWarning: \n",
            "A value is trying to be set on a copy of a slice from a DataFrame.\n",
            "Try using .loc[row_indexer,col_indexer] = value instead\n",
            "\n",
            "See the caveats in the documentation: https://pandas.pydata.org/pandas-docs/stable/user_guide/indexing.html#returning-a-view-versus-a-copy\n",
            "  import sys\n"
          ]
        },
        {
          "output_type": "execute_result",
          "data": {
            "text/plain": [
              "                                                  Text  Label  \\\n",
              "0    চার দিনের মধ্যে শিক্ষার্থীকে যৌন নিপীড়নে জড়ি...      1   \n",
              "1    - Dear বান্ধুবি আর কতো অপে'ক্ষা করাবি বইন.?🙄  ...      0   \n",
              "2    - Story Of My Life😔  - দেখতে বাজে😪 - কেউ পাত্ত...      1   \n",
              "3    - আচ্ছা! - আমার কাছে যদি চাওয়ার কিছু সুযোগ পা...      0   \n",
              "4    - আজ পর্যন্ত কারোর😓  - Dp, Cover, Status, Day,...      0   \n",
              "..                                                 ...    ...   \n",
              "278                                              Right      0   \n",
              "279                                             Ak dom      0   \n",
              "280                                          Bal......      0   \n",
              "281                                    কিছু কইলাম না 😈      0   \n",
              "282                                   Absolutely right      0   \n",
              "\n",
              "                                       Translated Text  \n",
              "0    চার দিনের মধ্যে শিক্ষার্থীকে যৌন নিপীড়নে জড়ি...  \n",
              "1    - Dear বান্ধুবি আর কতো অপে'ক্ষা করাবি বইন.?🙄  ...  \n",
              "2    - Story Of My Life😔  - দেখতে বাজে😪 - কেউ পাত্ত...  \n",
              "3    - আচ্ছা! - আমার কাছে যদি চাওয়ার কিছু সুযোগ পা...  \n",
              "4    - আজ পর্যন্ত কারোর😓  - Dp, Cover, Status, Day,...  \n",
              "..                                                 ...  \n",
              "278                                                ঠিক  \n",
              "279                                             ঘর হলে  \n",
              "280                                           বল......  \n",
              "281                                    কিছু কইলাম না 😈  \n",
              "282                                        একেবারে ঠিক  \n",
              "\n",
              "[283 rows x 3 columns]"
            ],
            "text/html": [
              "\n",
              "  <div id=\"df-89ba9147-2bad-429d-985b-920b17e93774\">\n",
              "    <div class=\"colab-df-container\">\n",
              "      <div>\n",
              "<style scoped>\n",
              "    .dataframe tbody tr th:only-of-type {\n",
              "        vertical-align: middle;\n",
              "    }\n",
              "\n",
              "    .dataframe tbody tr th {\n",
              "        vertical-align: top;\n",
              "    }\n",
              "\n",
              "    .dataframe thead th {\n",
              "        text-align: right;\n",
              "    }\n",
              "</style>\n",
              "<table border=\"1\" class=\"dataframe\">\n",
              "  <thead>\n",
              "    <tr style=\"text-align: right;\">\n",
              "      <th></th>\n",
              "      <th>Text</th>\n",
              "      <th>Label</th>\n",
              "      <th>Translated Text</th>\n",
              "    </tr>\n",
              "  </thead>\n",
              "  <tbody>\n",
              "    <tr>\n",
              "      <th>0</th>\n",
              "      <td>চার দিনের মধ্যে শিক্ষার্থীকে যৌন নিপীড়নে জড়ি...</td>\n",
              "      <td>1</td>\n",
              "      <td>চার দিনের মধ্যে শিক্ষার্থীকে যৌন নিপীড়নে জড়ি...</td>\n",
              "    </tr>\n",
              "    <tr>\n",
              "      <th>1</th>\n",
              "      <td>- Dear বান্ধুবি আর কতো অপে'ক্ষা করাবি বইন.?🙄  ...</td>\n",
              "      <td>0</td>\n",
              "      <td>- Dear বান্ধুবি আর কতো অপে'ক্ষা করাবি বইন.?🙄  ...</td>\n",
              "    </tr>\n",
              "    <tr>\n",
              "      <th>2</th>\n",
              "      <td>- Story Of My Life😔  - দেখতে বাজে😪 - কেউ পাত্ত...</td>\n",
              "      <td>1</td>\n",
              "      <td>- Story Of My Life😔  - দেখতে বাজে😪 - কেউ পাত্ত...</td>\n",
              "    </tr>\n",
              "    <tr>\n",
              "      <th>3</th>\n",
              "      <td>- আচ্ছা! - আমার কাছে যদি চাওয়ার কিছু সুযোগ পা...</td>\n",
              "      <td>0</td>\n",
              "      <td>- আচ্ছা! - আমার কাছে যদি চাওয়ার কিছু সুযোগ পা...</td>\n",
              "    </tr>\n",
              "    <tr>\n",
              "      <th>4</th>\n",
              "      <td>- আজ পর্যন্ত কারোর😓  - Dp, Cover, Status, Day,...</td>\n",
              "      <td>0</td>\n",
              "      <td>- আজ পর্যন্ত কারোর😓  - Dp, Cover, Status, Day,...</td>\n",
              "    </tr>\n",
              "    <tr>\n",
              "      <th>...</th>\n",
              "      <td>...</td>\n",
              "      <td>...</td>\n",
              "      <td>...</td>\n",
              "    </tr>\n",
              "    <tr>\n",
              "      <th>278</th>\n",
              "      <td>Right</td>\n",
              "      <td>0</td>\n",
              "      <td>ঠিক</td>\n",
              "    </tr>\n",
              "    <tr>\n",
              "      <th>279</th>\n",
              "      <td>Ak dom</td>\n",
              "      <td>0</td>\n",
              "      <td>ঘর হলে</td>\n",
              "    </tr>\n",
              "    <tr>\n",
              "      <th>280</th>\n",
              "      <td>Bal......</td>\n",
              "      <td>0</td>\n",
              "      <td>বল......</td>\n",
              "    </tr>\n",
              "    <tr>\n",
              "      <th>281</th>\n",
              "      <td>কিছু কইলাম না 😈</td>\n",
              "      <td>0</td>\n",
              "      <td>কিছু কইলাম না 😈</td>\n",
              "    </tr>\n",
              "    <tr>\n",
              "      <th>282</th>\n",
              "      <td>Absolutely right</td>\n",
              "      <td>0</td>\n",
              "      <td>একেবারে ঠিক</td>\n",
              "    </tr>\n",
              "  </tbody>\n",
              "</table>\n",
              "<p>283 rows × 3 columns</p>\n",
              "</div>\n",
              "      <button class=\"colab-df-convert\" onclick=\"convertToInteractive('df-89ba9147-2bad-429d-985b-920b17e93774')\"\n",
              "              title=\"Convert this dataframe to an interactive table.\"\n",
              "              style=\"display:none;\">\n",
              "        \n",
              "  <svg xmlns=\"http://www.w3.org/2000/svg\" height=\"24px\"viewBox=\"0 0 24 24\"\n",
              "       width=\"24px\">\n",
              "    <path d=\"M0 0h24v24H0V0z\" fill=\"none\"/>\n",
              "    <path d=\"M18.56 5.44l.94 2.06.94-2.06 2.06-.94-2.06-.94-.94-2.06-.94 2.06-2.06.94zm-11 1L8.5 8.5l.94-2.06 2.06-.94-2.06-.94L8.5 2.5l-.94 2.06-2.06.94zm10 10l.94 2.06.94-2.06 2.06-.94-2.06-.94-.94-2.06-.94 2.06-2.06.94z\"/><path d=\"M17.41 7.96l-1.37-1.37c-.4-.4-.92-.59-1.43-.59-.52 0-1.04.2-1.43.59L10.3 9.45l-7.72 7.72c-.78.78-.78 2.05 0 2.83L4 21.41c.39.39.9.59 1.41.59.51 0 1.02-.2 1.41-.59l7.78-7.78 2.81-2.81c.8-.78.8-2.07 0-2.86zM5.41 20L4 18.59l7.72-7.72 1.47 1.35L5.41 20z\"/>\n",
              "  </svg>\n",
              "      </button>\n",
              "      \n",
              "  <style>\n",
              "    .colab-df-container {\n",
              "      display:flex;\n",
              "      flex-wrap:wrap;\n",
              "      gap: 12px;\n",
              "    }\n",
              "\n",
              "    .colab-df-convert {\n",
              "      background-color: #E8F0FE;\n",
              "      border: none;\n",
              "      border-radius: 50%;\n",
              "      cursor: pointer;\n",
              "      display: none;\n",
              "      fill: #1967D2;\n",
              "      height: 32px;\n",
              "      padding: 0 0 0 0;\n",
              "      width: 32px;\n",
              "    }\n",
              "\n",
              "    .colab-df-convert:hover {\n",
              "      background-color: #E2EBFA;\n",
              "      box-shadow: 0px 1px 2px rgba(60, 64, 67, 0.3), 0px 1px 3px 1px rgba(60, 64, 67, 0.15);\n",
              "      fill: #174EA6;\n",
              "    }\n",
              "\n",
              "    [theme=dark] .colab-df-convert {\n",
              "      background-color: #3B4455;\n",
              "      fill: #D2E3FC;\n",
              "    }\n",
              "\n",
              "    [theme=dark] .colab-df-convert:hover {\n",
              "      background-color: #434B5C;\n",
              "      box-shadow: 0px 1px 3px 1px rgba(0, 0, 0, 0.15);\n",
              "      filter: drop-shadow(0px 1px 2px rgba(0, 0, 0, 0.3));\n",
              "      fill: #FFFFFF;\n",
              "    }\n",
              "  </style>\n",
              "\n",
              "      <script>\n",
              "        const buttonEl =\n",
              "          document.querySelector('#df-89ba9147-2bad-429d-985b-920b17e93774 button.colab-df-convert');\n",
              "        buttonEl.style.display =\n",
              "          google.colab.kernel.accessAllowed ? 'block' : 'none';\n",
              "\n",
              "        async function convertToInteractive(key) {\n",
              "          const element = document.querySelector('#df-89ba9147-2bad-429d-985b-920b17e93774');\n",
              "          const dataTable =\n",
              "            await google.colab.kernel.invokeFunction('convertToInteractive',\n",
              "                                                     [key], {});\n",
              "          if (!dataTable) return;\n",
              "\n",
              "          const docLinkHtml = 'Like what you see? Visit the ' +\n",
              "            '<a target=\"_blank\" href=https://colab.research.google.com/notebooks/data_table.ipynb>data table notebook</a>'\n",
              "            + ' to learn more about interactive tables.';\n",
              "          element.innerHTML = '';\n",
              "          dataTable['output_type'] = 'display_data';\n",
              "          await google.colab.output.renderOutput(dataTable, element);\n",
              "          const docLink = document.createElement('div');\n",
              "          docLink.innerHTML = docLinkHtml;\n",
              "          element.appendChild(docLink);\n",
              "        }\n",
              "      </script>\n",
              "    </div>\n",
              "  </div>\n",
              "  "
            ]
          },
          "metadata": {},
          "execution_count": 405
        }
      ]
    },
    {
      "cell_type": "code",
      "source": [
        "data.head(2)"
      ],
      "metadata": {
        "colab": {
          "base_uri": "https://localhost:8080/",
          "height": 112
        },
        "id": "OvWEds-tI4M1",
        "outputId": "49e1065d-903e-4651-c271-fcb50e9727e8"
      },
      "execution_count": 406,
      "outputs": [
        {
          "output_type": "execute_result",
          "data": {
            "text/plain": [
              "                                                Text  Label  \\\n",
              "0  চার দিনের মধ্যে শিক্ষার্থীকে যৌন নিপীড়নে জড়ি...      1   \n",
              "1  - Dear বান্ধুবি আর কতো অপে'ক্ষা করাবি বইন.?🙄  ...      0   \n",
              "\n",
              "                                     Translated Text  \n",
              "0  চার দিনের মধ্যে শিক্ষার্থীকে যৌন নিপীড়নে জড়ি...  \n",
              "1  - Dear বান্ধুবি আর কতো অপে'ক্ষা করাবি বইন.?🙄  ...  "
            ],
            "text/html": [
              "\n",
              "  <div id=\"df-adb74669-196a-4bf1-9b0a-a4614a0c89e5\">\n",
              "    <div class=\"colab-df-container\">\n",
              "      <div>\n",
              "<style scoped>\n",
              "    .dataframe tbody tr th:only-of-type {\n",
              "        vertical-align: middle;\n",
              "    }\n",
              "\n",
              "    .dataframe tbody tr th {\n",
              "        vertical-align: top;\n",
              "    }\n",
              "\n",
              "    .dataframe thead th {\n",
              "        text-align: right;\n",
              "    }\n",
              "</style>\n",
              "<table border=\"1\" class=\"dataframe\">\n",
              "  <thead>\n",
              "    <tr style=\"text-align: right;\">\n",
              "      <th></th>\n",
              "      <th>Text</th>\n",
              "      <th>Label</th>\n",
              "      <th>Translated Text</th>\n",
              "    </tr>\n",
              "  </thead>\n",
              "  <tbody>\n",
              "    <tr>\n",
              "      <th>0</th>\n",
              "      <td>চার দিনের মধ্যে শিক্ষার্থীকে যৌন নিপীড়নে জড়ি...</td>\n",
              "      <td>1</td>\n",
              "      <td>চার দিনের মধ্যে শিক্ষার্থীকে যৌন নিপীড়নে জড়ি...</td>\n",
              "    </tr>\n",
              "    <tr>\n",
              "      <th>1</th>\n",
              "      <td>- Dear বান্ধুবি আর কতো অপে'ক্ষা করাবি বইন.?🙄  ...</td>\n",
              "      <td>0</td>\n",
              "      <td>- Dear বান্ধুবি আর কতো অপে'ক্ষা করাবি বইন.?🙄  ...</td>\n",
              "    </tr>\n",
              "  </tbody>\n",
              "</table>\n",
              "</div>\n",
              "      <button class=\"colab-df-convert\" onclick=\"convertToInteractive('df-adb74669-196a-4bf1-9b0a-a4614a0c89e5')\"\n",
              "              title=\"Convert this dataframe to an interactive table.\"\n",
              "              style=\"display:none;\">\n",
              "        \n",
              "  <svg xmlns=\"http://www.w3.org/2000/svg\" height=\"24px\"viewBox=\"0 0 24 24\"\n",
              "       width=\"24px\">\n",
              "    <path d=\"M0 0h24v24H0V0z\" fill=\"none\"/>\n",
              "    <path d=\"M18.56 5.44l.94 2.06.94-2.06 2.06-.94-2.06-.94-.94-2.06-.94 2.06-2.06.94zm-11 1L8.5 8.5l.94-2.06 2.06-.94-2.06-.94L8.5 2.5l-.94 2.06-2.06.94zm10 10l.94 2.06.94-2.06 2.06-.94-2.06-.94-.94-2.06-.94 2.06-2.06.94z\"/><path d=\"M17.41 7.96l-1.37-1.37c-.4-.4-.92-.59-1.43-.59-.52 0-1.04.2-1.43.59L10.3 9.45l-7.72 7.72c-.78.78-.78 2.05 0 2.83L4 21.41c.39.39.9.59 1.41.59.51 0 1.02-.2 1.41-.59l7.78-7.78 2.81-2.81c.8-.78.8-2.07 0-2.86zM5.41 20L4 18.59l7.72-7.72 1.47 1.35L5.41 20z\"/>\n",
              "  </svg>\n",
              "      </button>\n",
              "      \n",
              "  <style>\n",
              "    .colab-df-container {\n",
              "      display:flex;\n",
              "      flex-wrap:wrap;\n",
              "      gap: 12px;\n",
              "    }\n",
              "\n",
              "    .colab-df-convert {\n",
              "      background-color: #E8F0FE;\n",
              "      border: none;\n",
              "      border-radius: 50%;\n",
              "      cursor: pointer;\n",
              "      display: none;\n",
              "      fill: #1967D2;\n",
              "      height: 32px;\n",
              "      padding: 0 0 0 0;\n",
              "      width: 32px;\n",
              "    }\n",
              "\n",
              "    .colab-df-convert:hover {\n",
              "      background-color: #E2EBFA;\n",
              "      box-shadow: 0px 1px 2px rgba(60, 64, 67, 0.3), 0px 1px 3px 1px rgba(60, 64, 67, 0.15);\n",
              "      fill: #174EA6;\n",
              "    }\n",
              "\n",
              "    [theme=dark] .colab-df-convert {\n",
              "      background-color: #3B4455;\n",
              "      fill: #D2E3FC;\n",
              "    }\n",
              "\n",
              "    [theme=dark] .colab-df-convert:hover {\n",
              "      background-color: #434B5C;\n",
              "      box-shadow: 0px 1px 3px 1px rgba(0, 0, 0, 0.15);\n",
              "      filter: drop-shadow(0px 1px 2px rgba(0, 0, 0, 0.3));\n",
              "      fill: #FFFFFF;\n",
              "    }\n",
              "  </style>\n",
              "\n",
              "      <script>\n",
              "        const buttonEl =\n",
              "          document.querySelector('#df-adb74669-196a-4bf1-9b0a-a4614a0c89e5 button.colab-df-convert');\n",
              "        buttonEl.style.display =\n",
              "          google.colab.kernel.accessAllowed ? 'block' : 'none';\n",
              "\n",
              "        async function convertToInteractive(key) {\n",
              "          const element = document.querySelector('#df-adb74669-196a-4bf1-9b0a-a4614a0c89e5');\n",
              "          const dataTable =\n",
              "            await google.colab.kernel.invokeFunction('convertToInteractive',\n",
              "                                                     [key], {});\n",
              "          if (!dataTable) return;\n",
              "\n",
              "          const docLinkHtml = 'Like what you see? Visit the ' +\n",
              "            '<a target=\"_blank\" href=https://colab.research.google.com/notebooks/data_table.ipynb>data table notebook</a>'\n",
              "            + ' to learn more about interactive tables.';\n",
              "          element.innerHTML = '';\n",
              "          dataTable['output_type'] = 'display_data';\n",
              "          await google.colab.output.renderOutput(dataTable, element);\n",
              "          const docLink = document.createElement('div');\n",
              "          docLink.innerHTML = docLinkHtml;\n",
              "          element.appendChild(docLink);\n",
              "        }\n",
              "      </script>\n",
              "    </div>\n",
              "  </div>\n",
              "  "
            ]
          },
          "metadata": {},
          "execution_count": 406
        }
      ]
    },
    {
      "cell_type": "markdown",
      "source": [
        "Removing Puntuation"
      ],
      "metadata": {
        "id": "7lUfYNKYJK4E"
      }
    },
    {
      "cell_type": "code",
      "source": [
        "string.punctuation"
      ],
      "metadata": {
        "colab": {
          "base_uri": "https://localhost:8080/",
          "height": 35
        },
        "id": "fmsdcol6JIEg",
        "outputId": "9a4f6f48-c4a6-4630-cb2f-0021b8cbcf0d"
      },
      "execution_count": 407,
      "outputs": [
        {
          "output_type": "execute_result",
          "data": {
            "text/plain": [
              "'!\"#$%&\\'()*+,-./:;<=>?@[\\\\]^_`{|}~'"
            ],
            "application/vnd.google.colaboratory.intrinsic+json": {
              "type": "string"
            }
          },
          "metadata": {},
          "execution_count": 407
        }
      ]
    },
    {
      "cell_type": "code",
      "source": [
        "def remove_punctuation(Translated_Text):\n",
        "    punctuation_list = str(string.punctuation) + \"।\"\n",
        "    text_nopunct = \"\".join([c for c in Translated_Text if c not in punctuation_list])\n",
        "    return text_nopunct"
      ],
      "metadata": {
        "id": "M9YfVAttJNAz"
      },
      "execution_count": 408,
      "outputs": []
    },
    {
      "cell_type": "code",
      "source": [
        "def remove_garbage(a):\n",
        "  a= \"\".join(i for i in a if i in [\"।\"] or 2432 <= ord(i) <= 2559 or ord(i)== 32)\n",
        "  removed=\" \".join(a.split())\n",
        "  return removed"
      ],
      "metadata": {
        "id": "O8UReBLfJTBv"
      },
      "execution_count": 409,
      "outputs": []
    },
    {
      "cell_type": "code",
      "source": [
        "data['Removed Puncutation'] = data['Translated Text'].apply(lambda x:remove_punctuation(x))\n",
        "data.head(2)"
      ],
      "metadata": {
        "colab": {
          "base_uri": "https://localhost:8080/",
          "height": 216
        },
        "id": "bB0_jhBgJ6j9",
        "outputId": "6a61442a-4c51-41c6-ee38-e176fe2193fb"
      },
      "execution_count": 410,
      "outputs": [
        {
          "output_type": "stream",
          "name": "stderr",
          "text": [
            "/usr/local/lib/python3.7/dist-packages/ipykernel_launcher.py:1: SettingWithCopyWarning: \n",
            "A value is trying to be set on a copy of a slice from a DataFrame.\n",
            "Try using .loc[row_indexer,col_indexer] = value instead\n",
            "\n",
            "See the caveats in the documentation: https://pandas.pydata.org/pandas-docs/stable/user_guide/indexing.html#returning-a-view-versus-a-copy\n",
            "  \"\"\"Entry point for launching an IPython kernel.\n"
          ]
        },
        {
          "output_type": "execute_result",
          "data": {
            "text/plain": [
              "                                                Text  Label  \\\n",
              "0  চার দিনের মধ্যে শিক্ষার্থীকে যৌন নিপীড়নে জড়ি...      1   \n",
              "1  - Dear বান্ধুবি আর কতো অপে'ক্ষা করাবি বইন.?🙄  ...      0   \n",
              "\n",
              "                                     Translated Text  \\\n",
              "0  চার দিনের মধ্যে শিক্ষার্থীকে যৌন নিপীড়নে জড়ি...   \n",
              "1  - Dear বান্ধুবি আর কতো অপে'ক্ষা করাবি বইন.?🙄  ...   \n",
              "\n",
              "                                 Removed Puncutation  \n",
              "0  চার দিনের মধ্যে শিক্ষার্থীকে যৌন নিপীড়নে জড়ি...  \n",
              "1   Dear বান্ধুবি আর কতো অপেক্ষা করাবি বইন🙄   এইব...  "
            ],
            "text/html": [
              "\n",
              "  <div id=\"df-3ac1694b-486d-4650-ac85-4a3b604bd75d\">\n",
              "    <div class=\"colab-df-container\">\n",
              "      <div>\n",
              "<style scoped>\n",
              "    .dataframe tbody tr th:only-of-type {\n",
              "        vertical-align: middle;\n",
              "    }\n",
              "\n",
              "    .dataframe tbody tr th {\n",
              "        vertical-align: top;\n",
              "    }\n",
              "\n",
              "    .dataframe thead th {\n",
              "        text-align: right;\n",
              "    }\n",
              "</style>\n",
              "<table border=\"1\" class=\"dataframe\">\n",
              "  <thead>\n",
              "    <tr style=\"text-align: right;\">\n",
              "      <th></th>\n",
              "      <th>Text</th>\n",
              "      <th>Label</th>\n",
              "      <th>Translated Text</th>\n",
              "      <th>Removed Puncutation</th>\n",
              "    </tr>\n",
              "  </thead>\n",
              "  <tbody>\n",
              "    <tr>\n",
              "      <th>0</th>\n",
              "      <td>চার দিনের মধ্যে শিক্ষার্থীকে যৌন নিপীড়নে জড়ি...</td>\n",
              "      <td>1</td>\n",
              "      <td>চার দিনের মধ্যে শিক্ষার্থীকে যৌন নিপীড়নে জড়ি...</td>\n",
              "      <td>চার দিনের মধ্যে শিক্ষার্থীকে যৌন নিপীড়নে জড়ি...</td>\n",
              "    </tr>\n",
              "    <tr>\n",
              "      <th>1</th>\n",
              "      <td>- Dear বান্ধুবি আর কতো অপে'ক্ষা করাবি বইন.?🙄  ...</td>\n",
              "      <td>0</td>\n",
              "      <td>- Dear বান্ধুবি আর কতো অপে'ক্ষা করাবি বইন.?🙄  ...</td>\n",
              "      <td>Dear বান্ধুবি আর কতো অপেক্ষা করাবি বইন🙄   এইব...</td>\n",
              "    </tr>\n",
              "  </tbody>\n",
              "</table>\n",
              "</div>\n",
              "      <button class=\"colab-df-convert\" onclick=\"convertToInteractive('df-3ac1694b-486d-4650-ac85-4a3b604bd75d')\"\n",
              "              title=\"Convert this dataframe to an interactive table.\"\n",
              "              style=\"display:none;\">\n",
              "        \n",
              "  <svg xmlns=\"http://www.w3.org/2000/svg\" height=\"24px\"viewBox=\"0 0 24 24\"\n",
              "       width=\"24px\">\n",
              "    <path d=\"M0 0h24v24H0V0z\" fill=\"none\"/>\n",
              "    <path d=\"M18.56 5.44l.94 2.06.94-2.06 2.06-.94-2.06-.94-.94-2.06-.94 2.06-2.06.94zm-11 1L8.5 8.5l.94-2.06 2.06-.94-2.06-.94L8.5 2.5l-.94 2.06-2.06.94zm10 10l.94 2.06.94-2.06 2.06-.94-2.06-.94-.94-2.06-.94 2.06-2.06.94z\"/><path d=\"M17.41 7.96l-1.37-1.37c-.4-.4-.92-.59-1.43-.59-.52 0-1.04.2-1.43.59L10.3 9.45l-7.72 7.72c-.78.78-.78 2.05 0 2.83L4 21.41c.39.39.9.59 1.41.59.51 0 1.02-.2 1.41-.59l7.78-7.78 2.81-2.81c.8-.78.8-2.07 0-2.86zM5.41 20L4 18.59l7.72-7.72 1.47 1.35L5.41 20z\"/>\n",
              "  </svg>\n",
              "      </button>\n",
              "      \n",
              "  <style>\n",
              "    .colab-df-container {\n",
              "      display:flex;\n",
              "      flex-wrap:wrap;\n",
              "      gap: 12px;\n",
              "    }\n",
              "\n",
              "    .colab-df-convert {\n",
              "      background-color: #E8F0FE;\n",
              "      border: none;\n",
              "      border-radius: 50%;\n",
              "      cursor: pointer;\n",
              "      display: none;\n",
              "      fill: #1967D2;\n",
              "      height: 32px;\n",
              "      padding: 0 0 0 0;\n",
              "      width: 32px;\n",
              "    }\n",
              "\n",
              "    .colab-df-convert:hover {\n",
              "      background-color: #E2EBFA;\n",
              "      box-shadow: 0px 1px 2px rgba(60, 64, 67, 0.3), 0px 1px 3px 1px rgba(60, 64, 67, 0.15);\n",
              "      fill: #174EA6;\n",
              "    }\n",
              "\n",
              "    [theme=dark] .colab-df-convert {\n",
              "      background-color: #3B4455;\n",
              "      fill: #D2E3FC;\n",
              "    }\n",
              "\n",
              "    [theme=dark] .colab-df-convert:hover {\n",
              "      background-color: #434B5C;\n",
              "      box-shadow: 0px 1px 3px 1px rgba(0, 0, 0, 0.15);\n",
              "      filter: drop-shadow(0px 1px 2px rgba(0, 0, 0, 0.3));\n",
              "      fill: #FFFFFF;\n",
              "    }\n",
              "  </style>\n",
              "\n",
              "      <script>\n",
              "        const buttonEl =\n",
              "          document.querySelector('#df-3ac1694b-486d-4650-ac85-4a3b604bd75d button.colab-df-convert');\n",
              "        buttonEl.style.display =\n",
              "          google.colab.kernel.accessAllowed ? 'block' : 'none';\n",
              "\n",
              "        async function convertToInteractive(key) {\n",
              "          const element = document.querySelector('#df-3ac1694b-486d-4650-ac85-4a3b604bd75d');\n",
              "          const dataTable =\n",
              "            await google.colab.kernel.invokeFunction('convertToInteractive',\n",
              "                                                     [key], {});\n",
              "          if (!dataTable) return;\n",
              "\n",
              "          const docLinkHtml = 'Like what you see? Visit the ' +\n",
              "            '<a target=\"_blank\" href=https://colab.research.google.com/notebooks/data_table.ipynb>data table notebook</a>'\n",
              "            + ' to learn more about interactive tables.';\n",
              "          element.innerHTML = '';\n",
              "          dataTable['output_type'] = 'display_data';\n",
              "          await google.colab.output.renderOutput(dataTable, element);\n",
              "          const docLink = document.createElement('div');\n",
              "          docLink.innerHTML = docLinkHtml;\n",
              "          element.appendChild(docLink);\n",
              "        }\n",
              "      </script>\n",
              "    </div>\n",
              "  </div>\n",
              "  "
            ]
          },
          "metadata": {},
          "execution_count": 410
        }
      ]
    },
    {
      "cell_type": "markdown",
      "source": [
        "Remove English"
      ],
      "metadata": {
        "id": "ZSvVDjLYKNd6"
      }
    },
    {
      "cell_type": "code",
      "source": [
        "#data['remove Eng'] = data['Removed Puncutation'].apply(lambda x:remove_garbage(x))\n",
        "#data"
      ],
      "metadata": {
        "id": "3onJ00E7J_H_"
      },
      "execution_count": 411,
      "outputs": []
    },
    {
      "cell_type": "code",
      "source": [
        "#!pip install bnlp_toolkit"
      ],
      "metadata": {
        "id": "oIgRPqzmKPWt"
      },
      "execution_count": 412,
      "outputs": []
    },
    {
      "cell_type": "code",
      "source": [
        "from bnlp.corpus import stopwords\n",
        "from bnlp.corpus.util import remove_stopwords\n",
        "\n",
        "data['Removed Stopped word'] = data['Removed Puncutation'].apply(lambda x: remove_stopwords(x,stopwords))\n",
        "data"
      ],
      "metadata": {
        "colab": {
          "base_uri": "https://localhost:8080/",
          "height": 659
        },
        "id": "mzlpoQSiKQz-",
        "outputId": "07a5e8c3-b9db-4a77-e6dc-e629369b8952"
      },
      "execution_count": 413,
      "outputs": [
        {
          "output_type": "stream",
          "name": "stderr",
          "text": [
            "/usr/local/lib/python3.7/dist-packages/ipykernel_launcher.py:4: SettingWithCopyWarning: \n",
            "A value is trying to be set on a copy of a slice from a DataFrame.\n",
            "Try using .loc[row_indexer,col_indexer] = value instead\n",
            "\n",
            "See the caveats in the documentation: https://pandas.pydata.org/pandas-docs/stable/user_guide/indexing.html#returning-a-view-versus-a-copy\n",
            "  after removing the cwd from sys.path.\n"
          ]
        },
        {
          "output_type": "execute_result",
          "data": {
            "text/plain": [
              "                                                  Text  Label  \\\n",
              "0    চার দিনের মধ্যে শিক্ষার্থীকে যৌন নিপীড়নে জড়ি...      1   \n",
              "1    - Dear বান্ধুবি আর কতো অপে'ক্ষা করাবি বইন.?🙄  ...      0   \n",
              "2    - Story Of My Life😔  - দেখতে বাজে😪 - কেউ পাত্ত...      1   \n",
              "3    - আচ্ছা! - আমার কাছে যদি চাওয়ার কিছু সুযোগ পা...      0   \n",
              "4    - আজ পর্যন্ত কারোর😓  - Dp, Cover, Status, Day,...      0   \n",
              "..                                                 ...    ...   \n",
              "278                                              Right      0   \n",
              "279                                             Ak dom      0   \n",
              "280                                          Bal......      0   \n",
              "281                                    কিছু কইলাম না 😈      0   \n",
              "282                                   Absolutely right      0   \n",
              "\n",
              "                                       Translated Text  \\\n",
              "0    চার দিনের মধ্যে শিক্ষার্থীকে যৌন নিপীড়নে জড়ি...   \n",
              "1    - Dear বান্ধুবি আর কতো অপে'ক্ষা করাবি বইন.?🙄  ...   \n",
              "2    - Story Of My Life😔  - দেখতে বাজে😪 - কেউ পাত্ত...   \n",
              "3    - আচ্ছা! - আমার কাছে যদি চাওয়ার কিছু সুযোগ পা...   \n",
              "4    - আজ পর্যন্ত কারোর😓  - Dp, Cover, Status, Day,...   \n",
              "..                                                 ...   \n",
              "278                                                ঠিক   \n",
              "279                                             ঘর হলে   \n",
              "280                                           বল......   \n",
              "281                                    কিছু কইলাম না 😈   \n",
              "282                                        একেবারে ঠিক   \n",
              "\n",
              "                                   Removed Puncutation  \\\n",
              "0    চার দিনের মধ্যে শিক্ষার্থীকে যৌন নিপীড়নে জড়ি...   \n",
              "1     Dear বান্ধুবি আর কতো অপেক্ষা করাবি বইন🙄   এইব...   \n",
              "2     Story Of My Life😔   দেখতে বাজে😪  কেউ পাত্তা দ...   \n",
              "3     আচ্ছা  আমার কাছে যদি চাওয়ার কিছু সুযোগ পাও😱 ...   \n",
              "4     আজ পর্যন্ত কারোর😓   Dp Cover Status Day Bio W...   \n",
              "..                                                 ...   \n",
              "278                                                ঠিক   \n",
              "279                                             ঘর হলে   \n",
              "280                                                 বল   \n",
              "281                                    কিছু কইলাম না 😈   \n",
              "282                                        একেবারে ঠিক   \n",
              "\n",
              "                                  Removed Stopped word  \n",
              "0    [দিনের, শিক্ষার্থীকে, যৌন, নিপীড়নে, জড়িত, ব্...  \n",
              "1    [Dear, বান্ধুবি, কতো, অপেক্ষা, করাবি, বইন🙄, এই...  \n",
              "2    [Story, Of, My, Life😔, বাজে😪, পাত্তা, 😒, ভালোব...  \n",
              "3               [আচ্ছা, চাওয়ার, সুযোগ, পাও😱, চাইবে🙄🐸]  \n",
              "4    [কারোর😓, Dp, Cover, Status, Day, Bio, Wallpape...  \n",
              "..                                                 ...  \n",
              "278                                                 []  \n",
              "279                                               [ঘর]  \n",
              "280                                               [বল]  \n",
              "281                                         [কইলাম, 😈]  \n",
              "282                                          [একেবারে]  \n",
              "\n",
              "[283 rows x 5 columns]"
            ],
            "text/html": [
              "\n",
              "  <div id=\"df-1ff4b542-2a84-4fbf-a40f-e759c7a33f6a\">\n",
              "    <div class=\"colab-df-container\">\n",
              "      <div>\n",
              "<style scoped>\n",
              "    .dataframe tbody tr th:only-of-type {\n",
              "        vertical-align: middle;\n",
              "    }\n",
              "\n",
              "    .dataframe tbody tr th {\n",
              "        vertical-align: top;\n",
              "    }\n",
              "\n",
              "    .dataframe thead th {\n",
              "        text-align: right;\n",
              "    }\n",
              "</style>\n",
              "<table border=\"1\" class=\"dataframe\">\n",
              "  <thead>\n",
              "    <tr style=\"text-align: right;\">\n",
              "      <th></th>\n",
              "      <th>Text</th>\n",
              "      <th>Label</th>\n",
              "      <th>Translated Text</th>\n",
              "      <th>Removed Puncutation</th>\n",
              "      <th>Removed Stopped word</th>\n",
              "    </tr>\n",
              "  </thead>\n",
              "  <tbody>\n",
              "    <tr>\n",
              "      <th>0</th>\n",
              "      <td>চার দিনের মধ্যে শিক্ষার্থীকে যৌন নিপীড়নে জড়ি...</td>\n",
              "      <td>1</td>\n",
              "      <td>চার দিনের মধ্যে শিক্ষার্থীকে যৌন নিপীড়নে জড়ি...</td>\n",
              "      <td>চার দিনের মধ্যে শিক্ষার্থীকে যৌন নিপীড়নে জড়ি...</td>\n",
              "      <td>[দিনের, শিক্ষার্থীকে, যৌন, নিপীড়নে, জড়িত, ব্...</td>\n",
              "    </tr>\n",
              "    <tr>\n",
              "      <th>1</th>\n",
              "      <td>- Dear বান্ধুবি আর কতো অপে'ক্ষা করাবি বইন.?🙄  ...</td>\n",
              "      <td>0</td>\n",
              "      <td>- Dear বান্ধুবি আর কতো অপে'ক্ষা করাবি বইন.?🙄  ...</td>\n",
              "      <td>Dear বান্ধুবি আর কতো অপেক্ষা করাবি বইন🙄   এইব...</td>\n",
              "      <td>[Dear, বান্ধুবি, কতো, অপেক্ষা, করাবি, বইন🙄, এই...</td>\n",
              "    </tr>\n",
              "    <tr>\n",
              "      <th>2</th>\n",
              "      <td>- Story Of My Life😔  - দেখতে বাজে😪 - কেউ পাত্ত...</td>\n",
              "      <td>1</td>\n",
              "      <td>- Story Of My Life😔  - দেখতে বাজে😪 - কেউ পাত্ত...</td>\n",
              "      <td>Story Of My Life😔   দেখতে বাজে😪  কেউ পাত্তা দ...</td>\n",
              "      <td>[Story, Of, My, Life😔, বাজে😪, পাত্তা, 😒, ভালোব...</td>\n",
              "    </tr>\n",
              "    <tr>\n",
              "      <th>3</th>\n",
              "      <td>- আচ্ছা! - আমার কাছে যদি চাওয়ার কিছু সুযোগ পা...</td>\n",
              "      <td>0</td>\n",
              "      <td>- আচ্ছা! - আমার কাছে যদি চাওয়ার কিছু সুযোগ পা...</td>\n",
              "      <td>আচ্ছা  আমার কাছে যদি চাওয়ার কিছু সুযোগ পাও😱 ...</td>\n",
              "      <td>[আচ্ছা, চাওয়ার, সুযোগ, পাও😱, চাইবে🙄🐸]</td>\n",
              "    </tr>\n",
              "    <tr>\n",
              "      <th>4</th>\n",
              "      <td>- আজ পর্যন্ত কারোর😓  - Dp, Cover, Status, Day,...</td>\n",
              "      <td>0</td>\n",
              "      <td>- আজ পর্যন্ত কারোর😓  - Dp, Cover, Status, Day,...</td>\n",
              "      <td>আজ পর্যন্ত কারোর😓   Dp Cover Status Day Bio W...</td>\n",
              "      <td>[কারোর😓, Dp, Cover, Status, Day, Bio, Wallpape...</td>\n",
              "    </tr>\n",
              "    <tr>\n",
              "      <th>...</th>\n",
              "      <td>...</td>\n",
              "      <td>...</td>\n",
              "      <td>...</td>\n",
              "      <td>...</td>\n",
              "      <td>...</td>\n",
              "    </tr>\n",
              "    <tr>\n",
              "      <th>278</th>\n",
              "      <td>Right</td>\n",
              "      <td>0</td>\n",
              "      <td>ঠিক</td>\n",
              "      <td>ঠিক</td>\n",
              "      <td>[]</td>\n",
              "    </tr>\n",
              "    <tr>\n",
              "      <th>279</th>\n",
              "      <td>Ak dom</td>\n",
              "      <td>0</td>\n",
              "      <td>ঘর হলে</td>\n",
              "      <td>ঘর হলে</td>\n",
              "      <td>[ঘর]</td>\n",
              "    </tr>\n",
              "    <tr>\n",
              "      <th>280</th>\n",
              "      <td>Bal......</td>\n",
              "      <td>0</td>\n",
              "      <td>বল......</td>\n",
              "      <td>বল</td>\n",
              "      <td>[বল]</td>\n",
              "    </tr>\n",
              "    <tr>\n",
              "      <th>281</th>\n",
              "      <td>কিছু কইলাম না 😈</td>\n",
              "      <td>0</td>\n",
              "      <td>কিছু কইলাম না 😈</td>\n",
              "      <td>কিছু কইলাম না 😈</td>\n",
              "      <td>[কইলাম, 😈]</td>\n",
              "    </tr>\n",
              "    <tr>\n",
              "      <th>282</th>\n",
              "      <td>Absolutely right</td>\n",
              "      <td>0</td>\n",
              "      <td>একেবারে ঠিক</td>\n",
              "      <td>একেবারে ঠিক</td>\n",
              "      <td>[একেবারে]</td>\n",
              "    </tr>\n",
              "  </tbody>\n",
              "</table>\n",
              "<p>283 rows × 5 columns</p>\n",
              "</div>\n",
              "      <button class=\"colab-df-convert\" onclick=\"convertToInteractive('df-1ff4b542-2a84-4fbf-a40f-e759c7a33f6a')\"\n",
              "              title=\"Convert this dataframe to an interactive table.\"\n",
              "              style=\"display:none;\">\n",
              "        \n",
              "  <svg xmlns=\"http://www.w3.org/2000/svg\" height=\"24px\"viewBox=\"0 0 24 24\"\n",
              "       width=\"24px\">\n",
              "    <path d=\"M0 0h24v24H0V0z\" fill=\"none\"/>\n",
              "    <path d=\"M18.56 5.44l.94 2.06.94-2.06 2.06-.94-2.06-.94-.94-2.06-.94 2.06-2.06.94zm-11 1L8.5 8.5l.94-2.06 2.06-.94-2.06-.94L8.5 2.5l-.94 2.06-2.06.94zm10 10l.94 2.06.94-2.06 2.06-.94-2.06-.94-.94-2.06-.94 2.06-2.06.94z\"/><path d=\"M17.41 7.96l-1.37-1.37c-.4-.4-.92-.59-1.43-.59-.52 0-1.04.2-1.43.59L10.3 9.45l-7.72 7.72c-.78.78-.78 2.05 0 2.83L4 21.41c.39.39.9.59 1.41.59.51 0 1.02-.2 1.41-.59l7.78-7.78 2.81-2.81c.8-.78.8-2.07 0-2.86zM5.41 20L4 18.59l7.72-7.72 1.47 1.35L5.41 20z\"/>\n",
              "  </svg>\n",
              "      </button>\n",
              "      \n",
              "  <style>\n",
              "    .colab-df-container {\n",
              "      display:flex;\n",
              "      flex-wrap:wrap;\n",
              "      gap: 12px;\n",
              "    }\n",
              "\n",
              "    .colab-df-convert {\n",
              "      background-color: #E8F0FE;\n",
              "      border: none;\n",
              "      border-radius: 50%;\n",
              "      cursor: pointer;\n",
              "      display: none;\n",
              "      fill: #1967D2;\n",
              "      height: 32px;\n",
              "      padding: 0 0 0 0;\n",
              "      width: 32px;\n",
              "    }\n",
              "\n",
              "    .colab-df-convert:hover {\n",
              "      background-color: #E2EBFA;\n",
              "      box-shadow: 0px 1px 2px rgba(60, 64, 67, 0.3), 0px 1px 3px 1px rgba(60, 64, 67, 0.15);\n",
              "      fill: #174EA6;\n",
              "    }\n",
              "\n",
              "    [theme=dark] .colab-df-convert {\n",
              "      background-color: #3B4455;\n",
              "      fill: #D2E3FC;\n",
              "    }\n",
              "\n",
              "    [theme=dark] .colab-df-convert:hover {\n",
              "      background-color: #434B5C;\n",
              "      box-shadow: 0px 1px 3px 1px rgba(0, 0, 0, 0.15);\n",
              "      filter: drop-shadow(0px 1px 2px rgba(0, 0, 0, 0.3));\n",
              "      fill: #FFFFFF;\n",
              "    }\n",
              "  </style>\n",
              "\n",
              "      <script>\n",
              "        const buttonEl =\n",
              "          document.querySelector('#df-1ff4b542-2a84-4fbf-a40f-e759c7a33f6a button.colab-df-convert');\n",
              "        buttonEl.style.display =\n",
              "          google.colab.kernel.accessAllowed ? 'block' : 'none';\n",
              "\n",
              "        async function convertToInteractive(key) {\n",
              "          const element = document.querySelector('#df-1ff4b542-2a84-4fbf-a40f-e759c7a33f6a');\n",
              "          const dataTable =\n",
              "            await google.colab.kernel.invokeFunction('convertToInteractive',\n",
              "                                                     [key], {});\n",
              "          if (!dataTable) return;\n",
              "\n",
              "          const docLinkHtml = 'Like what you see? Visit the ' +\n",
              "            '<a target=\"_blank\" href=https://colab.research.google.com/notebooks/data_table.ipynb>data table notebook</a>'\n",
              "            + ' to learn more about interactive tables.';\n",
              "          element.innerHTML = '';\n",
              "          dataTable['output_type'] = 'display_data';\n",
              "          await google.colab.output.renderOutput(dataTable, element);\n",
              "          const docLink = document.createElement('div');\n",
              "          docLink.innerHTML = docLinkHtml;\n",
              "          element.appendChild(docLink);\n",
              "        }\n",
              "      </script>\n",
              "    </div>\n",
              "  </div>\n",
              "  "
            ]
          },
          "metadata": {},
          "execution_count": 413
        }
      ]
    },
    {
      "cell_type": "code",
      "source": [
        "def stopwords(review):\n",
        "    text = [word.lower() for word in review.split() if word.lower() not in stop_words and word.lower() not in clothes]\n",
        "    return \" \".join(text)"
      ],
      "metadata": {
        "id": "tBjHZjBOOyAK"
      },
      "execution_count": 414,
      "outputs": []
    },
    {
      "cell_type": "code",
      "source": [
        "data.head(2)"
      ],
      "metadata": {
        "colab": {
          "base_uri": "https://localhost:8080/",
          "height": 191
        },
        "id": "lGYs7V12PMI5",
        "outputId": "0fbf07b4-6969-47f9-f8c4-4e2c9e2e26cd"
      },
      "execution_count": 415,
      "outputs": [
        {
          "output_type": "execute_result",
          "data": {
            "text/plain": [
              "                                                Text  Label  \\\n",
              "0  চার দিনের মধ্যে শিক্ষার্থীকে যৌন নিপীড়নে জড়ি...      1   \n",
              "1  - Dear বান্ধুবি আর কতো অপে'ক্ষা করাবি বইন.?🙄  ...      0   \n",
              "\n",
              "                                     Translated Text  \\\n",
              "0  চার দিনের মধ্যে শিক্ষার্থীকে যৌন নিপীড়নে জড়ি...   \n",
              "1  - Dear বান্ধুবি আর কতো অপে'ক্ষা করাবি বইন.?🙄  ...   \n",
              "\n",
              "                                 Removed Puncutation  \\\n",
              "0  চার দিনের মধ্যে শিক্ষার্থীকে যৌন নিপীড়নে জড়ি...   \n",
              "1   Dear বান্ধুবি আর কতো অপেক্ষা করাবি বইন🙄   এইব...   \n",
              "\n",
              "                                Removed Stopped word  \n",
              "0  [দিনের, শিক্ষার্থীকে, যৌন, নিপীড়নে, জড়িত, ব্...  \n",
              "1  [Dear, বান্ধুবি, কতো, অপেক্ষা, করাবি, বইন🙄, এই...  "
            ],
            "text/html": [
              "\n",
              "  <div id=\"df-b2d43345-ad27-487e-af11-2087e35c1484\">\n",
              "    <div class=\"colab-df-container\">\n",
              "      <div>\n",
              "<style scoped>\n",
              "    .dataframe tbody tr th:only-of-type {\n",
              "        vertical-align: middle;\n",
              "    }\n",
              "\n",
              "    .dataframe tbody tr th {\n",
              "        vertical-align: top;\n",
              "    }\n",
              "\n",
              "    .dataframe thead th {\n",
              "        text-align: right;\n",
              "    }\n",
              "</style>\n",
              "<table border=\"1\" class=\"dataframe\">\n",
              "  <thead>\n",
              "    <tr style=\"text-align: right;\">\n",
              "      <th></th>\n",
              "      <th>Text</th>\n",
              "      <th>Label</th>\n",
              "      <th>Translated Text</th>\n",
              "      <th>Removed Puncutation</th>\n",
              "      <th>Removed Stopped word</th>\n",
              "    </tr>\n",
              "  </thead>\n",
              "  <tbody>\n",
              "    <tr>\n",
              "      <th>0</th>\n",
              "      <td>চার দিনের মধ্যে শিক্ষার্থীকে যৌন নিপীড়নে জড়ি...</td>\n",
              "      <td>1</td>\n",
              "      <td>চার দিনের মধ্যে শিক্ষার্থীকে যৌন নিপীড়নে জড়ি...</td>\n",
              "      <td>চার দিনের মধ্যে শিক্ষার্থীকে যৌন নিপীড়নে জড়ি...</td>\n",
              "      <td>[দিনের, শিক্ষার্থীকে, যৌন, নিপীড়নে, জড়িত, ব্...</td>\n",
              "    </tr>\n",
              "    <tr>\n",
              "      <th>1</th>\n",
              "      <td>- Dear বান্ধুবি আর কতো অপে'ক্ষা করাবি বইন.?🙄  ...</td>\n",
              "      <td>0</td>\n",
              "      <td>- Dear বান্ধুবি আর কতো অপে'ক্ষা করাবি বইন.?🙄  ...</td>\n",
              "      <td>Dear বান্ধুবি আর কতো অপেক্ষা করাবি বইন🙄   এইব...</td>\n",
              "      <td>[Dear, বান্ধুবি, কতো, অপেক্ষা, করাবি, বইন🙄, এই...</td>\n",
              "    </tr>\n",
              "  </tbody>\n",
              "</table>\n",
              "</div>\n",
              "      <button class=\"colab-df-convert\" onclick=\"convertToInteractive('df-b2d43345-ad27-487e-af11-2087e35c1484')\"\n",
              "              title=\"Convert this dataframe to an interactive table.\"\n",
              "              style=\"display:none;\">\n",
              "        \n",
              "  <svg xmlns=\"http://www.w3.org/2000/svg\" height=\"24px\"viewBox=\"0 0 24 24\"\n",
              "       width=\"24px\">\n",
              "    <path d=\"M0 0h24v24H0V0z\" fill=\"none\"/>\n",
              "    <path d=\"M18.56 5.44l.94 2.06.94-2.06 2.06-.94-2.06-.94-.94-2.06-.94 2.06-2.06.94zm-11 1L8.5 8.5l.94-2.06 2.06-.94-2.06-.94L8.5 2.5l-.94 2.06-2.06.94zm10 10l.94 2.06.94-2.06 2.06-.94-2.06-.94-.94-2.06-.94 2.06-2.06.94z\"/><path d=\"M17.41 7.96l-1.37-1.37c-.4-.4-.92-.59-1.43-.59-.52 0-1.04.2-1.43.59L10.3 9.45l-7.72 7.72c-.78.78-.78 2.05 0 2.83L4 21.41c.39.39.9.59 1.41.59.51 0 1.02-.2 1.41-.59l7.78-7.78 2.81-2.81c.8-.78.8-2.07 0-2.86zM5.41 20L4 18.59l7.72-7.72 1.47 1.35L5.41 20z\"/>\n",
              "  </svg>\n",
              "      </button>\n",
              "      \n",
              "  <style>\n",
              "    .colab-df-container {\n",
              "      display:flex;\n",
              "      flex-wrap:wrap;\n",
              "      gap: 12px;\n",
              "    }\n",
              "\n",
              "    .colab-df-convert {\n",
              "      background-color: #E8F0FE;\n",
              "      border: none;\n",
              "      border-radius: 50%;\n",
              "      cursor: pointer;\n",
              "      display: none;\n",
              "      fill: #1967D2;\n",
              "      height: 32px;\n",
              "      padding: 0 0 0 0;\n",
              "      width: 32px;\n",
              "    }\n",
              "\n",
              "    .colab-df-convert:hover {\n",
              "      background-color: #E2EBFA;\n",
              "      box-shadow: 0px 1px 2px rgba(60, 64, 67, 0.3), 0px 1px 3px 1px rgba(60, 64, 67, 0.15);\n",
              "      fill: #174EA6;\n",
              "    }\n",
              "\n",
              "    [theme=dark] .colab-df-convert {\n",
              "      background-color: #3B4455;\n",
              "      fill: #D2E3FC;\n",
              "    }\n",
              "\n",
              "    [theme=dark] .colab-df-convert:hover {\n",
              "      background-color: #434B5C;\n",
              "      box-shadow: 0px 1px 3px 1px rgba(0, 0, 0, 0.15);\n",
              "      filter: drop-shadow(0px 1px 2px rgba(0, 0, 0, 0.3));\n",
              "      fill: #FFFFFF;\n",
              "    }\n",
              "  </style>\n",
              "\n",
              "      <script>\n",
              "        const buttonEl =\n",
              "          document.querySelector('#df-b2d43345-ad27-487e-af11-2087e35c1484 button.colab-df-convert');\n",
              "        buttonEl.style.display =\n",
              "          google.colab.kernel.accessAllowed ? 'block' : 'none';\n",
              "\n",
              "        async function convertToInteractive(key) {\n",
              "          const element = document.querySelector('#df-b2d43345-ad27-487e-af11-2087e35c1484');\n",
              "          const dataTable =\n",
              "            await google.colab.kernel.invokeFunction('convertToInteractive',\n",
              "                                                     [key], {});\n",
              "          if (!dataTable) return;\n",
              "\n",
              "          const docLinkHtml = 'Like what you see? Visit the ' +\n",
              "            '<a target=\"_blank\" href=https://colab.research.google.com/notebooks/data_table.ipynb>data table notebook</a>'\n",
              "            + ' to learn more about interactive tables.';\n",
              "          element.innerHTML = '';\n",
              "          dataTable['output_type'] = 'display_data';\n",
              "          await google.colab.output.renderOutput(dataTable, element);\n",
              "          const docLink = document.createElement('div');\n",
              "          docLink.innerHTML = docLinkHtml;\n",
              "          element.appendChild(docLink);\n",
              "        }\n",
              "      </script>\n",
              "    </div>\n",
              "  </div>\n",
              "  "
            ]
          },
          "metadata": {},
          "execution_count": 415
        }
      ]
    },
    {
      "cell_type": "markdown",
      "source": [
        "Removing Emojis"
      ],
      "metadata": {
        "id": "2IPqDl03MFlS"
      }
    },
    {
      "cell_type": "code",
      "source": [
        "#remove emojis\n",
        "import string\n",
        "def remove_emoji(string):\n",
        "    emoji_pattern = re.compile(\n",
        "        \"[\"\n",
        "        u\"\\U0001F600-\\U0001F64F\" #emoticons\n",
        "        u\"\\U0001F300-\\U0001F5FF\" #symbols & pictographs\n",
        "        u\"\\U0001F680-\\U0001F6FF\" #transport & map symbols\n",
        "        u\"\\U0001F1E0-\\U0001F1FF\" #flags(ios)\n",
        "        u\"\\U00002702-\\U000027B0\"\n",
        "        u\"\\U000024C2-\\U0001F251\" \n",
        "        \"]+\",\n",
        "        flags=re.UNICODE, \n",
        "    )\n",
        "    return emoji_pattern.sub(r\"\",string)"
      ],
      "metadata": {
        "id": "pgRF4okyKVrf"
      },
      "execution_count": 416,
      "outputs": []
    },
    {
      "cell_type": "code",
      "source": [
        "data['Removed Stopped word'] = data['Removed Stopped word'].astype(str)\n",
        "data['Removed Stopped word'] = data['Removed Stopped word'].apply(lambda x:remove_emoji(x))\n",
        "data.to_csv('output.csv',index=False, encoding='utf-8')"
      ],
      "metadata": {
        "colab": {
          "base_uri": "https://localhost:8080/"
        },
        "id": "EgqoeaJGLlnE",
        "outputId": "af6b262b-f599-4e9e-dfab-5700dfc90dc9"
      },
      "execution_count": 417,
      "outputs": [
        {
          "output_type": "stream",
          "name": "stderr",
          "text": [
            "/usr/local/lib/python3.7/dist-packages/ipykernel_launcher.py:1: SettingWithCopyWarning: \n",
            "A value is trying to be set on a copy of a slice from a DataFrame.\n",
            "Try using .loc[row_indexer,col_indexer] = value instead\n",
            "\n",
            "See the caveats in the documentation: https://pandas.pydata.org/pandas-docs/stable/user_guide/indexing.html#returning-a-view-versus-a-copy\n",
            "  \"\"\"Entry point for launching an IPython kernel.\n",
            "/usr/local/lib/python3.7/dist-packages/ipykernel_launcher.py:2: SettingWithCopyWarning: \n",
            "A value is trying to be set on a copy of a slice from a DataFrame.\n",
            "Try using .loc[row_indexer,col_indexer] = value instead\n",
            "\n",
            "See the caveats in the documentation: https://pandas.pydata.org/pandas-docs/stable/user_guide/indexing.html#returning-a-view-versus-a-copy\n",
            "  \n"
          ]
        }
      ]
    },
    {
      "cell_type": "code",
      "source": [
        "data.head(2)"
      ],
      "metadata": {
        "colab": {
          "base_uri": "https://localhost:8080/",
          "height": 191
        },
        "id": "e90G8WS6Lx1Q",
        "outputId": "ee2f597f-09ac-4ad8-a243-ea8176d52b3c"
      },
      "execution_count": 418,
      "outputs": [
        {
          "output_type": "execute_result",
          "data": {
            "text/plain": [
              "                                                Text  Label  \\\n",
              "0  চার দিনের মধ্যে শিক্ষার্থীকে যৌন নিপীড়নে জড়ি...      1   \n",
              "1  - Dear বান্ধুবি আর কতো অপে'ক্ষা করাবি বইন.?🙄  ...      0   \n",
              "\n",
              "                                     Translated Text  \\\n",
              "0  চার দিনের মধ্যে শিক্ষার্থীকে যৌন নিপীড়নে জড়ি...   \n",
              "1  - Dear বান্ধুবি আর কতো অপে'ক্ষা করাবি বইন.?🙄  ...   \n",
              "\n",
              "                                 Removed Puncutation  \\\n",
              "0  চার দিনের মধ্যে শিক্ষার্থীকে যৌন নিপীড়নে জড়ি...   \n",
              "1   Dear বান্ধুবি আর কতো অপেক্ষা করাবি বইন🙄   এইব...   \n",
              "\n",
              "                                Removed Stopped word  \n",
              "0  ['দিনের', 'শিক্ষার্থীকে', 'যৌন', 'নিপীড়নে', '...  \n",
              "1  ['Dear', 'বান্ধুবি', 'কতো', 'অপেক্ষা', 'করাবি'...  "
            ],
            "text/html": [
              "\n",
              "  <div id=\"df-b51e13e3-f137-45c6-ad32-4bc141fde65f\">\n",
              "    <div class=\"colab-df-container\">\n",
              "      <div>\n",
              "<style scoped>\n",
              "    .dataframe tbody tr th:only-of-type {\n",
              "        vertical-align: middle;\n",
              "    }\n",
              "\n",
              "    .dataframe tbody tr th {\n",
              "        vertical-align: top;\n",
              "    }\n",
              "\n",
              "    .dataframe thead th {\n",
              "        text-align: right;\n",
              "    }\n",
              "</style>\n",
              "<table border=\"1\" class=\"dataframe\">\n",
              "  <thead>\n",
              "    <tr style=\"text-align: right;\">\n",
              "      <th></th>\n",
              "      <th>Text</th>\n",
              "      <th>Label</th>\n",
              "      <th>Translated Text</th>\n",
              "      <th>Removed Puncutation</th>\n",
              "      <th>Removed Stopped word</th>\n",
              "    </tr>\n",
              "  </thead>\n",
              "  <tbody>\n",
              "    <tr>\n",
              "      <th>0</th>\n",
              "      <td>চার দিনের মধ্যে শিক্ষার্থীকে যৌন নিপীড়নে জড়ি...</td>\n",
              "      <td>1</td>\n",
              "      <td>চার দিনের মধ্যে শিক্ষার্থীকে যৌন নিপীড়নে জড়ি...</td>\n",
              "      <td>চার দিনের মধ্যে শিক্ষার্থীকে যৌন নিপীড়নে জড়ি...</td>\n",
              "      <td>['দিনের', 'শিক্ষার্থীকে', 'যৌন', 'নিপীড়নে', '...</td>\n",
              "    </tr>\n",
              "    <tr>\n",
              "      <th>1</th>\n",
              "      <td>- Dear বান্ধুবি আর কতো অপে'ক্ষা করাবি বইন.?🙄  ...</td>\n",
              "      <td>0</td>\n",
              "      <td>- Dear বান্ধুবি আর কতো অপে'ক্ষা করাবি বইন.?🙄  ...</td>\n",
              "      <td>Dear বান্ধুবি আর কতো অপেক্ষা করাবি বইন🙄   এইব...</td>\n",
              "      <td>['Dear', 'বান্ধুবি', 'কতো', 'অপেক্ষা', 'করাবি'...</td>\n",
              "    </tr>\n",
              "  </tbody>\n",
              "</table>\n",
              "</div>\n",
              "      <button class=\"colab-df-convert\" onclick=\"convertToInteractive('df-b51e13e3-f137-45c6-ad32-4bc141fde65f')\"\n",
              "              title=\"Convert this dataframe to an interactive table.\"\n",
              "              style=\"display:none;\">\n",
              "        \n",
              "  <svg xmlns=\"http://www.w3.org/2000/svg\" height=\"24px\"viewBox=\"0 0 24 24\"\n",
              "       width=\"24px\">\n",
              "    <path d=\"M0 0h24v24H0V0z\" fill=\"none\"/>\n",
              "    <path d=\"M18.56 5.44l.94 2.06.94-2.06 2.06-.94-2.06-.94-.94-2.06-.94 2.06-2.06.94zm-11 1L8.5 8.5l.94-2.06 2.06-.94-2.06-.94L8.5 2.5l-.94 2.06-2.06.94zm10 10l.94 2.06.94-2.06 2.06-.94-2.06-.94-.94-2.06-.94 2.06-2.06.94z\"/><path d=\"M17.41 7.96l-1.37-1.37c-.4-.4-.92-.59-1.43-.59-.52 0-1.04.2-1.43.59L10.3 9.45l-7.72 7.72c-.78.78-.78 2.05 0 2.83L4 21.41c.39.39.9.59 1.41.59.51 0 1.02-.2 1.41-.59l7.78-7.78 2.81-2.81c.8-.78.8-2.07 0-2.86zM5.41 20L4 18.59l7.72-7.72 1.47 1.35L5.41 20z\"/>\n",
              "  </svg>\n",
              "      </button>\n",
              "      \n",
              "  <style>\n",
              "    .colab-df-container {\n",
              "      display:flex;\n",
              "      flex-wrap:wrap;\n",
              "      gap: 12px;\n",
              "    }\n",
              "\n",
              "    .colab-df-convert {\n",
              "      background-color: #E8F0FE;\n",
              "      border: none;\n",
              "      border-radius: 50%;\n",
              "      cursor: pointer;\n",
              "      display: none;\n",
              "      fill: #1967D2;\n",
              "      height: 32px;\n",
              "      padding: 0 0 0 0;\n",
              "      width: 32px;\n",
              "    }\n",
              "\n",
              "    .colab-df-convert:hover {\n",
              "      background-color: #E2EBFA;\n",
              "      box-shadow: 0px 1px 2px rgba(60, 64, 67, 0.3), 0px 1px 3px 1px rgba(60, 64, 67, 0.15);\n",
              "      fill: #174EA6;\n",
              "    }\n",
              "\n",
              "    [theme=dark] .colab-df-convert {\n",
              "      background-color: #3B4455;\n",
              "      fill: #D2E3FC;\n",
              "    }\n",
              "\n",
              "    [theme=dark] .colab-df-convert:hover {\n",
              "      background-color: #434B5C;\n",
              "      box-shadow: 0px 1px 3px 1px rgba(0, 0, 0, 0.15);\n",
              "      filter: drop-shadow(0px 1px 2px rgba(0, 0, 0, 0.3));\n",
              "      fill: #FFFFFF;\n",
              "    }\n",
              "  </style>\n",
              "\n",
              "      <script>\n",
              "        const buttonEl =\n",
              "          document.querySelector('#df-b51e13e3-f137-45c6-ad32-4bc141fde65f button.colab-df-convert');\n",
              "        buttonEl.style.display =\n",
              "          google.colab.kernel.accessAllowed ? 'block' : 'none';\n",
              "\n",
              "        async function convertToInteractive(key) {\n",
              "          const element = document.querySelector('#df-b51e13e3-f137-45c6-ad32-4bc141fde65f');\n",
              "          const dataTable =\n",
              "            await google.colab.kernel.invokeFunction('convertToInteractive',\n",
              "                                                     [key], {});\n",
              "          if (!dataTable) return;\n",
              "\n",
              "          const docLinkHtml = 'Like what you see? Visit the ' +\n",
              "            '<a target=\"_blank\" href=https://colab.research.google.com/notebooks/data_table.ipynb>data table notebook</a>'\n",
              "            + ' to learn more about interactive tables.';\n",
              "          element.innerHTML = '';\n",
              "          dataTable['output_type'] = 'display_data';\n",
              "          await google.colab.output.renderOutput(dataTable, element);\n",
              "          const docLink = document.createElement('div');\n",
              "          docLink.innerHTML = docLinkHtml;\n",
              "          element.appendChild(docLink);\n",
              "        }\n",
              "      </script>\n",
              "    </div>\n",
              "  </div>\n",
              "  "
            ]
          },
          "metadata": {},
          "execution_count": 418
        }
      ]
    },
    {
      "cell_type": "code",
      "source": [
        "data.columns"
      ],
      "metadata": {
        "colab": {
          "base_uri": "https://localhost:8080/"
        },
        "id": "k4jr4nQfL10v",
        "outputId": "6e3ae497-6853-412a-a21d-62f81dffa0f1"
      },
      "execution_count": 419,
      "outputs": [
        {
          "output_type": "execute_result",
          "data": {
            "text/plain": [
              "Index(['Text', 'Label', 'Translated Text', 'Removed Puncutation',\n",
              "       'Removed Stopped word'],\n",
              "      dtype='object')"
            ]
          },
          "metadata": {},
          "execution_count": 419
        }
      ]
    },
    {
      "cell_type": "code",
      "source": [
        "data['remove Eng'] = data['Removed Stopped word'].apply(lambda x:remove_garbage(x))\n",
        "data"
      ],
      "metadata": {
        "colab": {
          "base_uri": "https://localhost:8080/",
          "height": 659
        },
        "id": "QA0T2G4sL7zo",
        "outputId": "7395c51f-31c7-407f-88a4-1d1b2196000c"
      },
      "execution_count": 420,
      "outputs": [
        {
          "output_type": "stream",
          "name": "stderr",
          "text": [
            "/usr/local/lib/python3.7/dist-packages/ipykernel_launcher.py:1: SettingWithCopyWarning: \n",
            "A value is trying to be set on a copy of a slice from a DataFrame.\n",
            "Try using .loc[row_indexer,col_indexer] = value instead\n",
            "\n",
            "See the caveats in the documentation: https://pandas.pydata.org/pandas-docs/stable/user_guide/indexing.html#returning-a-view-versus-a-copy\n",
            "  \"\"\"Entry point for launching an IPython kernel.\n"
          ]
        },
        {
          "output_type": "execute_result",
          "data": {
            "text/plain": [
              "                                                  Text  Label  \\\n",
              "0    চার দিনের মধ্যে শিক্ষার্থীকে যৌন নিপীড়নে জড়ি...      1   \n",
              "1    - Dear বান্ধুবি আর কতো অপে'ক্ষা করাবি বইন.?🙄  ...      0   \n",
              "2    - Story Of My Life😔  - দেখতে বাজে😪 - কেউ পাত্ত...      1   \n",
              "3    - আচ্ছা! - আমার কাছে যদি চাওয়ার কিছু সুযোগ পা...      0   \n",
              "4    - আজ পর্যন্ত কারোর😓  - Dp, Cover, Status, Day,...      0   \n",
              "..                                                 ...    ...   \n",
              "278                                              Right      0   \n",
              "279                                             Ak dom      0   \n",
              "280                                          Bal......      0   \n",
              "281                                    কিছু কইলাম না 😈      0   \n",
              "282                                   Absolutely right      0   \n",
              "\n",
              "                                       Translated Text  \\\n",
              "0    চার দিনের মধ্যে শিক্ষার্থীকে যৌন নিপীড়নে জড়ি...   \n",
              "1    - Dear বান্ধুবি আর কতো অপে'ক্ষা করাবি বইন.?🙄  ...   \n",
              "2    - Story Of My Life😔  - দেখতে বাজে😪 - কেউ পাত্ত...   \n",
              "3    - আচ্ছা! - আমার কাছে যদি চাওয়ার কিছু সুযোগ পা...   \n",
              "4    - আজ পর্যন্ত কারোর😓  - Dp, Cover, Status, Day,...   \n",
              "..                                                 ...   \n",
              "278                                                ঠিক   \n",
              "279                                             ঘর হলে   \n",
              "280                                           বল......   \n",
              "281                                    কিছু কইলাম না 😈   \n",
              "282                                        একেবারে ঠিক   \n",
              "\n",
              "                                   Removed Puncutation  \\\n",
              "0    চার দিনের মধ্যে শিক্ষার্থীকে যৌন নিপীড়নে জড়ি...   \n",
              "1     Dear বান্ধুবি আর কতো অপেক্ষা করাবি বইন🙄   এইব...   \n",
              "2     Story Of My Life😔   দেখতে বাজে😪  কেউ পাত্তা দ...   \n",
              "3     আচ্ছা  আমার কাছে যদি চাওয়ার কিছু সুযোগ পাও😱 ...   \n",
              "4     আজ পর্যন্ত কারোর😓   Dp Cover Status Day Bio W...   \n",
              "..                                                 ...   \n",
              "278                                                ঠিক   \n",
              "279                                             ঘর হলে   \n",
              "280                                                 বল   \n",
              "281                                    কিছু কইলাম না 😈   \n",
              "282                                        একেবারে ঠিক   \n",
              "\n",
              "                                  Removed Stopped word  \\\n",
              "0    ['দিনের', 'শিক্ষার্থীকে', 'যৌন', 'নিপীড়নে', '...   \n",
              "1    ['Dear', 'বান্ধুবি', 'কতো', 'অপেক্ষা', 'করাবি'...   \n",
              "2    ['Story', 'Of', 'My', 'Life', 'বাজে', 'পাত্তা'...   \n",
              "3        ['আচ্ছা', 'চাওয়ার', 'সুযোগ', 'পাও', 'চাইবে']   \n",
              "4    ['কারোর', 'Dp', 'Cover', 'Status', 'Day', 'Bio...   \n",
              "..                                                 ...   \n",
              "278                                                 []   \n",
              "279                                             ['ঘর']   \n",
              "280                                             ['বল']   \n",
              "281                                      ['কইলাম', '']   \n",
              "282                                        ['একেবারে']   \n",
              "\n",
              "                                            remove Eng  \n",
              "0    দিনের শিক্ষার্থীকে যৌন নিপীড়নে জড়িত ব্যক্তিদ...  \n",
              "1    বান্ধুবি কতো অপেক্ষা করাবি বইন এইবারতো বিয়েটা কর  \n",
              "2                        বাজে পাত্তা ভালোবাসে পছন্দ না  \n",
              "3                        আচ্ছা চাওয়ার সুযোগ পাও চাইবে  \n",
              "4                                       কারোর পারা আমি  \n",
              "..                                                 ...  \n",
              "278                                                     \n",
              "279                                                 ঘর  \n",
              "280                                                 বল  \n",
              "281                                              কইলাম  \n",
              "282                                            একেবারে  \n",
              "\n",
              "[283 rows x 6 columns]"
            ],
            "text/html": [
              "\n",
              "  <div id=\"df-930502d1-9491-4fbe-a34e-326441a7a8d3\">\n",
              "    <div class=\"colab-df-container\">\n",
              "      <div>\n",
              "<style scoped>\n",
              "    .dataframe tbody tr th:only-of-type {\n",
              "        vertical-align: middle;\n",
              "    }\n",
              "\n",
              "    .dataframe tbody tr th {\n",
              "        vertical-align: top;\n",
              "    }\n",
              "\n",
              "    .dataframe thead th {\n",
              "        text-align: right;\n",
              "    }\n",
              "</style>\n",
              "<table border=\"1\" class=\"dataframe\">\n",
              "  <thead>\n",
              "    <tr style=\"text-align: right;\">\n",
              "      <th></th>\n",
              "      <th>Text</th>\n",
              "      <th>Label</th>\n",
              "      <th>Translated Text</th>\n",
              "      <th>Removed Puncutation</th>\n",
              "      <th>Removed Stopped word</th>\n",
              "      <th>remove Eng</th>\n",
              "    </tr>\n",
              "  </thead>\n",
              "  <tbody>\n",
              "    <tr>\n",
              "      <th>0</th>\n",
              "      <td>চার দিনের মধ্যে শিক্ষার্থীকে যৌন নিপীড়নে জড়ি...</td>\n",
              "      <td>1</td>\n",
              "      <td>চার দিনের মধ্যে শিক্ষার্থীকে যৌন নিপীড়নে জড়ি...</td>\n",
              "      <td>চার দিনের মধ্যে শিক্ষার্থীকে যৌন নিপীড়নে জড়ি...</td>\n",
              "      <td>['দিনের', 'শিক্ষার্থীকে', 'যৌন', 'নিপীড়নে', '...</td>\n",
              "      <td>দিনের শিক্ষার্থীকে যৌন নিপীড়নে জড়িত ব্যক্তিদ...</td>\n",
              "    </tr>\n",
              "    <tr>\n",
              "      <th>1</th>\n",
              "      <td>- Dear বান্ধুবি আর কতো অপে'ক্ষা করাবি বইন.?🙄  ...</td>\n",
              "      <td>0</td>\n",
              "      <td>- Dear বান্ধুবি আর কতো অপে'ক্ষা করাবি বইন.?🙄  ...</td>\n",
              "      <td>Dear বান্ধুবি আর কতো অপেক্ষা করাবি বইন🙄   এইব...</td>\n",
              "      <td>['Dear', 'বান্ধুবি', 'কতো', 'অপেক্ষা', 'করাবি'...</td>\n",
              "      <td>বান্ধুবি কতো অপেক্ষা করাবি বইন এইবারতো বিয়েটা কর</td>\n",
              "    </tr>\n",
              "    <tr>\n",
              "      <th>2</th>\n",
              "      <td>- Story Of My Life😔  - দেখতে বাজে😪 - কেউ পাত্ত...</td>\n",
              "      <td>1</td>\n",
              "      <td>- Story Of My Life😔  - দেখতে বাজে😪 - কেউ পাত্ত...</td>\n",
              "      <td>Story Of My Life😔   দেখতে বাজে😪  কেউ পাত্তা দ...</td>\n",
              "      <td>['Story', 'Of', 'My', 'Life', 'বাজে', 'পাত্তা'...</td>\n",
              "      <td>বাজে পাত্তা ভালোবাসে পছন্দ না</td>\n",
              "    </tr>\n",
              "    <tr>\n",
              "      <th>3</th>\n",
              "      <td>- আচ্ছা! - আমার কাছে যদি চাওয়ার কিছু সুযোগ পা...</td>\n",
              "      <td>0</td>\n",
              "      <td>- আচ্ছা! - আমার কাছে যদি চাওয়ার কিছু সুযোগ পা...</td>\n",
              "      <td>আচ্ছা  আমার কাছে যদি চাওয়ার কিছু সুযোগ পাও😱 ...</td>\n",
              "      <td>['আচ্ছা', 'চাওয়ার', 'সুযোগ', 'পাও', 'চাইবে']</td>\n",
              "      <td>আচ্ছা চাওয়ার সুযোগ পাও চাইবে</td>\n",
              "    </tr>\n",
              "    <tr>\n",
              "      <th>4</th>\n",
              "      <td>- আজ পর্যন্ত কারোর😓  - Dp, Cover, Status, Day,...</td>\n",
              "      <td>0</td>\n",
              "      <td>- আজ পর্যন্ত কারোর😓  - Dp, Cover, Status, Day,...</td>\n",
              "      <td>আজ পর্যন্ত কারোর😓   Dp Cover Status Day Bio W...</td>\n",
              "      <td>['কারোর', 'Dp', 'Cover', 'Status', 'Day', 'Bio...</td>\n",
              "      <td>কারোর পারা আমি</td>\n",
              "    </tr>\n",
              "    <tr>\n",
              "      <th>...</th>\n",
              "      <td>...</td>\n",
              "      <td>...</td>\n",
              "      <td>...</td>\n",
              "      <td>...</td>\n",
              "      <td>...</td>\n",
              "      <td>...</td>\n",
              "    </tr>\n",
              "    <tr>\n",
              "      <th>278</th>\n",
              "      <td>Right</td>\n",
              "      <td>0</td>\n",
              "      <td>ঠিক</td>\n",
              "      <td>ঠিক</td>\n",
              "      <td>[]</td>\n",
              "      <td></td>\n",
              "    </tr>\n",
              "    <tr>\n",
              "      <th>279</th>\n",
              "      <td>Ak dom</td>\n",
              "      <td>0</td>\n",
              "      <td>ঘর হলে</td>\n",
              "      <td>ঘর হলে</td>\n",
              "      <td>['ঘর']</td>\n",
              "      <td>ঘর</td>\n",
              "    </tr>\n",
              "    <tr>\n",
              "      <th>280</th>\n",
              "      <td>Bal......</td>\n",
              "      <td>0</td>\n",
              "      <td>বল......</td>\n",
              "      <td>বল</td>\n",
              "      <td>['বল']</td>\n",
              "      <td>বল</td>\n",
              "    </tr>\n",
              "    <tr>\n",
              "      <th>281</th>\n",
              "      <td>কিছু কইলাম না 😈</td>\n",
              "      <td>0</td>\n",
              "      <td>কিছু কইলাম না 😈</td>\n",
              "      <td>কিছু কইলাম না 😈</td>\n",
              "      <td>['কইলাম', '']</td>\n",
              "      <td>কইলাম</td>\n",
              "    </tr>\n",
              "    <tr>\n",
              "      <th>282</th>\n",
              "      <td>Absolutely right</td>\n",
              "      <td>0</td>\n",
              "      <td>একেবারে ঠিক</td>\n",
              "      <td>একেবারে ঠিক</td>\n",
              "      <td>['একেবারে']</td>\n",
              "      <td>একেবারে</td>\n",
              "    </tr>\n",
              "  </tbody>\n",
              "</table>\n",
              "<p>283 rows × 6 columns</p>\n",
              "</div>\n",
              "      <button class=\"colab-df-convert\" onclick=\"convertToInteractive('df-930502d1-9491-4fbe-a34e-326441a7a8d3')\"\n",
              "              title=\"Convert this dataframe to an interactive table.\"\n",
              "              style=\"display:none;\">\n",
              "        \n",
              "  <svg xmlns=\"http://www.w3.org/2000/svg\" height=\"24px\"viewBox=\"0 0 24 24\"\n",
              "       width=\"24px\">\n",
              "    <path d=\"M0 0h24v24H0V0z\" fill=\"none\"/>\n",
              "    <path d=\"M18.56 5.44l.94 2.06.94-2.06 2.06-.94-2.06-.94-.94-2.06-.94 2.06-2.06.94zm-11 1L8.5 8.5l.94-2.06 2.06-.94-2.06-.94L8.5 2.5l-.94 2.06-2.06.94zm10 10l.94 2.06.94-2.06 2.06-.94-2.06-.94-.94-2.06-.94 2.06-2.06.94z\"/><path d=\"M17.41 7.96l-1.37-1.37c-.4-.4-.92-.59-1.43-.59-.52 0-1.04.2-1.43.59L10.3 9.45l-7.72 7.72c-.78.78-.78 2.05 0 2.83L4 21.41c.39.39.9.59 1.41.59.51 0 1.02-.2 1.41-.59l7.78-7.78 2.81-2.81c.8-.78.8-2.07 0-2.86zM5.41 20L4 18.59l7.72-7.72 1.47 1.35L5.41 20z\"/>\n",
              "  </svg>\n",
              "      </button>\n",
              "      \n",
              "  <style>\n",
              "    .colab-df-container {\n",
              "      display:flex;\n",
              "      flex-wrap:wrap;\n",
              "      gap: 12px;\n",
              "    }\n",
              "\n",
              "    .colab-df-convert {\n",
              "      background-color: #E8F0FE;\n",
              "      border: none;\n",
              "      border-radius: 50%;\n",
              "      cursor: pointer;\n",
              "      display: none;\n",
              "      fill: #1967D2;\n",
              "      height: 32px;\n",
              "      padding: 0 0 0 0;\n",
              "      width: 32px;\n",
              "    }\n",
              "\n",
              "    .colab-df-convert:hover {\n",
              "      background-color: #E2EBFA;\n",
              "      box-shadow: 0px 1px 2px rgba(60, 64, 67, 0.3), 0px 1px 3px 1px rgba(60, 64, 67, 0.15);\n",
              "      fill: #174EA6;\n",
              "    }\n",
              "\n",
              "    [theme=dark] .colab-df-convert {\n",
              "      background-color: #3B4455;\n",
              "      fill: #D2E3FC;\n",
              "    }\n",
              "\n",
              "    [theme=dark] .colab-df-convert:hover {\n",
              "      background-color: #434B5C;\n",
              "      box-shadow: 0px 1px 3px 1px rgba(0, 0, 0, 0.15);\n",
              "      filter: drop-shadow(0px 1px 2px rgba(0, 0, 0, 0.3));\n",
              "      fill: #FFFFFF;\n",
              "    }\n",
              "  </style>\n",
              "\n",
              "      <script>\n",
              "        const buttonEl =\n",
              "          document.querySelector('#df-930502d1-9491-4fbe-a34e-326441a7a8d3 button.colab-df-convert');\n",
              "        buttonEl.style.display =\n",
              "          google.colab.kernel.accessAllowed ? 'block' : 'none';\n",
              "\n",
              "        async function convertToInteractive(key) {\n",
              "          const element = document.querySelector('#df-930502d1-9491-4fbe-a34e-326441a7a8d3');\n",
              "          const dataTable =\n",
              "            await google.colab.kernel.invokeFunction('convertToInteractive',\n",
              "                                                     [key], {});\n",
              "          if (!dataTable) return;\n",
              "\n",
              "          const docLinkHtml = 'Like what you see? Visit the ' +\n",
              "            '<a target=\"_blank\" href=https://colab.research.google.com/notebooks/data_table.ipynb>data table notebook</a>'\n",
              "            + ' to learn more about interactive tables.';\n",
              "          element.innerHTML = '';\n",
              "          dataTable['output_type'] = 'display_data';\n",
              "          await google.colab.output.renderOutput(dataTable, element);\n",
              "          const docLink = document.createElement('div');\n",
              "          docLink.innerHTML = docLinkHtml;\n",
              "          element.appendChild(docLink);\n",
              "        }\n",
              "      </script>\n",
              "    </div>\n",
              "  </div>\n",
              "  "
            ]
          },
          "metadata": {},
          "execution_count": 420
        }
      ]
    },
    {
      "cell_type": "code",
      "source": [
        "data.columns"
      ],
      "metadata": {
        "colab": {
          "base_uri": "https://localhost:8080/"
        },
        "id": "46NJYB5FPwWB",
        "outputId": "dc77eae7-0b0d-4485-c9e5-2fe6b08b4c31"
      },
      "execution_count": 421,
      "outputs": [
        {
          "output_type": "execute_result",
          "data": {
            "text/plain": [
              "Index(['Text', 'Label', 'Translated Text', 'Removed Puncutation',\n",
              "       'Removed Stopped word', 'remove Eng'],\n",
              "      dtype='object')"
            ]
          },
          "metadata": {},
          "execution_count": 421
        }
      ]
    },
    {
      "cell_type": "code",
      "source": [
        "def numbers(remove_Eng):\n",
        "    new_text = []\n",
        "    for word in remove_Eng.split():\n",
        "        if not re.search('\\d', word):\n",
        "            new_text.append(word)\n",
        "    return ' '.join(new_text)   "
      ],
      "metadata": {
        "id": "QucsTDM3NQCx"
      },
      "execution_count": 422,
      "outputs": []
    },
    {
      "cell_type": "code",
      "source": [
        "data['remove Eng'] = data['remove Eng'].apply(numbers)\n",
        "data.head(2)"
      ],
      "metadata": {
        "colab": {
          "base_uri": "https://localhost:8080/",
          "height": 295
        },
        "id": "giHDJOqfPskw",
        "outputId": "10b16ea5-8a22-467b-cc5a-e17becbc27c7"
      },
      "execution_count": 423,
      "outputs": [
        {
          "output_type": "stream",
          "name": "stderr",
          "text": [
            "/usr/local/lib/python3.7/dist-packages/ipykernel_launcher.py:1: SettingWithCopyWarning: \n",
            "A value is trying to be set on a copy of a slice from a DataFrame.\n",
            "Try using .loc[row_indexer,col_indexer] = value instead\n",
            "\n",
            "See the caveats in the documentation: https://pandas.pydata.org/pandas-docs/stable/user_guide/indexing.html#returning-a-view-versus-a-copy\n",
            "  \"\"\"Entry point for launching an IPython kernel.\n"
          ]
        },
        {
          "output_type": "execute_result",
          "data": {
            "text/plain": [
              "                                                Text  Label  \\\n",
              "0  চার দিনের মধ্যে শিক্ষার্থীকে যৌন নিপীড়নে জড়ি...      1   \n",
              "1  - Dear বান্ধুবি আর কতো অপে'ক্ষা করাবি বইন.?🙄  ...      0   \n",
              "\n",
              "                                     Translated Text  \\\n",
              "0  চার দিনের মধ্যে শিক্ষার্থীকে যৌন নিপীড়নে জড়ি...   \n",
              "1  - Dear বান্ধুবি আর কতো অপে'ক্ষা করাবি বইন.?🙄  ...   \n",
              "\n",
              "                                 Removed Puncutation  \\\n",
              "0  চার দিনের মধ্যে শিক্ষার্থীকে যৌন নিপীড়নে জড়ি...   \n",
              "1   Dear বান্ধুবি আর কতো অপেক্ষা করাবি বইন🙄   এইব...   \n",
              "\n",
              "                                Removed Stopped word  \\\n",
              "0  ['দিনের', 'শিক্ষার্থীকে', 'যৌন', 'নিপীড়নে', '...   \n",
              "1  ['Dear', 'বান্ধুবি', 'কতো', 'অপেক্ষা', 'করাবি'...   \n",
              "\n",
              "                                          remove Eng  \n",
              "0  দিনের শিক্ষার্থীকে যৌন নিপীড়নে জড়িত ব্যক্তিদ...  \n",
              "1  বান্ধুবি কতো অপেক্ষা করাবি বইন এইবারতো বিয়েটা কর  "
            ],
            "text/html": [
              "\n",
              "  <div id=\"df-89fa908c-e511-4d66-bc05-388eee507bc8\">\n",
              "    <div class=\"colab-df-container\">\n",
              "      <div>\n",
              "<style scoped>\n",
              "    .dataframe tbody tr th:only-of-type {\n",
              "        vertical-align: middle;\n",
              "    }\n",
              "\n",
              "    .dataframe tbody tr th {\n",
              "        vertical-align: top;\n",
              "    }\n",
              "\n",
              "    .dataframe thead th {\n",
              "        text-align: right;\n",
              "    }\n",
              "</style>\n",
              "<table border=\"1\" class=\"dataframe\">\n",
              "  <thead>\n",
              "    <tr style=\"text-align: right;\">\n",
              "      <th></th>\n",
              "      <th>Text</th>\n",
              "      <th>Label</th>\n",
              "      <th>Translated Text</th>\n",
              "      <th>Removed Puncutation</th>\n",
              "      <th>Removed Stopped word</th>\n",
              "      <th>remove Eng</th>\n",
              "    </tr>\n",
              "  </thead>\n",
              "  <tbody>\n",
              "    <tr>\n",
              "      <th>0</th>\n",
              "      <td>চার দিনের মধ্যে শিক্ষার্থীকে যৌন নিপীড়নে জড়ি...</td>\n",
              "      <td>1</td>\n",
              "      <td>চার দিনের মধ্যে শিক্ষার্থীকে যৌন নিপীড়নে জড়ি...</td>\n",
              "      <td>চার দিনের মধ্যে শিক্ষার্থীকে যৌন নিপীড়নে জড়ি...</td>\n",
              "      <td>['দিনের', 'শিক্ষার্থীকে', 'যৌন', 'নিপীড়নে', '...</td>\n",
              "      <td>দিনের শিক্ষার্থীকে যৌন নিপীড়নে জড়িত ব্যক্তিদ...</td>\n",
              "    </tr>\n",
              "    <tr>\n",
              "      <th>1</th>\n",
              "      <td>- Dear বান্ধুবি আর কতো অপে'ক্ষা করাবি বইন.?🙄  ...</td>\n",
              "      <td>0</td>\n",
              "      <td>- Dear বান্ধুবি আর কতো অপে'ক্ষা করাবি বইন.?🙄  ...</td>\n",
              "      <td>Dear বান্ধুবি আর কতো অপেক্ষা করাবি বইন🙄   এইব...</td>\n",
              "      <td>['Dear', 'বান্ধুবি', 'কতো', 'অপেক্ষা', 'করাবি'...</td>\n",
              "      <td>বান্ধুবি কতো অপেক্ষা করাবি বইন এইবারতো বিয়েটা কর</td>\n",
              "    </tr>\n",
              "  </tbody>\n",
              "</table>\n",
              "</div>\n",
              "      <button class=\"colab-df-convert\" onclick=\"convertToInteractive('df-89fa908c-e511-4d66-bc05-388eee507bc8')\"\n",
              "              title=\"Convert this dataframe to an interactive table.\"\n",
              "              style=\"display:none;\">\n",
              "        \n",
              "  <svg xmlns=\"http://www.w3.org/2000/svg\" height=\"24px\"viewBox=\"0 0 24 24\"\n",
              "       width=\"24px\">\n",
              "    <path d=\"M0 0h24v24H0V0z\" fill=\"none\"/>\n",
              "    <path d=\"M18.56 5.44l.94 2.06.94-2.06 2.06-.94-2.06-.94-.94-2.06-.94 2.06-2.06.94zm-11 1L8.5 8.5l.94-2.06 2.06-.94-2.06-.94L8.5 2.5l-.94 2.06-2.06.94zm10 10l.94 2.06.94-2.06 2.06-.94-2.06-.94-.94-2.06-.94 2.06-2.06.94z\"/><path d=\"M17.41 7.96l-1.37-1.37c-.4-.4-.92-.59-1.43-.59-.52 0-1.04.2-1.43.59L10.3 9.45l-7.72 7.72c-.78.78-.78 2.05 0 2.83L4 21.41c.39.39.9.59 1.41.59.51 0 1.02-.2 1.41-.59l7.78-7.78 2.81-2.81c.8-.78.8-2.07 0-2.86zM5.41 20L4 18.59l7.72-7.72 1.47 1.35L5.41 20z\"/>\n",
              "  </svg>\n",
              "      </button>\n",
              "      \n",
              "  <style>\n",
              "    .colab-df-container {\n",
              "      display:flex;\n",
              "      flex-wrap:wrap;\n",
              "      gap: 12px;\n",
              "    }\n",
              "\n",
              "    .colab-df-convert {\n",
              "      background-color: #E8F0FE;\n",
              "      border: none;\n",
              "      border-radius: 50%;\n",
              "      cursor: pointer;\n",
              "      display: none;\n",
              "      fill: #1967D2;\n",
              "      height: 32px;\n",
              "      padding: 0 0 0 0;\n",
              "      width: 32px;\n",
              "    }\n",
              "\n",
              "    .colab-df-convert:hover {\n",
              "      background-color: #E2EBFA;\n",
              "      box-shadow: 0px 1px 2px rgba(60, 64, 67, 0.3), 0px 1px 3px 1px rgba(60, 64, 67, 0.15);\n",
              "      fill: #174EA6;\n",
              "    }\n",
              "\n",
              "    [theme=dark] .colab-df-convert {\n",
              "      background-color: #3B4455;\n",
              "      fill: #D2E3FC;\n",
              "    }\n",
              "\n",
              "    [theme=dark] .colab-df-convert:hover {\n",
              "      background-color: #434B5C;\n",
              "      box-shadow: 0px 1px 3px 1px rgba(0, 0, 0, 0.15);\n",
              "      filter: drop-shadow(0px 1px 2px rgba(0, 0, 0, 0.3));\n",
              "      fill: #FFFFFF;\n",
              "    }\n",
              "  </style>\n",
              "\n",
              "      <script>\n",
              "        const buttonEl =\n",
              "          document.querySelector('#df-89fa908c-e511-4d66-bc05-388eee507bc8 button.colab-df-convert');\n",
              "        buttonEl.style.display =\n",
              "          google.colab.kernel.accessAllowed ? 'block' : 'none';\n",
              "\n",
              "        async function convertToInteractive(key) {\n",
              "          const element = document.querySelector('#df-89fa908c-e511-4d66-bc05-388eee507bc8');\n",
              "          const dataTable =\n",
              "            await google.colab.kernel.invokeFunction('convertToInteractive',\n",
              "                                                     [key], {});\n",
              "          if (!dataTable) return;\n",
              "\n",
              "          const docLinkHtml = 'Like what you see? Visit the ' +\n",
              "            '<a target=\"_blank\" href=https://colab.research.google.com/notebooks/data_table.ipynb>data table notebook</a>'\n",
              "            + ' to learn more about interactive tables.';\n",
              "          element.innerHTML = '';\n",
              "          dataTable['output_type'] = 'display_data';\n",
              "          await google.colab.output.renderOutput(dataTable, element);\n",
              "          const docLink = document.createElement('div');\n",
              "          docLink.innerHTML = docLinkHtml;\n",
              "          element.appendChild(docLink);\n",
              "        }\n",
              "      </script>\n",
              "    </div>\n",
              "  </div>\n",
              "  "
            ]
          },
          "metadata": {},
          "execution_count": 423
        }
      ]
    },
    {
      "cell_type": "code",
      "source": [
        "data.columns"
      ],
      "metadata": {
        "colab": {
          "base_uri": "https://localhost:8080/"
        },
        "id": "bTZuXcQOPtcn",
        "outputId": "925388d7-55a6-49bb-d4a0-1319aee8b1be"
      },
      "execution_count": 424,
      "outputs": [
        {
          "output_type": "execute_result",
          "data": {
            "text/plain": [
              "Index(['Text', 'Label', 'Translated Text', 'Removed Puncutation',\n",
              "       'Removed Stopped word', 'remove Eng'],\n",
              "      dtype='object')"
            ]
          },
          "metadata": {},
          "execution_count": 424
        }
      ]
    },
    {
      "cell_type": "code",
      "source": [
        "lem = WordNetLemmatizer()\n",
        "\n",
        "def lemma(text):\n",
        "    lem_text = [lem.lemmatize(word) for word in text.split()]\n",
        "    return \" \".join(lem_text)"
      ],
      "metadata": {
        "id": "hhyHYUctQYlF"
      },
      "execution_count": 425,
      "outputs": []
    },
    {
      "cell_type": "code",
      "source": [
        "import nltk\n",
        "nltk.download('omw-1.4')\n",
        "nltk.download('wordnet')"
      ],
      "metadata": {
        "colab": {
          "base_uri": "https://localhost:8080/"
        },
        "id": "cD1DxLf-Qt5L",
        "outputId": "0feaa913-49c4-40bc-d5f0-e1e9dd051169"
      },
      "execution_count": 426,
      "outputs": [
        {
          "output_type": "stream",
          "name": "stderr",
          "text": [
            "[nltk_data] Downloading package omw-1.4 to /root/nltk_data...\n",
            "[nltk_data]   Package omw-1.4 is already up-to-date!\n",
            "[nltk_data] Downloading package wordnet to /root/nltk_data...\n",
            "[nltk_data]   Package wordnet is already up-to-date!\n"
          ]
        },
        {
          "output_type": "execute_result",
          "data": {
            "text/plain": [
              "True"
            ]
          },
          "metadata": {},
          "execution_count": 426
        }
      ]
    },
    {
      "cell_type": "code",
      "source": [
        "data['remove Eng'] = data['remove Eng'].apply(lemma)\n",
        "data.head()"
      ],
      "metadata": {
        "colab": {
          "base_uri": "https://localhost:8080/",
          "height": 441
        },
        "id": "Ef3bjNgeQv8m",
        "outputId": "4a42608d-9c5f-4d72-e6c6-9b12027a9e25"
      },
      "execution_count": 427,
      "outputs": [
        {
          "output_type": "stream",
          "name": "stderr",
          "text": [
            "/usr/local/lib/python3.7/dist-packages/ipykernel_launcher.py:1: SettingWithCopyWarning: \n",
            "A value is trying to be set on a copy of a slice from a DataFrame.\n",
            "Try using .loc[row_indexer,col_indexer] = value instead\n",
            "\n",
            "See the caveats in the documentation: https://pandas.pydata.org/pandas-docs/stable/user_guide/indexing.html#returning-a-view-versus-a-copy\n",
            "  \"\"\"Entry point for launching an IPython kernel.\n"
          ]
        },
        {
          "output_type": "execute_result",
          "data": {
            "text/plain": [
              "                                                Text  Label  \\\n",
              "0  চার দিনের মধ্যে শিক্ষার্থীকে যৌন নিপীড়নে জড়ি...      1   \n",
              "1  - Dear বান্ধুবি আর কতো অপে'ক্ষা করাবি বইন.?🙄  ...      0   \n",
              "2  - Story Of My Life😔  - দেখতে বাজে😪 - কেউ পাত্ত...      1   \n",
              "3  - আচ্ছা! - আমার কাছে যদি চাওয়ার কিছু সুযোগ পা...      0   \n",
              "4  - আজ পর্যন্ত কারোর😓  - Dp, Cover, Status, Day,...      0   \n",
              "\n",
              "                                     Translated Text  \\\n",
              "0  চার দিনের মধ্যে শিক্ষার্থীকে যৌন নিপীড়নে জড়ি...   \n",
              "1  - Dear বান্ধুবি আর কতো অপে'ক্ষা করাবি বইন.?🙄  ...   \n",
              "2  - Story Of My Life😔  - দেখতে বাজে😪 - কেউ পাত্ত...   \n",
              "3  - আচ্ছা! - আমার কাছে যদি চাওয়ার কিছু সুযোগ পা...   \n",
              "4  - আজ পর্যন্ত কারোর😓  - Dp, Cover, Status, Day,...   \n",
              "\n",
              "                                 Removed Puncutation  \\\n",
              "0  চার দিনের মধ্যে শিক্ষার্থীকে যৌন নিপীড়নে জড়ি...   \n",
              "1   Dear বান্ধুবি আর কতো অপেক্ষা করাবি বইন🙄   এইব...   \n",
              "2   Story Of My Life😔   দেখতে বাজে😪  কেউ পাত্তা দ...   \n",
              "3   আচ্ছা  আমার কাছে যদি চাওয়ার কিছু সুযোগ পাও😱 ...   \n",
              "4   আজ পর্যন্ত কারোর😓   Dp Cover Status Day Bio W...   \n",
              "\n",
              "                                Removed Stopped word  \\\n",
              "0  ['দিনের', 'শিক্ষার্থীকে', 'যৌন', 'নিপীড়নে', '...   \n",
              "1  ['Dear', 'বান্ধুবি', 'কতো', 'অপেক্ষা', 'করাবি'...   \n",
              "2  ['Story', 'Of', 'My', 'Life', 'বাজে', 'পাত্তা'...   \n",
              "3      ['আচ্ছা', 'চাওয়ার', 'সুযোগ', 'পাও', 'চাইবে']   \n",
              "4  ['কারোর', 'Dp', 'Cover', 'Status', 'Day', 'Bio...   \n",
              "\n",
              "                                          remove Eng  \n",
              "0  দিনের শিক্ষার্থীকে যৌন নিপীড়নে জড়িত ব্যক্তিদ...  \n",
              "1  বান্ধুবি কতো অপেক্ষা করাবি বইন এইবারতো বিয়েটা কর  \n",
              "2                      বাজে পাত্তা ভালোবাসে পছন্দ না  \n",
              "3                      আচ্ছা চাওয়ার সুযোগ পাও চাইবে  \n",
              "4                                     কারোর পারা আমি  "
            ],
            "text/html": [
              "\n",
              "  <div id=\"df-237b6607-923b-4f54-b978-763fcb6d5d05\">\n",
              "    <div class=\"colab-df-container\">\n",
              "      <div>\n",
              "<style scoped>\n",
              "    .dataframe tbody tr th:only-of-type {\n",
              "        vertical-align: middle;\n",
              "    }\n",
              "\n",
              "    .dataframe tbody tr th {\n",
              "        vertical-align: top;\n",
              "    }\n",
              "\n",
              "    .dataframe thead th {\n",
              "        text-align: right;\n",
              "    }\n",
              "</style>\n",
              "<table border=\"1\" class=\"dataframe\">\n",
              "  <thead>\n",
              "    <tr style=\"text-align: right;\">\n",
              "      <th></th>\n",
              "      <th>Text</th>\n",
              "      <th>Label</th>\n",
              "      <th>Translated Text</th>\n",
              "      <th>Removed Puncutation</th>\n",
              "      <th>Removed Stopped word</th>\n",
              "      <th>remove Eng</th>\n",
              "    </tr>\n",
              "  </thead>\n",
              "  <tbody>\n",
              "    <tr>\n",
              "      <th>0</th>\n",
              "      <td>চার দিনের মধ্যে শিক্ষার্থীকে যৌন নিপীড়নে জড়ি...</td>\n",
              "      <td>1</td>\n",
              "      <td>চার দিনের মধ্যে শিক্ষার্থীকে যৌন নিপীড়নে জড়ি...</td>\n",
              "      <td>চার দিনের মধ্যে শিক্ষার্থীকে যৌন নিপীড়নে জড়ি...</td>\n",
              "      <td>['দিনের', 'শিক্ষার্থীকে', 'যৌন', 'নিপীড়নে', '...</td>\n",
              "      <td>দিনের শিক্ষার্থীকে যৌন নিপীড়নে জড়িত ব্যক্তিদ...</td>\n",
              "    </tr>\n",
              "    <tr>\n",
              "      <th>1</th>\n",
              "      <td>- Dear বান্ধুবি আর কতো অপে'ক্ষা করাবি বইন.?🙄  ...</td>\n",
              "      <td>0</td>\n",
              "      <td>- Dear বান্ধুবি আর কতো অপে'ক্ষা করাবি বইন.?🙄  ...</td>\n",
              "      <td>Dear বান্ধুবি আর কতো অপেক্ষা করাবি বইন🙄   এইব...</td>\n",
              "      <td>['Dear', 'বান্ধুবি', 'কতো', 'অপেক্ষা', 'করাবি'...</td>\n",
              "      <td>বান্ধুবি কতো অপেক্ষা করাবি বইন এইবারতো বিয়েটা কর</td>\n",
              "    </tr>\n",
              "    <tr>\n",
              "      <th>2</th>\n",
              "      <td>- Story Of My Life😔  - দেখতে বাজে😪 - কেউ পাত্ত...</td>\n",
              "      <td>1</td>\n",
              "      <td>- Story Of My Life😔  - দেখতে বাজে😪 - কেউ পাত্ত...</td>\n",
              "      <td>Story Of My Life😔   দেখতে বাজে😪  কেউ পাত্তা দ...</td>\n",
              "      <td>['Story', 'Of', 'My', 'Life', 'বাজে', 'পাত্তা'...</td>\n",
              "      <td>বাজে পাত্তা ভালোবাসে পছন্দ না</td>\n",
              "    </tr>\n",
              "    <tr>\n",
              "      <th>3</th>\n",
              "      <td>- আচ্ছা! - আমার কাছে যদি চাওয়ার কিছু সুযোগ পা...</td>\n",
              "      <td>0</td>\n",
              "      <td>- আচ্ছা! - আমার কাছে যদি চাওয়ার কিছু সুযোগ পা...</td>\n",
              "      <td>আচ্ছা  আমার কাছে যদি চাওয়ার কিছু সুযোগ পাও😱 ...</td>\n",
              "      <td>['আচ্ছা', 'চাওয়ার', 'সুযোগ', 'পাও', 'চাইবে']</td>\n",
              "      <td>আচ্ছা চাওয়ার সুযোগ পাও চাইবে</td>\n",
              "    </tr>\n",
              "    <tr>\n",
              "      <th>4</th>\n",
              "      <td>- আজ পর্যন্ত কারোর😓  - Dp, Cover, Status, Day,...</td>\n",
              "      <td>0</td>\n",
              "      <td>- আজ পর্যন্ত কারোর😓  - Dp, Cover, Status, Day,...</td>\n",
              "      <td>আজ পর্যন্ত কারোর😓   Dp Cover Status Day Bio W...</td>\n",
              "      <td>['কারোর', 'Dp', 'Cover', 'Status', 'Day', 'Bio...</td>\n",
              "      <td>কারোর পারা আমি</td>\n",
              "    </tr>\n",
              "  </tbody>\n",
              "</table>\n",
              "</div>\n",
              "      <button class=\"colab-df-convert\" onclick=\"convertToInteractive('df-237b6607-923b-4f54-b978-763fcb6d5d05')\"\n",
              "              title=\"Convert this dataframe to an interactive table.\"\n",
              "              style=\"display:none;\">\n",
              "        \n",
              "  <svg xmlns=\"http://www.w3.org/2000/svg\" height=\"24px\"viewBox=\"0 0 24 24\"\n",
              "       width=\"24px\">\n",
              "    <path d=\"M0 0h24v24H0V0z\" fill=\"none\"/>\n",
              "    <path d=\"M18.56 5.44l.94 2.06.94-2.06 2.06-.94-2.06-.94-.94-2.06-.94 2.06-2.06.94zm-11 1L8.5 8.5l.94-2.06 2.06-.94-2.06-.94L8.5 2.5l-.94 2.06-2.06.94zm10 10l.94 2.06.94-2.06 2.06-.94-2.06-.94-.94-2.06-.94 2.06-2.06.94z\"/><path d=\"M17.41 7.96l-1.37-1.37c-.4-.4-.92-.59-1.43-.59-.52 0-1.04.2-1.43.59L10.3 9.45l-7.72 7.72c-.78.78-.78 2.05 0 2.83L4 21.41c.39.39.9.59 1.41.59.51 0 1.02-.2 1.41-.59l7.78-7.78 2.81-2.81c.8-.78.8-2.07 0-2.86zM5.41 20L4 18.59l7.72-7.72 1.47 1.35L5.41 20z\"/>\n",
              "  </svg>\n",
              "      </button>\n",
              "      \n",
              "  <style>\n",
              "    .colab-df-container {\n",
              "      display:flex;\n",
              "      flex-wrap:wrap;\n",
              "      gap: 12px;\n",
              "    }\n",
              "\n",
              "    .colab-df-convert {\n",
              "      background-color: #E8F0FE;\n",
              "      border: none;\n",
              "      border-radius: 50%;\n",
              "      cursor: pointer;\n",
              "      display: none;\n",
              "      fill: #1967D2;\n",
              "      height: 32px;\n",
              "      padding: 0 0 0 0;\n",
              "      width: 32px;\n",
              "    }\n",
              "\n",
              "    .colab-df-convert:hover {\n",
              "      background-color: #E2EBFA;\n",
              "      box-shadow: 0px 1px 2px rgba(60, 64, 67, 0.3), 0px 1px 3px 1px rgba(60, 64, 67, 0.15);\n",
              "      fill: #174EA6;\n",
              "    }\n",
              "\n",
              "    [theme=dark] .colab-df-convert {\n",
              "      background-color: #3B4455;\n",
              "      fill: #D2E3FC;\n",
              "    }\n",
              "\n",
              "    [theme=dark] .colab-df-convert:hover {\n",
              "      background-color: #434B5C;\n",
              "      box-shadow: 0px 1px 3px 1px rgba(0, 0, 0, 0.15);\n",
              "      filter: drop-shadow(0px 1px 2px rgba(0, 0, 0, 0.3));\n",
              "      fill: #FFFFFF;\n",
              "    }\n",
              "  </style>\n",
              "\n",
              "      <script>\n",
              "        const buttonEl =\n",
              "          document.querySelector('#df-237b6607-923b-4f54-b978-763fcb6d5d05 button.colab-df-convert');\n",
              "        buttonEl.style.display =\n",
              "          google.colab.kernel.accessAllowed ? 'block' : 'none';\n",
              "\n",
              "        async function convertToInteractive(key) {\n",
              "          const element = document.querySelector('#df-237b6607-923b-4f54-b978-763fcb6d5d05');\n",
              "          const dataTable =\n",
              "            await google.colab.kernel.invokeFunction('convertToInteractive',\n",
              "                                                     [key], {});\n",
              "          if (!dataTable) return;\n",
              "\n",
              "          const docLinkHtml = 'Like what you see? Visit the ' +\n",
              "            '<a target=\"_blank\" href=https://colab.research.google.com/notebooks/data_table.ipynb>data table notebook</a>'\n",
              "            + ' to learn more about interactive tables.';\n",
              "          element.innerHTML = '';\n",
              "          dataTable['output_type'] = 'display_data';\n",
              "          await google.colab.output.renderOutput(dataTable, element);\n",
              "          const docLink = document.createElement('div');\n",
              "          docLink.innerHTML = docLinkHtml;\n",
              "          element.appendChild(docLink);\n",
              "        }\n",
              "      </script>\n",
              "    </div>\n",
              "  </div>\n",
              "  "
            ]
          },
          "metadata": {},
          "execution_count": 427
        }
      ]
    },
    {
      "cell_type": "code",
      "source": [
        "data.columns"
      ],
      "metadata": {
        "colab": {
          "base_uri": "https://localhost:8080/"
        },
        "id": "QxYeRkBKROtY",
        "outputId": "a8ed718a-c184-46a9-bd10-d168ef9667f5"
      },
      "execution_count": 428,
      "outputs": [
        {
          "output_type": "execute_result",
          "data": {
            "text/plain": [
              "Index(['Text', 'Label', 'Translated Text', 'Removed Puncutation',\n",
              "       'Removed Stopped word', 'remove Eng'],\n",
              "      dtype='object')"
            ]
          },
          "metadata": {},
          "execution_count": 428
        }
      ]
    },
    {
      "cell_type": "code",
      "source": [
        "#!pip install bnlp_toolkit"
      ],
      "metadata": {
        "id": "sdvpCBGcRyJG"
      },
      "execution_count": 429,
      "outputs": []
    },
    {
      "cell_type": "code",
      "source": [
        "#!pip install bnltk"
      ],
      "metadata": {
        "id": "XEy8qLocVIQT"
      },
      "execution_count": 430,
      "outputs": []
    },
    {
      "cell_type": "code",
      "source": [
        "#!pip install bangla-stemmer"
      ],
      "metadata": {
        "id": "LI3-NqmFSile"
      },
      "execution_count": 431,
      "outputs": []
    },
    {
      "cell_type": "code",
      "source": [
        "#from bnltk.tokenize import Tokenizers\n",
        "#t = Tokenizers()\n",
        "#print(t.bn_word_tokenizer(' আমার সোনার বাংলা । '))\t\t"
      ],
      "metadata": {
        "id": "4XMYqjGtVRpI"
      },
      "execution_count": 432,
      "outputs": []
    },
    {
      "cell_type": "code",
      "source": [
        "#from nltk import tokenize\n",
        "#data['tokenized'] = data['remove Eng'].apply(lambda x:tokenize.TabTokenizer())"
      ],
      "metadata": {
        "id": "84yZLxd5VjG4"
      },
      "execution_count": 433,
      "outputs": []
    },
    {
      "cell_type": "code",
      "source": [
        "data.head(2)"
      ],
      "metadata": {
        "colab": {
          "base_uri": "https://localhost:8080/",
          "height": 191
        },
        "id": "jeggwUNdV-qP",
        "outputId": "91875833-061e-4015-a535-e042aac93ff8"
      },
      "execution_count": 434,
      "outputs": [
        {
          "output_type": "execute_result",
          "data": {
            "text/plain": [
              "                                                Text  Label  \\\n",
              "0  চার দিনের মধ্যে শিক্ষার্থীকে যৌন নিপীড়নে জড়ি...      1   \n",
              "1  - Dear বান্ধুবি আর কতো অপে'ক্ষা করাবি বইন.?🙄  ...      0   \n",
              "\n",
              "                                     Translated Text  \\\n",
              "0  চার দিনের মধ্যে শিক্ষার্থীকে যৌন নিপীড়নে জড়ি...   \n",
              "1  - Dear বান্ধুবি আর কতো অপে'ক্ষা করাবি বইন.?🙄  ...   \n",
              "\n",
              "                                 Removed Puncutation  \\\n",
              "0  চার দিনের মধ্যে শিক্ষার্থীকে যৌন নিপীড়নে জড়ি...   \n",
              "1   Dear বান্ধুবি আর কতো অপেক্ষা করাবি বইন🙄   এইব...   \n",
              "\n",
              "                                Removed Stopped word  \\\n",
              "0  ['দিনের', 'শিক্ষার্থীকে', 'যৌন', 'নিপীড়নে', '...   \n",
              "1  ['Dear', 'বান্ধুবি', 'কতো', 'অপেক্ষা', 'করাবি'...   \n",
              "\n",
              "                                          remove Eng  \n",
              "0  দিনের শিক্ষার্থীকে যৌন নিপীড়নে জড়িত ব্যক্তিদ...  \n",
              "1  বান্ধুবি কতো অপেক্ষা করাবি বইন এইবারতো বিয়েটা কর  "
            ],
            "text/html": [
              "\n",
              "  <div id=\"df-da4265dd-facd-46ce-aa7e-326f693dc9bc\">\n",
              "    <div class=\"colab-df-container\">\n",
              "      <div>\n",
              "<style scoped>\n",
              "    .dataframe tbody tr th:only-of-type {\n",
              "        vertical-align: middle;\n",
              "    }\n",
              "\n",
              "    .dataframe tbody tr th {\n",
              "        vertical-align: top;\n",
              "    }\n",
              "\n",
              "    .dataframe thead th {\n",
              "        text-align: right;\n",
              "    }\n",
              "</style>\n",
              "<table border=\"1\" class=\"dataframe\">\n",
              "  <thead>\n",
              "    <tr style=\"text-align: right;\">\n",
              "      <th></th>\n",
              "      <th>Text</th>\n",
              "      <th>Label</th>\n",
              "      <th>Translated Text</th>\n",
              "      <th>Removed Puncutation</th>\n",
              "      <th>Removed Stopped word</th>\n",
              "      <th>remove Eng</th>\n",
              "    </tr>\n",
              "  </thead>\n",
              "  <tbody>\n",
              "    <tr>\n",
              "      <th>0</th>\n",
              "      <td>চার দিনের মধ্যে শিক্ষার্থীকে যৌন নিপীড়নে জড়ি...</td>\n",
              "      <td>1</td>\n",
              "      <td>চার দিনের মধ্যে শিক্ষার্থীকে যৌন নিপীড়নে জড়ি...</td>\n",
              "      <td>চার দিনের মধ্যে শিক্ষার্থীকে যৌন নিপীড়নে জড়ি...</td>\n",
              "      <td>['দিনের', 'শিক্ষার্থীকে', 'যৌন', 'নিপীড়নে', '...</td>\n",
              "      <td>দিনের শিক্ষার্থীকে যৌন নিপীড়নে জড়িত ব্যক্তিদ...</td>\n",
              "    </tr>\n",
              "    <tr>\n",
              "      <th>1</th>\n",
              "      <td>- Dear বান্ধুবি আর কতো অপে'ক্ষা করাবি বইন.?🙄  ...</td>\n",
              "      <td>0</td>\n",
              "      <td>- Dear বান্ধুবি আর কতো অপে'ক্ষা করাবি বইন.?🙄  ...</td>\n",
              "      <td>Dear বান্ধুবি আর কতো অপেক্ষা করাবি বইন🙄   এইব...</td>\n",
              "      <td>['Dear', 'বান্ধুবি', 'কতো', 'অপেক্ষা', 'করাবি'...</td>\n",
              "      <td>বান্ধুবি কতো অপেক্ষা করাবি বইন এইবারতো বিয়েটা কর</td>\n",
              "    </tr>\n",
              "  </tbody>\n",
              "</table>\n",
              "</div>\n",
              "      <button class=\"colab-df-convert\" onclick=\"convertToInteractive('df-da4265dd-facd-46ce-aa7e-326f693dc9bc')\"\n",
              "              title=\"Convert this dataframe to an interactive table.\"\n",
              "              style=\"display:none;\">\n",
              "        \n",
              "  <svg xmlns=\"http://www.w3.org/2000/svg\" height=\"24px\"viewBox=\"0 0 24 24\"\n",
              "       width=\"24px\">\n",
              "    <path d=\"M0 0h24v24H0V0z\" fill=\"none\"/>\n",
              "    <path d=\"M18.56 5.44l.94 2.06.94-2.06 2.06-.94-2.06-.94-.94-2.06-.94 2.06-2.06.94zm-11 1L8.5 8.5l.94-2.06 2.06-.94-2.06-.94L8.5 2.5l-.94 2.06-2.06.94zm10 10l.94 2.06.94-2.06 2.06-.94-2.06-.94-.94-2.06-.94 2.06-2.06.94z\"/><path d=\"M17.41 7.96l-1.37-1.37c-.4-.4-.92-.59-1.43-.59-.52 0-1.04.2-1.43.59L10.3 9.45l-7.72 7.72c-.78.78-.78 2.05 0 2.83L4 21.41c.39.39.9.59 1.41.59.51 0 1.02-.2 1.41-.59l7.78-7.78 2.81-2.81c.8-.78.8-2.07 0-2.86zM5.41 20L4 18.59l7.72-7.72 1.47 1.35L5.41 20z\"/>\n",
              "  </svg>\n",
              "      </button>\n",
              "      \n",
              "  <style>\n",
              "    .colab-df-container {\n",
              "      display:flex;\n",
              "      flex-wrap:wrap;\n",
              "      gap: 12px;\n",
              "    }\n",
              "\n",
              "    .colab-df-convert {\n",
              "      background-color: #E8F0FE;\n",
              "      border: none;\n",
              "      border-radius: 50%;\n",
              "      cursor: pointer;\n",
              "      display: none;\n",
              "      fill: #1967D2;\n",
              "      height: 32px;\n",
              "      padding: 0 0 0 0;\n",
              "      width: 32px;\n",
              "    }\n",
              "\n",
              "    .colab-df-convert:hover {\n",
              "      background-color: #E2EBFA;\n",
              "      box-shadow: 0px 1px 2px rgba(60, 64, 67, 0.3), 0px 1px 3px 1px rgba(60, 64, 67, 0.15);\n",
              "      fill: #174EA6;\n",
              "    }\n",
              "\n",
              "    [theme=dark] .colab-df-convert {\n",
              "      background-color: #3B4455;\n",
              "      fill: #D2E3FC;\n",
              "    }\n",
              "\n",
              "    [theme=dark] .colab-df-convert:hover {\n",
              "      background-color: #434B5C;\n",
              "      box-shadow: 0px 1px 3px 1px rgba(0, 0, 0, 0.15);\n",
              "      filter: drop-shadow(0px 1px 2px rgba(0, 0, 0, 0.3));\n",
              "      fill: #FFFFFF;\n",
              "    }\n",
              "  </style>\n",
              "\n",
              "      <script>\n",
              "        const buttonEl =\n",
              "          document.querySelector('#df-da4265dd-facd-46ce-aa7e-326f693dc9bc button.colab-df-convert');\n",
              "        buttonEl.style.display =\n",
              "          google.colab.kernel.accessAllowed ? 'block' : 'none';\n",
              "\n",
              "        async function convertToInteractive(key) {\n",
              "          const element = document.querySelector('#df-da4265dd-facd-46ce-aa7e-326f693dc9bc');\n",
              "          const dataTable =\n",
              "            await google.colab.kernel.invokeFunction('convertToInteractive',\n",
              "                                                     [key], {});\n",
              "          if (!dataTable) return;\n",
              "\n",
              "          const docLinkHtml = 'Like what you see? Visit the ' +\n",
              "            '<a target=\"_blank\" href=https://colab.research.google.com/notebooks/data_table.ipynb>data table notebook</a>'\n",
              "            + ' to learn more about interactive tables.';\n",
              "          element.innerHTML = '';\n",
              "          dataTable['output_type'] = 'display_data';\n",
              "          await google.colab.output.renderOutput(dataTable, element);\n",
              "          const docLink = document.createElement('div');\n",
              "          docLink.innerHTML = docLinkHtml;\n",
              "          element.appendChild(docLink);\n",
              "        }\n",
              "      </script>\n",
              "    </div>\n",
              "  </div>\n",
              "  "
            ]
          },
          "metadata": {},
          "execution_count": 434
        }
      ]
    },
    {
      "cell_type": "code",
      "source": [
        "data.columns"
      ],
      "metadata": {
        "colab": {
          "base_uri": "https://localhost:8080/"
        },
        "id": "Mxx_0C0GqtHl",
        "outputId": "cbd0120f-4a4f-4e89-e70e-d4de0109e76d"
      },
      "execution_count": 435,
      "outputs": [
        {
          "output_type": "execute_result",
          "data": {
            "text/plain": [
              "Index(['Text', 'Label', 'Translated Text', 'Removed Puncutation',\n",
              "       'Removed Stopped word', 'remove Eng'],\n",
              "      dtype='object')"
            ]
          },
          "metadata": {},
          "execution_count": 435
        }
      ]
    },
    {
      "cell_type": "code",
      "source": [
        "#!pip install bangla-stemmer"
      ],
      "metadata": {
        "id": "fwd8wWi_qHa4"
      },
      "execution_count": 436,
      "outputs": []
    },
    {
      "cell_type": "code",
      "source": [
        "from bangla_stemmer.stemmer import stemmer\n",
        "wordlist = ['কবিরগুলিকে', 'আমাকে', 'নামাবার']\n",
        "stmr = stemmer.BanglaStemmer()\n",
        "stm = stmr.stem(wordlist)\n",
        "print(stm)"
      ],
      "metadata": {
        "colab": {
          "base_uri": "https://localhost:8080/"
        },
        "id": "YlfaAPyoSn-n",
        "outputId": "758bb368-2820-4659-9943-82aca50cfcc6"
      },
      "execution_count": 437,
      "outputs": [
        {
          "output_type": "stream",
          "name": "stdout",
          "text": [
            "applied first rules..\n",
            "applied third rules..\n",
            "applied first rules..\n",
            "applied fourth rules..\n",
            "['কবির', 'আমা', 'নামা']\n"
          ]
        }
      ]
    },
    {
      "cell_type": "code",
      "source": [
        "from bangla_stemmer.stemmer import stemmer\n",
        "stmr = stemmer.BanglaStemmer()"
      ],
      "metadata": {
        "id": "OuBz4F1wSsyO"
      },
      "execution_count": 438,
      "outputs": []
    },
    {
      "cell_type": "code",
      "source": [
        "data['stemmed'] = data['remove Eng'].apply(lambda x:stmr.stem(x))"
      ],
      "metadata": {
        "id": "NzEBQiNESwcD"
      },
      "execution_count": null,
      "outputs": []
    },
    {
      "cell_type": "code",
      "source": [
        "data.columns"
      ],
      "metadata": {
        "colab": {
          "base_uri": "https://localhost:8080/"
        },
        "id": "4c8LxSPmT6bf",
        "outputId": "bc79957e-f50a-48a7-f9f7-7d44741f13d5"
      },
      "execution_count": 440,
      "outputs": [
        {
          "output_type": "execute_result",
          "data": {
            "text/plain": [
              "Index(['Text', 'Label', 'Translated Text', 'Removed Puncutation',\n",
              "       'Removed Stopped word', 'remove Eng', 'stemmed'],\n",
              "      dtype='object')"
            ]
          },
          "metadata": {},
          "execution_count": 440
        }
      ]
    },
    {
      "cell_type": "code",
      "source": [
        "data.head(2)"
      ],
      "metadata": {
        "colab": {
          "base_uri": "https://localhost:8080/",
          "height": 208
        },
        "id": "PZbW3d81sKUl",
        "outputId": "55528491-1ea8-4fbb-c513-19b6d4620d5d"
      },
      "execution_count": 441,
      "outputs": [
        {
          "output_type": "execute_result",
          "data": {
            "text/plain": [
              "                                                Text  Label  \\\n",
              "0  চার দিনের মধ্যে শিক্ষার্থীকে যৌন নিপীড়নে জড়ি...      1   \n",
              "1  - Dear বান্ধুবি আর কতো অপে'ক্ষা করাবি বইন.?🙄  ...      0   \n",
              "\n",
              "                                     Translated Text  \\\n",
              "0  চার দিনের মধ্যে শিক্ষার্থীকে যৌন নিপীড়নে জড়ি...   \n",
              "1  - Dear বান্ধুবি আর কতো অপে'ক্ষা করাবি বইন.?🙄  ...   \n",
              "\n",
              "                                 Removed Puncutation  \\\n",
              "0  চার দিনের মধ্যে শিক্ষার্থীকে যৌন নিপীড়নে জড়ি...   \n",
              "1   Dear বান্ধুবি আর কতো অপেক্ষা করাবি বইন🙄   এইব...   \n",
              "\n",
              "                                Removed Stopped word  \\\n",
              "0  ['দিনের', 'শিক্ষার্থীকে', 'যৌন', 'নিপীড়নে', '...   \n",
              "1  ['Dear', 'বান্ধুবি', 'কতো', 'অপেক্ষা', 'করাবি'...   \n",
              "\n",
              "                                          remove Eng  \\\n",
              "0  দিনের শিক্ষার্থীকে যৌন নিপীড়নে জড়িত ব্যক্তিদ...   \n",
              "1  বান্ধুবি কতো অপেক্ষা করাবি বইন এইবারতো বিয়েটা কর   \n",
              "\n",
              "                                             stemmed  \n",
              "0  দিনের শিক্ষার্থীকে যৌন নিপীড়নে জড়িত ব্যক্তিদ...  \n",
              "1  বান্ধুবি কতো অপেক্ষা করাবি বইন এইবারতো বিয়েটা কর  "
            ],
            "text/html": [
              "\n",
              "  <div id=\"df-a8768369-506c-4bef-8513-3ce69d6bed48\">\n",
              "    <div class=\"colab-df-container\">\n",
              "      <div>\n",
              "<style scoped>\n",
              "    .dataframe tbody tr th:only-of-type {\n",
              "        vertical-align: middle;\n",
              "    }\n",
              "\n",
              "    .dataframe tbody tr th {\n",
              "        vertical-align: top;\n",
              "    }\n",
              "\n",
              "    .dataframe thead th {\n",
              "        text-align: right;\n",
              "    }\n",
              "</style>\n",
              "<table border=\"1\" class=\"dataframe\">\n",
              "  <thead>\n",
              "    <tr style=\"text-align: right;\">\n",
              "      <th></th>\n",
              "      <th>Text</th>\n",
              "      <th>Label</th>\n",
              "      <th>Translated Text</th>\n",
              "      <th>Removed Puncutation</th>\n",
              "      <th>Removed Stopped word</th>\n",
              "      <th>remove Eng</th>\n",
              "      <th>stemmed</th>\n",
              "    </tr>\n",
              "  </thead>\n",
              "  <tbody>\n",
              "    <tr>\n",
              "      <th>0</th>\n",
              "      <td>চার দিনের মধ্যে শিক্ষার্থীকে যৌন নিপীড়নে জড়ি...</td>\n",
              "      <td>1</td>\n",
              "      <td>চার দিনের মধ্যে শিক্ষার্থীকে যৌন নিপীড়নে জড়ি...</td>\n",
              "      <td>চার দিনের মধ্যে শিক্ষার্থীকে যৌন নিপীড়নে জড়ি...</td>\n",
              "      <td>['দিনের', 'শিক্ষার্থীকে', 'যৌন', 'নিপীড়নে', '...</td>\n",
              "      <td>দিনের শিক্ষার্থীকে যৌন নিপীড়নে জড়িত ব্যক্তিদ...</td>\n",
              "      <td>দিনের শিক্ষার্থীকে যৌন নিপীড়নে জড়িত ব্যক্তিদ...</td>\n",
              "    </tr>\n",
              "    <tr>\n",
              "      <th>1</th>\n",
              "      <td>- Dear বান্ধুবি আর কতো অপে'ক্ষা করাবি বইন.?🙄  ...</td>\n",
              "      <td>0</td>\n",
              "      <td>- Dear বান্ধুবি আর কতো অপে'ক্ষা করাবি বইন.?🙄  ...</td>\n",
              "      <td>Dear বান্ধুবি আর কতো অপেক্ষা করাবি বইন🙄   এইব...</td>\n",
              "      <td>['Dear', 'বান্ধুবি', 'কতো', 'অপেক্ষা', 'করাবি'...</td>\n",
              "      <td>বান্ধুবি কতো অপেক্ষা করাবি বইন এইবারতো বিয়েটা কর</td>\n",
              "      <td>বান্ধুবি কতো অপেক্ষা করাবি বইন এইবারতো বিয়েটা কর</td>\n",
              "    </tr>\n",
              "  </tbody>\n",
              "</table>\n",
              "</div>\n",
              "      <button class=\"colab-df-convert\" onclick=\"convertToInteractive('df-a8768369-506c-4bef-8513-3ce69d6bed48')\"\n",
              "              title=\"Convert this dataframe to an interactive table.\"\n",
              "              style=\"display:none;\">\n",
              "        \n",
              "  <svg xmlns=\"http://www.w3.org/2000/svg\" height=\"24px\"viewBox=\"0 0 24 24\"\n",
              "       width=\"24px\">\n",
              "    <path d=\"M0 0h24v24H0V0z\" fill=\"none\"/>\n",
              "    <path d=\"M18.56 5.44l.94 2.06.94-2.06 2.06-.94-2.06-.94-.94-2.06-.94 2.06-2.06.94zm-11 1L8.5 8.5l.94-2.06 2.06-.94-2.06-.94L8.5 2.5l-.94 2.06-2.06.94zm10 10l.94 2.06.94-2.06 2.06-.94-2.06-.94-.94-2.06-.94 2.06-2.06.94z\"/><path d=\"M17.41 7.96l-1.37-1.37c-.4-.4-.92-.59-1.43-.59-.52 0-1.04.2-1.43.59L10.3 9.45l-7.72 7.72c-.78.78-.78 2.05 0 2.83L4 21.41c.39.39.9.59 1.41.59.51 0 1.02-.2 1.41-.59l7.78-7.78 2.81-2.81c.8-.78.8-2.07 0-2.86zM5.41 20L4 18.59l7.72-7.72 1.47 1.35L5.41 20z\"/>\n",
              "  </svg>\n",
              "      </button>\n",
              "      \n",
              "  <style>\n",
              "    .colab-df-container {\n",
              "      display:flex;\n",
              "      flex-wrap:wrap;\n",
              "      gap: 12px;\n",
              "    }\n",
              "\n",
              "    .colab-df-convert {\n",
              "      background-color: #E8F0FE;\n",
              "      border: none;\n",
              "      border-radius: 50%;\n",
              "      cursor: pointer;\n",
              "      display: none;\n",
              "      fill: #1967D2;\n",
              "      height: 32px;\n",
              "      padding: 0 0 0 0;\n",
              "      width: 32px;\n",
              "    }\n",
              "\n",
              "    .colab-df-convert:hover {\n",
              "      background-color: #E2EBFA;\n",
              "      box-shadow: 0px 1px 2px rgba(60, 64, 67, 0.3), 0px 1px 3px 1px rgba(60, 64, 67, 0.15);\n",
              "      fill: #174EA6;\n",
              "    }\n",
              "\n",
              "    [theme=dark] .colab-df-convert {\n",
              "      background-color: #3B4455;\n",
              "      fill: #D2E3FC;\n",
              "    }\n",
              "\n",
              "    [theme=dark] .colab-df-convert:hover {\n",
              "      background-color: #434B5C;\n",
              "      box-shadow: 0px 1px 3px 1px rgba(0, 0, 0, 0.15);\n",
              "      filter: drop-shadow(0px 1px 2px rgba(0, 0, 0, 0.3));\n",
              "      fill: #FFFFFF;\n",
              "    }\n",
              "  </style>\n",
              "\n",
              "      <script>\n",
              "        const buttonEl =\n",
              "          document.querySelector('#df-a8768369-506c-4bef-8513-3ce69d6bed48 button.colab-df-convert');\n",
              "        buttonEl.style.display =\n",
              "          google.colab.kernel.accessAllowed ? 'block' : 'none';\n",
              "\n",
              "        async function convertToInteractive(key) {\n",
              "          const element = document.querySelector('#df-a8768369-506c-4bef-8513-3ce69d6bed48');\n",
              "          const dataTable =\n",
              "            await google.colab.kernel.invokeFunction('convertToInteractive',\n",
              "                                                     [key], {});\n",
              "          if (!dataTable) return;\n",
              "\n",
              "          const docLinkHtml = 'Like what you see? Visit the ' +\n",
              "            '<a target=\"_blank\" href=https://colab.research.google.com/notebooks/data_table.ipynb>data table notebook</a>'\n",
              "            + ' to learn more about interactive tables.';\n",
              "          element.innerHTML = '';\n",
              "          dataTable['output_type'] = 'display_data';\n",
              "          await google.colab.output.renderOutput(dataTable, element);\n",
              "          const docLink = document.createElement('div');\n",
              "          docLink.innerHTML = docLinkHtml;\n",
              "          element.appendChild(docLink);\n",
              "        }\n",
              "      </script>\n",
              "    </div>\n",
              "  </div>\n",
              "  "
            ]
          },
          "metadata": {},
          "execution_count": 441
        }
      ]
    },
    {
      "cell_type": "code",
      "source": [
        "#data['sentence']=data['stemmed'].apply(' '.join)\n",
        "#data.head()"
      ],
      "metadata": {
        "id": "nBEaoD1GtS6c"
      },
      "execution_count": 442,
      "outputs": []
    },
    {
      "cell_type": "code",
      "source": [
        "#!pip install bnlp"
      ],
      "metadata": {
        "id": "F5yEcg2KaD1M"
      },
      "execution_count": 443,
      "outputs": []
    },
    {
      "cell_type": "code",
      "source": [
        "data.columns"
      ],
      "metadata": {
        "colab": {
          "base_uri": "https://localhost:8080/"
        },
        "id": "WJ6X29KbuBAV",
        "outputId": "4d5f7e55-6378-408f-f250-f5c76063a28b"
      },
      "execution_count": 444,
      "outputs": [
        {
          "output_type": "execute_result",
          "data": {
            "text/plain": [
              "Index(['Text', 'Label', 'Translated Text', 'Removed Puncutation',\n",
              "       'Removed Stopped word', 'remove Eng', 'stemmed'],\n",
              "      dtype='object')"
            ]
          },
          "metadata": {},
          "execution_count": 444
        }
      ]
    },
    {
      "cell_type": "code",
      "source": [
        "data.head(1)"
      ],
      "metadata": {
        "colab": {
          "base_uri": "https://localhost:8080/",
          "height": 142
        },
        "id": "ZYVLUupsuOzg",
        "outputId": "e4b7031b-02a4-4ef8-b1b3-3e4593331a8b"
      },
      "execution_count": 446,
      "outputs": [
        {
          "output_type": "execute_result",
          "data": {
            "text/plain": [
              "                                                Text  Label  \\\n",
              "0  চার দিনের মধ্যে শিক্ষার্থীকে যৌন নিপীড়নে জড়ি...      1   \n",
              "\n",
              "                                     Translated Text  \\\n",
              "0  চার দিনের মধ্যে শিক্ষার্থীকে যৌন নিপীড়নে জড়ি...   \n",
              "\n",
              "                                 Removed Puncutation  \\\n",
              "0  চার দিনের মধ্যে শিক্ষার্থীকে যৌন নিপীড়নে জড়ি...   \n",
              "\n",
              "                                Removed Stopped word  \\\n",
              "0  ['দিনের', 'শিক্ষার্থীকে', 'যৌন', 'নিপীড়নে', '...   \n",
              "\n",
              "                                          remove Eng  \\\n",
              "0  দিনের শিক্ষার্থীকে যৌন নিপীড়নে জড়িত ব্যক্তিদ...   \n",
              "\n",
              "                                             stemmed  \n",
              "0  দিনের শিক্ষার্থীকে যৌন নিপীড়নে জড়িত ব্যক্তিদ...  "
            ],
            "text/html": [
              "\n",
              "  <div id=\"df-db7fbc95-d66f-464e-baed-6195080e1f1a\">\n",
              "    <div class=\"colab-df-container\">\n",
              "      <div>\n",
              "<style scoped>\n",
              "    .dataframe tbody tr th:only-of-type {\n",
              "        vertical-align: middle;\n",
              "    }\n",
              "\n",
              "    .dataframe tbody tr th {\n",
              "        vertical-align: top;\n",
              "    }\n",
              "\n",
              "    .dataframe thead th {\n",
              "        text-align: right;\n",
              "    }\n",
              "</style>\n",
              "<table border=\"1\" class=\"dataframe\">\n",
              "  <thead>\n",
              "    <tr style=\"text-align: right;\">\n",
              "      <th></th>\n",
              "      <th>Text</th>\n",
              "      <th>Label</th>\n",
              "      <th>Translated Text</th>\n",
              "      <th>Removed Puncutation</th>\n",
              "      <th>Removed Stopped word</th>\n",
              "      <th>remove Eng</th>\n",
              "      <th>stemmed</th>\n",
              "    </tr>\n",
              "  </thead>\n",
              "  <tbody>\n",
              "    <tr>\n",
              "      <th>0</th>\n",
              "      <td>চার দিনের মধ্যে শিক্ষার্থীকে যৌন নিপীড়নে জড়ি...</td>\n",
              "      <td>1</td>\n",
              "      <td>চার দিনের মধ্যে শিক্ষার্থীকে যৌন নিপীড়নে জড়ি...</td>\n",
              "      <td>চার দিনের মধ্যে শিক্ষার্থীকে যৌন নিপীড়নে জড়ি...</td>\n",
              "      <td>['দিনের', 'শিক্ষার্থীকে', 'যৌন', 'নিপীড়নে', '...</td>\n",
              "      <td>দিনের শিক্ষার্থীকে যৌন নিপীড়নে জড়িত ব্যক্তিদ...</td>\n",
              "      <td>দিনের শিক্ষার্থীকে যৌন নিপীড়নে জড়িত ব্যক্তিদ...</td>\n",
              "    </tr>\n",
              "  </tbody>\n",
              "</table>\n",
              "</div>\n",
              "      <button class=\"colab-df-convert\" onclick=\"convertToInteractive('df-db7fbc95-d66f-464e-baed-6195080e1f1a')\"\n",
              "              title=\"Convert this dataframe to an interactive table.\"\n",
              "              style=\"display:none;\">\n",
              "        \n",
              "  <svg xmlns=\"http://www.w3.org/2000/svg\" height=\"24px\"viewBox=\"0 0 24 24\"\n",
              "       width=\"24px\">\n",
              "    <path d=\"M0 0h24v24H0V0z\" fill=\"none\"/>\n",
              "    <path d=\"M18.56 5.44l.94 2.06.94-2.06 2.06-.94-2.06-.94-.94-2.06-.94 2.06-2.06.94zm-11 1L8.5 8.5l.94-2.06 2.06-.94-2.06-.94L8.5 2.5l-.94 2.06-2.06.94zm10 10l.94 2.06.94-2.06 2.06-.94-2.06-.94-.94-2.06-.94 2.06-2.06.94z\"/><path d=\"M17.41 7.96l-1.37-1.37c-.4-.4-.92-.59-1.43-.59-.52 0-1.04.2-1.43.59L10.3 9.45l-7.72 7.72c-.78.78-.78 2.05 0 2.83L4 21.41c.39.39.9.59 1.41.59.51 0 1.02-.2 1.41-.59l7.78-7.78 2.81-2.81c.8-.78.8-2.07 0-2.86zM5.41 20L4 18.59l7.72-7.72 1.47 1.35L5.41 20z\"/>\n",
              "  </svg>\n",
              "      </button>\n",
              "      \n",
              "  <style>\n",
              "    .colab-df-container {\n",
              "      display:flex;\n",
              "      flex-wrap:wrap;\n",
              "      gap: 12px;\n",
              "    }\n",
              "\n",
              "    .colab-df-convert {\n",
              "      background-color: #E8F0FE;\n",
              "      border: none;\n",
              "      border-radius: 50%;\n",
              "      cursor: pointer;\n",
              "      display: none;\n",
              "      fill: #1967D2;\n",
              "      height: 32px;\n",
              "      padding: 0 0 0 0;\n",
              "      width: 32px;\n",
              "    }\n",
              "\n",
              "    .colab-df-convert:hover {\n",
              "      background-color: #E2EBFA;\n",
              "      box-shadow: 0px 1px 2px rgba(60, 64, 67, 0.3), 0px 1px 3px 1px rgba(60, 64, 67, 0.15);\n",
              "      fill: #174EA6;\n",
              "    }\n",
              "\n",
              "    [theme=dark] .colab-df-convert {\n",
              "      background-color: #3B4455;\n",
              "      fill: #D2E3FC;\n",
              "    }\n",
              "\n",
              "    [theme=dark] .colab-df-convert:hover {\n",
              "      background-color: #434B5C;\n",
              "      box-shadow: 0px 1px 3px 1px rgba(0, 0, 0, 0.15);\n",
              "      filter: drop-shadow(0px 1px 2px rgba(0, 0, 0, 0.3));\n",
              "      fill: #FFFFFF;\n",
              "    }\n",
              "  </style>\n",
              "\n",
              "      <script>\n",
              "        const buttonEl =\n",
              "          document.querySelector('#df-db7fbc95-d66f-464e-baed-6195080e1f1a button.colab-df-convert');\n",
              "        buttonEl.style.display =\n",
              "          google.colab.kernel.accessAllowed ? 'block' : 'none';\n",
              "\n",
              "        async function convertToInteractive(key) {\n",
              "          const element = document.querySelector('#df-db7fbc95-d66f-464e-baed-6195080e1f1a');\n",
              "          const dataTable =\n",
              "            await google.colab.kernel.invokeFunction('convertToInteractive',\n",
              "                                                     [key], {});\n",
              "          if (!dataTable) return;\n",
              "\n",
              "          const docLinkHtml = 'Like what you see? Visit the ' +\n",
              "            '<a target=\"_blank\" href=https://colab.research.google.com/notebooks/data_table.ipynb>data table notebook</a>'\n",
              "            + ' to learn more about interactive tables.';\n",
              "          element.innerHTML = '';\n",
              "          dataTable['output_type'] = 'display_data';\n",
              "          await google.colab.output.renderOutput(dataTable, element);\n",
              "          const docLink = document.createElement('div');\n",
              "          docLink.innerHTML = docLinkHtml;\n",
              "          element.appendChild(docLink);\n",
              "        }\n",
              "      </script>\n",
              "    </div>\n",
              "  </div>\n",
              "  "
            ]
          },
          "metadata": {},
          "execution_count": 446
        }
      ]
    },
    {
      "cell_type": "code",
      "source": [
        "data.columns"
      ],
      "metadata": {
        "colab": {
          "base_uri": "https://localhost:8080/"
        },
        "id": "ofC-iPdMunI0",
        "outputId": "c7f835b8-57f5-4d3b-baff-7df5885d3291"
      },
      "execution_count": 447,
      "outputs": [
        {
          "output_type": "execute_result",
          "data": {
            "text/plain": [
              "Index(['Text', 'Label', 'Translated Text', 'Removed Puncutation',\n",
              "       'Removed Stopped word', 'remove Eng', 'stemmed'],\n",
              "      dtype='object')"
            ]
          },
          "metadata": {},
          "execution_count": 447
        }
      ]
    },
    {
      "cell_type": "code",
      "source": [
        "#def tokens(stemmed):\n",
        " #   words = re.sub(\"[^a-zA-Z]\",\" \", stemmed)\n",
        "  #  text = words.lower().split()                   \n",
        "   # return \" \".join(text)"
      ],
      "metadata": {
        "id": "OHJReeXYxbrY"
      },
      "execution_count": 448,
      "outputs": []
    },
    {
      "cell_type": "code",
      "source": [
        "#review['Review_clear'] = review['Review'].apply(tokens)\n",
        "#review.head()"
      ],
      "metadata": {
        "id": "Fy_bF9x8yE4b"
      },
      "execution_count": null,
      "outputs": []
    },
    {
      "cell_type": "code",
      "source": [
        "#review['Review_clear'] = review['Review_clear'].astype(str)"
      ],
      "metadata": {
        "id": "8LzRWByuyG3t"
      },
      "execution_count": null,
      "outputs": []
    },
    {
      "cell_type": "markdown",
      "source": [
        "Remove Low lenght data"
      ],
      "metadata": {
        "id": "LD2_E0rs26Y2"
      }
    },
    {
      "cell_type": "code",
      "source": [
        "# Length of each Reveiws\n",
        "data['length'] = data['stemmed'].apply(lambda x:len(x.split()))\n",
        "# Remove the reviews with least words\n",
        "dataset = data.loc[data.length>1]\n",
        "dataset = dataset.reset_index(drop = True)\n",
        "print(\"After Cleaning:\",\"\\nRemoved {} Small Reviews\".format(len(data)-len(dataset)),\n",
        "      \"\\nTotal Reviews:\",len(dataset))"
      ],
      "metadata": {
        "colab": {
          "base_uri": "https://localhost:8080/"
        },
        "id": "5MA1T5mV2tAi",
        "outputId": "6699e328-85c5-4e32-d9a3-90aa7406c90b"
      },
      "execution_count": 469,
      "outputs": [
        {
          "output_type": "stream",
          "name": "stdout",
          "text": [
            "After Cleaning: \n",
            "Removed 87 Small Reviews \n",
            "Total Reviews: 196\n"
          ]
        }
      ]
    },
    {
      "cell_type": "code",
      "source": [
        "data.head(2)"
      ],
      "metadata": {
        "colab": {
          "base_uri": "https://localhost:8080/",
          "height": 226
        },
        "id": "UWLI9Cx927P-",
        "outputId": "f12480fd-c037-40ea-8880-588a17b0c0a0"
      },
      "execution_count": 470,
      "outputs": [
        {
          "output_type": "execute_result",
          "data": {
            "text/plain": [
              "                                                Text  Label  \\\n",
              "0  চার দিনের মধ্যে শিক্ষার্থীকে যৌন নিপীড়নে জড়ি...      1   \n",
              "1  - Dear বান্ধুবি আর কতো অপে'ক্ষা করাবি বইন.?🙄  ...      0   \n",
              "\n",
              "                                     Translated Text  \\\n",
              "0  চার দিনের মধ্যে শিক্ষার্থীকে যৌন নিপীড়নে জড়ি...   \n",
              "1  - Dear বান্ধুবি আর কতো অপে'ক্ষা করাবি বইন.?🙄  ...   \n",
              "\n",
              "                                 Removed Puncutation  \\\n",
              "0  চার দিনের মধ্যে শিক্ষার্থীকে যৌন নিপীড়নে জড়ি...   \n",
              "1   Dear বান্ধুবি আর কতো অপেক্ষা করাবি বইন🙄   এইব...   \n",
              "\n",
              "                                Removed Stopped word  \\\n",
              "0  ['দিনের', 'শিক্ষার্থীকে', 'যৌন', 'নিপীড়নে', '...   \n",
              "1  ['Dear', 'বান্ধুবি', 'কতো', 'অপেক্ষা', 'করাবি'...   \n",
              "\n",
              "                                          remove Eng  \\\n",
              "0  দিনের শিক্ষার্থীকে যৌন নিপীড়নে জড়িত ব্যক্তিদ...   \n",
              "1  বান্ধুবি কতো অপেক্ষা করাবি বইন এইবারতো বিয়েটা কর   \n",
              "\n",
              "                                             stemmed  length  \n",
              "0  দিনের শিক্ষার্থীকে যৌন নিপীড়নে জড়িত ব্যক্তিদ...      16  \n",
              "1  বান্ধুবি কতো অপেক্ষা করাবি বইন এইবারতো বিয়েটা কর       8  "
            ],
            "text/html": [
              "\n",
              "  <div id=\"df-41ecd35a-e6b3-4280-9df3-549290a63d23\">\n",
              "    <div class=\"colab-df-container\">\n",
              "      <div>\n",
              "<style scoped>\n",
              "    .dataframe tbody tr th:only-of-type {\n",
              "        vertical-align: middle;\n",
              "    }\n",
              "\n",
              "    .dataframe tbody tr th {\n",
              "        vertical-align: top;\n",
              "    }\n",
              "\n",
              "    .dataframe thead th {\n",
              "        text-align: right;\n",
              "    }\n",
              "</style>\n",
              "<table border=\"1\" class=\"dataframe\">\n",
              "  <thead>\n",
              "    <tr style=\"text-align: right;\">\n",
              "      <th></th>\n",
              "      <th>Text</th>\n",
              "      <th>Label</th>\n",
              "      <th>Translated Text</th>\n",
              "      <th>Removed Puncutation</th>\n",
              "      <th>Removed Stopped word</th>\n",
              "      <th>remove Eng</th>\n",
              "      <th>stemmed</th>\n",
              "      <th>length</th>\n",
              "    </tr>\n",
              "  </thead>\n",
              "  <tbody>\n",
              "    <tr>\n",
              "      <th>0</th>\n",
              "      <td>চার দিনের মধ্যে শিক্ষার্থীকে যৌন নিপীড়নে জড়ি...</td>\n",
              "      <td>1</td>\n",
              "      <td>চার দিনের মধ্যে শিক্ষার্থীকে যৌন নিপীড়নে জড়ি...</td>\n",
              "      <td>চার দিনের মধ্যে শিক্ষার্থীকে যৌন নিপীড়নে জড়ি...</td>\n",
              "      <td>['দিনের', 'শিক্ষার্থীকে', 'যৌন', 'নিপীড়নে', '...</td>\n",
              "      <td>দিনের শিক্ষার্থীকে যৌন নিপীড়নে জড়িত ব্যক্তিদ...</td>\n",
              "      <td>দিনের শিক্ষার্থীকে যৌন নিপীড়নে জড়িত ব্যক্তিদ...</td>\n",
              "      <td>16</td>\n",
              "    </tr>\n",
              "    <tr>\n",
              "      <th>1</th>\n",
              "      <td>- Dear বান্ধুবি আর কতো অপে'ক্ষা করাবি বইন.?🙄  ...</td>\n",
              "      <td>0</td>\n",
              "      <td>- Dear বান্ধুবি আর কতো অপে'ক্ষা করাবি বইন.?🙄  ...</td>\n",
              "      <td>Dear বান্ধুবি আর কতো অপেক্ষা করাবি বইন🙄   এইব...</td>\n",
              "      <td>['Dear', 'বান্ধুবি', 'কতো', 'অপেক্ষা', 'করাবি'...</td>\n",
              "      <td>বান্ধুবি কতো অপেক্ষা করাবি বইন এইবারতো বিয়েটা কর</td>\n",
              "      <td>বান্ধুবি কতো অপেক্ষা করাবি বইন এইবারতো বিয়েটা কর</td>\n",
              "      <td>8</td>\n",
              "    </tr>\n",
              "  </tbody>\n",
              "</table>\n",
              "</div>\n",
              "      <button class=\"colab-df-convert\" onclick=\"convertToInteractive('df-41ecd35a-e6b3-4280-9df3-549290a63d23')\"\n",
              "              title=\"Convert this dataframe to an interactive table.\"\n",
              "              style=\"display:none;\">\n",
              "        \n",
              "  <svg xmlns=\"http://www.w3.org/2000/svg\" height=\"24px\"viewBox=\"0 0 24 24\"\n",
              "       width=\"24px\">\n",
              "    <path d=\"M0 0h24v24H0V0z\" fill=\"none\"/>\n",
              "    <path d=\"M18.56 5.44l.94 2.06.94-2.06 2.06-.94-2.06-.94-.94-2.06-.94 2.06-2.06.94zm-11 1L8.5 8.5l.94-2.06 2.06-.94-2.06-.94L8.5 2.5l-.94 2.06-2.06.94zm10 10l.94 2.06.94-2.06 2.06-.94-2.06-.94-.94-2.06-.94 2.06-2.06.94z\"/><path d=\"M17.41 7.96l-1.37-1.37c-.4-.4-.92-.59-1.43-.59-.52 0-1.04.2-1.43.59L10.3 9.45l-7.72 7.72c-.78.78-.78 2.05 0 2.83L4 21.41c.39.39.9.59 1.41.59.51 0 1.02-.2 1.41-.59l7.78-7.78 2.81-2.81c.8-.78.8-2.07 0-2.86zM5.41 20L4 18.59l7.72-7.72 1.47 1.35L5.41 20z\"/>\n",
              "  </svg>\n",
              "      </button>\n",
              "      \n",
              "  <style>\n",
              "    .colab-df-container {\n",
              "      display:flex;\n",
              "      flex-wrap:wrap;\n",
              "      gap: 12px;\n",
              "    }\n",
              "\n",
              "    .colab-df-convert {\n",
              "      background-color: #E8F0FE;\n",
              "      border: none;\n",
              "      border-radius: 50%;\n",
              "      cursor: pointer;\n",
              "      display: none;\n",
              "      fill: #1967D2;\n",
              "      height: 32px;\n",
              "      padding: 0 0 0 0;\n",
              "      width: 32px;\n",
              "    }\n",
              "\n",
              "    .colab-df-convert:hover {\n",
              "      background-color: #E2EBFA;\n",
              "      box-shadow: 0px 1px 2px rgba(60, 64, 67, 0.3), 0px 1px 3px 1px rgba(60, 64, 67, 0.15);\n",
              "      fill: #174EA6;\n",
              "    }\n",
              "\n",
              "    [theme=dark] .colab-df-convert {\n",
              "      background-color: #3B4455;\n",
              "      fill: #D2E3FC;\n",
              "    }\n",
              "\n",
              "    [theme=dark] .colab-df-convert:hover {\n",
              "      background-color: #434B5C;\n",
              "      box-shadow: 0px 1px 3px 1px rgba(0, 0, 0, 0.15);\n",
              "      filter: drop-shadow(0px 1px 2px rgba(0, 0, 0, 0.3));\n",
              "      fill: #FFFFFF;\n",
              "    }\n",
              "  </style>\n",
              "\n",
              "      <script>\n",
              "        const buttonEl =\n",
              "          document.querySelector('#df-41ecd35a-e6b3-4280-9df3-549290a63d23 button.colab-df-convert');\n",
              "        buttonEl.style.display =\n",
              "          google.colab.kernel.accessAllowed ? 'block' : 'none';\n",
              "\n",
              "        async function convertToInteractive(key) {\n",
              "          const element = document.querySelector('#df-41ecd35a-e6b3-4280-9df3-549290a63d23');\n",
              "          const dataTable =\n",
              "            await google.colab.kernel.invokeFunction('convertToInteractive',\n",
              "                                                     [key], {});\n",
              "          if (!dataTable) return;\n",
              "\n",
              "          const docLinkHtml = 'Like what you see? Visit the ' +\n",
              "            '<a target=\"_blank\" href=https://colab.research.google.com/notebooks/data_table.ipynb>data table notebook</a>'\n",
              "            + ' to learn more about interactive tables.';\n",
              "          element.innerHTML = '';\n",
              "          dataTable['output_type'] = 'display_data';\n",
              "          await google.colab.output.renderOutput(dataTable, element);\n",
              "          const docLink = document.createElement('div');\n",
              "          docLink.innerHTML = docLinkHtml;\n",
              "          element.appendChild(docLink);\n",
              "        }\n",
              "      </script>\n",
              "    </div>\n",
              "  </div>\n",
              "  "
            ]
          },
          "metadata": {},
          "execution_count": 470
        }
      ]
    },
    {
      "cell_type": "code",
      "source": [
        "from bnltk.bnltk_downloads import DataFiles\n",
        "DataFiles().download()\t"
      ],
      "metadata": {
        "colab": {
          "base_uri": "https://localhost:8080/"
        },
        "id": "bOpjY0YS3JqC",
        "outputId": "05d2b3af-9640-4c7f-d263-6a83324ad7bd"
      },
      "execution_count": 471,
      "outputs": [
        {
          "output_type": "stream",
          "name": "stdout",
          "text": [
            "Downloading....../bn_tagged_mod.txt\n",
            "[==================================================]\n",
            "Downloading....../keras_mlp_bangla.h5\n",
            "[==================================================]Done!\n"
          ]
        }
      ]
    },
    {
      "cell_type": "code",
      "source": [
        "data.columns"
      ],
      "metadata": {
        "colab": {
          "base_uri": "https://localhost:8080/"
        },
        "id": "34-Gl2G940uh",
        "outputId": "e9ba210c-47fd-420f-ab5c-725876ae7929"
      },
      "execution_count": 473,
      "outputs": [
        {
          "output_type": "execute_result",
          "data": {
            "text/plain": [
              "Index(['Text', 'Label', 'Translated Text', 'Removed Puncutation',\n",
              "       'Removed Stopped word', 'remove Eng', 'stemmed', 'length'],\n",
              "      dtype='object')"
            ]
          },
          "metadata": {},
          "execution_count": 473
        }
      ]
    },
    {
      "cell_type": "code",
      "source": [
        "from bnltk.pos_tagger import PosTagger\n",
        "\n",
        "p_tagger = PosTagger()    \n",
        "p_tagger.loader()\n",
        "#sentences = 'দুশ্চিন্তার কোন কারণই নাই'\n",
        "#print(p_tagger.tagger(sentences))  "
      ],
      "metadata": {
        "id": "grZgAtDi4iDS"
      },
      "execution_count": 475,
      "outputs": []
    },
    {
      "cell_type": "code",
      "source": [
        "data['pos_tagger'] = data['stemmed'].apply(lambda x:stmr.stem(x))"
      ],
      "metadata": {
        "id": "knZd-nCI4vja"
      },
      "execution_count": null,
      "outputs": []
    },
    {
      "cell_type": "code",
      "source": [
        "data.head(1)"
      ],
      "metadata": {
        "colab": {
          "base_uri": "https://localhost:8080/",
          "height": 177
        },
        "id": "RxvXqmcT5GxP",
        "outputId": "a2153c7c-7b04-4bda-b12c-03a5c4d273a1"
      },
      "execution_count": 477,
      "outputs": [
        {
          "output_type": "execute_result",
          "data": {
            "text/plain": [
              "                                                Text  Label  \\\n",
              "0  চার দিনের মধ্যে শিক্ষার্থীকে যৌন নিপীড়নে জড়ি...      1   \n",
              "\n",
              "                                     Translated Text  \\\n",
              "0  চার দিনের মধ্যে শিক্ষার্থীকে যৌন নিপীড়নে জড়ি...   \n",
              "\n",
              "                                 Removed Puncutation  \\\n",
              "0  চার দিনের মধ্যে শিক্ষার্থীকে যৌন নিপীড়নে জড়ি...   \n",
              "\n",
              "                                Removed Stopped word  \\\n",
              "0  ['দিনের', 'শিক্ষার্থীকে', 'যৌন', 'নিপীড়নে', '...   \n",
              "\n",
              "                                          remove Eng  \\\n",
              "0  দিনের শিক্ষার্থীকে যৌন নিপীড়নে জড়িত ব্যক্তিদ...   \n",
              "\n",
              "                                             stemmed  length  \\\n",
              "0  দিনের শিক্ষার্থীকে যৌন নিপীড়নে জড়িত ব্যক্তিদ...      16   \n",
              "\n",
              "                                          pos_tagger  \n",
              "0  দিনের শিক্ষার্থীকে যৌন নিপীড়নে জড়িত ব্যক্তিদ...  "
            ],
            "text/html": [
              "\n",
              "  <div id=\"df-487339cc-1915-4637-b187-d5206f27858e\">\n",
              "    <div class=\"colab-df-container\">\n",
              "      <div>\n",
              "<style scoped>\n",
              "    .dataframe tbody tr th:only-of-type {\n",
              "        vertical-align: middle;\n",
              "    }\n",
              "\n",
              "    .dataframe tbody tr th {\n",
              "        vertical-align: top;\n",
              "    }\n",
              "\n",
              "    .dataframe thead th {\n",
              "        text-align: right;\n",
              "    }\n",
              "</style>\n",
              "<table border=\"1\" class=\"dataframe\">\n",
              "  <thead>\n",
              "    <tr style=\"text-align: right;\">\n",
              "      <th></th>\n",
              "      <th>Text</th>\n",
              "      <th>Label</th>\n",
              "      <th>Translated Text</th>\n",
              "      <th>Removed Puncutation</th>\n",
              "      <th>Removed Stopped word</th>\n",
              "      <th>remove Eng</th>\n",
              "      <th>stemmed</th>\n",
              "      <th>length</th>\n",
              "      <th>pos_tagger</th>\n",
              "    </tr>\n",
              "  </thead>\n",
              "  <tbody>\n",
              "    <tr>\n",
              "      <th>0</th>\n",
              "      <td>চার দিনের মধ্যে শিক্ষার্থীকে যৌন নিপীড়নে জড়ি...</td>\n",
              "      <td>1</td>\n",
              "      <td>চার দিনের মধ্যে শিক্ষার্থীকে যৌন নিপীড়নে জড়ি...</td>\n",
              "      <td>চার দিনের মধ্যে শিক্ষার্থীকে যৌন নিপীড়নে জড়ি...</td>\n",
              "      <td>['দিনের', 'শিক্ষার্থীকে', 'যৌন', 'নিপীড়নে', '...</td>\n",
              "      <td>দিনের শিক্ষার্থীকে যৌন নিপীড়নে জড়িত ব্যক্তিদ...</td>\n",
              "      <td>দিনের শিক্ষার্থীকে যৌন নিপীড়নে জড়িত ব্যক্তিদ...</td>\n",
              "      <td>16</td>\n",
              "      <td>দিনের শিক্ষার্থীকে যৌন নিপীড়নে জড়িত ব্যক্তিদ...</td>\n",
              "    </tr>\n",
              "  </tbody>\n",
              "</table>\n",
              "</div>\n",
              "      <button class=\"colab-df-convert\" onclick=\"convertToInteractive('df-487339cc-1915-4637-b187-d5206f27858e')\"\n",
              "              title=\"Convert this dataframe to an interactive table.\"\n",
              "              style=\"display:none;\">\n",
              "        \n",
              "  <svg xmlns=\"http://www.w3.org/2000/svg\" height=\"24px\"viewBox=\"0 0 24 24\"\n",
              "       width=\"24px\">\n",
              "    <path d=\"M0 0h24v24H0V0z\" fill=\"none\"/>\n",
              "    <path d=\"M18.56 5.44l.94 2.06.94-2.06 2.06-.94-2.06-.94-.94-2.06-.94 2.06-2.06.94zm-11 1L8.5 8.5l.94-2.06 2.06-.94-2.06-.94L8.5 2.5l-.94 2.06-2.06.94zm10 10l.94 2.06.94-2.06 2.06-.94-2.06-.94-.94-2.06-.94 2.06-2.06.94z\"/><path d=\"M17.41 7.96l-1.37-1.37c-.4-.4-.92-.59-1.43-.59-.52 0-1.04.2-1.43.59L10.3 9.45l-7.72 7.72c-.78.78-.78 2.05 0 2.83L4 21.41c.39.39.9.59 1.41.59.51 0 1.02-.2 1.41-.59l7.78-7.78 2.81-2.81c.8-.78.8-2.07 0-2.86zM5.41 20L4 18.59l7.72-7.72 1.47 1.35L5.41 20z\"/>\n",
              "  </svg>\n",
              "      </button>\n",
              "      \n",
              "  <style>\n",
              "    .colab-df-container {\n",
              "      display:flex;\n",
              "      flex-wrap:wrap;\n",
              "      gap: 12px;\n",
              "    }\n",
              "\n",
              "    .colab-df-convert {\n",
              "      background-color: #E8F0FE;\n",
              "      border: none;\n",
              "      border-radius: 50%;\n",
              "      cursor: pointer;\n",
              "      display: none;\n",
              "      fill: #1967D2;\n",
              "      height: 32px;\n",
              "      padding: 0 0 0 0;\n",
              "      width: 32px;\n",
              "    }\n",
              "\n",
              "    .colab-df-convert:hover {\n",
              "      background-color: #E2EBFA;\n",
              "      box-shadow: 0px 1px 2px rgba(60, 64, 67, 0.3), 0px 1px 3px 1px rgba(60, 64, 67, 0.15);\n",
              "      fill: #174EA6;\n",
              "    }\n",
              "\n",
              "    [theme=dark] .colab-df-convert {\n",
              "      background-color: #3B4455;\n",
              "      fill: #D2E3FC;\n",
              "    }\n",
              "\n",
              "    [theme=dark] .colab-df-convert:hover {\n",
              "      background-color: #434B5C;\n",
              "      box-shadow: 0px 1px 3px 1px rgba(0, 0, 0, 0.15);\n",
              "      filter: drop-shadow(0px 1px 2px rgba(0, 0, 0, 0.3));\n",
              "      fill: #FFFFFF;\n",
              "    }\n",
              "  </style>\n",
              "\n",
              "      <script>\n",
              "        const buttonEl =\n",
              "          document.querySelector('#df-487339cc-1915-4637-b187-d5206f27858e button.colab-df-convert');\n",
              "        buttonEl.style.display =\n",
              "          google.colab.kernel.accessAllowed ? 'block' : 'none';\n",
              "\n",
              "        async function convertToInteractive(key) {\n",
              "          const element = document.querySelector('#df-487339cc-1915-4637-b187-d5206f27858e');\n",
              "          const dataTable =\n",
              "            await google.colab.kernel.invokeFunction('convertToInteractive',\n",
              "                                                     [key], {});\n",
              "          if (!dataTable) return;\n",
              "\n",
              "          const docLinkHtml = 'Like what you see? Visit the ' +\n",
              "            '<a target=\"_blank\" href=https://colab.research.google.com/notebooks/data_table.ipynb>data table notebook</a>'\n",
              "            + ' to learn more about interactive tables.';\n",
              "          element.innerHTML = '';\n",
              "          dataTable['output_type'] = 'display_data';\n",
              "          await google.colab.output.renderOutput(dataTable, element);\n",
              "          const docLink = document.createElement('div');\n",
              "          docLink.innerHTML = docLinkHtml;\n",
              "          element.appendChild(docLink);\n",
              "        }\n",
              "      </script>\n",
              "    </div>\n",
              "  </div>\n",
              "  "
            ]
          },
          "metadata": {},
          "execution_count": 477
        }
      ]
    },
    {
      "cell_type": "markdown",
      "source": [
        "Tokenizer"
      ],
      "metadata": {
        "id": "N0K0_4tH5SSM"
      }
    },
    {
      "cell_type": "code",
      "source": [
        "from bnltk.tokenize import Tokenizers\n",
        "t = Tokenizers()\n",
        "#print(t.bn_word_tokenizer(' আমার সোনার বাংলা । '))"
      ],
      "metadata": {
        "colab": {
          "base_uri": "https://localhost:8080/"
        },
        "id": "PeXiH_395O9e",
        "outputId": "c5bd8148-04b7-4770-a43b-120be8c4c4c7"
      },
      "execution_count": 478,
      "outputs": [
        {
          "output_type": "stream",
          "name": "stdout",
          "text": [
            "['আমার', 'সোনার', 'বাংলা']\n"
          ]
        }
      ]
    },
    {
      "cell_type": "code",
      "source": [
        "data['tokenizer'] = data['pos_tagger'].apply(lambda x:stmr.stem(x))"
      ],
      "metadata": {
        "id": "cF_E578w5Q4n"
      },
      "execution_count": null,
      "outputs": []
    },
    {
      "cell_type": "code",
      "source": [
        "data.head(1)"
      ],
      "metadata": {
        "colab": {
          "base_uri": "https://localhost:8080/",
          "height": 194
        },
        "id": "9A0Hf50F5gln",
        "outputId": "a83f8807-86a2-4286-da01-54418b102363"
      },
      "execution_count": 480,
      "outputs": [
        {
          "output_type": "execute_result",
          "data": {
            "text/plain": [
              "                                                Text  Label  \\\n",
              "0  চার দিনের মধ্যে শিক্ষার্থীকে যৌন নিপীড়নে জড়ি...      1   \n",
              "\n",
              "                                     Translated Text  \\\n",
              "0  চার দিনের মধ্যে শিক্ষার্থীকে যৌন নিপীড়নে জড়ি...   \n",
              "\n",
              "                                 Removed Puncutation  \\\n",
              "0  চার দিনের মধ্যে শিক্ষার্থীকে যৌন নিপীড়নে জড়ি...   \n",
              "\n",
              "                                Removed Stopped word  \\\n",
              "0  ['দিনের', 'শিক্ষার্থীকে', 'যৌন', 'নিপীড়নে', '...   \n",
              "\n",
              "                                          remove Eng  \\\n",
              "0  দিনের শিক্ষার্থীকে যৌন নিপীড়নে জড়িত ব্যক্তিদ...   \n",
              "\n",
              "                                             stemmed  length  \\\n",
              "0  দিনের শিক্ষার্থীকে যৌন নিপীড়নে জড়িত ব্যক্তিদ...      16   \n",
              "\n",
              "                                          pos_tagger  \\\n",
              "0  দিনের শিক্ষার্থীকে যৌন নিপীড়নে জড়িত ব্যক্তিদ...   \n",
              "\n",
              "                                           tokenizer  \n",
              "0  দিনের শিক্ষার্থীকে যৌন নিপীড়নে জড়িত ব্যক্তিদ...  "
            ],
            "text/html": [
              "\n",
              "  <div id=\"df-deccec42-2644-4fcd-9d53-1b5a91f70ad5\">\n",
              "    <div class=\"colab-df-container\">\n",
              "      <div>\n",
              "<style scoped>\n",
              "    .dataframe tbody tr th:only-of-type {\n",
              "        vertical-align: middle;\n",
              "    }\n",
              "\n",
              "    .dataframe tbody tr th {\n",
              "        vertical-align: top;\n",
              "    }\n",
              "\n",
              "    .dataframe thead th {\n",
              "        text-align: right;\n",
              "    }\n",
              "</style>\n",
              "<table border=\"1\" class=\"dataframe\">\n",
              "  <thead>\n",
              "    <tr style=\"text-align: right;\">\n",
              "      <th></th>\n",
              "      <th>Text</th>\n",
              "      <th>Label</th>\n",
              "      <th>Translated Text</th>\n",
              "      <th>Removed Puncutation</th>\n",
              "      <th>Removed Stopped word</th>\n",
              "      <th>remove Eng</th>\n",
              "      <th>stemmed</th>\n",
              "      <th>length</th>\n",
              "      <th>pos_tagger</th>\n",
              "      <th>tokenizer</th>\n",
              "    </tr>\n",
              "  </thead>\n",
              "  <tbody>\n",
              "    <tr>\n",
              "      <th>0</th>\n",
              "      <td>চার দিনের মধ্যে শিক্ষার্থীকে যৌন নিপীড়নে জড়ি...</td>\n",
              "      <td>1</td>\n",
              "      <td>চার দিনের মধ্যে শিক্ষার্থীকে যৌন নিপীড়নে জড়ি...</td>\n",
              "      <td>চার দিনের মধ্যে শিক্ষার্থীকে যৌন নিপীড়নে জড়ি...</td>\n",
              "      <td>['দিনের', 'শিক্ষার্থীকে', 'যৌন', 'নিপীড়নে', '...</td>\n",
              "      <td>দিনের শিক্ষার্থীকে যৌন নিপীড়নে জড়িত ব্যক্তিদ...</td>\n",
              "      <td>দিনের শিক্ষার্থীকে যৌন নিপীড়নে জড়িত ব্যক্তিদ...</td>\n",
              "      <td>16</td>\n",
              "      <td>দিনের শিক্ষার্থীকে যৌন নিপীড়নে জড়িত ব্যক্তিদ...</td>\n",
              "      <td>দিনের শিক্ষার্থীকে যৌন নিপীড়নে জড়িত ব্যক্তিদ...</td>\n",
              "    </tr>\n",
              "  </tbody>\n",
              "</table>\n",
              "</div>\n",
              "      <button class=\"colab-df-convert\" onclick=\"convertToInteractive('df-deccec42-2644-4fcd-9d53-1b5a91f70ad5')\"\n",
              "              title=\"Convert this dataframe to an interactive table.\"\n",
              "              style=\"display:none;\">\n",
              "        \n",
              "  <svg xmlns=\"http://www.w3.org/2000/svg\" height=\"24px\"viewBox=\"0 0 24 24\"\n",
              "       width=\"24px\">\n",
              "    <path d=\"M0 0h24v24H0V0z\" fill=\"none\"/>\n",
              "    <path d=\"M18.56 5.44l.94 2.06.94-2.06 2.06-.94-2.06-.94-.94-2.06-.94 2.06-2.06.94zm-11 1L8.5 8.5l.94-2.06 2.06-.94-2.06-.94L8.5 2.5l-.94 2.06-2.06.94zm10 10l.94 2.06.94-2.06 2.06-.94-2.06-.94-.94-2.06-.94 2.06-2.06.94z\"/><path d=\"M17.41 7.96l-1.37-1.37c-.4-.4-.92-.59-1.43-.59-.52 0-1.04.2-1.43.59L10.3 9.45l-7.72 7.72c-.78.78-.78 2.05 0 2.83L4 21.41c.39.39.9.59 1.41.59.51 0 1.02-.2 1.41-.59l7.78-7.78 2.81-2.81c.8-.78.8-2.07 0-2.86zM5.41 20L4 18.59l7.72-7.72 1.47 1.35L5.41 20z\"/>\n",
              "  </svg>\n",
              "      </button>\n",
              "      \n",
              "  <style>\n",
              "    .colab-df-container {\n",
              "      display:flex;\n",
              "      flex-wrap:wrap;\n",
              "      gap: 12px;\n",
              "    }\n",
              "\n",
              "    .colab-df-convert {\n",
              "      background-color: #E8F0FE;\n",
              "      border: none;\n",
              "      border-radius: 50%;\n",
              "      cursor: pointer;\n",
              "      display: none;\n",
              "      fill: #1967D2;\n",
              "      height: 32px;\n",
              "      padding: 0 0 0 0;\n",
              "      width: 32px;\n",
              "    }\n",
              "\n",
              "    .colab-df-convert:hover {\n",
              "      background-color: #E2EBFA;\n",
              "      box-shadow: 0px 1px 2px rgba(60, 64, 67, 0.3), 0px 1px 3px 1px rgba(60, 64, 67, 0.15);\n",
              "      fill: #174EA6;\n",
              "    }\n",
              "\n",
              "    [theme=dark] .colab-df-convert {\n",
              "      background-color: #3B4455;\n",
              "      fill: #D2E3FC;\n",
              "    }\n",
              "\n",
              "    [theme=dark] .colab-df-convert:hover {\n",
              "      background-color: #434B5C;\n",
              "      box-shadow: 0px 1px 3px 1px rgba(0, 0, 0, 0.15);\n",
              "      filter: drop-shadow(0px 1px 2px rgba(0, 0, 0, 0.3));\n",
              "      fill: #FFFFFF;\n",
              "    }\n",
              "  </style>\n",
              "\n",
              "      <script>\n",
              "        const buttonEl =\n",
              "          document.querySelector('#df-deccec42-2644-4fcd-9d53-1b5a91f70ad5 button.colab-df-convert');\n",
              "        buttonEl.style.display =\n",
              "          google.colab.kernel.accessAllowed ? 'block' : 'none';\n",
              "\n",
              "        async function convertToInteractive(key) {\n",
              "          const element = document.querySelector('#df-deccec42-2644-4fcd-9d53-1b5a91f70ad5');\n",
              "          const dataTable =\n",
              "            await google.colab.kernel.invokeFunction('convertToInteractive',\n",
              "                                                     [key], {});\n",
              "          if (!dataTable) return;\n",
              "\n",
              "          const docLinkHtml = 'Like what you see? Visit the ' +\n",
              "            '<a target=\"_blank\" href=https://colab.research.google.com/notebooks/data_table.ipynb>data table notebook</a>'\n",
              "            + ' to learn more about interactive tables.';\n",
              "          element.innerHTML = '';\n",
              "          dataTable['output_type'] = 'display_data';\n",
              "          await google.colab.output.renderOutput(dataTable, element);\n",
              "          const docLink = document.createElement('div');\n",
              "          docLink.innerHTML = docLinkHtml;\n",
              "          element.appendChild(docLink);\n",
              "        }\n",
              "      </script>\n",
              "    </div>\n",
              "  </div>\n",
              "  "
            ]
          },
          "metadata": {},
          "execution_count": 480
        }
      ]
    },
    {
      "cell_type": "markdown",
      "source": [
        "All null to zero"
      ],
      "metadata": {
        "id": "MJteJ15b7DHM"
      }
    },
    {
      "cell_type": "code",
      "source": [
        "#convert Null/Nun to 0 \n",
        "#data.fillna(0, inplace = True)\n",
        "#data.head\n",
        "#convert float value to string\n",
        "#data['tokenizer'] = df['tokenizer'].astype(str) \n",
        "#data.dtypes"
      ],
      "metadata": {
        "id": "OC-KWoHU6_P_"
      },
      "execution_count": null,
      "outputs": []
    },
    {
      "cell_type": "markdown",
      "source": [
        "# Replace all non-letters with space"
      ],
      "metadata": {
        "id": "Fhb3gEJX7gPK"
      }
    },
    {
      "cell_type": "code",
      "source": [
        "#def cleanTxt(data): \n",
        "  #number=re.sub(\"[^a-zA-Z]\",\"\",str(string))      # Replace all non-letters with spaces\n",
        "  #return data\n",
        "#data['tokenizer'] = data['tokenizer'].apply(cleanTxt)\n",
        "#data "
      ],
      "metadata": {
        "id": "NkaCqe8B7B5G"
      },
      "execution_count": null,
      "outputs": []
    },
    {
      "cell_type": "markdown",
      "source": [
        "Removing all other foregine elements"
      ],
      "metadata": {
        "id": "uBsf-BdU7nDE"
      }
    },
    {
      "cell_type": "code",
      "source": [
        "#def cleanTxt(data): \n",
        " #data = re.sub(r'@[A-Za-z0-9]+', '', data) #Removing mentions\n",
        " #data = re.sub(r'#[A-Za-z0-9]+', '', data)  #Removing hastags\n",
        " #data = re.sub(r'RT[\\s]+', '', data)   #Removing RTs\n",
        " #data = re.sub(r'https?:\\/\\/\\S+', '', data) #Removing URLs (generally promotional posts)\n",
        " #return data\n",
        "#data['tokenizer'] = data['tokenizer'].apply(cleanTxt)\n",
        "#data"
      ],
      "metadata": {
        "id": "d4fOzWD27AHf"
      },
      "execution_count": null,
      "outputs": []
    },
    {
      "cell_type": "markdown",
      "source": [
        "Word Cloud"
      ],
      "metadata": {
        "id": "JnAJlSKg8Lvq"
      }
    },
    {
      "cell_type": "code",
      "source": [
        "data.head(1)"
      ],
      "metadata": {
        "colab": {
          "base_uri": "https://localhost:8080/",
          "height": 194
        },
        "id": "FP8f_60m8Rp1",
        "outputId": "cf4d092d-c816-4db9-f7f1-eb8da7e32e87"
      },
      "execution_count": 481,
      "outputs": [
        {
          "output_type": "execute_result",
          "data": {
            "text/plain": [
              "                                                Text  Label  \\\n",
              "0  চার দিনের মধ্যে শিক্ষার্থীকে যৌন নিপীড়নে জড়ি...      1   \n",
              "\n",
              "                                     Translated Text  \\\n",
              "0  চার দিনের মধ্যে শিক্ষার্থীকে যৌন নিপীড়নে জড়ি...   \n",
              "\n",
              "                                 Removed Puncutation  \\\n",
              "0  চার দিনের মধ্যে শিক্ষার্থীকে যৌন নিপীড়নে জড়ি...   \n",
              "\n",
              "                                Removed Stopped word  \\\n",
              "0  ['দিনের', 'শিক্ষার্থীকে', 'যৌন', 'নিপীড়নে', '...   \n",
              "\n",
              "                                          remove Eng  \\\n",
              "0  দিনের শিক্ষার্থীকে যৌন নিপীড়নে জড়িত ব্যক্তিদ...   \n",
              "\n",
              "                                             stemmed  length  \\\n",
              "0  দিনের শিক্ষার্থীকে যৌন নিপীড়নে জড়িত ব্যক্তিদ...      16   \n",
              "\n",
              "                                          pos_tagger  \\\n",
              "0  দিনের শিক্ষার্থীকে যৌন নিপীড়নে জড়িত ব্যক্তিদ...   \n",
              "\n",
              "                                           tokenizer  \n",
              "0  দিনের শিক্ষার্থীকে যৌন নিপীড়নে জড়িত ব্যক্তিদ...  "
            ],
            "text/html": [
              "\n",
              "  <div id=\"df-d74c196e-e96a-4507-aa3b-30f3e1514074\">\n",
              "    <div class=\"colab-df-container\">\n",
              "      <div>\n",
              "<style scoped>\n",
              "    .dataframe tbody tr th:only-of-type {\n",
              "        vertical-align: middle;\n",
              "    }\n",
              "\n",
              "    .dataframe tbody tr th {\n",
              "        vertical-align: top;\n",
              "    }\n",
              "\n",
              "    .dataframe thead th {\n",
              "        text-align: right;\n",
              "    }\n",
              "</style>\n",
              "<table border=\"1\" class=\"dataframe\">\n",
              "  <thead>\n",
              "    <tr style=\"text-align: right;\">\n",
              "      <th></th>\n",
              "      <th>Text</th>\n",
              "      <th>Label</th>\n",
              "      <th>Translated Text</th>\n",
              "      <th>Removed Puncutation</th>\n",
              "      <th>Removed Stopped word</th>\n",
              "      <th>remove Eng</th>\n",
              "      <th>stemmed</th>\n",
              "      <th>length</th>\n",
              "      <th>pos_tagger</th>\n",
              "      <th>tokenizer</th>\n",
              "    </tr>\n",
              "  </thead>\n",
              "  <tbody>\n",
              "    <tr>\n",
              "      <th>0</th>\n",
              "      <td>চার দিনের মধ্যে শিক্ষার্থীকে যৌন নিপীড়নে জড়ি...</td>\n",
              "      <td>1</td>\n",
              "      <td>চার দিনের মধ্যে শিক্ষার্থীকে যৌন নিপীড়নে জড়ি...</td>\n",
              "      <td>চার দিনের মধ্যে শিক্ষার্থীকে যৌন নিপীড়নে জড়ি...</td>\n",
              "      <td>['দিনের', 'শিক্ষার্থীকে', 'যৌন', 'নিপীড়নে', '...</td>\n",
              "      <td>দিনের শিক্ষার্থীকে যৌন নিপীড়নে জড়িত ব্যক্তিদ...</td>\n",
              "      <td>দিনের শিক্ষার্থীকে যৌন নিপীড়নে জড়িত ব্যক্তিদ...</td>\n",
              "      <td>16</td>\n",
              "      <td>দিনের শিক্ষার্থীকে যৌন নিপীড়নে জড়িত ব্যক্তিদ...</td>\n",
              "      <td>দিনের শিক্ষার্থীকে যৌন নিপীড়নে জড়িত ব্যক্তিদ...</td>\n",
              "    </tr>\n",
              "  </tbody>\n",
              "</table>\n",
              "</div>\n",
              "      <button class=\"colab-df-convert\" onclick=\"convertToInteractive('df-d74c196e-e96a-4507-aa3b-30f3e1514074')\"\n",
              "              title=\"Convert this dataframe to an interactive table.\"\n",
              "              style=\"display:none;\">\n",
              "        \n",
              "  <svg xmlns=\"http://www.w3.org/2000/svg\" height=\"24px\"viewBox=\"0 0 24 24\"\n",
              "       width=\"24px\">\n",
              "    <path d=\"M0 0h24v24H0V0z\" fill=\"none\"/>\n",
              "    <path d=\"M18.56 5.44l.94 2.06.94-2.06 2.06-.94-2.06-.94-.94-2.06-.94 2.06-2.06.94zm-11 1L8.5 8.5l.94-2.06 2.06-.94-2.06-.94L8.5 2.5l-.94 2.06-2.06.94zm10 10l.94 2.06.94-2.06 2.06-.94-2.06-.94-.94-2.06-.94 2.06-2.06.94z\"/><path d=\"M17.41 7.96l-1.37-1.37c-.4-.4-.92-.59-1.43-.59-.52 0-1.04.2-1.43.59L10.3 9.45l-7.72 7.72c-.78.78-.78 2.05 0 2.83L4 21.41c.39.39.9.59 1.41.59.51 0 1.02-.2 1.41-.59l7.78-7.78 2.81-2.81c.8-.78.8-2.07 0-2.86zM5.41 20L4 18.59l7.72-7.72 1.47 1.35L5.41 20z\"/>\n",
              "  </svg>\n",
              "      </button>\n",
              "      \n",
              "  <style>\n",
              "    .colab-df-container {\n",
              "      display:flex;\n",
              "      flex-wrap:wrap;\n",
              "      gap: 12px;\n",
              "    }\n",
              "\n",
              "    .colab-df-convert {\n",
              "      background-color: #E8F0FE;\n",
              "      border: none;\n",
              "      border-radius: 50%;\n",
              "      cursor: pointer;\n",
              "      display: none;\n",
              "      fill: #1967D2;\n",
              "      height: 32px;\n",
              "      padding: 0 0 0 0;\n",
              "      width: 32px;\n",
              "    }\n",
              "\n",
              "    .colab-df-convert:hover {\n",
              "      background-color: #E2EBFA;\n",
              "      box-shadow: 0px 1px 2px rgba(60, 64, 67, 0.3), 0px 1px 3px 1px rgba(60, 64, 67, 0.15);\n",
              "      fill: #174EA6;\n",
              "    }\n",
              "\n",
              "    [theme=dark] .colab-df-convert {\n",
              "      background-color: #3B4455;\n",
              "      fill: #D2E3FC;\n",
              "    }\n",
              "\n",
              "    [theme=dark] .colab-df-convert:hover {\n",
              "      background-color: #434B5C;\n",
              "      box-shadow: 0px 1px 3px 1px rgba(0, 0, 0, 0.15);\n",
              "      filter: drop-shadow(0px 1px 2px rgba(0, 0, 0, 0.3));\n",
              "      fill: #FFFFFF;\n",
              "    }\n",
              "  </style>\n",
              "\n",
              "      <script>\n",
              "        const buttonEl =\n",
              "          document.querySelector('#df-d74c196e-e96a-4507-aa3b-30f3e1514074 button.colab-df-convert');\n",
              "        buttonEl.style.display =\n",
              "          google.colab.kernel.accessAllowed ? 'block' : 'none';\n",
              "\n",
              "        async function convertToInteractive(key) {\n",
              "          const element = document.querySelector('#df-d74c196e-e96a-4507-aa3b-30f3e1514074');\n",
              "          const dataTable =\n",
              "            await google.colab.kernel.invokeFunction('convertToInteractive',\n",
              "                                                     [key], {});\n",
              "          if (!dataTable) return;\n",
              "\n",
              "          const docLinkHtml = 'Like what you see? Visit the ' +\n",
              "            '<a target=\"_blank\" href=https://colab.research.google.com/notebooks/data_table.ipynb>data table notebook</a>'\n",
              "            + ' to learn more about interactive tables.';\n",
              "          element.innerHTML = '';\n",
              "          dataTable['output_type'] = 'display_data';\n",
              "          await google.colab.output.renderOutput(dataTable, element);\n",
              "          const docLink = document.createElement('div');\n",
              "          docLink.innerHTML = docLinkHtml;\n",
              "          element.appendChild(docLink);\n",
              "        }\n",
              "      </script>\n",
              "    </div>\n",
              "  </div>\n",
              "  "
            ]
          },
          "metadata": {},
          "execution_count": 481
        }
      ]
    },
    {
      "cell_type": "code",
      "source": [
        "from wordcloud import WordCloud \n",
        "# Plot the Word Cloud\n",
        "allWords = ' '.join([comnt for comnt in data['tokenizer']])\n",
        "wordCloud = WordCloud(width =1000, height =800, random_state = 21, max_font_size = 119).generate(allWords)\n",
        "\n",
        "plt.imshow(wordCloud, interpolation = \"bilinear\")\n",
        "plt.axis('off')\n",
        "plt.show()"
      ],
      "metadata": {
        "colab": {
          "base_uri": "https://localhost:8080/",
          "height": 248
        },
        "id": "lXru-tFx8Nm1",
        "outputId": "60a975fe-241e-4d30-beaf-bc1d6e54192f"
      },
      "execution_count": 485,
      "outputs": [
        {
          "output_type": "display_data",
          "data": {
            "text/plain": [
              "<Figure size 432x288 with 1 Axes>"
            ],
            "image/png": "[encoded data removed]"
          },
          "metadata": {
            "needs_background": "light"
          }
        }
      ]
    },
    {
      "cell_type": "code",
      "source": [
        "###stop_word_file = stop_word_root_path+'/stopwords-bn.txt'\n",
        "#print(stop_word_file)\n",
        "#f = open(stop_word_file, \"r\", encoding=\"utf8\")\n",
        "#stop_word = f.read().split(\"\\n\")\n",
        "#print(stop_word)\n",
        "\n",
        "#final_text = \" \".join(author_post)\n",
        "#print(final_text)\n",
        "#wordcloud = WordCloud(stopwords = stop_word, font_path='/usr/share/fonts/truetype/freefont/kalpurush.ttf',\n",
        " #   width = 600, height = 500,max_font_size=300, max_words=vocabularyWordnumber,\n",
        "  #                    min_word_length=4, background_color=\"black\").generate(final_text)\n",
        "#wordcloud.to_file(img_file)"
      ],
      "metadata": {
        "id": "IQDsA4uOGoQC"
      },
      "execution_count": 521,
      "outputs": []
    },
    {
      "cell_type": "markdown",
      "source": [
        "Bangla word2vec embedding"
      ],
      "metadata": {
        "id": "6gFFAGlV_UwR"
      }
    },
    {
      "cell_type": "code",
      "source": [
        "import numpy as np\n",
        "import scipy"
      ],
      "metadata": {
        "id": "Eg__ESoa_y5-"
      },
      "execution_count": 487,
      "outputs": []
    },
    {
      "cell_type": "code",
      "source": [
        "#!pip install bnlp_toolkit"
      ],
      "metadata": {
        "id": "qUib5vOxAcPy"
      },
      "execution_count": null,
      "outputs": []
    },
    {
      "cell_type": "code",
      "source": [
        "from gensim.models import Word2Vec\n",
        "sentences = [[\"cat\", \"say\", \"meow\"], [\"dog\", \"say\", \"woof\"]]\n",
        "model = Word2Vec(sentences, min_count=1)"
      ],
      "metadata": {
        "id": "7SNoVI_zBj_s"
      },
      "execution_count": 498,
      "outputs": []
    },
    {
      "cell_type": "code",
      "source": [
        "from bnlp import BengaliWord2Vec\n",
        "\n",
        "bwv = BengaliWord2Vec()\n",
        "#model_path = data\n",
        "word = 'গ্রাম'\n",
        "vector = bwv.generate_word_vector(data, word)\n",
        "print(vector.shape)\n",
        "print(vector)"
      ],
      "metadata": {
        "colab": {
          "base_uri": "https://localhost:8080/",
          "height": 417
        },
        "id": "xFPGiD5v_bM9",
        "outputId": "c49d6a90-fb1b-44b3-e95b-d988ee6ecf65"
      },
      "execution_count": 499,
      "outputs": [
        {
          "output_type": "stream",
          "name": "stderr",
          "text": [
            "ERROR:gensim.models.word2vec:Model load error. Was model saved using code from an older Gensim Version? Try loading older model using gensim-3.8.3, then re-saving, to restore compatibility with current code.\n"
          ]
        },
        {
          "output_type": "error",
          "ename": "AttributeError",
          "evalue": "ignored",
          "traceback": [
            "\u001b[0;31m---------------------------------------------------------------------------\u001b[0m",
            "\u001b[0;31mAttributeError\u001b[0m                            Traceback (most recent call last)",
            "\u001b[0;32m<ipython-input-499-e78f303b8021>\u001b[0m in \u001b[0;36m<module>\u001b[0;34m()\u001b[0m\n\u001b[1;32m      4\u001b[0m \u001b[0;31m#model_path = data\u001b[0m\u001b[0;34m\u001b[0m\u001b[0;34m\u001b[0m\u001b[0;34m\u001b[0m\u001b[0m\n\u001b[1;32m      5\u001b[0m \u001b[0mword\u001b[0m \u001b[0;34m=\u001b[0m \u001b[0;34m'গ্রাম'\u001b[0m\u001b[0;34m\u001b[0m\u001b[0;34m\u001b[0m\u001b[0m\n\u001b[0;32m----> 6\u001b[0;31m \u001b[0mvector\u001b[0m \u001b[0;34m=\u001b[0m \u001b[0mbwv\u001b[0m\u001b[0;34m.\u001b[0m\u001b[0mgenerate_word_vector\u001b[0m\u001b[0;34m(\u001b[0m\u001b[0mdata\u001b[0m\u001b[0;34m,\u001b[0m \u001b[0mword\u001b[0m\u001b[0;34m)\u001b[0m\u001b[0;34m\u001b[0m\u001b[0;34m\u001b[0m\u001b[0m\n\u001b[0m\u001b[1;32m      7\u001b[0m \u001b[0mprint\u001b[0m\u001b[0;34m(\u001b[0m\u001b[0mvector\u001b[0m\u001b[0;34m.\u001b[0m\u001b[0mshape\u001b[0m\u001b[0;34m)\u001b[0m\u001b[0;34m\u001b[0m\u001b[0;34m\u001b[0m\u001b[0m\n\u001b[1;32m      8\u001b[0m \u001b[0mprint\u001b[0m\u001b[0;34m(\u001b[0m\u001b[0mvector\u001b[0m\u001b[0;34m)\u001b[0m\u001b[0;34m\u001b[0m\u001b[0;34m\u001b[0m\u001b[0m\n",
            "\u001b[0;32m/usr/local/lib/python3.7/dist-packages/bnlp/embedding/word2vec.py\u001b[0m in \u001b[0;36mgenerate_word_vector\u001b[0;34m(self, model_path, input_word)\u001b[0m\n\u001b[1;32m    133\u001b[0m \u001b[0;34m\u001b[0m\u001b[0m\n\u001b[1;32m    134\u001b[0m         \"\"\"\n\u001b[0;32m--> 135\u001b[0;31m         \u001b[0mmodel\u001b[0m \u001b[0;34m=\u001b[0m \u001b[0mWord2Vec\u001b[0m\u001b[0;34m.\u001b[0m\u001b[0mload\u001b[0m\u001b[0;34m(\u001b[0m\u001b[0mmodel_path\u001b[0m\u001b[0;34m)\u001b[0m\u001b[0;34m\u001b[0m\u001b[0;34m\u001b[0m\u001b[0m\n\u001b[0m\u001b[1;32m    136\u001b[0m         \u001b[0mvector\u001b[0m \u001b[0;34m=\u001b[0m \u001b[0mmodel\u001b[0m\u001b[0;34m.\u001b[0m\u001b[0mwv\u001b[0m\u001b[0;34m[\u001b[0m\u001b[0minput_word\u001b[0m\u001b[0;34m]\u001b[0m\u001b[0;34m\u001b[0m\u001b[0;34m\u001b[0m\u001b[0m\n\u001b[1;32m    137\u001b[0m         \u001b[0;32mreturn\u001b[0m \u001b[0mvector\u001b[0m\u001b[0;34m\u001b[0m\u001b[0;34m\u001b[0m\u001b[0m\n",
            "\u001b[0;32m/usr/local/lib/python3.7/dist-packages/gensim/models/word2vec.py\u001b[0m in \u001b[0;36mload\u001b[0;34m(cls, rethrow, *args, **kwargs)\u001b[0m\n\u001b[1;32m   1932\u001b[0m                 \u001b[0;34m\"Try loading older model using gensim-3.8.3, then re-saving, to restore \"\u001b[0m\u001b[0;34m\u001b[0m\u001b[0;34m\u001b[0m\u001b[0m\n\u001b[1;32m   1933\u001b[0m                 \"compatibility with current code.\")\n\u001b[0;32m-> 1934\u001b[0;31m             \u001b[0;32mraise\u001b[0m \u001b[0mae\u001b[0m\u001b[0;34m\u001b[0m\u001b[0;34m\u001b[0m\u001b[0m\n\u001b[0m\u001b[1;32m   1935\u001b[0m \u001b[0;34m\u001b[0m\u001b[0m\n\u001b[1;32m   1936\u001b[0m     \u001b[0;32mdef\u001b[0m \u001b[0m_load_specials\u001b[0m\u001b[0;34m(\u001b[0m\u001b[0mself\u001b[0m\u001b[0;34m,\u001b[0m \u001b[0;34m*\u001b[0m\u001b[0margs\u001b[0m\u001b[0;34m,\u001b[0m \u001b[0;34m**\u001b[0m\u001b[0mkwargs\u001b[0m\u001b[0;34m)\u001b[0m\u001b[0;34m:\u001b[0m\u001b[0;34m\u001b[0m\u001b[0;34m\u001b[0m\u001b[0m\n",
            "\u001b[0;32m/usr/local/lib/python3.7/dist-packages/gensim/models/word2vec.py\u001b[0m in \u001b[0;36mload\u001b[0;34m(cls, rethrow, *args, **kwargs)\u001b[0m\n\u001b[1;32m   1920\u001b[0m         \"\"\"\n\u001b[1;32m   1921\u001b[0m         \u001b[0;32mtry\u001b[0m\u001b[0;34m:\u001b[0m\u001b[0;34m\u001b[0m\u001b[0;34m\u001b[0m\u001b[0m\n\u001b[0;32m-> 1922\u001b[0;31m             \u001b[0mmodel\u001b[0m \u001b[0;34m=\u001b[0m \u001b[0msuper\u001b[0m\u001b[0;34m(\u001b[0m\u001b[0mWord2Vec\u001b[0m\u001b[0;34m,\u001b[0m \u001b[0mcls\u001b[0m\u001b[0;34m)\u001b[0m\u001b[0;34m.\u001b[0m\u001b[0mload\u001b[0m\u001b[0;34m(\u001b[0m\u001b[0;34m*\u001b[0m\u001b[0margs\u001b[0m\u001b[0;34m,\u001b[0m \u001b[0;34m**\u001b[0m\u001b[0mkwargs\u001b[0m\u001b[0;34m)\u001b[0m\u001b[0;34m\u001b[0m\u001b[0;34m\u001b[0m\u001b[0m\n\u001b[0m\u001b[1;32m   1923\u001b[0m             \u001b[0;32mif\u001b[0m \u001b[0;32mnot\u001b[0m \u001b[0misinstance\u001b[0m\u001b[0;34m(\u001b[0m\u001b[0mmodel\u001b[0m\u001b[0;34m,\u001b[0m \u001b[0mWord2Vec\u001b[0m\u001b[0;34m)\u001b[0m\u001b[0;34m:\u001b[0m\u001b[0;34m\u001b[0m\u001b[0;34m\u001b[0m\u001b[0m\n\u001b[1;32m   1924\u001b[0m                 \u001b[0mrethrow\u001b[0m \u001b[0;34m=\u001b[0m \u001b[0;32mTrue\u001b[0m\u001b[0;34m\u001b[0m\u001b[0;34m\u001b[0m\u001b[0m\n",
            "\u001b[0;32m/usr/local/lib/python3.7/dist-packages/gensim/utils.py\u001b[0m in \u001b[0;36mload\u001b[0;34m(cls, fname, mmap)\u001b[0m\n\u001b[1;32m    482\u001b[0m         \u001b[0mlogger\u001b[0m\u001b[0;34m.\u001b[0m\u001b[0minfo\u001b[0m\u001b[0;34m(\u001b[0m\u001b[0;34m\"loading %s object from %s\"\u001b[0m\u001b[0;34m,\u001b[0m \u001b[0mcls\u001b[0m\u001b[0;34m.\u001b[0m\u001b[0m__name__\u001b[0m\u001b[0;34m,\u001b[0m \u001b[0mfname\u001b[0m\u001b[0;34m)\u001b[0m\u001b[0;34m\u001b[0m\u001b[0;34m\u001b[0m\u001b[0m\n\u001b[1;32m    483\u001b[0m \u001b[0;34m\u001b[0m\u001b[0m\n\u001b[0;32m--> 484\u001b[0;31m         \u001b[0mcompress\u001b[0m\u001b[0;34m,\u001b[0m \u001b[0msubname\u001b[0m \u001b[0;34m=\u001b[0m \u001b[0mSaveLoad\u001b[0m\u001b[0;34m.\u001b[0m\u001b[0m_adapt_by_suffix\u001b[0m\u001b[0;34m(\u001b[0m\u001b[0mfname\u001b[0m\u001b[0;34m)\u001b[0m\u001b[0;34m\u001b[0m\u001b[0;34m\u001b[0m\u001b[0m\n\u001b[0m\u001b[1;32m    485\u001b[0m \u001b[0;34m\u001b[0m\u001b[0m\n\u001b[1;32m    486\u001b[0m         \u001b[0mobj\u001b[0m \u001b[0;34m=\u001b[0m \u001b[0munpickle\u001b[0m\u001b[0;34m(\u001b[0m\u001b[0mfname\u001b[0m\u001b[0;34m)\u001b[0m\u001b[0;34m\u001b[0m\u001b[0;34m\u001b[0m\u001b[0m\n",
            "\u001b[0;32m/usr/local/lib/python3.7/dist-packages/gensim/utils.py\u001b[0m in \u001b[0;36m_adapt_by_suffix\u001b[0;34m(fname)\u001b[0m\n\u001b[1;32m    571\u001b[0m \u001b[0;34m\u001b[0m\u001b[0m\n\u001b[1;32m    572\u001b[0m         \"\"\"\n\u001b[0;32m--> 573\u001b[0;31m         \u001b[0mcompress\u001b[0m\u001b[0;34m,\u001b[0m \u001b[0msuffix\u001b[0m \u001b[0;34m=\u001b[0m \u001b[0;34m(\u001b[0m\u001b[0;32mTrue\u001b[0m\u001b[0;34m,\u001b[0m \u001b[0;34m'npz'\u001b[0m\u001b[0;34m)\u001b[0m \u001b[0;32mif\u001b[0m \u001b[0mfname\u001b[0m\u001b[0;34m.\u001b[0m\u001b[0mendswith\u001b[0m\u001b[0;34m(\u001b[0m\u001b[0;34m'.gz'\u001b[0m\u001b[0;34m)\u001b[0m \u001b[0;32mor\u001b[0m \u001b[0mfname\u001b[0m\u001b[0;34m.\u001b[0m\u001b[0mendswith\u001b[0m\u001b[0;34m(\u001b[0m\u001b[0;34m'.bz2'\u001b[0m\u001b[0;34m)\u001b[0m \u001b[0;32melse\u001b[0m \u001b[0;34m(\u001b[0m\u001b[0;32mFalse\u001b[0m\u001b[0;34m,\u001b[0m \u001b[0;34m'npy'\u001b[0m\u001b[0;34m)\u001b[0m\u001b[0;34m\u001b[0m\u001b[0;34m\u001b[0m\u001b[0m\n\u001b[0m\u001b[1;32m    574\u001b[0m         \u001b[0;32mreturn\u001b[0m \u001b[0mcompress\u001b[0m\u001b[0;34m,\u001b[0m \u001b[0;32mlambda\u001b[0m \u001b[0;34m*\u001b[0m\u001b[0margs\u001b[0m\u001b[0;34m:\u001b[0m \u001b[0;34m'.'\u001b[0m\u001b[0;34m.\u001b[0m\u001b[0mjoin\u001b[0m\u001b[0;34m(\u001b[0m\u001b[0margs\u001b[0m \u001b[0;34m+\u001b[0m \u001b[0;34m(\u001b[0m\u001b[0msuffix\u001b[0m\u001b[0;34m,\u001b[0m\u001b[0;34m)\u001b[0m\u001b[0;34m)\u001b[0m\u001b[0;34m\u001b[0m\u001b[0;34m\u001b[0m\u001b[0m\n\u001b[1;32m    575\u001b[0m \u001b[0;34m\u001b[0m\u001b[0m\n",
            "\u001b[0;32m/usr/local/lib/python3.7/dist-packages/pandas/core/generic.py\u001b[0m in \u001b[0;36m__getattr__\u001b[0;34m(self, name)\u001b[0m\n\u001b[1;32m   5485\u001b[0m         ):\n\u001b[1;32m   5486\u001b[0m             \u001b[0;32mreturn\u001b[0m \u001b[0mself\u001b[0m\u001b[0;34m[\u001b[0m\u001b[0mname\u001b[0m\u001b[0;34m]\u001b[0m\u001b[0;34m\u001b[0m\u001b[0;34m\u001b[0m\u001b[0m\n\u001b[0;32m-> 5487\u001b[0;31m         \u001b[0;32mreturn\u001b[0m \u001b[0mobject\u001b[0m\u001b[0;34m.\u001b[0m\u001b[0m__getattribute__\u001b[0m\u001b[0;34m(\u001b[0m\u001b[0mself\u001b[0m\u001b[0;34m,\u001b[0m \u001b[0mname\u001b[0m\u001b[0;34m)\u001b[0m\u001b[0;34m\u001b[0m\u001b[0;34m\u001b[0m\u001b[0m\n\u001b[0m\u001b[1;32m   5488\u001b[0m \u001b[0;34m\u001b[0m\u001b[0m\n\u001b[1;32m   5489\u001b[0m     \u001b[0;32mdef\u001b[0m \u001b[0m__setattr__\u001b[0m\u001b[0;34m(\u001b[0m\u001b[0mself\u001b[0m\u001b[0;34m,\u001b[0m \u001b[0mname\u001b[0m\u001b[0;34m:\u001b[0m \u001b[0mstr\u001b[0m\u001b[0;34m,\u001b[0m \u001b[0mvalue\u001b[0m\u001b[0;34m)\u001b[0m \u001b[0;34m->\u001b[0m \u001b[0;32mNone\u001b[0m\u001b[0;34m:\u001b[0m\u001b[0;34m\u001b[0m\u001b[0;34m\u001b[0m\u001b[0m\n",
            "\u001b[0;31mAttributeError\u001b[0m: 'DataFrame' object has no attribute 'endswith'"
          ]
        }
      ]
    },
    {
      "cell_type": "code",
      "source": [
        "from bn_nlp.sent2sent_embedding import sent2sent\n",
        "s2s=sent2sent()\n",
        "text1=\"আমি ভাত খাই\"\n",
        "text2=\"আমি পাস্তা খেতে চাই\"\n",
        "print(s2s.dist(text1,text2))"
      ],
      "metadata": {
        "colab": {
          "base_uri": "https://localhost:8080/",
          "height": 373
        },
        "id": "wBWSQuuCAFHD",
        "outputId": "97d88d35-ef64-4b04-9f63-81f8c9faeb30"
      },
      "execution_count": 489,
      "outputs": [
        {
          "output_type": "error",
          "ename": "ModuleNotFoundError",
          "evalue": "ignored",
          "traceback": [
            "\u001b[0;31m---------------------------------------------------------------------------\u001b[0m",
            "\u001b[0;31mModuleNotFoundError\u001b[0m                       Traceback (most recent call last)",
            "\u001b[0;32m<ipython-input-489-33ca608b98f4>\u001b[0m in \u001b[0;36m<module>\u001b[0;34m()\u001b[0m\n\u001b[0;32m----> 1\u001b[0;31m \u001b[0;32mfrom\u001b[0m \u001b[0mbn_nlp\u001b[0m\u001b[0;34m.\u001b[0m\u001b[0msent2sent_embedding\u001b[0m \u001b[0;32mimport\u001b[0m \u001b[0msent2sent\u001b[0m\u001b[0;34m\u001b[0m\u001b[0;34m\u001b[0m\u001b[0m\n\u001b[0m\u001b[1;32m      2\u001b[0m \u001b[0ms2s\u001b[0m\u001b[0;34m=\u001b[0m\u001b[0msent2sent\u001b[0m\u001b[0;34m(\u001b[0m\u001b[0;34m)\u001b[0m\u001b[0;34m\u001b[0m\u001b[0;34m\u001b[0m\u001b[0m\n\u001b[1;32m      3\u001b[0m \u001b[0mtext1\u001b[0m\u001b[0;34m=\u001b[0m\u001b[0;34m\"আমি ভাত খাই\"\u001b[0m\u001b[0;34m\u001b[0m\u001b[0;34m\u001b[0m\u001b[0m\n\u001b[1;32m      4\u001b[0m \u001b[0mtext2\u001b[0m\u001b[0;34m=\u001b[0m\u001b[0;34m\"আমি পাস্তা খেতে চাই\"\u001b[0m\u001b[0;34m\u001b[0m\u001b[0;34m\u001b[0m\u001b[0m\n\u001b[1;32m      5\u001b[0m \u001b[0mprint\u001b[0m\u001b[0;34m(\u001b[0m\u001b[0ms2s\u001b[0m\u001b[0;34m.\u001b[0m\u001b[0mdist\u001b[0m\u001b[0;34m(\u001b[0m\u001b[0mtext1\u001b[0m\u001b[0;34m,\u001b[0m\u001b[0mtext2\u001b[0m\u001b[0;34m)\u001b[0m\u001b[0;34m)\u001b[0m\u001b[0;34m\u001b[0m\u001b[0;34m\u001b[0m\u001b[0m\n",
            "\u001b[0;31mModuleNotFoundError\u001b[0m: No module named 'bn_nlp'",
            "",
            "\u001b[0;31m---------------------------------------------------------------------------\u001b[0;32m\nNOTE: If your import is failing due to a missing package, you can\nmanually install dependencies using either !pip or !apt.\n\nTo view examples of installing some common dependencies, click the\n\"Open Examples\" button below.\n\u001b[0;31m---------------------------------------------------------------------------\u001b[0m\n"
          ],
          "errorDetails": {
            "actions": [
              {
                "action": "open_url",
                "actionText": "Open Examples",
                "url": "/notebooks/snippets/importing_libraries.ipynb"
              }
            ]
          }
        }
      ]
    },
    {
      "cell_type": "markdown",
      "source": [
        "Tf-idf Vectorizer"
      ],
      "metadata": {
        "id": "zU3rlkOVthR3"
      }
    },
    {
      "cell_type": "code",
      "source": [
        "X=data['stemmed']\n",
        "y=data['Label']\n",
        "X_train, X_test, y_train, y_test = train_test_split(X, y, test_size=0.20, stratify= y)"
      ],
      "metadata": {
        "id": "jFsUUo81kdIA"
      },
      "execution_count": 450,
      "outputs": []
    },
    {
      "cell_type": "code",
      "source": [
        "import re\n",
        "from sklearn.feature_extraction.text import TfidfVectorizer\n",
        "from sklearn.svm import LinearSVC"
      ],
      "metadata": {
        "id": "oqT5pMPIzVn3"
      },
      "execution_count": 452,
      "outputs": []
    },
    {
      "cell_type": "code",
      "source": [
        "vectorizer = TfidfVectorizer()\n",
        "X_train_tfvect = vectorizer.fit_transform(X_train)\n",
        "X_train_tfvect.shape\n",
        "X_test_tfvect=vectorizer.fit_transform(X_test)"
      ],
      "metadata": {
        "id": "M3axcjoazAnj"
      },
      "execution_count": 453,
      "outputs": []
    },
    {
      "cell_type": "code",
      "source": [
        "data.info()"
      ],
      "metadata": {
        "colab": {
          "base_uri": "https://localhost:8080/"
        },
        "id": "0GWJH8WwzJCF",
        "outputId": "be958370-368c-494f-d512-91f415252da7"
      },
      "execution_count": 454,
      "outputs": [
        {
          "output_type": "stream",
          "name": "stdout",
          "text": [
            "<class 'pandas.core.frame.DataFrame'>\n",
            "Int64Index: 283 entries, 0 to 282\n",
            "Data columns (total 7 columns):\n",
            " #   Column                Non-Null Count  Dtype \n",
            "---  ------                --------------  ----- \n",
            " 0   Text                  283 non-null    object\n",
            " 1   Label                 283 non-null    int64 \n",
            " 2   Translated Text       283 non-null    object\n",
            " 3   Removed Puncutation   283 non-null    object\n",
            " 4   Removed Stopped word  283 non-null    object\n",
            " 5   remove Eng            283 non-null    object\n",
            " 6   stemmed               283 non-null    object\n",
            "dtypes: int64(1), object(6)\n",
            "memory usage: 17.7+ KB\n"
          ]
        }
      ]
    },
    {
      "cell_type": "markdown",
      "source": [
        "Linear SVC"
      ],
      "metadata": {
        "id": "s4gy9PG6zpz1"
      }
    },
    {
      "cell_type": "code",
      "source": [
        "clf = LinearSVC()\n",
        "clf.fit(X_train_tfvect,y_train)"
      ],
      "metadata": {
        "colab": {
          "base_uri": "https://localhost:8080/"
        },
        "id": "UUeM1O7mzfvq",
        "outputId": "f254341f-ffa0-448e-f78b-4f124abea6a7"
      },
      "execution_count": 455,
      "outputs": [
        {
          "output_type": "execute_result",
          "data": {
            "text/plain": [
              "LinearSVC()"
            ]
          },
          "metadata": {},
          "execution_count": 455
        }
      ]
    },
    {
      "cell_type": "code",
      "source": [
        "text_clf=Pipeline([('tfidf',TfidfVectorizer()),('clf',LinearSVC())])\n",
        "text_clf.fit(X_train,y_train)"
      ],
      "metadata": {
        "colab": {
          "base_uri": "https://localhost:8080/"
        },
        "id": "GKFXvGKrzr3F",
        "outputId": "a1a2bb97-cb58-4ccf-ebec-d3c54f285d5b"
      },
      "execution_count": 456,
      "outputs": [
        {
          "output_type": "execute_result",
          "data": {
            "text/plain": [
              "Pipeline(steps=[('tfidf', TfidfVectorizer()), ('clf', LinearSVC())])"
            ]
          },
          "metadata": {},
          "execution_count": 456
        }
      ]
    },
    {
      "cell_type": "code",
      "source": [
        "predictions=text_clf.predict(X_test)"
      ],
      "metadata": {
        "id": "ThqJPh_jzv3p"
      },
      "execution_count": 457,
      "outputs": []
    },
    {
      "cell_type": "code",
      "source": [
        "from sklearn import metrics\n",
        "print(metrics.confusion_matrix(y_test,predictions))"
      ],
      "metadata": {
        "colab": {
          "base_uri": "https://localhost:8080/"
        },
        "id": "VY1LSNiszxNd",
        "outputId": "df9f02c2-753e-4f4a-dfd4-8b2a5cde1903"
      },
      "execution_count": 458,
      "outputs": [
        {
          "output_type": "stream",
          "name": "stdout",
          "text": [
            "[[48  1]\n",
            " [ 6  2]]\n"
          ]
        }
      ]
    },
    {
      "cell_type": "code",
      "source": [
        "print(metrics.classification_report(y_test,predictions))"
      ],
      "metadata": {
        "colab": {
          "base_uri": "https://localhost:8080/"
        },
        "id": "WTH9vY86z0RF",
        "outputId": "df5cf6fe-c22c-4f1b-89b7-a049165652ac"
      },
      "execution_count": 459,
      "outputs": [
        {
          "output_type": "stream",
          "name": "stdout",
          "text": [
            "              precision    recall  f1-score   support\n",
            "\n",
            "           0       0.89      0.98      0.93        49\n",
            "           1       0.67      0.25      0.36         8\n",
            "\n",
            "    accuracy                           0.88        57\n",
            "   macro avg       0.78      0.61      0.65        57\n",
            "weighted avg       0.86      0.88      0.85        57\n",
            "\n"
          ]
        }
      ]
    },
    {
      "cell_type": "code",
      "source": [
        "from sklearn.metrics import roc_curve, auc\n",
        "#train_fpr, train_tpr, tr_thresholds = roc_curve(y_train, y_train_pred)\n",
        "test_fpr, test_tpr, te_thresholds = roc_curve(y_test, predictions)\n",
        "\n",
        "plt.grid()\n",
        "\n",
        "#plt.plot(train_fpr, train_tpr, label=\" AUC TRAIN =\"+str(auc(train_fpr, train_tpr)))\n",
        "plt.plot(test_fpr, test_tpr, label=\" AUC TEST =\"+str(auc(test_fpr, test_tpr)))\n",
        "plt.plot([0,1],[0,1],'r--')\n",
        "plt.legend()\n",
        "plt.xlabel(\"True Positive Rate\")\n",
        "plt.ylabel(\"False Positive Rate\")\n",
        "plt.title(\"AUC(ROC curve)\")\n",
        "plt.grid(color='black', linestyle='-', linewidth=0.5)\n",
        "plt.show()"
      ],
      "metadata": {
        "colab": {
          "base_uri": "https://localhost:8080/",
          "height": 295
        },
        "id": "5mvrhgvPz3Rp",
        "outputId": "c898e302-63f6-4d68-d4e2-d5bbfc9cd629"
      },
      "execution_count": 460,
      "outputs": [
        {
          "output_type": "display_data",
          "data": {
            "text/plain": [
              "<Figure size 432x288 with 1 Axes>"
            ],
            "image/png": "[encoded data removed]"
          },
          "metadata": {
            "needs_background": "light"
          }
        }
      ]
    },
    {
      "cell_type": "markdown",
      "source": [
        "LSTM"
      ],
      "metadata": {
        "id": "qOLix4zrFomp"
      }
    },
    {
      "cell_type": "code",
      "source": [
        "import numpy as np \n",
        "from keras.preprocessing.text import Tokenizer\n",
        "from keras.preprocessing.sequence import pad_sequences\n",
        "from keras.models import Sequential\n",
        "from keras.layers import LSTM,Dense,Embedding,SpatialDropout1D\n",
        "from keras.utils.np_utils import to_categorical\n",
        "from sklearn.model_selection import train_test_split\n",
        "from sklearn.feature_extraction.text import CountVectorizer"
      ],
      "metadata": {
        "id": "3kh2NmLDDICl"
      },
      "execution_count": 500,
      "outputs": []
    },
    {
      "cell_type": "code",
      "source": [
        "data.head(1)"
      ],
      "metadata": {
        "colab": {
          "base_uri": "https://localhost:8080/",
          "height": 194
        },
        "id": "oJ2to53qD0ZC",
        "outputId": "d0915617-4fd5-4ae5-984b-5956eb02c9a7"
      },
      "execution_count": 501,
      "outputs": [
        {
          "output_type": "execute_result",
          "data": {
            "text/plain": [
              "                                                Text  Label  \\\n",
              "0  চার দিনের মধ্যে শিক্ষার্থীকে যৌন নিপীড়নে জড়ি...      1   \n",
              "\n",
              "                                     Translated Text  \\\n",
              "0  চার দিনের মধ্যে শিক্ষার্থীকে যৌন নিপীড়নে জড়ি...   \n",
              "\n",
              "                                 Removed Puncutation  \\\n",
              "0  চার দিনের মধ্যে শিক্ষার্থীকে যৌন নিপীড়নে জড়ি...   \n",
              "\n",
              "                                Removed Stopped word  \\\n",
              "0  ['দিনের', 'শিক্ষার্থীকে', 'যৌন', 'নিপীড়নে', '...   \n",
              "\n",
              "                                          remove Eng  \\\n",
              "0  দিনের শিক্ষার্থীকে যৌন নিপীড়নে জড়িত ব্যক্তিদ...   \n",
              "\n",
              "                                             stemmed  length  \\\n",
              "0  দিনের শিক্ষার্থীকে যৌন নিপীড়নে জড়িত ব্যক্তিদ...      16   \n",
              "\n",
              "                                          pos_tagger  \\\n",
              "0  দিনের শিক্ষার্থীকে যৌন নিপীড়নে জড়িত ব্যক্তিদ...   \n",
              "\n",
              "                                           tokenizer  \n",
              "0  দিনের শিক্ষার্থীকে যৌন নিপীড়নে জড়িত ব্যক্তিদ...  "
            ],
            "text/html": [
              "\n",
              "  <div id=\"df-97c543ed-d477-4dbf-809f-376a683b4a59\">\n",
              "    <div class=\"colab-df-container\">\n",
              "      <div>\n",
              "<style scoped>\n",
              "    .dataframe tbody tr th:only-of-type {\n",
              "        vertical-align: middle;\n",
              "    }\n",
              "\n",
              "    .dataframe tbody tr th {\n",
              "        vertical-align: top;\n",
              "    }\n",
              "\n",
              "    .dataframe thead th {\n",
              "        text-align: right;\n",
              "    }\n",
              "</style>\n",
              "<table border=\"1\" class=\"dataframe\">\n",
              "  <thead>\n",
              "    <tr style=\"text-align: right;\">\n",
              "      <th></th>\n",
              "      <th>Text</th>\n",
              "      <th>Label</th>\n",
              "      <th>Translated Text</th>\n",
              "      <th>Removed Puncutation</th>\n",
              "      <th>Removed Stopped word</th>\n",
              "      <th>remove Eng</th>\n",
              "      <th>stemmed</th>\n",
              "      <th>length</th>\n",
              "      <th>pos_tagger</th>\n",
              "      <th>tokenizer</th>\n",
              "    </tr>\n",
              "  </thead>\n",
              "  <tbody>\n",
              "    <tr>\n",
              "      <th>0</th>\n",
              "      <td>চার দিনের মধ্যে শিক্ষার্থীকে যৌন নিপীড়নে জড়ি...</td>\n",
              "      <td>1</td>\n",
              "      <td>চার দিনের মধ্যে শিক্ষার্থীকে যৌন নিপীড়নে জড়ি...</td>\n",
              "      <td>চার দিনের মধ্যে শিক্ষার্থীকে যৌন নিপীড়নে জড়ি...</td>\n",
              "      <td>['দিনের', 'শিক্ষার্থীকে', 'যৌন', 'নিপীড়নে', '...</td>\n",
              "      <td>দিনের শিক্ষার্থীকে যৌন নিপীড়নে জড়িত ব্যক্তিদ...</td>\n",
              "      <td>দিনের শিক্ষার্থীকে যৌন নিপীড়নে জড়িত ব্যক্তিদ...</td>\n",
              "      <td>16</td>\n",
              "      <td>দিনের শিক্ষার্থীকে যৌন নিপীড়নে জড়িত ব্যক্তিদ...</td>\n",
              "      <td>দিনের শিক্ষার্থীকে যৌন নিপীড়নে জড়িত ব্যক্তিদ...</td>\n",
              "    </tr>\n",
              "  </tbody>\n",
              "</table>\n",
              "</div>\n",
              "      <button class=\"colab-df-convert\" onclick=\"convertToInteractive('df-97c543ed-d477-4dbf-809f-376a683b4a59')\"\n",
              "              title=\"Convert this dataframe to an interactive table.\"\n",
              "              style=\"display:none;\">\n",
              "        \n",
              "  <svg xmlns=\"http://www.w3.org/2000/svg\" height=\"24px\"viewBox=\"0 0 24 24\"\n",
              "       width=\"24px\">\n",
              "    <path d=\"M0 0h24v24H0V0z\" fill=\"none\"/>\n",
              "    <path d=\"M18.56 5.44l.94 2.06.94-2.06 2.06-.94-2.06-.94-.94-2.06-.94 2.06-2.06.94zm-11 1L8.5 8.5l.94-2.06 2.06-.94-2.06-.94L8.5 2.5l-.94 2.06-2.06.94zm10 10l.94 2.06.94-2.06 2.06-.94-2.06-.94-.94-2.06-.94 2.06-2.06.94z\"/><path d=\"M17.41 7.96l-1.37-1.37c-.4-.4-.92-.59-1.43-.59-.52 0-1.04.2-1.43.59L10.3 9.45l-7.72 7.72c-.78.78-.78 2.05 0 2.83L4 21.41c.39.39.9.59 1.41.59.51 0 1.02-.2 1.41-.59l7.78-7.78 2.81-2.81c.8-.78.8-2.07 0-2.86zM5.41 20L4 18.59l7.72-7.72 1.47 1.35L5.41 20z\"/>\n",
              "  </svg>\n",
              "      </button>\n",
              "      \n",
              "  <style>\n",
              "    .colab-df-container {\n",
              "      display:flex;\n",
              "      flex-wrap:wrap;\n",
              "      gap: 12px;\n",
              "    }\n",
              "\n",
              "    .colab-df-convert {\n",
              "      background-color: #E8F0FE;\n",
              "      border: none;\n",
              "      border-radius: 50%;\n",
              "      cursor: pointer;\n",
              "      display: none;\n",
              "      fill: #1967D2;\n",
              "      height: 32px;\n",
              "      padding: 0 0 0 0;\n",
              "      width: 32px;\n",
              "    }\n",
              "\n",
              "    .colab-df-convert:hover {\n",
              "      background-color: #E2EBFA;\n",
              "      box-shadow: 0px 1px 2px rgba(60, 64, 67, 0.3), 0px 1px 3px 1px rgba(60, 64, 67, 0.15);\n",
              "      fill: #174EA6;\n",
              "    }\n",
              "\n",
              "    [theme=dark] .colab-df-convert {\n",
              "      background-color: #3B4455;\n",
              "      fill: #D2E3FC;\n",
              "    }\n",
              "\n",
              "    [theme=dark] .colab-df-convert:hover {\n",
              "      background-color: #434B5C;\n",
              "      box-shadow: 0px 1px 3px 1px rgba(0, 0, 0, 0.15);\n",
              "      filter: drop-shadow(0px 1px 2px rgba(0, 0, 0, 0.3));\n",
              "      fill: #FFFFFF;\n",
              "    }\n",
              "  </style>\n",
              "\n",
              "      <script>\n",
              "        const buttonEl =\n",
              "          document.querySelector('#df-97c543ed-d477-4dbf-809f-376a683b4a59 button.colab-df-convert');\n",
              "        buttonEl.style.display =\n",
              "          google.colab.kernel.accessAllowed ? 'block' : 'none';\n",
              "\n",
              "        async function convertToInteractive(key) {\n",
              "          const element = document.querySelector('#df-97c543ed-d477-4dbf-809f-376a683b4a59');\n",
              "          const dataTable =\n",
              "            await google.colab.kernel.invokeFunction('convertToInteractive',\n",
              "                                                     [key], {});\n",
              "          if (!dataTable) return;\n",
              "\n",
              "          const docLinkHtml = 'Like what you see? Visit the ' +\n",
              "            '<a target=\"_blank\" href=https://colab.research.google.com/notebooks/data_table.ipynb>data table notebook</a>'\n",
              "            + ' to learn more about interactive tables.';\n",
              "          element.innerHTML = '';\n",
              "          dataTable['output_type'] = 'display_data';\n",
              "          await google.colab.output.renderOutput(dataTable, element);\n",
              "          const docLink = document.createElement('div');\n",
              "          docLink.innerHTML = docLinkHtml;\n",
              "          element.appendChild(docLink);\n",
              "        }\n",
              "      </script>\n",
              "    </div>\n",
              "  </div>\n",
              "  "
            ]
          },
          "metadata": {},
          "execution_count": 501
        }
      ]
    },
    {
      "cell_type": "code",
      "source": [
        "max_fatures = 2500\n",
        "tokenizer = Tokenizer(num_words=max_fatures, split=' ')\n",
        "tokenizer.fit_on_texts(data['tokenizer'].values)\n",
        "X = tokenizer.texts_to_sequences(data['tokenizer'].values)\n",
        "X = pad_sequences(X)"
      ],
      "metadata": {
        "id": "XslsFKQWDR5P"
      },
      "execution_count": 506,
      "outputs": []
    },
    {
      "cell_type": "code",
      "source": [
        "np.shape(X)"
      ],
      "metadata": {
        "colab": {
          "base_uri": "https://localhost:8080/"
        },
        "id": "NRpnq58eDYcy",
        "outputId": "0733c40a-84fb-4f27-9728-ec33fb56703e"
      },
      "execution_count": 507,
      "outputs": [
        {
          "output_type": "execute_result",
          "data": {
            "text/plain": [
              "(283, 62)"
            ]
          },
          "metadata": {},
          "execution_count": 507
        }
      ]
    },
    {
      "cell_type": "code",
      "source": [
        "embed_dim = 64\n",
        "model = Sequential()\n",
        "model.add(Embedding(max_fatures, embed_dim,input_length = X.shape[1]))\n",
        "model.add(SpatialDropout1D(0.4))\n",
        "model.add(LSTM(64, dropout=0.2, recurrent_dropout=0.2))\n",
        "model.add(Dense(2,activation='softmax'))\n",
        "model.compile(loss = 'categorical_crossentropy', optimizer='adam',metrics = ['acc'])"
      ],
      "metadata": {
        "id": "MrpdGAZaDdgg"
      },
      "execution_count": 508,
      "outputs": []
    },
    {
      "cell_type": "code",
      "source": [
        "print(model.summary())"
      ],
      "metadata": {
        "colab": {
          "base_uri": "https://localhost:8080/"
        },
        "id": "5D4KI2XKDd6c",
        "outputId": "85537aa4-4b15-49fe-f7f1-3db4c1b6e67c"
      },
      "execution_count": 509,
      "outputs": [
        {
          "output_type": "stream",
          "name": "stdout",
          "text": [
            "Model: \"sequential\"\n",
            "_________________________________________________________________\n",
            " Layer (type)                Output Shape              Param #   \n",
            "=================================================================\n",
            " embedding (Embedding)       (None, 62, 64)            160000    \n",
            "                                                                 \n",
            " spatial_dropout1d (SpatialD  (None, 62, 64)           0         \n",
            " ropout1D)                                                       \n",
            "                                                                 \n",
            " lstm (LSTM)                 (None, 64)                33024     \n",
            "                                                                 \n",
            " dense (Dense)               (None, 2)                 130       \n",
            "                                                                 \n",
            "=================================================================\n",
            "Total params: 193,154\n",
            "Trainable params: 193,154\n",
            "Non-trainable params: 0\n",
            "_________________________________________________________________\n",
            "None\n"
          ]
        }
      ]
    },
    {
      "cell_type": "code",
      "source": [
        "Y = pd.get_dummies(data['Label']).values\n",
        "X_train, X_test, Y_train, Y_test = train_test_split(X,Y, test_size = 0.20,random_state = 42)\n",
        "print(X_train.shape,Y_train.shape)\n",
        "print(X_test.shape,Y_test.shape)"
      ],
      "metadata": {
        "colab": {
          "base_uri": "https://localhost:8080/"
        },
        "id": "4TWSGuw-DeVO",
        "outputId": "60efe54b-5d92-4c41-afac-61c00f74d7aa"
      },
      "execution_count": 510,
      "outputs": [
        {
          "output_type": "stream",
          "name": "stdout",
          "text": [
            "(226, 62) (226, 2)\n",
            "(57, 62) (57, 2)\n"
          ]
        }
      ]
    },
    {
      "cell_type": "code",
      "source": [
        "history=model.fit(X_train, Y_train, epochs = 10, batch_size=32, verbose = 2,validation_split=0.1)"
      ],
      "metadata": {
        "colab": {
          "base_uri": "https://localhost:8080/"
        },
        "id": "tGkwVUfwDk2X",
        "outputId": "b89f683f-eada-4129-ed63-b38df07ca165"
      },
      "execution_count": 511,
      "outputs": [
        {
          "output_type": "stream",
          "name": "stdout",
          "text": [
            "Epoch 1/10\n",
            "7/7 - 4s - loss: 0.6536 - acc: 0.7980 - val_loss: 0.5575 - val_acc: 0.9130 - 4s/epoch - 562ms/step\n",
            "Epoch 2/10\n",
            "7/7 - 1s - loss: 0.5030 - acc: 0.8571 - val_loss: 0.2561 - val_acc: 0.9130 - 572ms/epoch - 82ms/step\n",
            "Epoch 3/10\n",
            "7/7 - 1s - loss: 0.4176 - acc: 0.8571 - val_loss: 0.2732 - val_acc: 0.9130 - 591ms/epoch - 84ms/step\n",
            "Epoch 4/10\n",
            "7/7 - 1s - loss: 0.3769 - acc: 0.8571 - val_loss: 0.3002 - val_acc: 0.9130 - 558ms/epoch - 80ms/step\n",
            "Epoch 5/10\n",
            "7/7 - 1s - loss: 0.3542 - acc: 0.8571 - val_loss: 0.2604 - val_acc: 0.9130 - 568ms/epoch - 81ms/step\n",
            "Epoch 6/10\n",
            "7/7 - 1s - loss: 0.3408 - acc: 0.8571 - val_loss: 0.2483 - val_acc: 0.9130 - 566ms/epoch - 81ms/step\n",
            "Epoch 7/10\n",
            "7/7 - 1s - loss: 0.3185 - acc: 0.8571 - val_loss: 0.2677 - val_acc: 0.9130 - 567ms/epoch - 81ms/step\n",
            "Epoch 8/10\n",
            "7/7 - 1s - loss: 0.2905 - acc: 0.8670 - val_loss: 0.2589 - val_acc: 0.9130 - 575ms/epoch - 82ms/step\n",
            "Epoch 9/10\n",
            "7/7 - 1s - loss: 0.2570 - acc: 0.8818 - val_loss: 0.2453 - val_acc: 0.9130 - 571ms/epoch - 82ms/step\n",
            "Epoch 10/10\n",
            "7/7 - 1s - loss: 0.2289 - acc: 0.9015 - val_loss: 0.2462 - val_acc: 0.9130 - 573ms/epoch - 82ms/step\n"
          ]
        }
      ]
    },
    {
      "cell_type": "code",
      "source": [
        "score = model.evaluate(X_train, Y_train,\n",
        "                       batch_size=64, verbose=2)\n",
        "print('Train loss:', score[0])\n",
        "print('Train accuracy:', score[1])"
      ],
      "metadata": {
        "colab": {
          "base_uri": "https://localhost:8080/"
        },
        "id": "F6oGN12DDlYt",
        "outputId": "ade97887-3c26-4f84-fca5-5956f1ac5103"
      },
      "execution_count": 512,
      "outputs": [
        {
          "output_type": "stream",
          "name": "stdout",
          "text": [
            "4/4 - 0s - loss: 0.2022 - acc: 0.9336 - 73ms/epoch - 18ms/step\n",
            "Train loss: 0.20221608877182007\n",
            "Train accuracy: 0.9336283206939697\n"
          ]
        }
      ]
    },
    {
      "cell_type": "code",
      "source": [
        "score = model.evaluate(X_test, Y_test,\n",
        "                       batch_size=64, verbose=2)\n",
        "print('Test loss:', score[0])\n",
        "print('Test accuracy:', score[1])"
      ],
      "metadata": {
        "colab": {
          "base_uri": "https://localhost:8080/"
        },
        "id": "VB1ZhwWkDpwJ",
        "outputId": "b06ad05d-4cce-482e-9d04-bcb0a0361fbf"
      },
      "execution_count": 513,
      "outputs": [
        {
          "output_type": "stream",
          "name": "stdout",
          "text": [
            "1/1 - 0s - loss: 0.3550 - acc: 0.8421 - 29ms/epoch - 29ms/step\n",
            "Test loss: 0.3550412952899933\n",
            "Test accuracy: 0.8421052694320679\n"
          ]
        }
      ]
    },
    {
      "cell_type": "code",
      "source": [
        "import matplotlib.pyplot as plt\n",
        "\n",
        "def plot_history(history):\n",
        "    acc = history.history['acc']\n",
        "    val_acc = history.history['val_acc']\n",
        "    loss = history.history['loss']\n",
        "    val_loss = history.history['val_loss']\n",
        "    x = range(1, len(acc) + 1)\n",
        "    \n",
        "    plt.figure(figsize=(12, 5))\n",
        "    plt.subplot(1, 2, 1)\n",
        "    plt.plot(x, acc, 'b', label='Training acc')\n",
        "    plt.plot(x, val_acc, 'r', label='Validation acc')\n",
        "    plt.title('Training and validation accuracy')\n",
        "    plt.legend()\n",
        "    plt.subplot(1, 2, 2)\n",
        "    plt.plot(x, loss, 'b', label='Training loss')\n",
        "    plt.plot(x, val_loss, 'r', label='Validation loss')\n",
        "    plt.title('Training and validation loss')\n",
        "    plt.legend()\n",
        "plot_history(history)"
      ],
      "metadata": {
        "colab": {
          "base_uri": "https://localhost:8080/",
          "height": 336
        },
        "id": "eUYKjnAMDsXR",
        "outputId": "d112e343-6ae4-4927-ed5b-374b1af6ebff"
      },
      "execution_count": 514,
      "outputs": [
        {
          "output_type": "display_data",
          "data": {
            "text/plain": [
              "<Figure size 864x360 with 2 Axes>"
            ],
            "image/png": "[encoded data removed]"
          },
          "metadata": {
            "needs_background": "light"
          }
        }
      ]
    },
    {
      "cell_type": "code",
      "source": [
        ""
      ],
      "metadata": {
        "id": "lLOWlnvDDsOS"
      },
      "execution_count": 520,
      "outputs": []
    },
    {
      "cell_type": "code",
      "source": [
        ""
      ],
      "metadata": {
        "id": "FxhHiQitDsBn"
      },
      "execution_count": null,
      "outputs": []
    }
  ]
}